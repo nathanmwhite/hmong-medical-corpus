{
 "cells": [
  {
   "cell_type": "code",
   "execution_count": 51,
   "metadata": {},
   "outputs": [],
   "source": [
    "import os\n",
    "import re"
   ]
  },
  {
   "cell_type": "code",
   "execution_count": 158,
   "metadata": {},
   "outputs": [],
   "source": [
    "os.chdir('../medical_ner_editing')"
   ]
  },
  {
   "cell_type": "code",
   "execution_count": 159,
   "metadata": {},
   "outputs": [],
   "source": [
    "anatomy = './anatomy_tagged'\n",
    "disease = './disease_tagged'\n",
    "symptom = './symptom_tagged'"
   ]
  },
  {
   "cell_type": "code",
   "execution_count": 160,
   "metadata": {},
   "outputs": [],
   "source": [
    "filenames = os.listdir(anatomy)"
   ]
  },
  {
   "cell_type": "code",
   "execution_count": 161,
   "metadata": {},
   "outputs": [],
   "source": [
    "to_remove = []\n",
    "\n",
    "rem_a = 'BUREAU▹O OF▹O COMMUNICABLE▹O DISEASES▹O .+? Wisconsin▹O Department▹O of▹O Health▹O Services▹O \\|▹O Division▹O of▹O Public▹O Health▹O'\n",
    "\n",
    "rem1 = 'BUREAU▹O OF▹O COMMUNICABLE▹O DISEASES▹O '\n",
    "rem2 = 'Wisconsin▹O Department▹O of▹O Health▹O Services▹O \\|▹O Division▹O of▹O Public▹O Health▹O ?'\n",
    "rem3 = 'Page▹O [0-9]▹O of▹O [0-9]▹O ?'\n",
    "rem4 = 'https▹O :▹O //www▹O .▹O dhs▹O .▹O wisconsin▹O .▹O gov▹O /▹O dph▹O /▹O bcd▹O .▹O htm▹O |▹O DHSDPHBCD@dhs▹O .▹O wi▹O .▹O gov▹O ?'\n",
    "rem5 = 'P▹O -▹O [0-9]{5}H▹O (▹O [0-9]{2}▹O /▹O [0-9]{4}▹O )▹O ?'\n",
    "to_remove.append(rem_a)\n",
    "to_remove.append(rem1)\n",
    "to_remove.append(rem2)\n",
    "to_remove.append(rem3)\n",
    "to_remove.append(rem4)\n",
    "to_remove.append(rem5)\n",
    "\n",
    "rem6 = 'WISCONSIN▹O DIVISION▹O OF▹O PUBLIC▹O HEALTH▹O Department▹O of▹O Health▹O Services▹O'\n",
    "rem7 = 'WISCONSIN▹O DEPARTMENT▹O OF▹O HEALTH▹O SERVICES▹O Division▹O of▹O Public▹O Health▹O' # re.ignorecase\n",
    "to_remove.append(rem6)\n",
    "to_remove.append(rem7)\n",
    "\n",
    "rem8 = 'Disease▹O Fact▹O Sheet▹O Series▹O'\n",
    "rem9 = 'Disease▹O Fact▹O Sheet▹O'\n",
    "to_remove.append(rem8)\n",
    "to_remove.append(rem9)\n",
    "\n",
    "rem10 = 'Developed▹O by▹O the▹O Wisconsin▹O Bureau▹O of▹O Communicable▹O Diseases▹O Communicable▹O Diseases▹O Epidemiology▹O Section▹O'\n",
    "rem11 = 'Developed▹O by▹O the▹O Wisconsin▹O Bureau▹O of▹O Communicable▹O Communicable▹O Diseases▹O Epidemiology▹O Section▹O'\n",
    "rem12 = 'DEVELOPED▹O BY▹O THE▹O DIVISION▹O OF▹O PUBLIC▹O HEALTH▹O ,▹O BUREAU▹O OF▹O COMMUNICABLE▹O DISEASES?▹O COMMUNICABLE▹O DISEASES?▹O EPIDEMIOL?OGY▹O SECTION▹O(?: .▹O)?'\n",
    "rem13 = 'Developed▹O by▹O the▹O Wisconsin▹O Bureau▹O of▹O Communicable▹O Diseases▹O and▹O Emergency▹O Response▹O Communicable▹O Diseases?▹O Epidemiology▹O Section▹O'\n",
    "rem14 = 'DEVELOPED▹O BY▹O THE▹O DIVISION▹O OF▹O PUBLIC▹O HEALTH▹O ,▹O BUREAU▹O OF▹O COMMUNICABLE▹O DISEASE▹O SEXUALLY▹O TRANSMITTED▹O DISEASE▹O CONTROL▹O SECTION▹O'\n",
    "to_remove.append(rem10)\n",
    "to_remove.append(rem11)\n",
    "to_remove.append(rem12)\n",
    "to_remove.append(rem13)\n",
    "to_remove.append(rem14)\n",
    "\n",
    "rem15 = 'Wisconsin▹O Department▹O of▹O Health▹O Services▹O |▹O Division▹O of▹O Public▹O Health▹O'\n",
    "rem16 = '|Wisconsin▹O Departmentof▹O Health▹O Services▹O |▹O Division▹O of▹O Public▹O Health▹O'\n",
    "rem17 = 'BUREAU▹O OF▹O COMMUNICABLE▹O DISEASES▹O'\n",
    "to_remove.append(rem15)\n",
    "to_remove.append(rem16)\n",
    "to_remove.append(rem17)\n",
    "\n",
    "rem18 = 'L▹O P▹O -▹O [0-9]{5}H?▹O'\n",
    "rem19 = '\\|?P▹O -▹O [0-9]{5}H▹O'\n",
    "rem20 = '\\(▹O Rev▹O [0-9]{2}▹O /▹O [0-9]{2,4}▹O \\)▹O'\n",
    "rem21 = '\\(▹O Rev▹O .▹O [0-9]{2}▹O /▹O [0-9]{2,4}▹O \\)▹O'\n",
    "rem22 = 'Page▹O [0-9]▹O of▹O [0-9]▹O'\n",
    "to_remove.append(rem18)\n",
    "to_remove.append(rem19)\n",
    "to_remove.append(rem20)\n",
    "to_remove.append(rem21)\n",
    "to_remove.append(rem22)"
   ]
  },
  {
   "cell_type": "code",
   "execution_count": 162,
   "metadata": {},
   "outputs": [],
   "source": [
    "seq1 = 'http▹O :▹O //www▹O \\.▹O cdc▹O \\.▹O gov▹O /▹O zika▹O /▹O pdfs▹O /▹O mosqprevinus▹O \\.▹O pdf▹O'\n",
    "resp1 = 'http://www.cdc.gov/zika/pdfs/mosqprevinus.pdf▹O'\n",
    "seq2 = 'Publica▹O on▹O P▹O -▹O 00619▹O \\)▹O \\.▹O Madison▹O ,▹O WI▹O https▹O :▹O //www▹O \\.▹O dhs▹O \\.▹O wisconsin▹O \\.▹O gov▹O /▹O tb▹(O|B-DSYN) /▹O index▹O \\.▹O htm▹O'\n",
    "resp2 = 'Publication▹O P▹O -▹O 00619▹O )▹O .▹O Madison▹O ,▹O WI▹O https://www.dhs.wisconsin.gov/tb/index.htm▹O'\n",
    "seq3 = 'https▹O :▹O //www▹O \\.▹O cdc▹O \\.▹O gov▹O /▹O vaccines▹O /▹O hcp▹O /▹O vis▹O /▹O vis▹O -▹O statements▹O /▹O varicella▹O \\.▹O pdf▹O'\n",
    "resp3 = 'https://www.cdc.gov/vaccines/hcp/vis/vis-statements/varicella.pdf▹O'\n",
    "seq4 = 'http▹O :▹O //www▹O \\.▹O immunize▹O \\.▹O org▹O /▹O vis▹O /▹O vis_hepatitis_b▹O \\.▹O asp▹O'\n",
    "resp4 = 'http://www.immunize.org/vis/vis_hepatitis_b.asp▹O'\n",
    "seq5 = 'www▹O \\.▹O cdc▹O \\.▹O gov▹O'\n",
    "resp5 = 'www.cdc.gov▹O'\n",
    "seq6 = 'http▹O :▹O //www▹O \\.▹O immunize▹O \\.▹O org▹O /▹O vis▹O /▹O meningococcal_b▹O \\.▹O pdf▹O'\n",
    "resp6 = 'http://www.immunize.org/vis/meningococcal_b.pdf▹O'\n",
    "seq7 = 'http▹O :▹O //www▹O \\.▹O immunize▹O \\.▹O org▹O /▹O vis▹O /▹O meningococcal_mcv_mpsv▹O \\.▹O pdf▹O'\n",
    "resp7 = 'http://www.immunize.org/vis/meningococcal_mcv_mpsv.pdf▹O'\n",
    "seq8 = 'https▹O :▹O //www\\.cdc\\.gov▹O /▹O vaccines▹O /▹O hcp▹O /▹O vis▹O /▹O vis▹O statements▹O /▹O mmr▹O \\.▹O pdf▹O'\n",
    "resp8 = 'https://www.cdc.gov/vaccines/hcp/vis/vis-statements/mmr.pdf▹O'\n",
    "seq9 = 'http▹O :▹O //www\\.cdc\\.gov▹O /▹O ncidod▹O /▹O dvrd▹O /▹O spb▹O /▹O mnpages▹O /▹O dispages▹O /▹O lcmv▹O \\.▹O htm▹O'\n",
    "resp9 = 'http://www.cdc.gov/ncidod/dvrd/spb/mnpages/dispages/lcmv.htm▹O'\n",
    "\n",
    "sequences = [seq8, seq9, seq1, seq2, seq3, seq4, seq5, seq6, seq7]\n",
    "resps = [resp8, resp9, resp1, resp2, resp3, resp4, resp5, resp6, resp7]\n",
    "#sequences = [re.escape(seq) for seq in sequences]\n",
    "corresps = list(zip(sequences, resps))"
   ]
  },
  {
   "cell_type": "code",
   "execution_count": 172,
   "metadata": {},
   "outputs": [],
   "source": [
    "rem23 = 'WISCONSIN▹O DIVISION▹O OF▹O PUBLIC▹O HEALTH▹O Department▹O of▹O Health▹O and▹O Family▹O Services▹O'\n",
    "rem24 = 'Division▹O of▹O Public▹O Health▹O'\n",
    "\n",
    "rem25 = 'PPH▹O [0-9]{5}H▹O'\n",
    "rem26 = 'P▹O -▹O [0-9]{5}▹O'\n",
    "rem27 = '-▹O [0-9]{5}H?▹O'\n",
    "rem28 = 'P▹O [0-9]{5}H▹O'\n",
    "rem28a = 'P-[0-9]{5}H▹O'\n",
    "\n",
    "rem29 = '\\(▹O Rev▹O \\.▹O 05▹O /▹O 04▹O \\)▹O'\n",
    "rem30 = '\\(▹O [0-9]{2}▹O /▹O [0-9]{2,4}▹O \\)▹O(?: \\|)'\n",
    "rem30a = '\\(▹O [0-9]{2}▹O /▹O [0-9]{4}▹O \\)▹O'\n",
    "rem30b = '\\(▹O [0-9]{2}▹O /▹O [0-9]{2}▹O \\)▹O'\n",
    "\n",
    "to_remove.append(rem23)\n",
    "to_remove.append(rem24)\n",
    "to_remove.append(rem25)\n",
    "to_remove.append(rem26)\n",
    "to_remove.append(rem27)\n",
    "to_remove.append(rem28)\n",
    "to_remove.append(rem28a)\n",
    "to_remove.append(rem29)\n",
    "to_remove.append(rem30)\n",
    "to_remove.append(rem30a)\n",
    "to_remove.append(rem30b)\n",
    "\n",
    "#filler_end = []\n",
    "\n",
    "#filler1 = ' \\n'\n",
    "#filler3 = ' \\|\\|\\n'\n",
    "\n",
    "#filler_end.append(filler1)\n",
    "#filler_end.append(filler3)\n",
    "\n",
    "#filler_start = []\n",
    "\n",
    "#filler2 = '^ '\n",
    "\n",
    "#filler_start.append(filler2)"
   ]
  },
  {
   "cell_type": "code",
   "execution_count": 173,
   "metadata": {},
   "outputs": [],
   "source": [
    "rem31 = ' \\|\\|'\n",
    "to_remove.append(rem31)"
   ]
  },
  {
   "cell_type": "code",
   "execution_count": 6,
   "metadata": {},
   "outputs": [],
   "source": [
    "#sequence = 'BUREAU▹O OF▹O COMMUNICABLE▹O DISEASES▹O .+? Wisconsin▹O Department▹O of▹O Health▹O Services▹O \\|▹O Division▹O of▹O Public▹O Health▹O'"
   ]
  },
  {
   "cell_type": "code",
   "execution_count": 175,
   "metadata": {},
   "outputs": [],
   "source": [
    "finds = []\n",
    "for item in filenames:\n",
    "    for type_ in [anatomy, disease, symptom]:\n",
    "        with open(os.path.join(type_, item), 'r') as f:\n",
    "            data = f.read()\n",
    "        found = data\n",
    "        #found = re.sub(seq4, '', found)\n",
    "        for corresp in corresps:\n",
    "            found = re.sub(corresp[0], corresp[1], found)\n",
    "        for seq in to_remove:\n",
    "            #found_old = found\n",
    "            found = re.sub(seq, '', found)\n",
    "            found = re.sub(' +', ' ', found)\n",
    "        #for fil in filler_end:\n",
    "            #found_old = found\n",
    "        #    found = re.sub(fil, '\\n', found)\n",
    "        #for fil in filler_start:\n",
    "        #    found = re.sub(fil, '', found)\n",
    "            #print(found_old == found)\n",
    "        finds.append((item, type_, found))"
   ]
  },
  {
   "cell_type": "code",
   "execution_count": 176,
   "metadata": {},
   "outputs": [],
   "source": [
    "anat, dis, sym = [], [], []\n",
    "for i, item in enumerate(finds):\n",
    "    if i % 3 == 0:\n",
    "        anat.append(item)\n",
    "    elif i % 3 == 1:\n",
    "        dis.append(item)\n",
    "    elif i % 3 == 2:\n",
    "        sym.append(item)"
   ]
  },
  {
   "cell_type": "code",
   "execution_count": 177,
   "metadata": {},
   "outputs": [
    {
     "data": {
      "text/plain": [
       "{'./symptom_tagged'}"
      ]
     },
     "execution_count": 177,
     "metadata": {},
     "output_type": "execute_result"
    }
   ],
   "source": [
    "set([item[1] for item in sym])"
   ]
  },
  {
   "cell_type": "code",
   "execution_count": 178,
   "metadata": {},
   "outputs": [
    {
     "data": {
      "text/plain": [
       "('p42095h.txt',\n",
       " './anatomy_tagged',\n",
       " ' Mob▹O Kas▹O Cees▹O Taug▹O Leeg▹B-BPOC Syphilis▹O (▹O Treponema▹O pallidum▹O )▹O \\nSyphilis▹O yog▹O dab▹O tsi▹O ?▹O Syphilis▹O yog▹O ib▹O hom▹O kab▹O mob▹O kis▹O los▹O ntawm▹O kev▹O sib▹O deev▹O [▹O sexually▹O transmitted▹O disease▹O (▹O STD▹O )▹O ]▹O uas▹O yog▹O ib▹O tug▹O kab▹O hu▹O ua▹O Treponema▹O pallidum▹O .▹O Cov▹O neeg▹O muaj▹O mob▹O syphilis▹O nyob▹O rau▹O hauv▹O Wisconsin▹O kuj▹O tsawg▹O zuj▹O zus▹O lawm▹O ,▹O tab▹O sis▹O kev▹O tiv▹O thaiv▹O tus▹O kab▹O mob▹O syphilis▹O yeej▹O tseem▹O yog▹O ib▹O qhov▹O tseem▹O ceeb▹O heev▹O vim▹O hais▹O tias▹O yog▹O tsis▹O kho▹O los▹O yog▹O kho▹O tsis▹O zoo▹O yuav▹O ua▹O tau▹O teeb▹O meem▹O loj▹O ,▹O thiab▹O tus▹O mob▹O no▹O kuj▹O yuav▹O ua▹O kom▹O kis▹O tau▹O mob▹O HIV▹O .▹O Lub▹O xeev▹O Wisconsin▹O tseem▹O tab▹O tom▹O koom▹O tes▹B-BPOC nrog▹O lub▹O koom▹O txoos▹O National▹O Plan▹O to▹O Eliminate▹O Syphilis▹O los▹O mus▹O tiv▹O thaiv▹O tus▹O mob▹O no▹O kom▹O txhob▹O muaj▹O .▹O\\nLeej▹O twg▹O thiaj▹O yuav▹O kis▹O tau▹O syphilis▹O ?▹O Tus▹O neeg▹O uas▹O muaj▹O kev▹O sib▹O deev▹O yuav▹O kis▹O tau▹O tus▹O mob▹O syphilis▹O ,▹O tiam▹O sis▹O cov▹O yuav▹O kis▹O tau▹O zoo▹O dua▹O yog▹O :▹O *▹O Cov▹O neeg▹O mob▹O kas▹O cees▹O (▹O STD▹O )▹O *▹O Cov▹O neeg▹O uas▹O deev▹O ib▹O tus▹O neeg▹O mob▹O ib▹O hom▹O kas▹O cees▹O (▹O STD▹O )▹O twg▹O *▹O Cov▹O neeg▹O uas▹O deev▹O ntau▹O tshaj▹O ib▹O tug▹O neeg▹O *▹O Cov▹O neeg▹O uas▹O deev▹O dua▹O ib▹O tug▹O neeg▹O tshiab▹O *▹O Cov▹O neeg▹O uas▹O siv▹O kev▹O sib▹O deev▹O mus▹O pauv▹O kom▹O tau▹O nyiaj▹O los▹O yog▹O yaj▹O yeeb▹O los▹O siv▹O\\nYuav▹O kis▹O tau▹O syphilis▹O li▹O cas▹O ?▹O Syphilis▹O kis▹O tau▹O ncaj▹O qha▹O ntawm▹O ib▹O tus▹O neeg▹O mus▹O rau▹O ib▹O tug▹O thaum▹O muaj▹O nqaij▹B-BPOC to▹O es▹O sib▹O chwv▹O .▹O Qhov▹O sib▹O chwv▹O kuj▹O muaj▹O xws▹O li▹O sib▹O deev▹O ,▹O sib▹O npuav▹O sib▹O yaim▹O qau▹B-BPOC thiab▹O paum▹B-BPOC ,▹O los▹O yog▹O ua▹O qhov▹B-BPOC quav▹E-BPOC .▹O Tus▹O kab▹O mob▹O no▹O yuav▹O nkag▹O nrog▹O cov▹O kua▹O nplaum▹O mus▹O txhuam▹O rau▹O cov▹O tawv▹B-BPOC nqaij▹E-BPOC ;▹O ces▹O nkag▹O mus▹O rau▹O hauv▹O cov▹O hlab▹B-BPOC ntsha▹E-BPOC puv▹O thoob▹O lub▹O nrog▹O cev▹O .▹O Cov▹O me▹O nyuam▹O mos▹O kuj▹O yuav▹O kis▹O tau▹O tus▹O mob▹O syphilis▹O ntawm▹O lawv▹O niam▹O yog▹O hais▹O tias▹O leej▹O niam▹O kis▹O tau▹O tus▹O mob▹O no▹O thaum▹O nws▹O tseem▹O suab▹O me▹O nyuam▹O .▹O\\nCov▹O cim▹O thiab▹O cov▹O tsos▹O mob▹O ntawm▹O tus▹O mob▹O syphilis▹O no▹O zoo▹O li▹O cas▹O ?▹O Tus▹O mob▹O syphilis▹O yuav▹O muab▹O faib▹O ua▹O peb▹O ntus▹O ,▹O ib▹O ntus▹O twg▹O cov▹O cim▹O thiab▹O cov▹O tsos▹O mob▹O yuav▹O sib▹O txawv▹O .▹O Primary▹O syphilis▹O yog▹O ntu▹O mob▹O loj▹O thiab▹O kis▹O tau▹O zoo▹O tshaj▹O plaws▹O ntawm▹O tus▹O mob▹O no▹O .▹O Thawj▹O qhov▹O cim▹O tshwm▹O ces▹O yog▹O nqaij▹B-BPOC qawj▹O ,▹O los▹O yog▹O to▹O .▹O Nws▹O kuj▹O yuav▹O tawm▹O ua▹O ib▹O lub▹O pob▹O ,▹O tsis▹O hnov▹O mob▹O thiab▹O yuav▹O hlav▹O zuj▹O zus▹O ntawm▹O qhov▹O chaw▹O xub▹O tawm▹O (▹O nyob▹O rau▹O ntawm▹O daim▹O tawv▹B-BPOC los▹O yog▹O cov▹O qog▹O ua▹O kua▹O )▹O li▹O ntawm▹O 3▹O lub▹O lis▹O piam▹O (▹O week▹O )▹O tom▹O qab▹O kis▹O tau▹O lawm▹O .▹O Nws▹O yuav▹O kis▹O tau▹O zoo▹O heev▹O thiab▹O yog▹O tsis▹O kho▹O kuj▹O yuav▹O cia▹O li▹O ploj▹O mus▹O tom▹O qab▹O 1▹O mus▹O rau▹O 5▹O lub▹O lis▹O piam▹O (▹O thaj▹O tsam▹O li▹O 3▹O lub▹O lis▹O piam▹O )▹O .▹O Secondary▹O syphilis▹O yog▹O ntu▹O ua▹O pom▹O cov▹O tsos▹O mob▹O sib▹O txawv▹O heev▹O thiab▹O tej▹O zaum▹O kuj▹O tsis▹O pom▹O zoo▹O los▹O yog▹O tsis▹O hnov▹O li▹O cas▹O .▹O Ntu▹O ob▹O no▹O cov▹O tsos▹O mob▹O yuav▹O nyob▹O mus▹O li▹O 2▹O mus▹O rau▹O 6▹O lub▹O lis▹O piam▹O (▹O thaj▹O tsam▹O li▹O 4▹O lub▹O lis▹O piam▹O )▹O thiab▹O tej▹O zaum▹O kuj▹O yuav▹O rov▹O mob▹O dua▹O .▹O Ib▹O co▹O cim▹O thiab▹O tsos▹O mob▹O uas▹O keev▹O pom▹O kuj▹O muaj▹O xws▹O li▹O :▹O *▹O Ua▹O pob▹O liab▹O vog▹O rau▹O ib▹O ce▹O *▹O Ua▹O pob▹O liab▹O vog▹O rau▹O lub▹O tsawj▹B-BPOC teg▹E-BPOC thiab▹O hauv▹O qab▹B-BPOC xib▹B-BPOC taws▹E-BPOC *▹O Ua▹O tej▹O thaj▹O dawb▹O dawb▹O (▹O kua▹O nplaum▹O )▹O rau▹O hauv▹O qhov▹B-BPOC ncauj▹E-BPOC los▹O yog▹O hauv▹O chaw▹B-BPOC mos▹E-BPOC (▹O kis▹O tau▹O zoo▹O heev▹O )▹O *▹O Tej▹O thaj▹O plaub▹B-BPOC hau▹E-BPOC hle▹O mus▹O ib▹O lub▹O sij▹O hawm▹O *▹O Ua▹O ib▹O cov▹O pob▹O su▹O zoo▹O li▹O cos▹O ,▹O ntub▹O thiab▹O hlav▹O nyob▹O hauv▹O chaw▹B-BPOC mos▹E-BPOC (▹O kis▹O tau▹O zoo▹O heev▹O )▹O *▹O Ua▹O tej▹O thaj▹O liab▹O liab▹O luaj▹O lub▹O txiaj▹O npib▹O (▹O feem▹O ntau▹O nyob▹O ntawm▹O lub▹O ntsej▹B-BPOC muag▹E-BPOC )▹O *▹O Hnov▹O tsis▹O xis▹O neej▹O (▹O nkees▹O nkees▹O ,▹O tsis▹O qab▹O siab▹O li▹O )▹O\\nLatent▹O syphilis▹O yog▹O ntu▹O tsis▹O pom▹O cim▹O los▹O yog▹O tsos▹O dab▹O tsis▹O yuav▹O qhia▹O tau▹O hais▹O tias▹O muaj▹O tus▹O mob▹O ,▹O tiam▹O sis▹O kev▹O tshuaj▹O ntsuam▹O tus▹O mob▹O hu▹O ua▹O serologic▹O tests▹O for▹O syphilis▹O (▹O STS▹O )▹O thiaj▹O yuav▹O pom▹O tus▹O mob▹O muaj▹O sia▹O .▹O Txhua▹O tus▹O neeg▹O mob▹O syphilis▹O yeej▹O mob▹O tau▹O ntev▹O rau▹O lub▹O sij▹O hawm▹O tsis▹O tau▹O kho▹O tus▹O mob▹O .▹O\\nIb▹O tug▹O neeg▹O yuav▹O muaj▹O tus▹O mob▹O no▹O mus▹O ntev▹O npaum▹O li▹O cas▹O ?▹O Kev▹O mob▹O syphilis▹O kuj▹O yuav▹O mob▹O mus▹O ntau▹O xyoo▹O txawm▹O hais▹O tias▹O twb▹O tsis▹O hnov▹O mob▹O li▹O lawm▹O .▹O Nyob▹O rau▹O lub▹O sij▹O hawm▹O no▹O ,▹O yuav▹O muaj▹O ntau▹O yam▹O puas▹O tsuaj▹O rau▹O hauv▹O lub▹O nrog▹O cev▹O thiab▹O tus▹O kab▹O mob▹O no▹O yuav▹O kis▹O tau▹O mus▹O rau▹O cov▹O khub▹O uas▹O nws▹O tau▹O deev▹O .▹O\\nYog▹O muaj▹O mob▹O syphilis▹O yav▹O tas▹O los▹O puas▹O yuav▹O tiv▹O thaiv▹O tau▹O kom▹O txhob▹O mob▹O dua▹O ?▹O Tsis▹O tau▹O .▹O Yuav▹O rov▹O qab▹O mob▹O Treponema▹O pallidum▹O dua▹O ,▹O uas▹O yog▹O tus▹O kab▹O ua▹O kom▹O mob▹O syphilis▹O ,▹O txhua▹O zaus▹O uas▹O ib▹O tus▹O neeg▹O rov▹O kis▹O tau▹O tus▹O kab▹O mob▹O .▹O\\nYuav▹O kho▹O tus▹O mob▹O syphilis▹O li▹O cas▹O ?▹O Ib▹O koob▹O tshuaj▹O penicillin▹O yuav▹O tua▹O tau▹O tus▹O kab▹O mob▹O syphilis▹O uas▹O tseem▹O tsis▹O tau▹O muaj▹O ib▹O xyoos▹O .▹O Cov▹O uas▹O muaj▹O tus▹O mob▹O ntev▹O tshaj▹O ib▹O xyoo▹O es▹O tsis▹O tau▹O kho▹O kiag▹O li▹O ,▹O los▹O yog▹O cov▹O poj▹O niam▹O cev▹O tsis▹O tab▹O seeb▹O uas▹O mob▹O syphilis▹O ,▹O yuav▹O tau▹O txhaj▹O ib▹O khoob▹O tshuaj▹O txhua▹O lub▹O lis▹O piam▹O mus▹O li▹O peb▹O lub▹O lis▹O piam▹O (▹O tag▹O nrho▹O yog▹O peb▹O koob▹O tshuaj▹O )▹O .▹O\\nYog▹O kuv▹O mob▹O syphilis▹O es▹O tsis▹O kho▹O li▹O puas▹O yuav▹O ua▹O li▹O cas▹O ?▹O Rau▹O cov▹O mob▹O syphilis▹O uas▹O tsis▹O kho▹O ,▹O cov▹O cim▹O thiab▹O cov▹O tsos▹O mob▹O yuav▹O tsis▹O pom▹O hnov▹O mob▹O li▹O mus▹O rau▹O qhov▹O muaj▹O kev▹O puas▹O tsuaj▹O loj▹O rau▹O hauv▹O lub▹O nrog▹O cev▹O xws▹O li▹O :▹O *▹O Rau▹O lub▹O hlwb▹B-BPOC thiab▹O cov▹O leeg▹B-BPOC *▹O Rau▹O lub▹O plawv▹B-BPOC thiab▹O cov▹O hlab▹B-BPOC ntsha▹E-BPOC *▹O Ua▹O rau▹O nqaij▹B-BPOC to▹O (▹O ua▹O qog▹O )▹O ntawm▹O daim▹O tawv▹B-BPOC nqaij▹E-BPOC ,▹O pob▹B-BPOC txha▹E-BPOC ,▹O hlwb▹B-BPOC ,▹O los▹O yog▹O cov▹O khoom▹O hauv▹O lub▹O nrog▹O cev▹O\\nYog▹O tsis▹O kho▹O tus▹O mob▹O syphilis▹O thaum▹O tseem▹O suab▹O me▹O nyuam▹O yuav▹O ua▹O tau▹O kom▹O tus▹O me▹O nyuam▹O nchuav▹O ,▹O tus▹O me▹O nyuam▹O tuag▹O hauv▹O niam▹O plab▹B-BPOC ,▹O thiab▹O yuav▹O ua▹O tau▹O kom▹O tus▹O me▹O nyuam▹O muaj▹O ib▹O yam▹O los▹O yog▹O ob▹O peb▹O yam▹O mob▹O rau▹O hauv▹O nws▹O lub▹O cev▹O thaum▹O nws▹O loj▹O tuaj▹O .▹O Yeej▹O muaj▹O kev▹O kho▹O tus▹O kab▹O mob▹O syphilis▹O no▹O txhua▹O ntu▹O ,▹O tiam▹O sis▹O yam▹O uas▹O twb▹O puas▹O tsuaj▹O lawm▹O yuav▹O kho▹O tsis▹O tau▹O .▹O\\nYuav▹O ua▹O li▹O cas▹O kuv▹O thiaj▹O tsis▹O kis▹O tau▹O tus▹O mob▹O no▹O ?▹O Yog▹O hais▹O tias▹O koj▹O tsis▹O muaj▹O ib▹O tug▹O khub▹O uas▹O tsuas▹O yog▹O koj▹O thiab▹O nws▹O xwb▹O mus▹O tas▹O lub▹O neej▹O ,▹O siv▹O hnab▹O looj▹O txhua▹O zaus▹O thiab▹O siv▹O kom▹O raws▹O li▹O qhia▹O siv▹O kuj▹O yuav▹O pab▹O tiv▹O thaiv▹O koj▹O ntawm▹O kev▹O yuav▹O kis▹O tau▹O syphilis▹O thiab▹O lwm▹O yam▹O kas▹O cees▹O .▹O\\nKuv▹O yuav▹O ua▹O li▹O cas▹O yog▹O kuv▹O xav▹O hais▹O tias▹O kuv▹O muaj▹O tus▹O mob▹O no▹O ?▹O Koj▹O tus▹O kws▹O kho▹O mob▹O qhov▹O chaw▹O ua▹O hauj▹O lwm▹O ,▹O lwm▹O cov▹O chaw▹O kuaj▹O mob▹O thiab▹O muab▹O kev▹O qhia▹O npaj▹O rau▹O lub▹O neej▹O (▹O family▹O planning▹O )▹O thiab▹O cov▹O chaw▹O kuaj▹O mob▹O kas▹O cees▹O (▹O STD▹O )▹O muaj▹O tso▹O ntshav▹B-BPOC kuaj▹O seb▹O puas▹O muaj▹O mob▹O syphilis▹O yuav▹O qhia▹O tau▹O qhov▹O tseeb▹O thiab▹O sai▹O heev▹O .▹O Kev▹O tshuaj▹O ntsuam▹O pom▹O thiab▹O kho▹O thaum▹O ntxov▹O thiaj▹O yuav▹O tiv▹O thaiv▹O tau▹O tej▹O teeb▹O meem▹O thiab▹O kev▹O kis▹O tus▹O kab▹O mob▹O no▹O rau▹O lwm▹O tus▹O .▹O Yog▹O kuaj▹O tau▹O hais▹O tias▹O koj▹O muaj▹O tus▹O mob▹O lawm▹O ,▹O yuav▹O tsum▹O tau▹O ceeb▹O toom▹O kom▹O tas▹O rau▹O cov▹O khub▹O uas▹O koj▹O tau▹O nrog▹O sib▹O deev▹O txij▹O li▹O 12▹O lub▹O hlis▹O dhau▹O los▹O ,▹O txawm▹O hais▹O tias▹O lawv▹O tsis▹O hnov▹O mob▹O li▹O los▹O kom▹O lawv▹O mus▹O kuaj▹O thiab▹O nrhiav▹O kev▹O kho▹O .▹O Cov▹O kws▹O kho▹O mob▹O hauv▹O cov▹O chaw▹O saib▹O xyuas▹O txog▹O phab▹O kev▹O noj▹O qab▹O haus▹O huv▹O yuav▹O pab▹O tau▹O koj▹O txog▹O qhov▹O hauj▹O lwm▹O no▹O .▹O Yog▹O hais▹O tias▹O cov▹O khub▹O koj▹O nrog▹O sib▹O deev▹O muaj▹O tus▹O kab▹O mob▹O es▹O tsis▹O kho▹O ,▹O koj▹O kuj▹O yuav▹O rov▹O kis▹O tau▹O dua▹O thiab▹O yog▹O koj▹O rov▹O nrog▹O lawv▹O sib▹O deev▹O .▹O\\nYog▹O kuv▹O mob▹O syphilis▹O lawm▹O ,▹O kuv▹O puas▹O yuav▹O muaj▹O mob▹O lwm▹O hom▹O kas▹O cees▹O thiab▹O ?▹O Yeej▹O mob▹O tau▹O ntau▹O tshaj▹O ib▹O hom▹O kas▹O cees▹O (▹O STD▹O )▹O rau▹O ib▹O lub▹O sij▹O hawm▹O .▹O Cov▹O kas▹O cees▹O kuj▹O sib▹O kis▹O tau▹O tib▹O yam▹O los▹O ntawm▹O kev▹O sib▹O deev▹O (▹O qhov▹B-BPOC ncauj▹E-BPOC ,▹O qhov▹B-BPOC quav▹E-BPOC ,▹O lub▹O paum▹B-BPOC thiab▹O tus▹O qau▹B-BPOC )▹O .▹O Tsis▹O tas▹O li▹O xwb▹O ,▹O yog▹O mob▹O syphilis▹O kuj▹O yuav▹O kis▹O tau▹O tus▹O mob▹O HIV▹O yooj▹O yim▹O thiab▹O .▹O Nws▹O yog▹O ib▹O qho▹O tseem▹O ceeb▹O heev▹O uas▹O yuav▹O tau▹O mus▹O cuag▹O kws▹O kho▹O mob▹O los▹O yog▹O mus▹O kuaj▹O tom▹O cov▹O chaw▹O kuaj▹O mob▹O seb▹O puas▹O mob▹O kas▹O cees▹O thaum▹O koj▹O hnov▹O tej▹O yam▹O txawv▹O los▹O yog▹O hnov▹O mob▹O txawv▹O los▹O yog▹O tau▹O deev▹O ib▹O tug▹O neeg▹O mob▹O kas▹O cees▹O .▹O\\n ')"
      ]
     },
     "execution_count": 178,
     "metadata": {},
     "output_type": "execute_result"
    }
   ],
   "source": [
    "anat[9]"
   ]
  },
  {
   "cell_type": "code",
   "execution_count": 179,
   "metadata": {},
   "outputs": [],
   "source": [
    "anat_ = [(item[0], item[2]) for item in anat]\n",
    "dis_ = [(item[0], item[2]) for item in dis]\n",
    "sym_ = [(item[0], item[2]) for item in sym]"
   ]
  },
  {
   "cell_type": "code",
   "execution_count": 180,
   "metadata": {},
   "outputs": [],
   "source": [
    "anat_lens = [len(item[1].split(' ')) for item in anat_]\n",
    "dis_lens = [len(item[1].split(' ')) for item in dis_]\n",
    "sym_lens = [len(item[1].split(' ')) for item in sym_]"
   ]
  },
  {
   "cell_type": "code",
   "execution_count": 181,
   "metadata": {},
   "outputs": [
    {
     "data": {
      "text/plain": [
       "True"
      ]
     },
     "execution_count": 181,
     "metadata": {},
     "output_type": "execute_result"
    }
   ],
   "source": [
    "anat_lens == dis_lens == sym_lens"
   ]
  },
  {
   "cell_type": "code",
   "execution_count": 182,
   "metadata": {},
   "outputs": [],
   "source": [
    "for item in anat:\n",
    "    f = open(os.path.join(item[1], item[0]), 'w')\n",
    "    f.write(item[2])\n",
    "    f.close()\n",
    "for item in dis:\n",
    "    f = open(os.path.join(item[1], item[0]), 'w')\n",
    "    f.write(item[2])\n",
    "    f.close()\n",
    "for item in sym:\n",
    "    f = open(os.path.join(item[1], item[0]), 'w')\n",
    "    f.write(item[2])\n",
    "    f.close()"
   ]
  },
  {
   "cell_type": "code",
   "execution_count": null,
   "metadata": {},
   "outputs": [],
   "source": [
    "# issues:\n",
    "# 'Rabies' at end\n",
    "# Vim▹O li▹O no▹O mas▹O ,▹O tseem▹O ceeb▹O heev▹O uas▹O tus▹O neeg▹O raug▹O tsiaj▹O tom▹O yuav▹O tau▹O hais▹O mus▹O rau▹O hauv▹O feem▹O saib▹O xyuas▹O pej▹O xeem▹O Rabies▹O"
   ]
  }
 ],
 "metadata": {
  "kernelspec": {
   "display_name": "Python 3",
   "language": "python",
   "name": "python3"
  },
  "language_info": {
   "codemirror_mode": {
    "name": "ipython",
    "version": 3
   },
   "file_extension": ".py",
   "mimetype": "text/x-python",
   "name": "python",
   "nbconvert_exporter": "python",
   "pygments_lexer": "ipython3",
   "version": "3.7.7"
  }
 },
 "nbformat": 4,
 "nbformat_minor": 2
}
