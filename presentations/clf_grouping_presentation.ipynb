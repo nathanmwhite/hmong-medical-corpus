{
 "cells": [
  {
   "cell_type": "markdown",
   "metadata": {},
   "source": [
    "# Using Word Embeddings for Semantic Analysis of Nominal Classifiers\n",
    "### An exploration into using dendrogram analysis and k-means clustering for hypothesis formation"
   ]
  },
  {
   "cell_type": "markdown",
   "metadata": {},
   "source": [
    "Word embeddings from Word2Vec can be utilized in exploring the semantic distributions of nouns associated with nominal classifiers.\n",
    "\n",
    "Nominal classifiers are known to have a range of semantic values that often form a sort of semantic network reflected in the nouns with which they co-occur. This means that the co-occurring nouns will often have various semantic relationships or fall into various semantic groups that would enable us to determine the various categories found in these semantic networks. For those lacking a linguistics background, a nominal classifier is a part of speech not found in European languages, but is ubiquitous in East and Southeast Asian languages, and should not be confused with classifiers in the machine learning sense.\n",
    "\n",
    "We can perform this exploration by comparing word embeddings of the words that co-occur with a given nominal classifier, either through a dendrogram or k-means clustering.\n",
    "\n",
    "Here, our goal is to produce a semantic analysis of the Hmong nominal classifier _tus_.  \n",
    "\n",
    "Ideally, we would use some form of semantic ontology-based system (e.g. WordNet) for word embeddings, but this does not yet exist for a resource-poor language like Hmong, meaning that our best option is the raw text found in the approximately 12-million-token soc.culture.hmong (SCH) corpus. \n",
    "\n",
    "To enable this sort of analysis, we make the following assumption: given that the word embeddings are trained based on their context in Word2Vec, and this context encodes both syntactic and semantic information, the most similar words will share both syntactic context and semantic values. At the same time, many words will be moderately similar—they may share semantic values but not many syntactic contexts (still desirable for this approach), or many syntactic contexts but not semantic values (the drawback to the approach). \n",
    "\n",
    "This means that as we pursue the analysis, we must remember that the word embeddings are not purely semantic, but reflect both syntactic and semantic properties of the words, and so some words will appear in certain groups because of its syntactic properties rather than semantics. Nevertheless, because in a significant portion of cases semantics will be a major determining factor for similarity, useful results emerge from this approach that provide a strong basis for hypothesis formation enabling further research, so long as the results are considered judiciously.\n",
    "\n",
    "Let's begin."
   ]
  },
  {
   "cell_type": "markdown",
   "metadata": {},
   "source": [
    "#### Import libraries.\n",
    "\n",
    "The first step is to import the relevant modules and classes. The NLTK library is used to manipulate the data from the corpus that we're going to use, and Word2Vec is used to convert the corpus vocabulary into vectors that can be manipulated for the analysis."
   ]
  },
  {
   "cell_type": "code",
   "execution_count": 1,
   "metadata": {},
   "outputs": [],
   "source": [
    "import os\n",
    "import copy\n",
    "from nltk.corpus import PlaintextCorpusReader\n",
    "from nltk.collocations import BigramCollocationFinder as finder, BigramAssocMeasures as measures\n",
    "from gensim.models import Word2Vec\n",
    "\n",
    "from itertools import groupby"
   ]
  },
  {
   "cell_type": "markdown",
   "metadata": {},
   "source": [
    "#### Load training corpus.\n",
    "\n",
    "The next step is to navigate to the folder containing the raw corpus, and importing it using the `PlaintextCorpusReader` class from the `nltk.corpus` module.\n",
    "The corpus we're using is the SCH Corpus, a publicly-available corpus of Hmong text that derives from forum posts online on soc.culture.hmong Usenet."
   ]
  },
  {
   "cell_type": "code",
   "execution_count": 2,
   "metadata": {},
   "outputs": [],
   "source": [
    "os.chdir(os.path.expanduser(os.path.join('~','sch_corpus')))\n",
    "\n",
    "hmong = PlaintextCorpusReader('.', '.*').sents()"
   ]
  },
  {
   "cell_type": "markdown",
   "metadata": {},
   "source": [
    "#### Train word embeddings with Word2Vec.\n",
    "\n",
    "Next, we use the `Word2Vec` class from `gensim.models` to create our word vectors. The argument `window` is set to 10 to indicate that a window of 10 around the chosen word should be used to train the vectors. `size` is the size of the vector for each word, set here to 150 to enable a reasonably robust yet compact set of vectors. `iter` is the number of iterations used in training; here, I've set it to 50."
   ]
  },
  {
   "cell_type": "code",
   "execution_count": 7,
   "metadata": {},
   "outputs": [],
   "source": [
    "model = Word2Vec(sentences=hmong, window=10, size=150, iter=50, workers=10)"
   ]
  },
  {
   "cell_type": "code",
   "execution_count": 3,
   "metadata": {},
   "outputs": [],
   "source": [
    "# remove in the final version\n",
    "import pickle\n",
    "os.chdir(os.path.expanduser(os.path.join(os.path.join('~', 'python_workspace'), 'hmong_clf_graph')))\n",
    "f = open('Word2Vec_model_50.pkl', 'rb')\n",
    "model = pickle.load(f)\n",
    "f.close()"
   ]
  },
  {
   "cell_type": "markdown",
   "metadata": {},
   "source": [
    "#### Carry out data preprocessing to produce a high-quality set of nouns.\n",
    "\n",
    "This step uses BigramCollocationFinder from nltk.collocations to find all the bigram collocations in the corpus. We do this because we want to have nouns that collocate with the Hmong classifier _tus_. We save a deep copy of the bigrams for later use using `copy.copy`."
   ]
  },
  {
   "cell_type": "code",
   "execution_count": 3,
   "metadata": {},
   "outputs": [],
   "source": [
    "bigrams = finder.from_words([w for sent in hmong for w in sent])\n",
    "bigrams_copy = copy.copy(bigrams)"
   ]
  },
  {
   "cell_type": "markdown",
   "metadata": {},
   "source": [
    "Next, we apply several filters to limit the bigrams we're considering to only those that contain _tus_ or its variant form _tug_, and to ensure the co-occurrence is reasonably common in the corpus, since we want nouns that commonly occur with _tus_."
   ]
  },
  {
   "cell_type": "code",
   "execution_count": 5,
   "metadata": {},
   "outputs": [],
   "source": [
    "bigrams.apply_ngram_filter(lambda x, y: x.lower() not in ['tus', 'tug'])\n",
    "bigrams.apply_freq_filter(20)"
   ]
  },
  {
   "cell_type": "markdown",
   "metadata": {},
   "source": [
    "For this step, we draw bigram collocations from the remaining set of bigrams based on a relatively strong degree of co-occurrence, ranked by the `chi_sq` measure from `nltk.collocations.BigramAssocMeasures`. We limit the output to the 700 highest ranked bigrams based on this measure, as lower ranked members represent instances where the relationship between _tus_ and the second word is not particularly strong.\n",
    "Then we extract out only the second members from each collocation-chi_sq score pair, as the first will be the classifier _tus_ itself."
   ]
  },
  {
   "cell_type": "code",
   "execution_count": 6,
   "metadata": {},
   "outputs": [],
   "source": [
    "out = bigrams.score_ngrams(measures.chi_sq)[:700]\n",
    "out_proc = [w[0][1] for w in out]"
   ]
  },
  {
   "cell_type": "markdown",
   "metadata": {},
   "source": [
    "Then, we select out the 500 most common bigrams in the entire corpus, extract the nouns from the collocation-frequency pairs, and take the lowercase versions of each one. Then we limit our set of nouns to consider based on their presence both in the 500 most common bigrams list, as well as the list of 700 with the highest chi squared score. This ensures a balance between the most common nouns with _tus_ in the corpus and those that more strongly correlate with _tus_ in particular."
   ]
  },
  {
   "cell_type": "code",
   "execution_count": 7,
   "metadata": {},
   "outputs": [],
   "source": [
    "finds = bigrams.ngram_fd.most_common(500)\n",
    "finds_proc = [w[0][1] for w in finds]\n",
    "finds_proc_lower = [w.lower() for w in finds_proc]\n",
    "total_proc = [w.lower() for w in out_proc if w in finds_proc_lower]"
   ]
  },
  {
   "cell_type": "markdown",
   "metadata": {},
   "source": [
    "Next we need to clean the list of nouns we're considering to only include what are obviously nouns, only full words, and only nouns from White Hmong. For languages with better available resources, we would use a POS tagger at an earlier stage of the process, where this would be done automatically; here, a list of non-nouns in our set has been manually provided.\n",
    "\n",
    "In Hmong, classifiers like _tus_ can be followed by content that are not nouns, such as relative clauses or localizers—that is, a special class of words indicating relative spatial position common in Asian languages; in these cases, the noun is either omitted or is zero.\n",
    "\n",
    "Also, Hmong has two common orthographies: one that puts spaces between _syllables_, and another that puts spaces between _words_. As a result, we need to remove all syllables that are not complete words, selecting only those that are complete words.\n",
    "\n",
    "Finally, the SCH corpus contains data from both White Hmong and Green Mong. This will create confusion in our analysis, so we explicitly limit our nouns to those from White Hmong."
   ]
  },
  {
   "cell_type": "code",
   "execution_count": 8,
   "metadata": {},
   "outputs": [],
   "source": [
    "non_nouns_to_exclude = ['puav', 'me', 'hluas', 'kws', 'laus', 'twg', 'uas', \\\n",
    "                        'laug', 'ub', 'mos2', '22', 'hlob', 'loj', 'coj', '.', ',', \\\n",
    "                        'ntawd', 'yog', 'tod', 'swb', 'li', 'tuag', '#', 'sau', \\\n",
    "                        'niag', 'tias', 'lawm', 'ib', 'mos', 'muab', '/', 'muaj', \\\n",
    "                        'nrog', 'rau', 'luag', 'ua', 'los', 'nws', 'txawm', 'hais', \\\n",
    "                        'thaum', 'lawv', 'tsi', 'es', 'phem', 'nuav', 'tej', 'has', \\\n",
    "                        'xav', 'hov', 'kuv', 'ces', 'ntawm', 'tawm', 'lwm', '(', 'kiag',\\\n",
    "                        'hu', 'cov', 'ntseeg', 'mus', 'ko', 'mas', 'tiag', 'to', \\\n",
    "                        'yam', 'tag', 'nawb', 'pom', 'miv', 'no', 'peb', 'sib', 'hlub', \\\n",
    "                        'twb', 'thiab', 'pab', 'leej', 'tsis', '...', 'kawg', 'kom', \\\n",
    "                        'xwb', 'tau', 'tshiab', 'noj', 'tus', 'qub', 'lub', 'txoj', \\\n",
    "                        'nyuas', 'thib', 'ntse', 'nyuag', 'thiaj', 'tshab', 'nua', 'koj',\\\n",
    "                        'tham', 'yau', 'tham', 'saib', 'hauv', 'yees', 'teb', 'luj', \\\n",
    "                        'txiav', 'tswj', 'xub', 'thaub', 'cuav', 'puas', 'txheeb', 'puag', \\\n",
    "                        'ruam', 'siab', 'tsim', 'pluag', 'yus', 'tuav', 'rog', 'txawj',\\\n",
    "                        'mob', 'tub']\n",
    "partial_words_to_exclude = ['poj', 'tij', 'quas', 'xf', 'dr', 'ntsuj', 'tib', 'tuab', \\\n",
    "                            'teeb', 'yeeb', 'xeeb', 'kas', 'cawm', 'zuj', 'npau', 'cuj',\\\n",
    "                            'cwj', 'xov', 'kav', 'kab', 'txheej', 'xib', 'huab', 'pej',\\\n",
    "                            'phooj']\n",
    "green_mong_to_exclude = ['mivnyuas', 'nam', 'dlaab', 'puj', 'moob', 'tuabneeg', 'quasyawg',\\\n",
    "                         'quaspuj', 'dlev', 'tsaj', 'nav', 'qab']\n",
    "total_proc = [w for w in total_proc if w not in non_nouns_to_exclude]\n",
    "total_proc = [w for w in total_proc if w not in partial_words_to_exclude]\n",
    "total_proc = [w for w in total_proc if w not in green_mong_to_exclude]\n",
    "total_proc = list(set(total_proc))"
   ]
  },
  {
   "cell_type": "markdown",
   "metadata": {},
   "source": [
    "The next step provides English glosses for the Hmong words, for readers' convenience."
   ]
  },
  {
   "cell_type": "code",
   "execution_count": 9,
   "metadata": {},
   "outputs": [
    {
     "name": "stdout",
     "output_type": "stream",
     "text": [
      "['dab', 'nom', 'ntxhais', 'neej', 'pog', 'nas', 'hmoob', 'muam', 'txiv', 'phone', 'nab', 'dejnum', 'huabtais', 'system', 'noob', 'dej', 'tsiaj', 'txivneej', 'nqi', 'judge', 'president', 'duab', 'txha', 'member', 'kwvtij', 'txiaj', 'npawg', 'nai', 'qhev', 'mejkoob', 'email', 'yeebncuab', 'yawm', 'kasmoos', 'npua', 'niam', 'ntxhiab', 'thawj', 'yawg', 'thawjcoj', 'doctor', 'maum', 'tibneeg', 'uncle', 'kev', 'qaib', 'hneev', 'ntses', 'phoojywg', 'pas', 'kwv', 'nus', 'ntoo', 'cag', 'kheej', 'nyab', 'neeg', 'saub', 'cujpwm', 'vauv', 'leader', 'director', 'nees', 'qhua', 'ntawv', 'nplaig', 'xibfwb', 'policy', 'tsov', 'dev', 'xeebceem', 'nkauj', 'ntiv', 'choj', 'noog', 'txhaum', 'ncej', 'vajtswv', 'twm', 'nais', 'chij', 'cwjpwm', 'tijlaug', 'tswv', 'pojniam', 'menyuam', 'qauv', 'tav', 'cim', 'nuv', 'phauj', 'plig', 'qau', 'nyuj']\n"
     ]
    }
   ],
   "source": [
    "total_proc_english = ['stick', 'director', 'animal', 'hook', 'aunt', 'scent', 'price', 'brothers', 'pastor', 'doctor',\\\n",
    "                     'money', 'crossbow', 'grandfather', 'policy', 'judge', 'pig', 'human being', 'God', 'fish',\\\n",
    "                     'phallus', 'spirit', 'flag', 'responsibility', 'grandmother', 'water buffalo', 'behavior',\\\n",
    "                     'boss', 'email', 'person', 'finger', 'friend', 'bird', 'boss', 'soul', 'marriage negotiator',\\\n",
    "                     'creator god', 'daughter-in-law', 'form', 'tree trunk', 'cousin', 'cow', 'brother', 'member',\\\n",
    "                     'uncle', 'bridge', 'wife', 'system', 'leader', 'daughter', 'politician', 'enemy', 'leader', 'leader',\\\n",
    "                     'way', 'characteristic', 'brother', 'mother', 'government official', 'rib', 'chicken', 'grandfather',\\\n",
    "                     'symbol', 'tongue', 'man', 'brother', 'pillar', 'young woman', 'servant', 'horse', 'oneself',\\\n",
    "                     'phone', 'sister', 'Hmong', 'seed', 'snake', 'image', 'dog', 'root', 'river', 'letter', 'mistake',\\\n",
    "                     'rat', 'behavior', 'child', 'boss', 'president', 'tiger', 'female', 'father/husband', 'emperor',\\\n",
    "                     'bone', 'guest', 'son-in-law', 'life']\n",
    "total_proc_dict = {h: e for h, e in zip(total_proc, total_proc_english)}"
   ]
  },
  {
   "cell_type": "markdown",
   "metadata": {},
   "source": [
    "Next, we retrieve the vectors from the model for the resulting set of nouns we've chosen."
   ]
  },
  {
   "cell_type": "code",
   "execution_count": 10,
   "metadata": {},
   "outputs": [],
   "source": [
    "total_proc_vectors = [model.wv[w] for w in total_proc]"
   ]
  },
  {
   "cell_type": "markdown",
   "metadata": {},
   "source": [
    "#### Plotting the dendrogram.\n",
    "\n",
    "To plot a dendrogram, we need to import `matplotlib` and the `dendrogram` and `linkage` classes from `scipy.cluster.hierarchy`."
   ]
  },
  {
   "cell_type": "code",
   "execution_count": 8,
   "metadata": {},
   "outputs": [],
   "source": [
    "from matplotlib import pyplot as plt\n",
    "from scipy.cluster.hierarchy import dendrogram, linkage"
   ]
  },
  {
   "cell_type": "markdown",
   "metadata": {},
   "source": [
    "Now, we plot the final dendrogram. The first step is to create a linkage object containing our noun vector list. Then we plot the figure using `matplotlib.pyplot` and the `dendrogram` class. We use `leaf_font_size` to set the font size of the labels in the plot, and `leaf_rotation` to ensure the labels for each noun are rotated vertically to ensure they are legible. The final item, `leaf_label_func`, is defined with a <span style=\"color:green;font-weight:bold;\">lambda</span> function, where a label is mapped to the word in our noun list `total_proc` that corresponds to the vector in the noun vector list `total_proc_vectors`."
   ]
  },
  {
   "cell_type": "code",
   "execution_count": 27,
   "metadata": {},
   "outputs": [
    {
     "data": {
      "image/png": "[encoded data removed]",
      "text/plain": [
       "<Figure size 1800x720 with 1 Axes>"
      ]
     },
     "metadata": {
      "needs_background": "light"
     },
     "output_type": "display_data"
    }
   ],
   "source": [
    "l = linkage(total_proc_vectors, method='complete', metric='seuclidean')\n",
    "plt.figure(figsize=(25,10))\n",
    "plt.ylabel('word')\n",
    "plt.xlabel('distance')\n",
    "dendrogram(l, leaf_font_size=8., leaf_rotation=90., leaf_label_func=lambda v: total_proc[v])\n",
    "plt.show()"
   ]
  },
  {
   "cell_type": "markdown",
   "metadata": {},
   "source": [
    "The dendrogram groups primarily family and other relational terms on the left in blue and green, including _niam_ 'mother', _yawm_ 'grandmother', _txiv_ 'father', and _vauv_ 'son-in-law', with an additional group in mustard yellow, including _kwvtij_ 'male siblings' and _phoojywg_ 'friend(s)'. \n",
    "\n",
    "A group of fairly abstract terms related to humans appears in cyan toward the left, including _cwjpwm_ 'behavior' and _kheej_ 'oneself'. Terms for human social roles appears in purple toward the left, such as the English borrowing _judge_ and _qhua_ 'guest', while an additional grouping dominated by English loans representing professional roles appears in cyan near the right, including _doctor_ and _leader_, though notably, abstract English-sourced terms are grouped with these. As stated above, this is a result of the nature of the source corpus, which produces word embeddings that reflect a range of relationships, not merely semantic.\n",
    "\n",
    "Two large groupings of animals also appears, including the cyan group near the center containing primarily domesticated farm animals such as _qaib_ 'chicken', _npua_ 'pig', and _nyuj_ 'cow', and the purple group to the right of center containing small, canonically wild animals such as _ntses_ 'fish', _nas_ 'rat', and _noog_ 'bird'.\n",
    "\n",
    "Modes of communication also receive their own grouping, as with _phone_, _email_, and _duab_ 'picture' in red and blue toward the left.\n",
    "\n",
    "Finally, _ncej_ 'pillar' and _ntoo_ 'tree, wood' are grouped together in blue to the right of center.\n",
    "\n",
    "One drawback of the dendrogram approach in general, of course, is how groupings are made: more sensible groupings at the macro level may be missed because of the groupings already made at the lower levels. What we see here, however, is that while there are still a number of nouns that appear in unexpected groupings, large, mostly sensible semantic categories still dominate the results: human family terms, human abstract terms, human social roles (especially English-sourced professional ones), domesticated farm animals, small wild animals, methods of communication, and cylindrical wooden things. These categories can serve as a foundational hypothesis for further research, which is exactly our goal here."
   ]
  },
  {
   "cell_type": "markdown",
   "metadata": {},
   "source": [
    "#### K-Means Clustering\n",
    "\n",
    "Next, we'll do a k-means clustering analysis of the word embeddings of the nouns.\n",
    "\n",
    "As with the dendrogram approach above, the k-means clustering approach will still be sensitive to non-semantic features of the word embeddings. Nevertheless, we should still find robust clusters in the results that will serve well in hypothesis formation driving further research.\n",
    "\n",
    "We begin by importing the necessary libraries. K-means clustering is enabled by `sklearn.cluster.KMeans`."
   ]
  },
  {
   "cell_type": "code",
   "execution_count": 13,
   "metadata": {},
   "outputs": [],
   "source": [
    "from sklearn.cluster import KMeans\n",
    "import numpy as np\n",
    "from scipy.spatial.distance import cdist"
   ]
  },
  {
   "cell_type": "markdown",
   "metadata": {},
   "source": [
    "Next, we train the k-means clustering model. We choose seven clusters here as it produces groupings that are impressionistically the most semantically sensible, as we will see below. Given the use of word embeddings from the SCH corpus, useful approaches to determine the best k value such as the elbow method or silhouette clustering are not particularly helpful for our purposes, as their results rely on the full range of what is encoded in the embeddings rather than semantics alone."
   ]
  },
  {
   "cell_type": "code",
   "execution_count": 49,
   "metadata": {},
   "outputs": [],
   "source": [
    "km = KMeans(n_clusters=7, init='random', n_init=30, max_iter=300, tol=1e-04, random_state=0)\n",
    "y_km = km.fit_predict(total_proc_vectors)"
   ]
  },
  {
   "cell_type": "markdown",
   "metadata": {},
   "source": [
    "Next, let's look at the groupings."
   ]
  },
  {
   "cell_type": "code",
   "execution_count": 50,
   "metadata": {},
   "outputs": [
    {
     "name": "stdout",
     "output_type": "stream",
     "text": [
      "0\n",
      "nqi 'price'\n",
      "txiaj 'money'\n",
      "tibneeg 'human being'\n",
      "vajtswv 'God'\n",
      "dab 'spirit'\n",
      "dejnum 'responsibility'\n",
      "neeg 'person'\n",
      "mejkoob 'marriage negotiator'\n",
      "choj 'bridge'\n",
      "pojniam 'wife'\n",
      "kev 'way'\n",
      "hmoob 'Hmong'\n",
      "duab 'image'\n",
      "dej 'river'\n",
      "txhaum 'mistake'\n",
      "menyuam 'child'\n",
      "neej 'life'\n",
      "\n",
      "1\n",
      "xibfwb 'pastor'\n",
      "doctor 'doctor'\n",
      "yawg 'grandfather'\n",
      "chij 'flag'\n",
      "tswv 'boss'\n",
      "nai 'boss'\n",
      "plig 'soul'\n",
      "saub 'creator god'\n",
      "nyab 'daughter-in-law'\n",
      "thawj 'leader'\n",
      "nom 'government official'\n",
      "yawm 'grandfather'\n",
      "qhev 'servant'\n",
      "nab 'snake'\n",
      "ntawv 'letter'\n",
      "nais 'boss'\n",
      "huabtais 'emperor'\n",
      "\n",
      "2\n",
      "niam 'mother'\n",
      "\n",
      "3\n",
      "pas 'stick'\n",
      "nuv 'hook'\n",
      "hneev 'crossbow'\n",
      "ntses 'fish'\n",
      "qau 'phallus'\n",
      "ntiv 'finger'\n",
      "ntoo 'tree trunk'\n",
      "tav 'rib'\n",
      "nplaig 'tongue'\n",
      "ncej 'pillar'\n",
      "noob 'seed'\n",
      "cag 'root'\n",
      "nas 'rat'\n",
      "txha 'bone'\n",
      "\n",
      "4\n",
      "director 'director'\n",
      "policy 'policy'\n",
      "judge 'judge'\n",
      "cujpwm 'behavior'\n",
      "email 'email'\n",
      "qauv 'form'\n",
      "member 'member'\n",
      "system 'system'\n",
      "thawjcoj 'leader'\n",
      "kasmoos 'politician'\n",
      "yeebncuab 'enemy'\n",
      "leader 'leader'\n",
      "xeebceem 'characteristic'\n",
      "cim 'symbol'\n",
      "txivneej 'man'\n",
      "kheej 'oneself'\n",
      "phone 'phone'\n",
      "cwjpwm 'behavior'\n",
      "president 'president'\n",
      "\n",
      "5\n",
      "phauj 'aunt'\n",
      "kwvtij 'brothers'\n",
      "pog 'grandmother'\n",
      "phoojywg 'friend'\n",
      "noog 'bird'\n",
      "npawg 'cousin'\n",
      "nus 'brother'\n",
      "uncle 'uncle'\n",
      "ntxhais 'daughter'\n",
      "kwv 'brother'\n",
      "tijlaug 'brother'\n",
      "nkauj 'young woman'\n",
      "muam 'sister'\n",
      "txiv 'father/husband'\n",
      "qhua 'guest'\n",
      "vauv 'son-in-law'\n",
      "\n",
      "6\n",
      "tsiaj 'animal'\n",
      "ntxhiab 'scent'\n",
      "npua 'pig'\n",
      "twm 'water buffalo'\n",
      "nyuj 'cow'\n",
      "qaib 'chicken'\n",
      "nees 'horse'\n",
      "dev 'dog'\n",
      "tsov 'tiger'\n",
      "maum 'female'\n",
      "\n"
     ]
    }
   ],
   "source": [
    "outcomes = zip(y_km, total_proc, total_proc_english)\n",
    "total_proc_grouped = groupby(sorted(outcomes, key=lambda x: x[0]), lambda x: x[0])\n",
    "for key, group in total_proc_grouped:\n",
    "    print(key)\n",
    "    for item in group:\n",
    "        print(item[1], \"'\" + item[2] + \"'\")\n",
    "    print()"
   ]
  },
  {
   "cell_type": "markdown",
   "metadata": {},
   "source": [
    "With seven groups, the results are interesting. \n",
    "\n",
    "While group 0 has an unclear semantic basis—likely reflecting non-semantic information or other idiosyncratic relationships encoded in the word embeddings—group 1 is dominated by terms that refer to people with authority: _xibfwb_ 'pastor', _nai_ 'boss', _nom_ 'government official', and _huabtais_ 'emperor', for example. \n",
    "\n",
    "Group 3 likewise has mostly inanimate objects on the one hand—_pas_ 'stick', _nuv_ 'hook', _ntoo_ 'tree trunk'— and body parts on the other—_nplaig_ 'tongue' and _txha_ 'bone', for example. \n",
    "\n",
    "Group 4 has English borrowings related to official and other professional concepts, including occupations, such as _director_, _judge_, _system_, and _policy_, some abstract Hmong terms—probably associated with official concepts—such as _xeebceem_ 'characteristic' and _cwjpwm_ 'behavior'.\n",
    "\n",
    "Group 5 is almost a perfect fit for relationships—_phauj_ 'aunt', _kwvtij_ 'brothers', _phoojywg_ 'friend', and so on—while _niam_ 'mother' is alone in group 2 and _noog_ 'bird' is inexplicably in group 5.\n",
    "\n",
    "Group 6 is almost exclusively animal terms—_tsiaj_ 'animal', _npua_ 'pig', _twm_ 'water buffalo'—except for _ntxhiab_ 'scent', which makes sense as a term associated with animals.\n",
    "\n",
    "The results from the k-means clustering approach are a sensible starting point for hypothesis formation. Obvious categories include 1) inanimate objects characterized by a straight, rigid shape, 2) similarly \"straight\" body parts, 3) official concepts, 4) professional roles, 5) professional concepts, 6) relationships, and 7) animals. The following words present special difficulty for this taxonomy of seven categories, and, unsurprisingly, were grouped together as a sort of \"other\" category as group 0 above: _nqi_ 'price', _duab_ 'image', _dej_ 'river', _txhaum_ 'mistake', _neej_ 'life', _txiaj_ 'money', _chij_ 'flag', _ntawv_ 'letter', and _noob_ 'seed'. This can be explained, however, by the fact that the relationship between these items and the larger categories are the likely result of literal and metaphorical, but idiosyncratic, semantic extensions, in addition to the combination of various forms of information reflected in the word embeddings."
   ]
  },
  {
   "cell_type": "markdown",
   "metadata": {},
   "source": [
    "#### Comparison of results\n",
    "\n",
    "The dendrogram approach produced evidence for the following groupings:\n",
    "1. human family terms\n",
    "2. human abstract terms\n",
    "3. human social roles (especially English-sourced professional ones)\n",
    "4. domesticated farm animals\n",
    "5. small wild animals\n",
    "6. methods of communication\n",
    "7. cylindrical wooden things\n",
    "\n",
    "The k-means clustering approach likewise produced evidence for these groupings:\n",
    "1. inanimate objects characterized by a straight, rigid shape\n",
    "2. similarly \"straight\" body parts\n",
    "3. official concepts\n",
    "4. professional roles\n",
    "5. professional concepts\n",
    "6. human relationships\n",
    "7. animals\n",
    "\n",
    "Altogether, human terms related to family, society, and professional roles, animal terms, and straight, rigid inanimate objects were uncovered as groupings by both approaches. Furthermore, official/professional concepts, \"straight\" body parts, and methods of communication were groupings found in one of the approaches."
   ]
  },
  {
   "cell_type": "markdown",
   "metadata": {},
   "source": [
    "#### The Results as Hypotheses\n",
    "\n",
    "The above results provide a strong basis for forming hypotheses for the semantic categories associated with the classifier _tus_. Below, we try new nouns not seen in the analyses above to check our categories. Let's try _xeebntxwv_ 'grandchild' as a human family term, _neeb_ 'shaman' as a human society term, _dais_ 'bear' for an animal term, and _cav_ 'log, pole' for a straight, rigid inanimate object term.\n",
    "\n",
    "We check for the co-occurrence of these with _tus_ in terms of raw frequency in the `bigrams_copy` that we created above."
   ]
  },
  {
   "cell_type": "code",
   "execution_count": 10,
   "metadata": {},
   "outputs": [
    {
     "name": "stdout",
     "output_type": "stream",
     "text": [
      "tus xeebntxwv 'the grandchild':  5\n",
      "tus neeb 'the shaman':  17\n",
      "tus dais 'the bear':  8\n",
      "tus cav 'the pole':  16\n"
     ]
    }
   ],
   "source": [
    "print(\"tus xeebntxwv 'the grandchild': \", bigrams_copy.ngram_fd[('tus', 'xeebntxwv')])\n",
    "print(\"tus neeb 'the shaman': \", bigrams_copy.ngram_fd[('tus', 'neeb')])\n",
    "print(\"tus dais 'the bear': \", bigrams_copy.ngram_fd[('tus', 'dais')])\n",
    "print(\"tus cav 'the pole': \", bigrams_copy.ngram_fd[('tus', 'cav')])"
   ]
  },
  {
   "cell_type": "markdown",
   "metadata": {},
   "source": [
    "These four nouns show frequency of co-occurrences with _tus_ in our corpus of less than 20, meaning that they were eliminated from the analyses above by the line `bigrams.apply_freq_filter(20)` early on in the process. Nevertheless, all four of these co-occur multiple times with _tus_, suggesting that our semantic category hypotheses based on the dendrogram and k-means clustering analyses above will likely prove correct, producing useful results contributing to our goal of charting the semantic network associated with _tus_."
   ]
  },
  {
   "cell_type": "markdown",
   "metadata": {},
   "source": [
    "#### Conclusion\n",
    "\n",
    "Taken together, the dendrogram analysis and k-means clustering approach above enable hypothesis formation for a semantic network associated with the Hmong classifier _tus_. This is significant, given the current lack of a semantic ontology for the Hmong language that should otherwise limit this sort of research, and as a result, this approach will likely prove useful in data exploration and hypothesis formation for other resource-poor languages as well."
   ]
  }
 ],
 "metadata": {
  "kernelspec": {
   "display_name": "Python 3",
   "language": "python",
   "name": "python3"
  },
  "language_info": {
   "codemirror_mode": {
    "name": "ipython",
    "version": 3
   },
   "file_extension": ".py",
   "mimetype": "text/x-python",
   "name": "python",
   "nbconvert_exporter": "python",
   "pygments_lexer": "ipython3",
   "version": "3.7.1"
  }
 },
 "nbformat": 4,
 "nbformat_minor": 2
}
