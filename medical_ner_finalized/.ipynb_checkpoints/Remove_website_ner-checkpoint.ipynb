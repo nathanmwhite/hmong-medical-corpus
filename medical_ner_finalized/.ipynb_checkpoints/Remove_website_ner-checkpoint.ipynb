{
 "cells": [
  {
   "cell_type": "code",
   "execution_count": 1,
   "metadata": {},
   "outputs": [],
   "source": [
    "import os\n",
    "import re"
   ]
  },
  {
   "cell_type": "code",
   "execution_count": 2,
   "metadata": {},
   "outputs": [],
   "source": [
    "os.chdir('../medical_ner_editing')"
   ]
  },
  {
   "cell_type": "code",
   "execution_count": 17,
   "metadata": {},
   "outputs": [],
   "source": [
    "anatomy = './anatomy_tagged'\n",
    "disease = './disease_tagged'\n",
    "symptom = './symptom_tagged'"
   ]
  },
  {
   "cell_type": "code",
   "execution_count": 18,
   "metadata": {},
   "outputs": [],
   "source": [
    "filenames = os.listdir(anatomy)"
   ]
  },
  {
   "cell_type": "code",
   "execution_count": 117,
   "metadata": {},
   "outputs": [],
   "source": [
    "#seq1 = 'BUREAU▹O OF▹O COMMUNICABLE▹O DISEASES▹O '\n",
    "#seq2 = 'Wisconsin▹O Department▹O of▹O Health▹O Services▹O \\|▹O Division▹O of▹O Public▹O Health▹O ?'\n",
    "#seq3 = 'Page▹O [0-9]▹O of▹O [0-9]▹O ?'\n",
    "#seq4 = 'https▹O :▹O //www▹O .▹O dhs▹O .▹O wisconsin▹O .▹O gov▹O /▹O dph▹O /▹O bcd▹O .▹O htm▹O |▹O DHSDPHBCD@dhs▹O .▹O wi▹O .▹O gov▹O ?'\n",
    "#seq5 = 'P▹O -▹O [0-9]{5}H▹O (▹O [0-9]{2}▹O /▹O [0-9]{4}▹O )▹O ?'"
   ]
  },
  {
   "cell_type": "code",
   "execution_count": 285,
   "metadata": {},
   "outputs": [],
   "source": [
    "#seq1 = 'http▹O :▹O //www▹O \\.▹O cdc▹O \\.▹O gov▹O /▹O zika▹O /▹O pdfs▹O /▹O mosqprevinus▹O \\.▹O pdf▹O'\n",
    "#resp1 = 'http://www.cdc.gov/zika/pdfs/mosqprevinus.pdf▹O'\n",
    "#seq2 = 'Publica▹O on▹O P▹O -▹O 00619▹O \\)▹O \\.▹O Madison▹O ,▹O WI▹O https▹O :▹O //www▹O \\.▹O dhs▹O \\.▹O wisconsin▹O \\.▹O gov▹O /▹O tb▹(O|B-DSYN) /▹O index▹O \\.▹O htm▹O'\n",
    "#resp2 = 'Publication▹O P▹O -▹O 00619▹O )▹O .▹O Madison▹O ,▹O WI▹O https://www.dhs.wisconsin.gov/tb/index.htm▹O'\n",
    "#seq3 = 'https▹O :▹O //www▹O \\.▹O cdc▹O \\.▹O gov▹O /▹O vaccines▹O /▹O hcp▹O /▹O vis▹O /▹O vis▹O -▹O statements▹O /▹O varicella▹O \\.▹O pdf▹O'\n",
    "#resp3 = 'https://www.cdc.gov/vaccines/hcp/vis/vis-statements/varicella.pdf▹O'\n",
    "#seq4 = 'http▹O :▹O //www▹O \\.▹O immunize▹O \\.▹O org▹O /▹O vis▹O /▹O vis_hepatitis_b▹O \\.▹O asp▹O'\n",
    "#resp4 = 'http://www.immunize.org/vis/vis_hepatitis_b.asp▹O'\n",
    "#seq5 = 'www▹O \\.▹O cdc▹O \\.▹O gov▹O'\n",
    "#resp5 = 'www.cdc.gov▹O'\n",
    "#seq6 = 'http▹O :▹O //www▹O \\.▹O immunize▹O \\.▹O org▹O /▹O vis▹O /▹O meningococcal_b▹O \\.▹O pdf▹O'\n",
    "#resp6 = 'http://www.immunize.org/vis/meningococcal_b.pdf▹O'\n",
    "#seq7 = 'http▹O :▹O //www▹O \\.▹O immunize▹O \\.▹O org▹O /▹O vis▹O /▹O meningococcal_mcv_mpsv▹O \\.▹O p\n",
    "#df▹O'\n",
    "#resp7 = 'http://www.immunize.org/vis/meningococcal_mcv_mpsv.pdf▹O'\n",
    "#seq8 = 'https▹O :▹O //www\\.cdc\\.gov▹O /▹O vaccines▹O /▹O hcp▹O /▹O vis▹O /▹O vis▹O statements▹O /▹O mmr▹O \\.▹O pdf▹O'\n",
    "#resp8 = 'https://www.cdc.gov/vaccines/hcp/vis/vis-statements/mmr.pdf▹O'\n",
    "#seq9 = 'http▹O :▹O //www\\.cdc\\.gov▹O /▹O ncidod▹O /▹O dvrd▹O /▹O spb▹O /▹O mnpages▹O /▹O dispages▹O /▹O lcmv▹O \\.▹O htm▹O'\n",
    "#resp9 = 'http://www.cdc.gov/ncidod/dvrd/spb/mnpages/dispages/lcmv.htm▹O'\n",
    "\n",
    "#sequences = [seq8, seq9, seq1, seq2, seq3, seq4, seq5, seq6, seq7]\n",
    "#resps = [resp8, resp9, resp1, resp2, resp3, resp4, resp5, resp6, resp7]\n",
    "#sequences = [re.escape(seq) for seq in sequences]\n",
    "#corresps = list(zip(sequences, resps))"
   ]
  },
  {
   "cell_type": "code",
   "execution_count": 6,
   "metadata": {},
   "outputs": [],
   "source": [
    "#sequences = []\n",
    "\n",
    "#seq1 = 'WISCONSIN▹O DIVISION▹O OF▹O PUBLIC▹O HEALTH▹O Department▹O of▹O Health▹O Services▹O'\n",
    "#sequences.append(seq1)\n",
    "#seq2 = 'WISCONSIN▹O DEPARTMENT▹O OF▹O HEALTH▹O SERVICES▹O Division▹O of▹O Public▹O Health▹O' # re.ignorecase\n",
    "#sequences.append(seq2)\n",
    "\n",
    "#seq3 = 'Disease▹O Fact▹O Sheet▹O Series▹O'\n",
    "#seq4 = 'Disease▹O Fact▹O Sheet▹O'\n",
    "#sequences.append(seq3)\n",
    "#sequences.append(seq4)\n",
    "\n",
    "#seq5 = 'Developed▹O by▹O the▹O Wisconsin▹O Bureau▹O of▹O Communicable▹O Diseases▹O Communicable▹O Diseases▹O Epidemiology▹O Section▹O'\n",
    "#seq6 = 'Developed▹O by▹O the▹O Wisconsin▹O Bureau▹O of▹O Communicable▹O Communicable▹O Diseases▹O Epidemiology▹O Section▹O'\n",
    "#seq7 = 'DEVELOPED▹O BY▹O THE▹O DIVISION▹O OF▹O PUBLIC▹O HEALTH▹O ,▹O BUREAU▹O OF▹O COMMUNICABLE▹O DISEASES?▹O COMMUNICABLE▹O DISEASES?▹O EPIDEMIOL?OGY▹O SECTION▹O(?: .▹O)?'\n",
    "#seq8 = 'Developed▹O by▹O the▹O Wisconsin▹O Bureau▹O of▹O Communicable▹O Diseases▹O and▹O Emergency▹O Response▹O Communicable▹O Diseases?▹O Epidemiology▹O Section▹O'\n",
    "#seq8a = 'DEVELOPED▹O BY▹O THE▹O DIVISION▹O OF▹O PUBLIC▹O HEALTH▹O ,▹O BUREAU▹O OF▹O COMMUNICABLE▹O DISEASE▹O SEXUALLY▹O TRANSMITTED▹O DISEASE▹O CONTROL▹O SECTION▹O'\n",
    "#sequences.append(seq5)\n",
    "#sequences.append(seq6)\n",
    "#sequences.append(seq7)\n",
    "#sequences.append(seq8)\n",
    "#sequences.append(seq8a)\n",
    "\n",
    "#seq9 = 'Wisconsin▹O Department▹O of▹O Health▹O Services▹O |▹O Division▹O of▹O Public▹O Health▹O'\n",
    "#seq10 = '|Wisconsin▹O Departmentof▹O Health▹O Services▹O |▹O Division▹O of▹O Public▹O Health▹O'\n",
    "#seq11 = 'BUREAU▹O OF▹O COMMUNICABLE▹O DISEASES▹O'\n",
    "#sequences.append(seq9)\n",
    "#sequences.append(seq10)\n",
    "#sequences.append(seq11)\n",
    "\n",
    "#seq12z = 'L▹O P▹O -▹O [0-9]{5}H?▹O'\n",
    "#seq12 = '\\|?P▹O -▹O [0-9]{5}H▹O'\n",
    "#seq13 = '\\(▹O Rev▹O [0-9]{2}▹O /▹O [0-9]{2,4}▹O \\)▹O'\n",
    "#seq13a= '\\(▹O Rev▹O .▹O [0-9]{2}▹O /▹O [0-9]{2,4}▹O \\)▹O'\n",
    "#seq14 = 'Page▹O [0-9]▹O of▹O [0-9]▹O'\n",
    "#sequences.append(seq12)\n",
    "#sequences.append(seq13)\n",
    "#sequences.append(seq14)\n",
    "\n",
    "#issue:\n",
    "# Cov▹O lus▹O qhia▹O no▹O tau▹O tsim▹O los▹O ntawm▹O Wisconsin▹O Department▹O of▹O Health▹O Services▹O ,▹O Division▹O of▹O Public▹O Health▹O"
   ]
  },
  {
   "cell_type": "code",
   "execution_count": 22,
   "metadata": {},
   "outputs": [],
   "source": [
    "sequences = []\n",
    "\n",
    "seq1 = 'WISCONSIN▹O DIVISION▹O OF▹O PUBLIC▹O HEALTH▹O Department▹O of▹O Health▹O and▹O Family▹O Services▹O'\n",
    "seq2 = 'Division▹O of▹O Public▹O Health▹O'\n",
    "\n",
    "seq3 = 'PPH▹O [0-9]{5}H▹O'\n",
    "seq4 = 'P▹O -▹O [0-9]{5}▹O'\n",
    "seq5 = '-▹O [0-9]{5}H?▹O'\n",
    "seq6 = 'P▹O [0-9]{5}H▹O'\n",
    "\n",
    "seq7 = '\\(▹O Rev▹O \\.▹O 05▹O /▹O 04▹O \\)▹O'\n",
    "seq8 = '\\(▹O [0-9]{2}▹O /▹O [0-9]{2,4}▹O \\)▹O(?: \\|)'\n",
    "\n",
    "sequences.append(seq1)\n",
    "sequences.append(seq2)\n",
    "sequences.append(seq3)\n",
    "sequences.append(seq4)\n",
    "sequences.append(seq5)\n",
    "sequences.append(seq6)\n",
    "sequences.append(seq7)\n",
    "sequences.append(seq8)\n",
    "\n",
    "#filler_end = []\n",
    "\n",
    "#filler1 = ' \\n'\n",
    "#filler3 = ' \\|\\|\\n'\n",
    "\n",
    "#filler_end.append(filler1)\n",
    "#filler_end.append(filler3)\n",
    "\n",
    "#filler_start = []\n",
    "\n",
    "#filler2 = '^ '\n",
    "\n",
    "#filler_start.append(filler2)"
   ]
  },
  {
   "cell_type": "code",
   "execution_count": 6,
   "metadata": {},
   "outputs": [],
   "source": [
    "#sequence = 'BUREAU▹O OF▹O COMMUNICABLE▹O DISEASES▹O .+? Wisconsin▹O Department▹O of▹O Health▹O Services▹O \\|▹O Division▹O of▹O Public▹O Health▹O'"
   ]
  },
  {
   "cell_type": "code",
   "execution_count": 23,
   "metadata": {},
   "outputs": [],
   "source": [
    "finds = []\n",
    "for item in filenames:\n",
    "    for type_ in [anatomy, disease, symptom]:\n",
    "        with open(os.path.join(type_, item), 'r') as f:\n",
    "            data = f.read()\n",
    "        found = data\n",
    "        #found = re.sub(seq4, '', found)\n",
    "        for seq in sequences:\n",
    "            #found_old = found\n",
    "            found = re.sub(seq, '', found)\n",
    "            found = re.sub(' +', ' ', found)\n",
    "        #for fil in filler_end:\n",
    "            #found_old = found\n",
    "        #    found = re.sub(fil, '\\n', found)\n",
    "        #for fil in filler_start:\n",
    "        #    found = re.sub(fil, '', found)\n",
    "            #print(found_old == found)\n",
    "        finds.append((item, type_, found))"
   ]
  },
  {
   "cell_type": "code",
   "execution_count": null,
   "metadata": {},
   "outputs": [],
   "source": [
    "finds = []\n",
    "for item in filenames:\n",
    "    for type_ in [anatomy, disease, symptom]:\n",
    "        with open(os.path.join(type_, item), 'r') as f:\n",
    "            data = f.read()\n",
    "        found = re.sub('\\n')\n",
    "        found = data\n",
    "        finds.append((item, type_, found))"
   ]
  },
  {
   "cell_type": "code",
   "execution_count": 24,
   "metadata": {},
   "outputs": [],
   "source": [
    "anat, dis, sym = [], [], []\n",
    "for i, item in enumerate(finds):\n",
    "    if i % 3 == 0:\n",
    "        anat.append(item)\n",
    "    elif i % 3 == 1:\n",
    "        dis.append(item)\n",
    "    elif i % 3 == 2:\n",
    "        sym.append(item)"
   ]
  },
  {
   "cell_type": "code",
   "execution_count": 25,
   "metadata": {},
   "outputs": [
    {
     "data": {
      "text/plain": [
       "{'./symptom_tagged'}"
      ]
     },
     "execution_count": 25,
     "metadata": {},
     "output_type": "execute_result"
    }
   ],
   "source": [
    "set([item[1] for item in sym])"
   ]
  },
  {
   "cell_type": "code",
   "execution_count": 26,
   "metadata": {},
   "outputs": [],
   "source": [
    "anat_ = [(item[0], item[2]) for item in anat]\n",
    "dis_ = [(item[0], item[2]) for item in dis]\n",
    "sym_ = [(item[0], item[2]) for item in sym]"
   ]
  },
  {
   "cell_type": "code",
   "execution_count": 27,
   "metadata": {},
   "outputs": [],
   "source": [
    "anat_lens = [len(item[1].split(' ')) for item in anat_]\n",
    "dis_lens = [len(item[1].split(' ')) for item in dis_]\n",
    "sym_lens = [len(item[1].split(' ')) for item in sym_]"
   ]
  },
  {
   "cell_type": "code",
   "execution_count": 28,
   "metadata": {},
   "outputs": [
    {
     "data": {
      "text/plain": [
       "True"
      ]
     },
     "execution_count": 28,
     "metadata": {},
     "output_type": "execute_result"
    }
   ],
   "source": [
    "anat_lens == dis_lens == sym_lens"
   ]
  },
  {
   "cell_type": "code",
   "execution_count": 29,
   "metadata": {},
   "outputs": [],
   "source": [
    "for item in anat:\n",
    "    f = open(os.path.join(item[1], item[0]), 'w')\n",
    "    f.write(item[2])\n",
    "    f.close()\n",
    "for item in dis:\n",
    "    f = open(os.path.join(item[1], item[0]), 'w')\n",
    "    f.write(item[2])\n",
    "    f.close()\n",
    "for item in sym:\n",
    "    f = open(os.path.join(item[1], item[0]), 'w')\n",
    "    f.write(item[2])\n",
    "    f.close()"
   ]
  },
  {
   "cell_type": "code",
   "execution_count": null,
   "metadata": {},
   "outputs": [],
   "source": [
    "# issues:\n",
    "# 'Rabies' at end\n",
    "# Vim▹O li▹O no▹O mas▹O ,▹O tseem▹O ceeb▹O heev▹O uas▹O tus▹O neeg▹O raug▹O tsiaj▹O tom▹O yuav▹O tau▹O hais▹O mus▹O rau▹O hauv▹O feem▹O saib▹O xyuas▹O pej▹O xeem▹O Rabies▹O"
   ]
  }
 ],
 "metadata": {
  "kernelspec": {
   "display_name": "Python 3",
   "language": "python",
   "name": "python3"
  },
  "language_info": {
   "codemirror_mode": {
    "name": "ipython",
    "version": 3
   },
   "file_extension": ".py",
   "mimetype": "text/x-python",
   "name": "python",
   "nbconvert_exporter": "python",
   "pygments_lexer": "ipython3",
   "version": "3.7.7"
  }
 },
 "nbformat": 4,
 "nbformat_minor": 2
}
