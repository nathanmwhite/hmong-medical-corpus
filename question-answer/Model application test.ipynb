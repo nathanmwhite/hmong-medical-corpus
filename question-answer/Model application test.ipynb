{
 "cells": [
  {
   "cell_type": "code",
   "execution_count": 1,
   "metadata": {},
   "outputs": [],
   "source": [
    "import gensim\n",
    "import os\n",
    "from tensorflow import keras"
   ]
  },
  {
   "cell_type": "code",
   "execution_count": 2,
   "metadata": {},
   "outputs": [],
   "source": [
    "import mysql.connector"
   ]
  },
  {
   "cell_type": "code",
   "execution_count": 3,
   "metadata": {},
   "outputs": [],
   "source": [
    "import re"
   ]
  },
  {
   "cell_type": "code",
   "execution_count": 4,
   "metadata": {},
   "outputs": [],
   "source": [
    "import numpy as np"
   ]
  },
  {
   "cell_type": "code",
   "execution_count": 5,
   "metadata": {},
   "outputs": [],
   "source": [
    "import pandas as pd"
   ]
  },
  {
   "cell_type": "code",
   "execution_count": 15,
   "metadata": {},
   "outputs": [],
   "source": [
    "# load question type classifier\n",
    "q_type_classifier = keras.models.load_model('model_full.h5')"
   ]
  },
  {
   "cell_type": "code",
   "execution_count": 6,
   "metadata": {},
   "outputs": [],
   "source": [
    "# load doc2vec embeddings to embed input questions\n",
    "doc2vec_embeddings = gensim.models.Doc2Vec.load('doc_model_full.h5')"
   ]
  },
  {
   "cell_type": "code",
   "execution_count": 7,
   "metadata": {},
   "outputs": [],
   "source": [
    "# load knowledge graph database cursor\n",
    "cnx = mysql.connector.connect(user='hadoop', password='lK3pA!2j', host=\"127.0.0.1\", database=\"ner\")\n",
    "cursor = cnx.cursor()"
   ]
  },
  {
   "cell_type": "code",
   "execution_count": 8,
   "metadata": {},
   "outputs": [],
   "source": [
    "sql_cmd = \"\"\"SELECT dsynID, name FROM dsynNames;\"\"\"\n",
    "cursor.execute(sql_cmd)\n",
    "\n",
    "dsynNames = []\n",
    "for item in cursor:\n",
    "    dsynNames.append(item)"
   ]
  },
  {
   "cell_type": "code",
   "execution_count": 9,
   "metadata": {},
   "outputs": [],
   "source": [
    "df = pd.DataFrame(dsynNames, columns=['dsynID', 'label'])"
   ]
  },
  {
   "cell_type": "code",
   "execution_count": 47,
   "metadata": {},
   "outputs": [
    {
     "data": {
      "text/html": [
       "<div>\n",
       "<style scoped>\n",
       "    .dataframe tbody tr th:only-of-type {\n",
       "        vertical-align: middle;\n",
       "    }\n",
       "\n",
       "    .dataframe tbody tr th {\n",
       "        vertical-align: top;\n",
       "    }\n",
       "\n",
       "    .dataframe thead th {\n",
       "        text-align: right;\n",
       "    }\n",
       "</style>\n",
       "<table border=\"1\" class=\"dataframe\">\n",
       "  <thead>\n",
       "    <tr style=\"text-align: right;\">\n",
       "      <th></th>\n",
       "      <th>dsynID</th>\n",
       "      <th>label</th>\n",
       "    </tr>\n",
       "  </thead>\n",
       "  <tbody>\n",
       "    <tr>\n",
       "      <th>15</th>\n",
       "      <td>2</td>\n",
       "      <td>mob ua npaws</td>\n",
       "    </tr>\n",
       "    <tr>\n",
       "      <th>16</th>\n",
       "      <td>2</td>\n",
       "      <td>typhoid fever</td>\n",
       "    </tr>\n",
       "    <tr>\n",
       "      <th>17</th>\n",
       "      <td>2</td>\n",
       "      <td>enteric fever</td>\n",
       "    </tr>\n",
       "    <tr>\n",
       "      <th>18</th>\n",
       "      <td>2</td>\n",
       "      <td>tus mob paratyphoid</td>\n",
       "    </tr>\n",
       "    <tr>\n",
       "      <th>19</th>\n",
       "      <td>2</td>\n",
       "      <td>tus mob typhoid</td>\n",
       "    </tr>\n",
       "    <tr>\n",
       "      <th>20</th>\n",
       "      <td>2</td>\n",
       "      <td>tus mob enteric</td>\n",
       "    </tr>\n",
       "    <tr>\n",
       "      <th>21</th>\n",
       "      <td>2</td>\n",
       "      <td>mob typhoid</td>\n",
       "    </tr>\n",
       "    <tr>\n",
       "      <th>22</th>\n",
       "      <td>2</td>\n",
       "      <td>paratyphoid</td>\n",
       "    </tr>\n",
       "    <tr>\n",
       "      <th>23</th>\n",
       "      <td>2</td>\n",
       "      <td>mob paratyphoid</td>\n",
       "    </tr>\n",
       "    <tr>\n",
       "      <th>24</th>\n",
       "      <td>3</td>\n",
       "      <td>endocarditis</td>\n",
       "    </tr>\n",
       "  </tbody>\n",
       "</table>\n",
       "</div>"
      ],
      "text/plain": [
       "    dsynID                label\n",
       "15       2         mob ua npaws\n",
       "16       2        typhoid fever\n",
       "17       2        enteric fever\n",
       "18       2  tus mob paratyphoid\n",
       "19       2      tus mob typhoid\n",
       "20       2      tus mob enteric\n",
       "21       2          mob typhoid\n",
       "22       2          paratyphoid\n",
       "23       2      mob paratyphoid\n",
       "24       3         endocarditis"
      ]
     },
     "execution_count": 47,
     "metadata": {},
     "output_type": "execute_result"
    }
   ],
   "source": [
    "df[15:25]"
   ]
  },
  {
   "cell_type": "code",
   "execution_count": 16,
   "metadata": {},
   "outputs": [],
   "source": [
    "def split_input(input_string):\n",
    "    data = re.sub('\\?', ' ?', input_string)\n",
    "    return data.split(' ')"
   ]
  },
  {
   "cell_type": "code",
   "execution_count": 59,
   "metadata": {},
   "outputs": [],
   "source": [
    "input_ = 'Cov kab mob ntawm tus mob typhoid fever zoo li cas?'"
   ]
  },
  {
   "cell_type": "code",
   "execution_count": 60,
   "metadata": {},
   "outputs": [],
   "source": [
    "data = split_input(input_)"
   ]
  },
  {
   "cell_type": "code",
   "execution_count": 61,
   "metadata": {},
   "outputs": [],
   "source": [
    "classification = np.argmax(q_type_classifier.predict(doc2vec_embeddings.infer_vector(data).reshape(1,32)))"
   ]
  },
  {
   "cell_type": "code",
   "execution_count": 62,
   "metadata": {},
   "outputs": [],
   "source": [
    "def get_symptom_data(dsynID):\n",
    "    sql_cmd = \"\"\"SELECT baseName FROM relationDsynHasSosy\n",
    "    JOIN sosy ON relationDsynHasSosy.sosyID=sosy.id\n",
    "    WHERE dsynID={id_};\"\"\".format(id_=dsynID)\n",
    "    cursor.execute(sql_cmd)\n",
    "    for item in cursor:\n",
    "        print(item[0])"
   ]
  },
  {
   "cell_type": "code",
   "execution_count": 63,
   "metadata": {},
   "outputs": [
    {
     "name": "stdout",
     "output_type": "stream",
     "text": [
      "Tus mob no muaj cov tsos mob hauv qab no:\n",
      "ua npaws\n",
      "kub ib ce\n",
      "mob tob hau\n",
      "tsis qab los noj mov\n",
      "ntuav\n",
      "raws plab\n",
      "tus po kheev o tuaj\n",
      "tej thaj liab doog\n",
      "cov thaj liab doog\n",
      "tsob ntshav\n",
      "mob hnyuv tws\n",
      "mob chob nkuav\n"
     ]
    }
   ],
   "source": [
    "if classification == 1:\n",
    "    answer = None\n",
    "    data_lc = [w.lower() for w in data]\n",
    "    for item in dsynNames:\n",
    "        if item[1].lower() in input_.lower():\n",
    "            answer = item[0]\n",
    "            break\n",
    "    if answer == None:\n",
    "        print(\"Tus mob no mas nrhiav tsis tau.\")\n",
    "    else:\n",
    "        print(\"Tus mob no muaj cov tsos mob hauv qab no:\")\n",
    "        get_symptom_data(answer)\n",
    "else:\n",
    "    print(\"Tsis muaj cov information txog tus mob no.\")"
   ]
  },
  {
   "cell_type": "code",
   "execution_count": null,
   "metadata": {},
   "outputs": [],
   "source": []
  }
 ],
 "metadata": {
  "kernelspec": {
   "display_name": "Python 3",
   "language": "python",
   "name": "python3"
  },
  "language_info": {
   "codemirror_mode": {
    "name": "ipython",
    "version": 3
   },
   "file_extension": ".py",
   "mimetype": "text/x-python",
   "name": "python",
   "nbconvert_exporter": "python",
   "pygments_lexer": "ipython3",
   "version": "3.7.8"
  }
 },
 "nbformat": 4,
 "nbformat_minor": 4
}
