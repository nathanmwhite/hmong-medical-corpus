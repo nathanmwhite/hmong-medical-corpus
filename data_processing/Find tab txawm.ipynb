{
 "cells": [
  {
   "cell_type": "code",
   "execution_count": 1,
   "metadata": {},
   "outputs": [],
   "source": [
    "import os\n",
    "import re\n",
    "\n",
    "os.chdir(os.path.expanduser(os.path.join('~', 'python_workspace', 'medical_corpus_scripting', 'ner_assets')))"
   ]
  },
  {
   "cell_type": "code",
   "execution_count": 2,
   "metadata": {},
   "outputs": [],
   "source": [
    "anatomy_folder = 'anatomy_tagged'"
   ]
  },
  {
   "cell_type": "code",
   "execution_count": 3,
   "metadata": {},
   "outputs": [],
   "source": [
    "filenames = os.listdir(anatomy_folder)"
   ]
  },
  {
   "cell_type": "code",
   "execution_count": 4,
   "metadata": {},
   "outputs": [],
   "source": [
    "anatomy_finds = {}\n",
    "for item in filenames:\n",
    "    with open(os.path.join(anatomy_folder, item), 'r') as f:\n",
    "        string_data = f.read()\n",
    "        anatomy_finds[item] = re.findall(' [Tt]ab▹.{1,6} txawm▹.{1,6} ', string_data)"
   ]
  },
  {
   "cell_type": "code",
   "execution_count": 5,
   "metadata": {},
   "outputs": [
    {
     "name": "stdout",
     "output_type": "stream",
     "text": [
      "activehmo.txt\n",
      "p01581h.txt\n",
      "p01820h.txt\n",
      "p42025h.txt\n",
      "p42047h.txt\n",
      "p42052h.txt\n",
      "p42056h.txt\n",
      "p42069h.txt\n",
      "p42072h.txt\n",
      "p42081h.txt\n",
      "p42082h.txt\n",
      "p42110h.txt\n"
     ]
    }
   ],
   "source": [
    "for item in sorted(anatomy_finds.keys()):\n",
    "    if anatomy_finds[item] != []:\n",
    "        print(item)"
   ]
  },
  {
   "cell_type": "code",
   "execution_count": null,
   "metadata": {},
   "outputs": [],
   "source": []
  }
 ],
 "metadata": {
  "kernelspec": {
   "display_name": "Python 3",
   "language": "python",
   "name": "python3"
  },
  "language_info": {
   "codemirror_mode": {
    "name": "ipython",
    "version": 3
   },
   "file_extension": ".py",
   "mimetype": "text/x-python",
   "name": "python",
   "nbconvert_exporter": "python",
   "pygments_lexer": "ipython3",
   "version": "3.7.7"
  }
 },
 "nbformat": 4,
 "nbformat_minor": 2
}
