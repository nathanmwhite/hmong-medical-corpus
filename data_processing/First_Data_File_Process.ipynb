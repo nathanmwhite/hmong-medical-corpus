{
 "cells": [
  {
   "cell_type": "markdown",
   "metadata": {},
   "source": [
    "The first set of code cells need to be run first as they contain the module imports and the functions used in the script. Then run the script, remembering to update the file_to_process value before doing so."
   ]
  },
  {
   "cell_type": "markdown",
   "metadata": {},
   "source": [
    "Load document."
   ]
  },
  {
   "cell_type": "code",
   "execution_count": 1,
   "metadata": {},
   "outputs": [],
   "source": [
    "import os\n",
    "import pickle\n",
    "import re\n",
    "\n",
    "def retrieve_raw_data(file_name):\n",
    "    os.chdir('/media/nathan/FLASH DRIVE/Hmong corpus material/medical_corpus')\n",
    "    f = open(file_name, 'r')\n",
    "    doc_data = f.readlines()\n",
    "    f.close()\n",
    "    return doc_data"
   ]
  },
  {
   "cell_type": "markdown",
   "metadata": {},
   "source": [
    "Every time there is a period, a question mark, or other separating punctuation, this should be split into a separate sentence, and a sentence list needs to be populated."
   ]
  },
  {
   "cell_type": "code",
   "execution_count": 2,
   "metadata": {},
   "outputs": [],
   "source": [
    "def extract_tagged_words(raw_data):\n",
    "    sentences = []\n",
    "    current_sentence = []\n",
    "    for line in raw_data:\n",
    "        for word in line.strip().split(' '):\n",
    "            if word[:3] == '\\//':\n",
    "                # set special temporary replacement for / character\n",
    "                temp_word = '@@@/' + word[3:]\n",
    "            if word[:2] == '//':\n",
    "                temp_word = '@@@/' + word[2:]\n",
    "            else:\n",
    "                temp_word = word\n",
    "            processed_word = temp_word.split('/')\n",
    "            if word in ['?/O-PU', './O-PU']:\n",
    "                current_sentence.append(processed_word)\n",
    "                sentences.append(current_sentence)\n",
    "                current_sentence = []\n",
    "            # restore proper character after split\n",
    "            elif processed_word[0] == '@@@':\n",
    "                processed_word[0] = '/'\n",
    "                current_sentence.append(processed_word)\n",
    "            else:\n",
    "                current_sentence.append(processed_word)\n",
    "        # if line ends in EOL rather than a question mark or period\n",
    "        if current_sentence != []:\n",
    "            sentences.append(current_sentence)\n",
    "            current_sentence = []\n",
    "    return sentences"
   ]
  },
  {
   "cell_type": "markdown",
   "metadata": {},
   "source": [
    "Check data for proper format."
   ]
  },
  {
   "cell_type": "code",
   "execution_count": 3,
   "metadata": {},
   "outputs": [],
   "source": [
    "def check_format(data_in):\n",
    "    errors = []\n",
    "    for i, sent in enumerate(data_in):\n",
    "        for j, word in enumerate(sent):\n",
    "            if len(word) != 2:\n",
    "                errors.append((word, i, j))\n",
    "                continue\n",
    "            out = word[1].split('-')\n",
    "            if len(out) != 2:\n",
    "                errors.append((word, i, j))\n",
    "                continue\n",
    "            if len(out[1]) != 2:\n",
    "                errors.append((word, i, j))\n",
    "                continue\n",
    "            if out[0] not in ['B', 'I', 'O']:\n",
    "                errors.append((word, i, j))\n",
    "                continue\n",
    "    return errors"
   ]
  },
  {
   "cell_type": "markdown",
   "metadata": {},
   "source": [
    "Process data and pickle the result so that it can be opened in the Medical_Corpus_Database file for further scripting."
   ]
  },
  {
   "cell_type": "code",
   "execution_count": 4,
   "metadata": {},
   "outputs": [
    {
     "name": "stdout",
     "output_type": "stream",
     "text": [
      "[]\n"
     ]
    }
   ],
   "source": [
    "file_to_process = '11.txt'\n",
    "doc_data = retrieve_raw_data(file_to_process)\n",
    "tagged_words = extract_tagged_words(doc_data)\n",
    "print(check_format(tagged_words))\n",
    "if len(check_format(tagged_words)) == 0:\n",
    "    os.chdir(os.path.expanduser('~/python_workspace/medical_corpus_scripting/pickling'))\n",
    "    f = open(re.sub('\\.', '_', file_to_process) + '.pkl', 'wb')\n",
    "    pickle.dump(tagged_words, f)\n",
    "    f.close()\n",
    "else:\n",
    "    raise TypeError"
   ]
  },
  {
   "cell_type": "code",
   "execution_count": null,
   "metadata": {},
   "outputs": [],
   "source": []
  }
 ],
 "metadata": {
  "kernelspec": {
   "display_name": "Python 3",
   "language": "python",
   "name": "python3"
  },
  "language_info": {
   "codemirror_mode": {
    "name": "ipython",
    "version": 3
   },
   "file_extension": ".py",
   "mimetype": "text/x-python",
   "name": "python",
   "nbconvert_exporter": "python",
   "pygments_lexer": "ipython3",
   "version": "3.7.1"
  }
 },
 "nbformat": 4,
 "nbformat_minor": 2
}
