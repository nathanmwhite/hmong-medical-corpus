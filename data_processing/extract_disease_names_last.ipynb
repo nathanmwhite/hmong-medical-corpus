{
 "cells": [
  {
   "cell_type": "code",
   "execution_count": 1,
   "metadata": {},
   "outputs": [],
   "source": [
    "import re\n",
    "import os\n",
    "\n",
    "import urllib.request"
   ]
  },
  {
   "cell_type": "code",
   "execution_count": 3,
   "metadata": {},
   "outputs": [],
   "source": [
    "os.chdir(os.path.expanduser(os.path.join('~', 'hmong_medical', 'dhs_wisconsin')))\n",
    "# the up-to-date file list is on GitHub\n",
    "prefix = \"http://github.com/nathanmwhite/hmong-medical-corpus/raw/master/medical_corpus_finalized/\"\n",
    "local_file = \"source_locs.ind\""
   ]
  },
  {
   "cell_type": "code",
   "execution_count": 8,
   "metadata": {},
   "outputs": [],
   "source": [
    "with urllib.request.urlopen(prefix + local_file) as response:\n",
    "    file_ = response.read()"
   ]
  },
  {
   "cell_type": "code",
   "execution_count": 16,
   "metadata": {},
   "outputs": [],
   "source": [
    "data = file_.decode()"
   ]
  },
  {
   "cell_type": "code",
   "execution_count": 17,
   "metadata": {},
   "outputs": [],
   "source": [
    "data = [w.rstrip().split(' ') for w in data.split('\\n') if len(w) > 0]"
   ]
  },
  {
   "cell_type": "code",
   "execution_count": 18,
   "metadata": {},
   "outputs": [
    {
     "data": {
      "text/plain": [
       "[['1', 'https://www.dhs.wisconsin.gov/publications/p4/p42090h.pdf'],\n",
       " ['2', 'https://www.dhs.wisconsin.gov/publications/p0/p00119h.pdf'],\n",
       " ['3', 'https://www.dhs.wisconsin.gov/publications/p00356h.pdf'],\n",
       " ['4', 'https://www.dhs.wisconsin.gov/publications/p00486h.pdf'],\n",
       " ['5', 'https://www.dhs.wisconsin.gov/publications/p0/p00688h.pdf'],\n",
       " ['6', 'https://www.dhs.wisconsin.gov/publications/p0/p00873h.pdf'],\n",
       " ['7', 'https://www.dhs.wisconsin.gov/publications/p42053ah.pdf'],\n",
       " ['8',\n",
       "  'https://www.health.state.mn.us/diseases/tb/basics/factsheets/activehmo.pdf'],\n",
       " ['9', 'https://www.dhs.wisconsin.gov/publications/p01298h.pdf'],\n",
       " ['10', 'https://www.dhs.wisconsin.gov/publications/p01581h.pdf'],\n",
       " ['11', 'https://www.dhs.wisconsin.gov/publications/p01709h.pdf']]"
      ]
     },
     "execution_count": 18,
     "metadata": {},
     "output_type": "execute_result"
    }
   ],
   "source": [
    "data"
   ]
  },
  {
   "cell_type": "code",
   "execution_count": 20,
   "metadata": {},
   "outputs": [],
   "source": [
    "content = {}"
   ]
  },
  {
   "cell_type": "code",
   "execution_count": 21,
   "metadata": {},
   "outputs": [],
   "source": [
    "for item in [l[0] for l in data]:\n",
    "    with urllib.request.urlopen(prefix + item + '.txt') as response:\n",
    "        content[item] = response.read().decode()"
   ]
  },
  {
   "cell_type": "code",
   "execution_count": 41,
   "metadata": {},
   "outputs": [
    {
     "data": {
      "text/plain": [
       "'Mob/B-NN Paratyphoid/B-FW yog/B-VV dab/B-NN tsi/I-NN ?/O-PU Mob/B-NN Paratyphoid/B-FW yog/B-VV ib/B-QU tug/I-CL mob/B-NN sib/B-AD kis/I-VV zoo/B-VV heev/B-VV ./O-PU Yog/B-VV 3/B-QU hom/B-CL kab/B-NN mob/I-VV Salmonella/B-FW Paratyphi/B-FW :/O-PU S/B-FW ./O-PU Paratyphi/B-FW A/B-FW ,/O-PU S/B-FW ./O-PU Paratyphi/B-FW B/B-FW ,/O-PU thiab/B-CC S/B-FW ./O-PU Paratyphi/B-FW C/B-FW ua/B-VV kom/B-CS chiv/B-VV tus/B-CL mob/B-NN no/B-DT ./O-PU Hom/B-CL twg/B-RL los/B-CS yeej/B-AD ua/B-VV mob/B-VV tau/B-VV ,/O-PU tab/B-CC sis/I-CC hom/B-CL S/B-FW ./O-PU Paratyphi/B-FW C/B-FW mas/B-CS muaj/B-VV tsawg/B-VV ./O-PU Hom/B-CL mob/B-NN no/B-DT kuj/B-AD muab/B-PP tso/B-VV ua/B-AD ke/I-AD nrog/B-VV hom/B-CL mob/B-NN ua/B-VV npaws/B-NN tshaj/I-NN yeej/I-NN (/O-PU typhoid/B-FW fever/I-FW )/O-PU muaj/B-VV lub/B-CL npe/B-NN hu/B-VV ua/B-VV enteric/B-FW fever/I-FW ./O-PU Leej/B-CL twg/B-RL thiaj/B-AD tau/B-VV tus/B-CL mob/B-NN paratyphoid/B-FW ?/O-PU Leej/B-CL twg/B-RL los/B-CS yeej/B-AD raug/B-VV tau/B-VV tus/B-CL mob/B-NN paratyphoid/B-FW no/B-DT ,/O-PU tiam/B-CC sis/I-CC cov/B-CL neeg/B-NN mus/B-VV ncig/B-VV xyuas/B-VV cov/B-CL teb/B-NN chaws/I-NN tsis/B-AD tau/B-AD vam/B-VV meej/I-VV xws/B-VV li/B-PP Asia/B-FW ,/O-PU Africa/B-FW ,/O-PU Central/B-FW America/I-FW ,/O-PU thiab/B-CC tshwj/B-AD xeeb/I-AD cov/B-CL mus/B-VV rau/B-PP cov/B-CL teb/B-NN chaws/I-NN Asia/B-FW qab/B-NN teb/I-NN thiab/B-CC Mes/B-NR Kas/I-NR qab/B-NN teb/I-NN yog/B-VV cov/B-CL yuav/B-AD raug/B-VV zoo/B-VV dua/B-VV ./O-PU Tus/B-CL mob/B-NN paratyphoid/B-FW no/B-DT kis/B-VV tau/B-VV li/B-PP cas/I-NN ?/O-PU Tus/B-CL mob/B-NN paratyphoid/B-FW kis/B-VV tau/B-VV los/B-VV ntawm/B-LC noj/B-VV tau/B-VV tej/B-CL khoom/B-NN los/B-CC yog/I-CC haus/B-VV tau/B-VV tej/B-CL dej/B-NN uas/B-CS cov/B-CL neeg/B-NN muaj/B-VV tus/B-CL mob/B-VV no/B-DT tej/B-CL quav/B-NN tej/B-CL zis/B-NN paug/B-VV rau/B-PP ,/O-PU los/B-CC yog/I-CC kis/B-VV ncaj/B-VV nraim/I-VV ntawm/B-LC ib/B-QU tug/I-CL neeg/B-NN mus/B-VV rau/B-PP ib/B-QU tug/B-CL ./O-PU Tej/B-CL tsiaj/B-NN muaj/B-VV khauj/B-NN khaum/I-NN uas/B-CS mus/B-VV muab/B-PP hauv/B-LC tej/B-CL kwj/B-NN deg/I-NN tsis/B-AD huv/B-VV los/B-VV kuj/B-AD yuav/B-AD nqa/B-VV tau/B-VV cov/B-CL kab/B-NN mob/I-VV no/B-DT los/B-VV thiab/B-AD ,/O-PU tib/B-QU yam/B-CL li/B-PP tej/B-CL txiv/B-NN hmab/I-NN txiv/I-NN ntoo/I-NN thiab/B-CC zaub/B-NN uas/B-CS yog/B-VV muab/B-PP neeg/B-NN tej/B-CL quav/B-NN los/B-VV ua/B-VV chiv/B-VV ywg/B-VV rau/B-PP ./O-PU Tej/B-QU zaum/B-CL tsiaj/B-NN nyeg/I-NN kuj/B-AD yog/B-VV ib/B-QU qho/I-CL chaw/B-NN nkaum/B-VV rau/B-PP tus/B-CL kab/B-NN mob/I-VV S/B-FW ./O-PU Paratyphi/B-FW thiab/B-AD ,/O-PU tiam/B-CC sis/I-CC qhov/B-CL no/B-DT tsis/B-AD tshua/B-AD pom/B-VV muaj/B-VV ./O-PU Cov/B-CL tsos/B-NN mob/I-VV ntawm/B-LC tus/B-CL mob/B-NN paratyphoid/B-FW zoo/B-VV li/B-PP cas/I-NN ?/O-PU Tus/B-CL mob/B-NN paratyphoid/B-FW yuav/B-AD ua/B-VV rau/B-PP kub/B-VV kub/I-VV ib/B-QU ce/I-CL ,/O-PU mob/B-VV tob/B-NN hau/I-NN ,/O-PU tsis/B-AD qab/B-VV los/I-CL noj/B-VV mov/B-NN ,/O-PU ntuav/B-VV ,/O-PU thiab/B-CC cem/B-VV quav/B-NN los/B-CC yog/I-CC raws/B-VV plab/B-NN ./O-PU Tus/B-CL neeg/B-NN mob/B-VV tus/B-CL po/B-NN kheev/B-AD o/B-VV tuaj/B-VV ./O-PU Thaj/B-CL tsam/I-CL li/B-PP 30/B-QU %/B-FW ntawm/B-LC cov/B-CL neeg/B-NN tau/B-VV tus/B-CL mob/B-NN no/B-DT yuav/B-AD muaj/B-VV tej/B-QU thaj/B-CL liab/B-VV doog/B-VV rau/B-PP ntawm/B-LC lawv/B-PN hauv/B-NN siab/I-NN hauv/B-LC thawj/B-QU lub/B-CL lis/B-NN piam/I-NN uas/B-CS pib/B-VV mob/B-VV ./O-PU Cov/B-QU thaj/B-CL liab/B-VV doog/B-VV no/B-DT yuav/B-AD tsob/B-VV ntshav/B-NN uas/B-CS tsis/B-AD tshua/B-AD pom/B-VV tseeb/B-VV rau/B-PP cov/B-CL neeg/B-NN uas/B-CS cev/B-NN nqaij/I-NN daim/I-CL tawv/I-NN dub/B-VV zog/I-AD ./O-PU Cov/B-CL uas/B-CS mob/B-VV hauv/B-LC cov/B-CL hnyuv/B-NN yuav/B-AD muaj/B-VV cov/B-CL tsos/B-NN mob/I-VV zoo/B-VV li/B-PP mob/B-VV hnyuv/B-NN tws/B-VV :/O-PU yuav/B-AD hnov/B-VV mob/B-NN chob/B-VV nkuav/I-AD hauv/B-LC txoj/B-CL hnyuv/B-NN mus/B-VV rau/B-PP sab/B-CL plab/B-NN mog/I-VV sab/B-CL xis/B-NN ./O-PU Cov/B-CL cim/B-NN ,/O-PU cov/B-CL tsos/B-NN mob/I-VV thiab/I-CC qhov/B-CL tshwm/B-VV sim/I-VV los/B-VV ntawm/B-LC tus/B-CL mob/B-VV typhoid/B-FW thiab/B-CC tus/B-CL mob/B-NN paratyphoid/B-FW tsuas/B-AD sib/B-AD txawv/I-VV me/B-VV me/I-VV xwb/B-AD ./O-PU Tus/B-CL mob/B-NN typhoid/B-FW yog/B-VV tus/B-CL ib/B-QU txwm/I-CL ntseeg/B-VV tias/B-CS keev/B-VV muaj/B-VV ntau/B-VV dua/B-VV ,/O-PU mob/B-VV heev/B-VV tshaj/B-VV ,/O-PU thiab/B-CC hnyav/B-VV dua/B-VV tus/B-CL mob/B-NN paratyphoid/B-FW ./O-PU Kev/B-NN tshawb/B-VV pom/B-VV tsis/B-AD ntev/B-VV los/B-VV no/B-DT qhia/B-VV hais/B-VV tias/B-CS tus/B-CL mob/B-NN paratyphoid/B-FW (/O-PU tsuas/B-AD yog/B-VV tus/B-CL kab/B-NN mob/I-VV S/B-FW ./O-PU Paratyphi/B-FW A/B-FW )/O-PU yog/B-VV tus/B-CL ua/B-VV kom/B-CS nquag/B-VV muaj/B-VV tus/B-CL mob/B-NN enteric/B-FW nyob/B-VV rau/B-PP tej/B-QU thaj/B-CL chaw/B-NN ,/O-PU thiab/B-CC yeej/B-AD paub/B-VV tsis/B-AD tau/B-AD qhov/B-CL txawv/B-VV ntawm/B-LC ob/B-QU tug/I-CL mob/B-NN typhoid/B-FW thiab/B-CC paratyphoid/B-FW no/B-DT li/B-AD ./O-PU Yuav/B-AD sai/B-VV npaum/B-VV li/B-PP cas/I-NN tom/B-LC qab/B-NN kis/B-VV tau/B-VV lawm/B-AD tus/B-CL mob/B-NN mam/B-AD li/I-AD tshwm/B-VV ?/O-PU Yuav/B-AD hnov/B-VV mob/B-NN Paratyphoid/B-FW li/B-PP ntawm/B-LC 1/B-QU rau/B-PP 10/B-QU hnub/B-CL tom/B-LC qab/B-NN kis/B-VV tau/B-VV lawm/B-AD ./O-PU Lub/B-CL sij/B-NN hawm/I-NN tus/B-CL kab/B-NN mob/I-VV no/B-DT hlav/B-VV nyob/B-PP hauv/B-LC cov/B-CL me/B-NN nyuam/I-NN yaus/I-VV mas/B-CS sai/B-VV heev/B-VV ./O-PU Rau/B-PP ntawm/B-LC cov/B-CL laus/B-VV mas/B-CS tus/B-CL mob/B-NN no/B-DT yuav/B-AD maj/B-AD mam/I-AD hlav/B-VV tuaj/B-VV mus/B-VV ,/O-PU tiam/B-CC sis/I-CC rau/B-PP ntawm/B-LC cov/B-CL me/B-NN nyuam/I-NN yaus/I-VV ces/B-CC yuav/B-AD mob/B-VV sai/B-VV tam/B-CL siv/I-CL ./O-PU Yuav/B-AD sai/B-VV npaum/B-VV li/B-PP cas/I-NN cov/B-CL tsos/B-NN mob/I-VV mam/B-AD tshwm/B-VV sim/I-VV tom/B-LC qab/B-NN tau/B-VV tus/B-CL mob/B-NN no/B-DT ?/O-PU Cov/B-CL tsos/B-NN mob/I-VV ntawm/B-LC tus/B-CL mob/B-NN paratyphoid/B-FW mas/B-CS feem/B-CL ntau/B-QU tshwm/B-VV tuaj/B-VV li/B-PP 1/B-QU mus/B-VV rau/B-PP 10/B-QU hnub/B-CL tom/B-LC qab/B-NN tau/B-VV tus/B-CL mob/B-NN lawm/B-AD ./O-PU Rau/B-PP cov/B-CL me/B-NN nyuam/I-NN mas/B-CS tus/B-CL kab/B-NN mob/I-VV yuav/B-AD ncu/B-VV nyob/B-PP hauv/B-LC lub/B-CL cev/B-NN sai/B-VV dua/B-VV nov/B-DT ./O-PU Cov/B-CL tsos/B-NN mob/I-VV yuav/B-AD maj/B-AD mam/I-AD tswm/B-VV ib/B-QU qho/I-CL me/B-AD ntsis/I-AD tuaj/B-VV rau/B-PP cov/B-CL laus/B-VV ,/O-PU tab/B-CC sis/I-CC yuav/B-AD sai/B-VV heev/B-VV rau/B-PP cov/B-CL me/B-NN nyuam/I-NN ./O-PU Ib/B-QU tus/I-CL neeg/B-NN tau/B-VV tus/B-CL mob/B-NN no/B-DT yuav/B-AD ris/B-VV tus/B-CL mob/B-NN mus/B-VV ntev/B-VV npaum/B-VV cas/B-NN ?/O-PU Paub/B-VV tsawg/B-VV kawg/B-VV tias/B-CS tus/B-CL mob/B-NN no/B-DT yuav/B-AD ua/B-VV ib/B-QU tus/I-CL mob/B-NN zwm/B-VV rau/B-PP hauv/B-LC lub/B-CL cev/B-NN tas/B-VV mus/B-VV lub/B-CL neej/B-NN tom/B-LC qab/B-NN tau/B-VV tus/B-CL mob/B-NN lawm/B-AD ,/O-PU tiam/B-CC sis/I-CC zoo/B-VV li/B-PP cov/B-CL neeg/B-NN uas/B-CS tau/B-VV mob/B-NN S/B-FW ./O-PU Paratyphi/B-FW tsis/B-AD tshua/B-AD pom/B-VV muaj/B-VV tus/B-CL kab/B-NN mob/I-VV no/B-DT zwm/B-VV hauv/B-LC nws/B-PN lub/B-CL cev/B-NN npaum/B-VV li/B-PP cov/B-CL uas/B-CS tau/B-VV mob/B-NN S/B-FW ./O-PU Typhi/B-FW ./O-PU Puas/B-AD yuav/B-AD cais/B-VV los/B-CC yog/I-CC muab/B-PP cov/B-CL neeg/B-NN muaj/B-VV mob/B-NN no/B-DT tshem/B-VV tawm/B-VV ntawm/B-LC hauj/B-NN lwm/I-NN los/B-CC yog/I-CC tsev/B-NN kawm/B-VV ntawv/B-NN ?/O-PU Cov/B-CL neeg/B-NN uas/B-CS mob/B-VV paratyphoid/B-FW hnyav/B-VV heev/B-VV yuav/B-AD tsum/B-AD tau/B-AD muab/B-PP tshem/B-VV tawm/B-VV ntawm/B-LC cov/B-CL hauj/B-NN lwm/I-NN zov/B-VV me/B-NN nyuam/I-NN ,/O-PU tu/B-VV neeg/B-NN mob/B-VV ,/O-PU los/B-CC yog/I-CC ua/B-VV noj/I-VV ua/I-VV haus/I-VV mus/B-VV txog/B-VV rau/B-PP thaum/B-LC tso/B-VV quav/B-NN mus/B-VV kuaj/B-VV 3/B-QU zaug/B-CL es/B-CC tsis/B-AD muaj/B-NN dab/B-NN tsi/I-NN li/B-AD lawm/B-AD ,/O-PU uas/B-CS yog/B-VV 24/B-QU teev/B-CL sib/B-AD nrug/I-VV txhua/B-QU zaus/I-CL ,/O-PU thiab/B-CC tsawg/B-VV kawg/B-VV 48/B-QU teev/B-CL tom/B-LC qab/B-NN noj/B-VV tshuaj/B-NN tas/B-VV lawm/B-AD ,/O-PU thiab/B-CC yuav/B-AD tsum/B-AD tsis/B-AD txhob/B-AD luv/B-VV dua/B-VV ib/B-QU lub/B-CL hlis/I-NN tom/B-LC qab/B-NN tau/B-VV tus/B-CL mob/B-NN lawm/B-AD ./O-PU Yog/B-CS tau/B-AD sib/B-AD chwv/B-VV los/B-CC yog/I-CC nyob/B-VV ze/B-VV ua/B-AD ke/I-AD lawm/B-AD puas/B-AD yuav/B-AD tau/B-AD mus/B-VV kuaj/B-VV ?/O-PU Cov/B-CL nyob/B-VV ua/B-VV ib/B-QU tse/I-CL thiab/B-CC cov/B-CL muaj/B-VV kev/B-NN sib/B-AD cuag/I-VV thiab/B-CC sib/B-AD chwv/I-VV yuav/B-AD tsum/B-AD tsis/B-AD txhob/B-AD mus/B-VV ua/B-VV cov/B-CL hauj/B-NN lwm/I-NN xws/B-VV li/B-PP ua/B-VV zaub/B-NN mov/I-NN ,/O-PU zov/B-VV me/B-NN nyuam/I-NN ,/O-PU thiab/B-CC tu/B-VV neeg/B-NN mob/B-VV ,/O-PU yam/B-CL tsawg/B-VV kawg/B-VV tso/B-VV quav/B-NN mus/B-VV kuaj/B-VV 2/B-QU -/I-PU zaug/I-CL sib/B-AD laws/I-VV liag/I-AD ,/O-PU uas/B-CS yog/B-CS 24/B-QU -/I-PU teev/I-CL sib/B-AD nrug/I-VV es/B-CS tsis/B-AD muaj/B-VV dab/B-NN tsi/I-NN kiag/B-VV lawm/B-AD tso/B-VV Puas/B-AD yuav/B-AD kho/B-VV tau/B-VV tus/B-CL mob/B-NN paratyphoid/B-FW ?/O-PU Cov/B-CL neeg/B-NN tau/B-VV tus/B-CL mob/B-NN paratyphoid/B-FW yuav/B-AD tsum/B-AD mus/B-VV nrhiav/B-VV kev/B-NN kho/B-VV tam/B-CL sid/I-CL ./O-PU Cov/B-CL tshuaj/B-NN tua/B-VV kab/B-NN mob/I-VV yuav/B-AD kho/B-VV tau/B-VV tus/B-CL mob/B-NN paratyphoid/B-FW no/B-DT zoo/B-VV kawg/B-VV li/B-AD thiab/B-AD ./O-PU Muaj/B-VV ib/B-QU co/I-CL tshuaj/B-NN tawm/B-VV tshiab/B-VV uas/B-CS kho/B-VV tau/B-VV cov/B-CL neeg/B-NN muaj/B-VV tus/B-CL kab/B-NN mob/I-VV no/B-DT zoo/B-VV heev/B-VV ,/O-PU tiam/B-CC sis/I-CC yuav/B-AD tau/B-AD rov/B-VV nqa/B-VV quav/B-NN mus/B-VV kuaj/B-VV kom/B-CS paub/B-VV tseeb/B-VV tias/B-CS zoo/B-VV lawm/B-AD tiag/B-AD ./O-PU Yuav/B-AD tiv/B-VV thaiv/I-VV Ii/B-PP cas/I-NN kom/B-CS tsis/B-AD txhob/B-AD tau/B-VV tus/B-CL mob/B-NN typhoid/B-FW ?/O-PU Thaum/B-LC mus/B-VV ncig/B-VV rau/B-PP tej/B-QU qhov/B-CL chaw/B-NN uas/B-CS muaj/B-VV tus/B-CL mob/B-NN paratyphoid/B-FW ,/O-PU tsis/B-AD txhob/B-AD noj/B-VV tej/B-CL khoom/B-NN tsis/B-VV siav/B-VV los/B-CC yog/I-CC haus/B-VV cov/B-CL dej/B-NN tsis/B-AD ntim/B-VV hauv/B-LC hwj/B-NN ,/O-PU los/B-CC yog/I-CC haus/B-VV tej/B-CL dej/B-NN khov/B-VV (/O-PU ice/B-FW )/O-PU ./O-PU Yuav/B-AD tsum/B-AD nco/B-VV ntsoov/B-AD ntxuav/B-VV tes/B-NN kom/B-CS huv/B-VV ./O-PU\\n'"
      ]
     },
     "execution_count": 41,
     "metadata": {},
     "output_type": "execute_result"
    }
   ],
   "source": [
    "content['2']"
   ]
  },
  {
   "cell_type": "code",
   "execution_count": 51,
   "metadata": {},
   "outputs": [],
   "source": [
    "locs = ['3', '6', '7', '8']\n",
    "locs2 = ['4', '5', '9']"
   ]
  },
  {
   "cell_type": "code",
   "execution_count": 39,
   "metadata": {},
   "outputs": [],
   "source": [
    "names = []"
   ]
  },
  {
   "cell_type": "code",
   "execution_count": 52,
   "metadata": {},
   "outputs": [],
   "source": [
    "for item in locs2:\n",
    "    current = content[item].split(\")/O-PU\")\n",
    "    names.append(current[0] + \")\")"
   ]
  },
  {
   "cell_type": "code",
   "execution_count": 43,
   "metadata": {},
   "outputs": [],
   "source": [
    "names.append(current[0])"
   ]
  },
  {
   "cell_type": "code",
   "execution_count": 54,
   "metadata": {},
   "outputs": [],
   "source": [
    "current = content['10'].split(\" :/O-PU\")\n",
    "names.append(current[0])"
   ]
  },
  {
   "cell_type": "code",
   "execution_count": 49,
   "metadata": {},
   "outputs": [],
   "source": [
    "for i, item in enumerate(names):\n",
    "    names[i] = item.rstrip(' \\r')\n",
    "    names[i] = names[i].rstrip(' ')"
   ]
  },
  {
   "cell_type": "code",
   "execution_count": 55,
   "metadata": {},
   "outputs": [
    {
     "data": {
      "text/plain": [
       "['Tus/B-CL Mob/B-NN –/O-PU Shigellosis/B-FW',\n",
       " 'Mob/B-NN Paratyphoid/B-FW',\n",
       " 'Cov/B-CL Mob/B-NN Vancomycin/B-FW -/O-PU intermediate/B-FW \\\\//O-PU resistant/B-FW Staphylococcus/B-FW aureus/B-FW (/O-PU VISA/B-FW \\\\//O-PU VRSA/B-FW )/O-PU',\n",
       " 'Cov/B-CL kab/B-NN mob/I-VV Enteroviruses/B-FW thiab/B-CC Tus/B-CL kab/B-NN mob/I-VV Enterovirus/B-FW D68/B-FW',\n",
       " 'TUS/B-CL MOB/B-NN HANTAVIRUS/B-FW',\n",
       " 'Mob/B-NN ntsws/B-NN lawm/B-AD (/O-PU Active/B-FW TB/B-FW )/O-PU',\n",
       " 'Carbapenem/B-FW -/I-PU Resistant/I-FW Enterobacteriaceae/B-FW (/O-PU CRE/B-FW )',\n",
       " 'TUS/B-CL MOB/B-NN HNOOS/B-VV PERTUSSIS/B-FW (/O-PU HNOOS/B-VV HAWB/B-VV POB/I-VV )',\n",
       " 'TUS/B-CL MOB/B-NN ACUTE/B-FW FLACCID/B-FW MYELITIS/B-FW (/O-PU AFM/B-FW )',\n",
       " 'TUS/B-CL KAB/B-NN MOB/I-VV ZIKA/B-FW']"
      ]
     },
     "execution_count": 55,
     "metadata": {},
     "output_type": "execute_result"
    }
   ],
   "source": [
    "names"
   ]
  },
  {
   "cell_type": "code",
   "execution_count": 63,
   "metadata": {},
   "outputs": [],
   "source": [
    "current = content['11'].split('\\n')\n",
    "current[0]\n",
    "now = current[0].split('TXOG/B-PP ')[1]\n",
    "#current = current[0].split('TXOG/B-PP ')[1].strip(' CLASS/B-FW B1/B-FW //O-PU B2/B-FW TUBERCULOSIS/B-FW NOTIFICATION/B-FW')"
   ]
  },
  {
   "cell_type": "code",
   "execution_count": 64,
   "metadata": {},
   "outputs": [
    {
     "data": {
      "text/plain": [
       "'TUS/B-CL MOB/B-NN NTSWS/I-NN QHUAV/I-VV CLASS/B-FW B1/B-FW //O-PU B2/B-FW CLASS/B-FW B1/B-FW //O-PU B2/B-FW TUBERCULOSIS/B-FW NOTIFICATION/B-FW'"
      ]
     },
     "execution_count": 64,
     "metadata": {},
     "output_type": "execute_result"
    }
   ],
   "source": [
    "now"
   ]
  },
  {
   "cell_type": "code",
   "execution_count": 65,
   "metadata": {},
   "outputs": [
    {
     "data": {
      "text/plain": [
       "'TUS/B-CL MOB/B-NN NTSWS/I-NN QHUAV/I-VV'"
      ]
     },
     "execution_count": 65,
     "metadata": {},
     "output_type": "execute_result"
    }
   ],
   "source": [
    "now.rstrip(' CLASS/B-FW B1/B-FW //O-PU B2/B-FW TUBERCULOSIS/B-FW NOTIFICATION/B-FW')"
   ]
  },
  {
   "cell_type": "code",
   "execution_count": 72,
   "metadata": {},
   "outputs": [],
   "source": [
    "out = re.search(re.escape(' CLASS/B-FW B1/B-FW //O-PU B2/B-FW TUBERCULOSIS/B-FW NOTIFICATION/B-FW'), now)"
   ]
  },
  {
   "cell_type": "code",
   "execution_count": 74,
   "metadata": {},
   "outputs": [
    {
     "data": {
      "text/plain": [
       "<re.Match object; span=(73, 143), match=' CLASS/B-FW B1/B-FW //O-PU B2/B-FW TUBERCULOSIS/B>"
      ]
     },
     "execution_count": 74,
     "metadata": {},
     "output_type": "execute_result"
    }
   ],
   "source": [
    "out"
   ]
  },
  {
   "cell_type": "code",
   "execution_count": 78,
   "metadata": {},
   "outputs": [],
   "source": [
    "names.append(now[:out.span()[0]])"
   ]
  },
  {
   "cell_type": "code",
   "execution_count": 79,
   "metadata": {},
   "outputs": [
    {
     "data": {
      "text/plain": [
       "11"
      ]
     },
     "execution_count": 79,
     "metadata": {},
     "output_type": "execute_result"
    }
   ],
   "source": [
    "len(names)"
   ]
  },
  {
   "cell_type": "code",
   "execution_count": 6,
   "metadata": {},
   "outputs": [],
   "source": [
    "os.chdir(os.path.expanduser(os.path.join('~', 'python_workspace', 'medical_corpus_scripting', 'ner_assets')))"
   ]
  },
  {
   "cell_type": "code",
   "execution_count": 84,
   "metadata": {},
   "outputs": [
    {
     "name": "stdout",
     "output_type": "stream",
     "text": [
      "Cov Mob Vancomycin - intermediate / resistant Staphylococcus aureus ( VISA / VRSA )\n"
     ]
    }
   ],
   "source": [
    "raw = names[2].replace('\\\\/', '***')\n",
    "raw = ' '.join([w.split('/')[0] for w in raw.split(' ')])\n",
    "raw = raw.replace('***', '/')\n",
    "print(raw)"
   ]
  },
  {
   "cell_type": "code",
   "execution_count": 85,
   "metadata": {},
   "outputs": [],
   "source": [
    "f = open('disease_raw_new.txt', 'w')\n",
    "for item in names:\n",
    "    raw = item.replace('\\\\/', '***')\n",
    "    raw = ' '.join([w.split('/')[0] for w in raw.split(' ')])\n",
    "    raw = raw.replace('***', '/')\n",
    "    f.write(raw)\n",
    "    f.write('\\n')\n",
    "f.close()"
   ]
  },
  {
   "cell_type": "code",
   "execution_count": 2,
   "metadata": {},
   "outputs": [],
   "source": [
    "os.chdir(os.path.expanduser(os.path.join('~', 'hmong_medical', 'raw_processing')))"
   ]
  },
  {
   "cell_type": "code",
   "execution_count": 3,
   "metadata": {},
   "outputs": [],
   "source": [
    "f = open('p02094h.txt', 'r')\n",
    "data = f.readlines()\n",
    "f.close()"
   ]
  },
  {
   "cell_type": "code",
   "execution_count": 4,
   "metadata": {},
   "outputs": [
    {
     "name": "stdout",
     "output_type": "stream",
     "text": [
      "['ENTEROPATHOGENIC E . COLI ( EPEC )\\n', 'Escherichia coli ( E . coli ) yog cov kab mob uas pom muaj nyob ib ncig yus , hauv tej khoom noj , thiab hauv tej tsiaj thiab tib neeg cov hnyuv . Feem ntau ntawm cov kab mob E . coli kuj tsis ua rau yus mob thiab tseem yog ib feem tseem ceeb ntawm txoj kev zom zaub mov , tab sis muaj ib cov kuj ua rau koj mob tau . Enteropathogenic E . coli ( EPEC ) yog ib hom ntawm cov kab mob E . coli uas ua tau rau koj mob raws plab .\\n', 'Dab tsi ua rau tau tus mob no ? EPEC yuav kis rau hauv tej khoom noj los yog dej uas muaj quav nyob hauv . Quav yuav nkag tau rau hauv cov khoom noj los yog dej thaum neeg tsis ntxuav lawv ob txhais tes kom zoo tom qab siv chav dej , ces cia los mus npaj khoom noj los yog dej haus . Nws kuj tseem tshwm sim tau rau tej qoob loo yog hais tias muab cov dej uas muaj quav nyob hauv los ywg rau . EPEC tseem kis tau los ntawm qhov mus kov tau ib tus tsiaj los yog ib tus neeg uas muaj cov kab mob EPEC , los yog kov tau ib yam khoom uas muaj cov kab mob EPEC nyob ntawd ( piv txwv li , lub pob qhov rooj , tus kav dej , cov khoom me nyuam ua si ) .\\n', 'Dab tsi yog cov cim qhia tias yog tus mob thiab cov tsos mob ? Cov tsos mob ntawm tus mob no yuav tshwm sim rau yus pom sai li plaub xuaj moos tom qab kis tau tus mob EPEC , los yog yuav ntev txog 12 xuaj moos los yog ntev dua mam pom cov tsos mob tshwm . Muaj tej thaum neeg kuj muaj tus mob EPEC lawm tab sis tsis pom muaj cov tsos mob li . Yav dhau los , nws tsis muaj txoj kev kuaj tau tus mob EPEC no li , tab sis niaj hnub no cov chaw kuaj mob kuj siv quav los kuaj tau tus mob lawm thiab . * Raws plab ua kua dej nplaum ( tsis muaj ntshav ) * Cev qhuav dej ( dej tawm hauv lub cev mus ntau heev ) * Ua npaws kub ib ce * Ntuav\\n', 'Cov kev kho tus mob yog li cas ? Yuav tau muab dej rau cov neeg uas tau tus mob EPEC haus xwv kom lawv thiaj muaj dej txaus nyob hauv lub cev . Cov neeg feem ntau yuav rov zoo tuaj yog muaj kev siab xyuas tu tus mob kom zoo thiab tsis tas mus nrhiav lwm txoj kev kho .\\n', 'Yuav tiv thaiv li cas thiaj tsis kis tau tus mob ? Ntxuav koj ob txhais tes nrog xab npum thiab dej tom qab siv chav dej , tom qab hloov ntaub qhwv pob tw ( diapers ) , thiab ua ntej yuav noj ub noj no los yog npaj ua zaub mov noj txhawm rau kom tiv thaiv txhob muaj quav nkag tau mus rau hauv cov khoom noj thiaj dej haus . Cov neeg muaj tus mob EPEC uas ua hauj lwm hauv ib qhov chaw npaj zaub mov , tu neeg mob los yog zov me nyuam , los yog mus rau hauv ib qho chaw zov me nyuam yuav tau nyob twj ywm hauv tsev thaum lawv tseem muaj cov tsos mob thiab kom txog rau thaum lawv tsis mob raws plab ntev txog 24 xuaj moos .\\n', 'BUREAU OF COMMUNICABLE DISEASES https : //www . dhs . wisconsin . gov / dph / bcd . htm | DHSDPHBCD@dhs . wi . gov P-02094H ( 02 / 2018 )  Wisconsin Department of Health Services | Division of Public Health\\n']\n"
     ]
    }
   ],
   "source": [
    "print(data)"
   ]
  },
  {
   "cell_type": "code",
   "execution_count": 5,
   "metadata": {},
   "outputs": [
    {
     "name": "stdout",
     "output_type": "stream",
     "text": [
      "ENTEROPATHOGENIC E . COLI ( EPEC )\n"
     ]
    }
   ],
   "source": [
    "illness_name = data[0].strip()\n",
    "print(illness_name)"
   ]
  },
  {
   "cell_type": "code",
   "execution_count": 7,
   "metadata": {},
   "outputs": [],
   "source": [
    "g = open('bacterium_names.txt', 'a')\n",
    "g.write(illness_name)\n",
    "g.write('\\n')\n",
    "g.close()"
   ]
  },
  {
   "cell_type": "code",
   "execution_count": null,
   "metadata": {},
   "outputs": [],
   "source": []
  }
 ],
 "metadata": {
  "kernelspec": {
   "display_name": "Python 3",
   "language": "python",
   "name": "python3"
  },
  "language_info": {
   "codemirror_mode": {
    "name": "ipython",
    "version": 3
   },
   "file_extension": ".py",
   "mimetype": "text/x-python",
   "name": "python",
   "nbconvert_exporter": "python",
   "pygments_lexer": "ipython3",
   "version": "3.7.7"
  }
 },
 "nbformat": 4,
 "nbformat_minor": 2
}
