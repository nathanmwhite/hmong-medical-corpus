{
 "cells": [
  {
   "cell_type": "markdown",
   "metadata": {},
   "source": [
    "With a total training data set of 80 sentences, this approach tags everything with a single tag.\n",
    "As a result, a larger training set is necessary.\n",
    "With a total training data set of 800 sentences, this approach begins to tag with 2-4 different tags in each sentence, but overwhelmingly uses a single tag as with 80 sentences. This is likely the case because the training with 800 sentences was simply added to the model previously trained with the 80 sentences."
   ]
  },
  {
   "cell_type": "code",
   "execution_count": 2,
   "metadata": {},
   "outputs": [],
   "source": [
    "import os\n",
    "from keras.models import Sequential\n",
    "from keras.layers import Bidirectional, LSTM, Dense, InputLayer, Embedding, TimeDistributed, Activation\n",
    "from keras.preprocessing.sequence import pad_sequences\n",
    "from keras.optimizers import Adam\n",
    "import sqlite3\n",
    "from itertools import groupby\n",
    "import numpy as np\n",
    "from sklearn.model_selection import train_test_split\n",
    "from gensim.models import Word2Vec\n",
    "# need to redo this considering word breaks"
   ]
  },
  {
   "cell_type": "code",
   "execution_count": 3,
   "metadata": {},
   "outputs": [],
   "source": [
    "os.chdir(os.path.expanduser('~/python_workspace/medical_corpus_scripting/corpus/hminterface/static/hminterface'))"
   ]
  },
  {
   "cell_type": "code",
   "execution_count": 4,
   "metadata": {},
   "outputs": [],
   "source": [
    "conn = sqlite3.Connection('hmcorpus.db')"
   ]
  },
  {
   "cell_type": "code",
   "execution_count": 5,
   "metadata": {},
   "outputs": [],
   "source": [
    "crsr = conn.cursor()"
   ]
  },
  {
   "cell_type": "markdown",
   "metadata": {},
   "source": [
    "Retrieve POS tags from database."
   ]
  },
  {
   "cell_type": "code",
   "execution_count": 9,
   "metadata": {},
   "outputs": [],
   "source": [
    "# use if only pos tags are desired\n",
    "sql_query = \"\"\"SELECT ind, pos_label FROM pos;\"\"\"\n",
    "out = crsr.execute(sql_query).fetchall()"
   ]
  },
  {
   "cell_type": "code",
   "execution_count": 10,
   "metadata": {},
   "outputs": [],
   "source": [
    "tag2index = {t: i for i, t in out}\n",
    "tag2index['-PAD-'] = 0"
   ]
  },
  {
   "cell_type": "code",
   "execution_count": 6,
   "metadata": {},
   "outputs": [
    {
     "name": "stdout",
     "output_type": "stream",
     "text": [
      "dict_items([('B-CL', 1), ('B-NN', 2), ('O-PU', 3), ('B-FW', 4), ('B-VV', 5), ('B-PP', 6), ('I-NN', 7), ('B-QU', 8), ('I-CL', 9), ('B-LC', 10), ('I-VV', 11), ('B-AD', 12), ('B-DT', 13), ('B-CC', 14), ('I-CC', 15), ('B-CV', 16), ('I-AD', 17), ('B-RL', 18), ('B-CS', 19), ('B-PN', 20), ('I-CS', 21), ('I-FW', 22), ('B-NR', 23), ('I-NR', 24), ('I-PU', 25), ('B-PU', 26), ('B-CM', 27), ('B-ON', 28), ('I-QU', 29), ('I-PN', 30), ('B-JJ', 31), ('-PAD-', 0)])\n"
     ]
    }
   ],
   "source": [
    "# use if word_loc values are also desired\n",
    "sql_query = \"\"\"SELECT DISTINCT loc, pos_label FROM types\n",
    "JOIN word_loc ON word_loc.ind=types.word_loc\n",
    "JOIN pos ON pos.ind=types.pos_type;\"\"\"\n",
    "combinations = crsr.execute(sql_query).fetchall()\n",
    "combinations = ['-'.join(t) for t in combinations]\n",
    "\n",
    "tag2index = {t: i + 1 for i, t in enumerate(combinations)}\n",
    "tag2index['-PAD-'] = 0\n",
    "print(tag2index.items())"
   ]
  },
  {
   "cell_type": "markdown",
   "metadata": {},
   "source": [
    "Retrieve word tokens with tags as numerical codes."
   ]
  },
  {
   "cell_type": "code",
   "execution_count": 8,
   "metadata": {},
   "outputs": [],
   "source": [
    "# use if only pos tags are desired\n",
    "sql_query = \"\"\"SELECT doc_ind, sent_ind, token_form, pos_type FROM tokens\n",
    "JOIN types ON tokens.word_type_ind=types.ind;\"\"\"\n",
    "words = crsr.execute(sql_query).fetchall()\n",
    "sentences = []\n",
    "for k, g in groupby(words, lambda x: (x[0], x[1])):\n",
    "    sentences.append(list((w[2].lower(), w[3]) for w in g))"
   ]
  },
  {
   "cell_type": "code",
   "execution_count": 7,
   "metadata": {},
   "outputs": [
    {
     "name": "stdout",
     "output_type": "stream",
     "text": [
      "[[('tus', 1), ('mob', 2), ('–', 3), ('shigellosis', 4), ('disease', 4), ('fact', 4), ('sheet', 4), ('series', 4), ('tus', 1), ('mob', 2), ('shigellosis', 4), ('zoo', 5), ('li', 6), ('cas', 7), ('?', 3)], [('shigellosis', 4), ('yog', 5), ('ib', 8), ('tug', 9), ('mob', 2), ('los', 5), ('ntawm', 10), ('cov', 1), ('kab', 2), ('mob', 11), ('bacteria', 4), ('los', 5), ('.', 3)], [('muaj', 5), ('txog', 6), ('li', 6), ('300', 8), ('rau', 6), ('400', 8), ('leej', 1), ('neeg', 2), ('tau', 12), ('raug', 5), ('tus', 1), ('mob', 2), ('no', 13), ('txhua', 8), ('xyoo', 1), ('hauv', 10), ('lub', 1), ('xeev', 2), ('wisconsin', 4), ('.', 3)], [('feem', 1), ('ntau', 5), ('muaj', 5), ('tshwm', 5), ('sim', 11), ('rau', 6), ('lub', 1), ('caij', 2), ('ntuj', 7), ('sov', 11), ('thiab', 14), ('lub', 1), ('caij', 2), ('nplooj', 7), ('ntoo', 7), ('zeeg', 11), ('.', 3)], [('nyob', 5), ('nyob', 11), ('mam', 12), ('pom', 5), ('tej', 8), ('tus', 1), ('neeg', 2), ('raug', 5), (',', 3), ('los', 14), ('puas', 15), (',', 3), ('ib', 8), ('pab', 1), ('pawg', 9), ('neeg', 2), ('coob', 8), ('raug', 5), ('ua', 5), ('ib', 8), ('vuag', 16), ('ua', 12), ('ke', 17), ('kuj', 12), ('muaj', 5), ('.', 3)], [('leej', 1), ('twg', 18), ('thiaj', 12), ('li', 17), ('yuav', 12), ('kis', 5), ('tau', 5), ('tus', 1), ('mob', 2), ('shigellosis', 4), ('?', 3)], [('leej', 1), ('twg', 18), ('los', 19), ('yeej', 12), ('yuav', 12), ('raug', 5), ('tau', 5), ('tus', 1), ('mob', 2), ('shigellosis', 4), ('no', 13), (',', 3), ('tab', 14), ('sis', 15), (',', 3), ('feem', 1), ('ntau', 5), ('mas', 19), ('yog', 5), ('cov', 1), ('me', 2), ('nyuam', 7), ('yaus', 11), ('uas', 19), ('keev', 5), ('raug', 5), ('tus', 1), ('mob', 2), ('no', 13), ('.', 3)], [('cov', 1), ('neeg', 2), ('uas', 19), ('ntxim', 5), ('yuav', 12), ('raug', 5), ('tus', 1), ('mob', 2), ('no', 13), ('mas', 19), ('yog', 5), ('cov', 1), ('me', 2), ('nyuam', 7), ('mus', 5), ('nyob', 5), ('hauv', 10), ('cov', 1), ('tsev', 1), ('zov', 5), ('me', 2), ('nyuam', 7), (',', 3), ('cov', 1), ('neeg', 2), ('mus', 5), ('tsham', 5), ('tej', 8), ('cov', 1), ('teb', 2), ('chaws', 7), (',', 3), ('cov', 1), ('neeg', 2), ('nyob', 5), ('hauv', 10), ('cov', 1), ('tsev', 1), ('koom', 5), ('ua', 12), ('ke', 12), (',', 3), ('cov', 1), ('neeg', 2), ('sib', 12), ('deev', 11), ('(', 3), ('poj', 2), ('niam', 7), ('thiab', 14), ('poj', 2), ('niam', 7), (',', 3), ('los', 14), ('txiv', 2), ('neej', 7), ('thiab', 14), ('txiv', 2), ('neej', 7), (')', 3), ('.', 3)], [('tej', 1), ('tsiaj', 2), ('txhu', 7), ('mas', 19), ('yuav', 12), ('tsis', 12), ('kis', 5), ('tau', 5), ('tus', 1), ('kab', 2), ('mob', 11), ('no', 13), ('los', 14), ('yog', 15), ('muaj', 5), ('tus', 1), ('kab', 2), ('mob', 11), ('shigella', 4), ('no', 13), ('.', 3)], [('tus', 1), ('mob', 2), ('no', 13), ('ri', 5), ('li', 6), ('cas', 7), ('?', 3)]]\n"
     ]
    }
   ],
   "source": [
    "# use if word_loc values are also desired\n",
    "sql_query = \"\"\"SELECT doc_ind, sent_ind, token_form, loc, pos_label FROM tokens\n",
    "JOIN types ON tokens.word_type_ind=types.ind\n",
    "JOIN word_loc ON word_loc.ind=types.word_loc\n",
    "JOIN pos ON pos.ind=types.pos_type;\"\"\"\n",
    "words = crsr.execute(sql_query).fetchall()\n",
    "sentences = []\n",
    "for k, g in groupby(words, lambda x: (x[0], x[1])):\n",
    "    sentences.append(list((w[2].lower(), tag2index['-'.join(w[3:])]) for w in g))\n",
    "print(sentences[:10])"
   ]
  },
  {
   "cell_type": "code",
   "execution_count": 3,
   "metadata": {},
   "outputs": [],
   "source": [
    "# for testing with Brown corpus\n",
    "from nltk.corpus import brown\n",
    "sentences = brown.tagged_sents()[:10000]"
   ]
  },
  {
   "cell_type": "code",
   "execution_count": 8,
   "metadata": {},
   "outputs": [],
   "source": [
    "sentences_list = []\n",
    "tags_list = []\n",
    "for tagged_sentence in sentences:\n",
    "    sentence, tags = zip(*tagged_sentence)\n",
    "    sentences_list.append(sentence)\n",
    "    tags_list.append(tags)"
   ]
  },
  {
   "cell_type": "markdown",
   "metadata": {},
   "source": [
    "Split data into training and testing."
   ]
  },
  {
   "cell_type": "code",
   "execution_count": 9,
   "metadata": {},
   "outputs": [],
   "source": [
    "(train_sentences,\n",
    "test_sentences,\n",
    "train_tags,\n",
    "test_tags) = train_test_split(sentences_list, tags_list, test_size=0.2)"
   ]
  },
  {
   "cell_type": "code",
   "execution_count": 10,
   "metadata": {},
   "outputs": [],
   "source": [
    "words = set([])\n",
    "\n",
    "# change to for s in train_sentences for normal functionality\n",
    "for s in np.concatenate((train_sentences, test_sentences)):\n",
    "    for w in s:\n",
    "        words.add(w.lower())\n",
    "        \n",
    "word2index = {w: i + 2 for i, w in enumerate(list(words))}\n",
    "word2index['-PAD-'] = 0\n",
    "word2index['-OOV-'] = 1"
   ]
  },
  {
   "cell_type": "code",
   "execution_count": 11,
   "metadata": {},
   "outputs": [
    {
     "name": "stdout",
     "output_type": "stream",
     "text": [
      "dict_items([('diphtheria', 2), ('fab', 3), ('fact', 4), ('hluav', 5), ('nplooj', 6), ('prevention', 7), ('ces', 8), ('enteric', 9), ('tsim', 10), ('ris', 11), ('ntawd', 12), ('deer', 13), ('for', 14), ('9', 15), ('black', 16), ('txhab', 17), ('mantoux', 18), ('lawv', 19), ('fever', 20), ('ke', 21), ('sid', 22), ('xov', 23), ('nto', 24), ('minnesota', 25), ('up', 26), ('qaum', 27), ('canal', 28), ('cawv', 29), ('carbapenem', 30), ('paratyphoid', 31), ('sin', 32), ('lis', 33), ('deg', 34), ('kheev', 35), ('pleev', 36), ('nraim', 37), ('ntiv', 38), ('laws', 39), ('qho', 40), ('7', 41), ('txav', 42), ('mloog', 43), ('!', 44), ('caij', 45), ('d68', 46), ('“', 47), ('qiv', 48), ('resonance', 49), ('ntxov', 50), ('daj', 51), ('taws', 52), ('europe', 53), ('taig', 54), ('sputum', 55), ('poob', 56), ('doog', 57), ('po', 58), ('nraud', 59), ('ntau', 60), (';', 61), ('tij', 62), ('hnab', 63), ('qub', 64), ('haus', 65), ('hov', 66), ('tshuam', 67), ('anterior', 68), ('million', 69), ('kwv', 70), ('thuas', 71), ('nov', 72), ('endocarditis', 73), ('mouse', 74), ('nkaum', 75), ('huv', 76), ('txoj', 77), ('tiav', 78), ('puas', 79), ('kub', 80), ('tias', 81), ('staphylococcus', 82), ('encephalitis', 83), ('ntoj', 84), ('daus', 85), ('zeeg', 86), ('hlo', 87), ('txiaj', 88), ('tsis', 89), ('es', 90), ('norovirus', 91), ('cia', 92), ('ntxiv', 93), ('tsi', 94), ('mov', 95), ('typhoid', 96), ('tuav', 97), ('txhais', 98), ('kwm', 99), ('rice', 100), ('xiav', 101), ('aureus', 102), ('qhawv', 103), ('xaaj', 104), ('huab', 105), ('ltbi', 106), ('zam', 107), ('neej', 108), ('dua', 109), ('pab', 110), ('tiag', 111), ('test', 112), ('npab', 113), ('qees', 114), ('ncho', 115), ('tsham', 116), ('khuav', 117), ('guillain', 118), ('cai', 119), ('txawm', 120), ('pob', 121), ('yoov', 122), ('tshaj', 123), ('thiaj', 124), ('pib', 125), ('txov', 126), ('a', 127), ('teg', 128), ('cheeb', 129), ('st', 130), ('kas', 131), ('xws', 132), ('cerebrospinal', 133), ('corners', 134), ('yug', 135), ('kiag', 136), ('xyuam', 137), ('nawj', 138), ('rhiav', 139), ('ze', 140), ('embassy', 141), ('soj', 142), ('cotton', 143), ('loog', 144), ('tseg', 145), ('cev', 146), ('b2', 147), ('kom', 148), ('ntuav', 149), ('peb', 150), ('ce', 151), ('twb', 152), ('ruam', 153), ('shigella', 154), ('siab', 155), ('1962', 156), ('me', 157), ('dej', 158), ('chav', 159), ('meem', 160), ('hom', 161), ('consulate', 162), ('control', 163), ('cas', 164), ('khaub', 165), ('dhau', 166), ('hfrs', 167), ('di', 168), ('nruj', 169), ('nkees', 170), ('ntoo', 171), ('nwj', 172), ('zuj', 173), ('27', 174), ('khiav', 175), ('sib', 176), ('nrho', 177), ('2018', 178), ('creek', 179), ('hnov', 180), ('hmab', 181), ('plooj', 182), ('antibiotics', 183), ('maj', 184), ('yawg', 185), ('coj', 186), ('oxygen', 187), ('so', 188), ('txhua', 189), ('puag', 190), ('hais', 191), ('xoob', 192), ('ob', 193), ('hps', 194), ('ev-d68', 195), ('tsib', 196), ('tshwj', 197), ('cais', 198), ('siav', 199), ('pluas', 200), ('feeb', 201), ('new', 202), ('saib', 203), ('hnub', 204), ('carbapenems', 205), ('zos', 206), ('nombre', 207), ('caiv', 208), ('zaub', 209), ('looj', 210), ('cuag', 211), ('tuag', 212), ('piam', 213), ('npias', 214), ('haum', 215), ('hantaviruses', 216), ('rau', 217), ('3', 218), ('nkaus', 219), ('xyaw', 220), ('thaj', 221), ('b3', 222), ('hlwb', 223), ('rov', 224), ('tsam', 225), ('txwm', 226), ('tawb', 227), ('2', 228), ('txham', 229), ('ntsiab', 230), ('nyog', 231), ('mob', 232), (':', 233), ('twj', 234), ('txha', 235), ('hnoo', 236), ('qhov', 237), ('lig', 238), ('tib', 239), ('taw', 240), ('*', 241), ('rooj', 242), ('b1', 243), ('hnoos', 244), ('kis', 245), ('yooj', 246), ('kui', 247), ('culture', 248), ('hauj', 249), ('whooping', 250), ('cuam', 251), ('nrov', 252), ('kws', 253), ('lhd', 254), ('seb', 255), ('ncauj', 256), ('cem', 257), ('thoob', 258), ('thov', 259), ('alcohol', 260), ('ntawv', 261), ('hmo', 262), ('daim', 263), (',', 264), ('vog', 265), ('12', 266), ('ncaws', 267), ('chob', 268), ('tau', 269), ('xyoos', 270), ('tham', 271), ('kawg', 272), ('ntuj', 273), ('active', 274), ('ntsws', 275), ('txhaj', 276), ('division', 277), ('zom', 278), ('piv', 279), ('yog', 280), ('khauj', 281), ('chaw', 282), ('koj', 283), ('kawm', 284), ('west', 285), ('latent', 286), ('kev', 287), ('flaccid', 288), ('los', 289), ('nphav', 290), ('nyuaj', 291), ('npum', 292), ('hluas', 293), ('c', 294), ('tu', 295), ('yav', 296), ('kuaj', 297), ('koob', 298), ('tshiab', 299), ('tshuab', 300), ('yaus', 301), ('magnetic', 302), ('tso', 303), ('ne', 304), ('ncaug', 305), ('ywg', 306), ('tsos', 307), ('huam', 308), ('tswm', 309), ('loj', 310), ('ya', 311), ('koom', 312), ('emg', 313), ('hu', 314), ('to', 315), ('tests', 316), ('si', 317), ('tawm', 318), ('”', 319), ('hantavirus', 320), ('nqa', 321), ('tsuav', 322), ('fwv', 323), ('raug', 324), ('15', 325), ('tetanus', 326), ('ceg', 327), ('…', 328), ('law', 329), ('cim', 330), ('qhia', 331), ('paralysis', 332), ('ntseg', 333), ('bleach', 334), ('plhom', 335), ('lav', 336), ('tuberculosis', 337), ('300', 338), ('kua', 339), ('tes', 340), ('leej', 341), ('ceev', 342), ('nrug', 343), ('xeeb', 344), ('nkuav', 345), ('tiam', 346), ('mos', 347), ('zej', 348), ('–', 349), ('sov', 350), ('nas', 351), ('enterovirus', 352), ('av', 353), ('xa', 354), ('pej', 355), ('cytomegalovirus', 356), ('36', 357), ('tdap', 358), ('laus', 359), ('nqaj', 360), ('tshuaj', 361), ('cov', 362), ('nquag', 363), ('nruab', 364), ('hlob', 365), ('zawv', 366), ('typhi', 367), ('uahauj', 368), ('yas', 369), ('uas', 370), ('ntsim', 371), ('npaj', 372), ('roj', 373), ('cough', 374), ('skin', 375), ('8', 376), ('week', 377), ('tus', 378), ('txwv', 379), ('lim', 380), ('muag', 381), ('qaub', 382), ('hlab', 383), ('ncig', 384), ('hnav', 385), ('dub', 386), ('dab', 387), ('feem', 388), ('enterobacteriaceae', 389), ('nile', 390), ('thoj', 391), ('ntsha', 392), ('4', 393), ('tsiaj', 394), ('environment', 395), ('ii', 396), ('viv', 397), ('?', 398), ('louis', 399), ('ntswg', 400), ('tug', 401), ('choj', 402), ('nyob', 403), ('khawv', 404), ('mri', 405), ('of', 406), ('deev', 407), ('ntxim', 408), ('tab', 409), ('california', 410), ('ntxuav', 411), ('qab', 412), ('npaum', 413), ('10', 414), ('ntxiav', 415), ('p-01581h', 416), ('txais', 417), ('deb', 418), ('zaum', 419), ('nrog', 420), ('tej', 421), ('class', 422), ('dtap', 423), ('hws', 424), ('url', 425), ('khob', 426), ('ri', 427), ('lawm', 428), ('chiv', 429), ('24', 430), ('txhuv', 431), ('.', 432), ('seconds', 433), ('100', 434), ('csf', 435), ('khov', 436), ('khoom', 437), ('ntxhua', 438), ('sim', 439), ('qeev', 440), ('dawb', 441), ('fluid', 442), ('tam', 443), ('faj', 444), ('pw', 445), ('no', 446), ('electromyography', 447), ('hlis', 448), ('ntsoov', 449), ('follow', 450), ('tw', 451), ('tais', 452), ('chwv', 453), ('cre', 454), ('11', 455), ('acute', 456), ('white-footed', 457), ('nroog', 458), ('ntsib', 459), ('suab', 460), ('tseem', 461), ('noj', 462), ('yees', 463), ('xib', 464), ('resistant', 465), ('hawm', 466), ('yaum', 467), ('puv', 468), ('central', 469), ('vancomycin', 470), ('hli', 471), ('herpesviruses', 472), ('nrwg', 473), ('raws', 474), ('xub', 475), ('thaum', 476), ('tawv', 477), ('pertussis', 478), ('lwj', 479), ('minute', 480), ('ywm', 481), ('zika', 482), ('(', 483), ('barré', 484), ('zis', 485), ('txawj', 486), ('niam', 487), ('xwb', 488), ('txhu', 489), ('bayou', 490), ('38', 491), ('pulmonary', 492), ('pog', 493), ('vim', 494), ('ntseeg', 495), ('kheej', 496), ('30', 497), ('kov', 498), ('tag', 499), ('zaus', 500), ('japanese', 501), ('hau', 502), ('ntus', 503), ('mog', 504), ('nqus', 505), ('chaws', 506), ('thiab', 507), ('zov', 508), ('bacteria', 509), ('nkag', 510), ('pawg', 511), ('duab', 512), ('dot', 513), ('tshawb', 514), ('tuaj', 515), ('tb', 516), ('log', 517), ('yawm', 518), ('cum', 519), ('siv', 520), ('ev', 521), ('renal', 522), ('kiv', 523), ('thawj', 524), ('like', 525), ('ntev', 526), ('hwj', 527), ('taug', 528), ('xyoo', 529), ('o', 530), ('vam', 531), ('sab', 532), ('plaws', 533), ('plav', 534), ('1', 535), ('sia', 536), ('yam', 537), ('ncu', 538), ('tshua', 539), ('poj', 540), ('nco', 541), ('tsob', 542), ('txhob', 543), ('hand', 544), ('lej', 545), ('centers', 546), ('lwm', 547), ('sheet', 548), ('barr', 549), ('nws', 550), ('liag', 551), ('keeb', 552), ('hlav', 553), ('asthiv', 554), ('department', 555), ('paratyphi', 556), ('txaus', 557), ('tsab', 558), ('rat', 559), ('ntub', 560), ('heev', 561), ('ntxiag', 562), ('afm', 563), ('america', 564), ('npog', 565), ('ntaub', 566), ('ntej', 567), ('pheej', 568), ('myelitis', 569), ('ntsis', 570), ('npe', 571), ('s', 572), ('txheeb', 573), ('tswv', 574), ('teeb', 575), ('ntswj', 576), ('-', 577), ('enteroviruses', 578), ('nqaij', 579), ('tub', 580), ('tuab', 581), ('ntawm', 582), ('ua', 583), ('ntsuam', 584), ('meningitis', 585), ('\"', 586), ('ncua', 587), ('tsev', 588), ('ice', 589), ('lo', 590), ('npaws', 591), ('txiv', 592), ('tseeb', 593), ('mes', 594), ('ceeb', 595), ('polio', 596), ('twg', 597), ('puav', 598), ('qhuav', 599), ('nurse', 600), ('mas', 601), ('cau', 602), ('hnyav', 603), ('ntsej', 604), ('mus', 605), ('nqos', 606), ('yus', 607), ('pauv', 608), ('notification', 609), ('salmonella', 610), ('tom', 611), ('400', 612), ('sij', 613), ('phiaj', 614), ('txaj', 615), ('lij', 616), ('hauv', 617), ('visa', 618), ('ncaus', 619), ('x-ray', 620), ('qaug', 621), ('luam', 622), ('xeem', 623), ('tshem', 624), ('yeej', 625), ('khub', 626), ('20', 627), ('nrhiav', 628), ('xyuas', 629), ('xob', 630), ('48', 631), ('kab', 632), ('ncaj', 633), ('yim', 634), ('cag', 635), ('virus', 636), ('b', 637), ('shigellosis', 638), ('zoo', 639), ('nram', 640), ('thaiv', 641), ('weeks', 642), ('hemorrhagic', 643), ('diav', 644), ('epstein', 645), ('lub', 646), ('daws', 647), ('nyuag', 648), ('txhuam', 649), ('taub', 650), ('li', 651), ('khaum', 652), ('seeb', 653), ('tiv', 654), ('xis', 655), ('kho', 656), ('tsiv', 657), ('nkeeg', 658), ('tua', 659), ('nyeg', 660), ('tas', 661), ('co', 662), ('paj', 663), ('cheem', 664), ('keev', 665), ('with', 666), ('intermediate', 667), ('ntoos', 668), ('teev', 669), ('world', 670), ('public', 671), ('xoo', 672), ('old', 673), ('tsum', 674), ('paug', 675), ('yaug', 676), ('tuam', 677), ('syndrome', 678), ('kuv', 679), ('vuag', 680), ('zus', 681), ('adenoviruses', 682), ('p-42053', 683), ('num', 684), ('paub', 685), ('ib', 686), ('plab', 687), ('four', 688), ('maum', 689), ('tsuas', 690), ('wisconsin', 691), ('tob', 692), ('nug', 693), ('muaj', 694), ('and', 695), ('tswj', 696), ('nam', 697), ('/', 698), ('infection', 699), ('rwb', 700), ('cog', 701), ('ntws', 702), ('lus', 703), ('zwm', 704), (')', 705), ('qis', 706), ('6', 707), ('pov', 708), ('txog', 709), ('%', 710), ('neeg', 711), ('nyuam', 712), ('qij', 713), ('plawv', 714), ('vrsa', 715), ('nebulization', 716), ('pom', 717), ('sanitizers', 718), ('ntim', 719), ('asia', 720), ('ntsaws', 721), ('pub', 722), ('quav', 723), ('txawv', 724), ('ntshav', 725), ('imaging', 726), ('liab', 727), ('kauj', 728), ('aviviruses', 729), ('local', 730), ('bacteremia', 731), ('kuj', 732), ('cuab', 733), ('series', 734), ('ntshais', 735), ('leeg', 736), ('sis', 737), ('zog', 738), ('luv', 739), ('txias', 740), ('tshwm', 741), ('xab', 742), ('mam', 743), ('tsaug', 744), ('hloov', 745), ('teb', 746), ('plob', 747), ('nyoog', 748), ('fiab', 749), ('hnyuv', 750), ('cua', 751), ('tse', 752), ('phau', 753), ('taus', 754), ('yeeb', 755), ('tsuag', 756), ('xeev', 757), ('lom', 758), ('muab', 759), ('fai', 760), ('qee', 761), ('pua', 762), ('zaug', 763), ('disease', 764), ('sawv', 765), ('nrab', 766), ('africa', 767), ('txhuav', 768), ('kwj', 769), ('toom', 770), ('meej', 771), ('yuav', 772), ('cdc', 773), ('osteomyelitis', 774), ('meskas', 775), ('plaub', 776), ('epa', 777), ('health', 778), ('tws', 779), ('hawb', 780), ('xav', 781), ('pa', 782), ('sai', 783), ('u', 784), ('tsawg', 785), ('qhwv', 786), ('hiv', 787), ('ho', 788), ('coob', 789), ('americas', 790), ('txo', 791), ('-PAD-', 0), ('-OOV-', 1)])\n"
     ]
    }
   ],
   "source": [
    "print(word2index.items())"
   ]
  },
  {
   "cell_type": "code",
   "execution_count": 74,
   "metadata": {},
   "outputs": [
    {
     "ename": "AttributeError",
     "evalue": "'int' object has no attribute 'lower'",
     "output_type": "error",
     "traceback": [
      "\u001b[0;31m---------------------------------------------------------------------------\u001b[0m",
      "\u001b[0;31mAttributeError\u001b[0m                            Traceback (most recent call last)",
      "\u001b[0;32m<ipython-input-74-24358f962c29>\u001b[0m in \u001b[0;36m<module>\u001b[0;34m\u001b[0m\n\u001b[1;32m      4\u001b[0m \u001b[0;32mfor\u001b[0m \u001b[0ms\u001b[0m \u001b[0;32min\u001b[0m \u001b[0mtrain_tags\u001b[0m\u001b[0;34m:\u001b[0m\u001b[0;34m\u001b[0m\u001b[0;34m\u001b[0m\u001b[0m\n\u001b[1;32m      5\u001b[0m     \u001b[0;32mfor\u001b[0m \u001b[0mt\u001b[0m \u001b[0;32min\u001b[0m \u001b[0ms\u001b[0m\u001b[0;34m:\u001b[0m\u001b[0;34m\u001b[0m\u001b[0;34m\u001b[0m\u001b[0m\n\u001b[0;32m----> 6\u001b[0;31m         \u001b[0mtags\u001b[0m\u001b[0;34m.\u001b[0m\u001b[0madd\u001b[0m\u001b[0;34m(\u001b[0m\u001b[0mt\u001b[0m\u001b[0;34m.\u001b[0m\u001b[0mlower\u001b[0m\u001b[0;34m(\u001b[0m\u001b[0;34m)\u001b[0m\u001b[0;34m)\u001b[0m\u001b[0;34m\u001b[0m\u001b[0;34m\u001b[0m\u001b[0m\n\u001b[0m\u001b[1;32m      7\u001b[0m \u001b[0;34m\u001b[0m\u001b[0m\n\u001b[1;32m      8\u001b[0m \u001b[0mtag2index\u001b[0m \u001b[0;34m=\u001b[0m \u001b[0;34m{\u001b[0m\u001b[0mt\u001b[0m\u001b[0;34m:\u001b[0m \u001b[0mi\u001b[0m \u001b[0;34m+\u001b[0m \u001b[0;36m2\u001b[0m \u001b[0;32mfor\u001b[0m \u001b[0mi\u001b[0m\u001b[0;34m,\u001b[0m \u001b[0mt\u001b[0m \u001b[0;32min\u001b[0m \u001b[0menumerate\u001b[0m\u001b[0;34m(\u001b[0m\u001b[0mlist\u001b[0m\u001b[0;34m(\u001b[0m\u001b[0mtags\u001b[0m\u001b[0;34m)\u001b[0m\u001b[0;34m)\u001b[0m\u001b[0;34m}\u001b[0m\u001b[0;34m\u001b[0m\u001b[0;34m\u001b[0m\u001b[0m\n",
      "\u001b[0;31mAttributeError\u001b[0m: 'int' object has no attribute 'lower'"
     ]
    }
   ],
   "source": [
    "# for testing with Brown corpus\n",
    "tags = set([])\n",
    "\n",
    "for s in train_tags:\n",
    "    for t in s:\n",
    "        tags.add(t.lower())\n",
    "        \n",
    "tag2index = {t: i + 2 for i, t in enumerate(list(tags))}\n",
    "tag2index['-PAD-'] = 0\n",
    "tag2index['-OOV-'] = 1"
   ]
  },
  {
   "cell_type": "code",
   "execution_count": 12,
   "metadata": {},
   "outputs": [],
   "source": [
    "train_sentences_X, test_sentences_X, train_tags_y, test_tags_y = [], [], [], []\n",
    "for s in train_sentences:\n",
    "    s_int = []\n",
    "    for w in s:\n",
    "        try:\n",
    "            s_int.append(word2index[w.lower()])\n",
    "        except KeyError:\n",
    "            s_int.append(word2index['-OOV-'])\n",
    "    \n",
    "    train_sentences_X.append(s_int)\n",
    "    \n",
    "for s in test_sentences:\n",
    "    s_int = []\n",
    "    for w in s:\n",
    "        try:\n",
    "            s_int.append(word2index[w.lower()])\n",
    "        except KeyError:\n",
    "            s_int.append(word2index['-OOV-'])\n",
    "    \n",
    "    test_sentences_X.append(s_int)"
   ]
  },
  {
   "cell_type": "code",
   "execution_count": 13,
   "metadata": {},
   "outputs": [
    {
     "name": "stdout",
     "output_type": "stream",
     "text": [
      "[241, 56, 753]\n",
      "('*', 'poob', 'phau')\n"
     ]
    }
   ],
   "source": [
    "print(test_sentences_X[7])\n",
    "print(test_sentences[7])"
   ]
  },
  {
   "cell_type": "code",
   "execution_count": 9,
   "metadata": {},
   "outputs": [],
   "source": [
    "# for testing with Brown corpus\n",
    "for s in train_tags:\n",
    "    s_int = []\n",
    "    for t in s:\n",
    "        try:\n",
    "            s_int.append(tag2index[t.lower()])\n",
    "        except KeyError:\n",
    "            s_int.append(tag2index['-OOV-'])\n",
    "    train_tags_y.append(s_int)\n",
    "        \n",
    "for s in test_tags:\n",
    "    s_int = []\n",
    "    for t in s:\n",
    "        try:\n",
    "            s_int.append(tag2index[t.lower()])\n",
    "        except KeyError:\n",
    "            s_int.append(tag2index['-OOV-'])\n",
    "    test_tags_y.append(s_int)"
   ]
  },
  {
   "cell_type": "code",
   "execution_count": 14,
   "metadata": {},
   "outputs": [],
   "source": [
    "# variant for use with Hmong data\n",
    "for s in train_tags:\n",
    "    train_tags_y.append(s)\n",
    "    \n",
    "for s in test_tags:\n",
    "    test_tags_y.append(s)"
   ]
  },
  {
   "cell_type": "code",
   "execution_count": 15,
   "metadata": {},
   "outputs": [],
   "source": [
    "# change to len(max(train_sentences_X, key=len)) for normal functionality\n",
    "MAX_LENGTH = len(max(np.concatenate((train_sentences_X, test_sentences_X)), key=len))"
   ]
  },
  {
   "cell_type": "code",
   "execution_count": 16,
   "metadata": {},
   "outputs": [],
   "source": [
    "train_sentences_X = pad_sequences(train_sentences_X, maxlen=MAX_LENGTH, padding='post')\n",
    "test_sentences_X = pad_sequences(test_sentences_X, maxlen=MAX_LENGTH, padding='post')\n",
    "train_tags_y = pad_sequences(train_tags_y, maxlen=MAX_LENGTH, padding='post')\n",
    "test_tags_y = pad_sequences(test_tags_y, maxlen=MAX_LENGTH, padding='post')"
   ]
  },
  {
   "cell_type": "code",
   "execution_count": 14,
   "metadata": {},
   "outputs": [],
   "source": [
    "# bypass this and use pretrained model below\n",
    "embedding_model = Word2Vec(sentences_list, workers=10, min_count=1, iter=10, size=150)"
   ]
  },
  {
   "cell_type": "code",
   "execution_count": 17,
   "metadata": {},
   "outputs": [],
   "source": [
    "import pickle\n",
    "\n",
    "os.chdir(os.path.expanduser(os.path.join(os.path.join('~', 'python_workspace'), 'hmong_clf_graph')))\n",
    "\n",
    "f = open('word2vec_model_200.pkl', 'rb')\n",
    "word2vec_model = pickle.load(f)\n",
    "f.close()"
   ]
  },
  {
   "cell_type": "code",
   "execution_count": 18,
   "metadata": {},
   "outputs": [
    {
     "name": "stdout",
     "output_type": "stream",
     "text": [
      "323\n",
      "323\n"
     ]
    }
   ],
   "source": [
    "print(len(train_sentences_X))\n",
    "print(len(train_tags_y))\n",
    "#print(type(train_sentences_X))\n",
    "# use the below only if using full tagged data set to train, otherwise comment out\n",
    "sentences_X = np.concatenate((train_sentences_X, test_sentences_X), axis=0)\n",
    "tags_y = np.concatenate((train_tags_y, test_tags_y), axis=0)"
   ]
  },
  {
   "cell_type": "code",
   "execution_count": 19,
   "metadata": {},
   "outputs": [],
   "source": [
    "def to_categorical(sequences, categories):\n",
    "    cat_sequences = []\n",
    "    for s in sequences:\n",
    "        cats = []\n",
    "        for item in s:\n",
    "            cats.append(np.zeros(categories))\n",
    "            cats[-1][item] = 1.0\n",
    "        cat_sequences.append(cats)\n",
    "    return np.array(cat_sequences)"
   ]
  },
  {
   "cell_type": "code",
   "execution_count": 20,
   "metadata": {},
   "outputs": [],
   "source": [
    "# this is a test here--it's defined in the actual fit function later below\n",
    "cat_train_tags_y = to_categorical(train_tags_y, len(tag2index))"
   ]
  },
  {
   "cell_type": "code",
   "execution_count": 20,
   "metadata": {},
   "outputs": [
    {
     "name": "stdout",
     "output_type": "stream",
     "text": [
      "93\n"
     ]
    },
    {
     "ename": "NameError",
     "evalue": "name 'cat_train_tags_y' is not defined",
     "output_type": "error",
     "traceback": [
      "\u001b[0;31m---------------------------------------------------------------------------\u001b[0m",
      "\u001b[0;31mNameError\u001b[0m                                 Traceback (most recent call last)",
      "\u001b[0;32m<ipython-input-20-c7dc2cc35c21>\u001b[0m in \u001b[0;36m<module>\u001b[0;34m\u001b[0m\n\u001b[1;32m      1\u001b[0m \u001b[0mprint\u001b[0m\u001b[0;34m(\u001b[0m\u001b[0mlen\u001b[0m\u001b[0;34m(\u001b[0m\u001b[0mtrain_tags_y\u001b[0m\u001b[0;34m[\u001b[0m\u001b[0;36m0\u001b[0m\u001b[0;34m]\u001b[0m\u001b[0;34m)\u001b[0m\u001b[0;34m)\u001b[0m\u001b[0;34m\u001b[0m\u001b[0;34m\u001b[0m\u001b[0m\n\u001b[0;32m----> 2\u001b[0;31m \u001b[0mprint\u001b[0m\u001b[0;34m(\u001b[0m\u001b[0mcat_train_tags_y\u001b[0m\u001b[0;34m.\u001b[0m\u001b[0mshape\u001b[0m\u001b[0;34m)\u001b[0m\u001b[0;34m\u001b[0m\u001b[0;34m\u001b[0m\u001b[0m\n\u001b[0m\u001b[1;32m      3\u001b[0m \u001b[0mprint\u001b[0m\u001b[0;34m(\u001b[0m\u001b[0mtrain_sentences_X\u001b[0m\u001b[0;34m.\u001b[0m\u001b[0mshape\u001b[0m\u001b[0;34m)\u001b[0m\u001b[0;34m\u001b[0m\u001b[0;34m\u001b[0m\u001b[0m\n",
      "\u001b[0;31mNameError\u001b[0m: name 'cat_train_tags_y' is not defined"
     ]
    }
   ],
   "source": [
    "print(len(train_tags_y[0]))\n",
    "print(cat_train_tags_y.shape)\n",
    "print(train_sentences_X.shape)"
   ]
  },
  {
   "cell_type": "code",
   "execution_count": 72,
   "metadata": {},
   "outputs": [],
   "source": [
    "# this is deprecated\n",
    "from keras import backend as K\n",
    "\n",
    "def ignore_class_accuracy(to_ignore=0):\n",
    "    def ignore_accuracy(y_true, y_pred):\n",
    "        y_true_class = K.argmax(y_true, axis=-1)\n",
    "        y_pred_class = K.argmax(y_true, axis=-1)\n",
    "        \n",
    "        ignore_mask = K.cast(K.not_equal(y_pred_class, to_ignore), 'int32')\n",
    "        matches = K.cast(K.equal(y_true_class, y_pred_class), 'int32')\n",
    "        accuracy = K.sum(matches) / K.maximum(K.sum(ignore_mask), 1)\n",
    "        return accuracy\n",
    "    return ignore_accuracy"
   ]
  },
  {
   "cell_type": "code",
   "execution_count": 21,
   "metadata": {},
   "outputs": [
    {
     "name": "stdout",
     "output_type": "stream",
     "text": [
      "diphtheria\n",
      "enteric\n",
      "mantoux\n",
      "fever\n",
      "canal\n",
      "carbapenem\n",
      "paratyphoid\n",
      "d68\n",
      "resonance\n",
      "anterior\n",
      "endocarditis\n",
      "staphylococcus\n",
      "encephalitis\n",
      "norovirus\n",
      "typhoid\n",
      "aureus\n",
      "ltbi\n",
      "guillain\n",
      "cerebrospinal\n",
      "cotton\n",
      "b2\n",
      "shigella\n",
      "consulate\n",
      "hfrs\n",
      "creek\n",
      "antibiotics\n",
      "hps\n",
      "ev-d68\n",
      "carbapenems\n",
      "nombre\n",
      "hantaviruses\n",
      "b3\n",
      "b1\n",
      "kui\n",
      "whooping\n",
      "lhd\n",
      "latent\n",
      "flaccid\n",
      "magnetic\n",
      "emg\n",
      "hantavirus\n",
      "tetanus\n",
      "paralysis\n",
      "bleach\n",
      "tuberculosis\n",
      "enterovirus\n",
      "cytomegalovirus\n",
      "tdap\n",
      "typhi\n",
      "uahauj\n",
      "cough\n",
      "enterobacteriaceae\n",
      "nile\n",
      "louis\n",
      "mri\n",
      "p-01581h\n",
      "dtap\n",
      "csf\n",
      "fluid\n",
      "electromyography\n",
      "cre\n",
      "acute\n",
      "white-footed\n",
      "vancomycin\n",
      "herpesviruses\n",
      "pertussis\n",
      "zika\n",
      "barré\n",
      "bayou\n",
      "pulmonary\n",
      "renal\n",
      "barr\n",
      "paratyphi\n",
      "afm\n",
      "myelitis\n",
      "enteroviruses\n",
      "meningitis\n",
      "polio\n",
      "notification\n",
      "salmonella\n",
      "x-ray\n",
      "shigellosis\n",
      "hemorrhagic\n",
      "epstein\n",
      "intermediate\n",
      "adenoviruses\n",
      "p-42053\n",
      "vrsa\n",
      "nebulization\n",
      "sanitizers\n",
      "imaging\n",
      "aviviruses\n",
      "bacteremia\n",
      "cdc\n",
      "osteomyelitis\n",
      "epa\n",
      "-PAD-\n",
      "-OOV-\n"
     ]
    }
   ],
   "source": [
    "embedding_matrix = np.zeros((len(words) + 2, 150))\n",
    "for word, i in word2index.items():\n",
    "#    print((word, i))\n",
    "    try:\n",
    "        embedding_vector = word2vec_model.wv[word]\n",
    "    except KeyError as e:\n",
    "        print(word)\n",
    "        embedding_vector = None\n",
    "    if embedding_vector is not None:\n",
    "        embedding_matrix[i] = embedding_vector"
   ]
  },
  {
   "cell_type": "code",
   "execution_count": 22,
   "metadata": {},
   "outputs": [
    {
     "data": {
      "text/plain": [
       "array([ 0.19163309,  1.69376302,  2.43857241, -1.11453319,  3.79453993,\n",
       "        4.17252731, -4.68219948,  0.24869762, -6.35372829,  0.31694755,\n",
       "       -3.84430099, -0.58682597, -0.88593048,  1.53493583,  2.30677724,\n",
       "        2.23658633,  2.18042707, -0.74518204,  1.31319201, -3.8562367 ,\n",
       "       -2.16786218,  0.03127109,  0.40597317,  1.38343799,  4.27873802,\n",
       "       -3.99632454, -3.51169419,  1.30540907, -3.70225096,  1.31717014,\n",
       "        3.1416502 ,  0.03988991, -0.38707864,  1.74478793, -1.42444181,\n",
       "       -0.32321543,  3.3821702 , -2.2735436 ,  7.42937231, -1.28889155,\n",
       "       -4.36491013, -2.23137355, -7.0328064 ,  0.05411424, -0.6318019 ,\n",
       "       -1.25639653, -2.14141345,  0.24938402,  0.51534641, -1.93796432,\n",
       "        0.74748939,  1.69639874,  1.69339097,  0.56605494, -0.8465029 ,\n",
       "        1.59473193, -0.56365103, -1.4284215 ,  1.25055254,  2.94551611,\n",
       "       -2.44235277, -3.05936575, -4.40176249, -1.89741099,  0.98016882,\n",
       "       -5.13533545, -3.93402863,  2.18700981,  1.6169908 ,  2.19955039,\n",
       "       -3.17532754, -0.3628132 , -0.5421316 , -2.69820189, -4.13981438,\n",
       "        0.50071216,  2.03642917, -2.92208195,  2.52911592,  2.58533168,\n",
       "       -2.14531922, -1.16293657,  0.76842743,  2.95777941, -2.24704099,\n",
       "       -6.21604586, -2.62901855, -3.48763943,  2.05350161,  1.48453712,\n",
       "       -4.15126896,  0.1093763 ,  0.17867956,  0.88592309,  0.70498812,\n",
       "        0.06440203,  3.57158566, -0.11515446, -2.7621479 , -0.38587359,\n",
       "       -3.6633091 ,  6.69042253,  5.20287609, -1.80777299,  0.09455872,\n",
       "        1.48734784, -1.50872386, -2.0454793 , -1.95533252, -3.7162714 ,\n",
       "        5.92202139, -0.50349844,  3.8809762 , -2.43014622, -0.7911396 ,\n",
       "       -3.1580348 ,  1.81586123,  0.43704885, -1.9662739 , -1.08726335,\n",
       "        0.13695227,  3.37906599,  2.02866983, -3.9289701 , -6.6882987 ,\n",
       "       -1.40916157,  3.81350875, -1.50203013,  2.37209082,  4.86865807,\n",
       "        0.65055221,  1.87799847,  4.49344206,  0.34537339, -0.19295461,\n",
       "       -1.66531801,  0.2334861 ,  3.42500091,  2.26867366, -6.0226531 ,\n",
       "        1.20267081,  2.45041871, -5.93182421, -1.26163626, -9.489501  ,\n",
       "       -5.95098305, -2.82265043,  3.77481437, -3.41802144, -0.02457977])"
      ]
     },
     "execution_count": 22,
     "metadata": {},
     "output_type": "execute_result"
    }
   ],
   "source": [
    "embedding_matrix[632]"
   ]
  },
  {
   "cell_type": "code",
   "execution_count": 23,
   "metadata": {},
   "outputs": [
    {
     "name": "stdout",
     "output_type": "stream",
     "text": [
      "WARNING:tensorflow:From /home/nathan/anaconda3/lib/python3.7/site-packages/tensorflow/python/framework/op_def_library.py:263: colocate_with (from tensorflow.python.framework.ops) is deprecated and will be removed in a future version.\n",
      "Instructions for updating:\n",
      "Colocations handled automatically by placer.\n",
      "_________________________________________________________________\n",
      "Layer (type)                 Output Shape              Param #   \n",
      "=================================================================\n",
      "embedding_1 (Embedding)      (None, 93, 150)           118800    \n",
      "_________________________________________________________________\n",
      "bidirectional_1 (Bidirection (None, 93, 512)           833536    \n",
      "_________________________________________________________________\n",
      "time_distributed_1 (TimeDist (None, 93, 32)            16416     \n",
      "_________________________________________________________________\n",
      "activation_1 (Activation)    (None, 93, 32)            0         \n",
      "=================================================================\n",
      "Total params: 968,752\n",
      "Trainable params: 849,952\n",
      "Non-trainable params: 118,800\n",
      "_________________________________________________________________\n"
     ]
    }
   ],
   "source": [
    "model = Sequential()\n",
    "model.add(InputLayer(input_shape=(MAX_LENGTH, )))\n",
    "model.add(Embedding(len(word2index), 150, weights=[embedding_matrix], trainable=False))\n",
    "model.add(Bidirectional(LSTM(256, return_sequences=True)))\n",
    "model.add(TimeDistributed(Dense(len(tag2index))))\n",
    "model.add(Activation('softmax'))\n",
    "\n",
    "model.compile(loss='categorical_crossentropy', optimizer=Adam(0.001), metrics=['accuracy'])\n",
    "\n",
    "model.summary()"
   ]
  },
  {
   "cell_type": "code",
   "execution_count": 24,
   "metadata": {},
   "outputs": [
    {
     "name": "stdout",
     "output_type": "stream",
     "text": [
      "WARNING:tensorflow:From /home/nathan/anaconda3/lib/python3.7/site-packages/tensorflow/python/ops/math_ops.py:3066: to_int32 (from tensorflow.python.ops.math_ops) is deprecated and will be removed in a future version.\n",
      "Instructions for updating:\n",
      "Use tf.cast instead.\n",
      "WARNING:tensorflow:From /home/nathan/anaconda3/lib/python3.7/site-packages/tensorflow/python/ops/math_grad.py:102: div (from tensorflow.python.ops.math_ops) is deprecated and will be removed in a future version.\n",
      "Instructions for updating:\n",
      "Deprecated in favor of operator or tf.math.divide.\n",
      "Epoch 1/50\n",
      "404/404 [==============================] - 10s 26ms/step - loss: 1.0518 - acc: 0.8627\n",
      "Epoch 2/50\n",
      "404/404 [==============================] - 9s 23ms/step - loss: 0.1341 - acc: 0.9667\n",
      "Epoch 3/50\n",
      "404/404 [==============================] - 9s 23ms/step - loss: 0.0843 - acc: 0.9803\n",
      "Epoch 4/50\n",
      "404/404 [==============================] - 9s 23ms/step - loss: 0.0530 - acc: 0.9874\n",
      "Epoch 5/50\n",
      "404/404 [==============================] - 9s 23ms/step - loss: 0.0405 - acc: 0.9917\n",
      "Epoch 6/50\n",
      "404/404 [==============================] - 9s 23ms/step - loss: 0.0281 - acc: 0.9940\n",
      "Epoch 7/50\n",
      "404/404 [==============================] - 9s 23ms/step - loss: 0.0202 - acc: 0.9963\n",
      "Epoch 8/50\n",
      "404/404 [==============================] - 9s 23ms/step - loss: 0.0152 - acc: 0.9975\n",
      "Epoch 9/50\n",
      "404/404 [==============================] - 9s 23ms/step - loss: 0.0116 - acc: 0.9985\n",
      "Epoch 10/50\n",
      "404/404 [==============================] - 9s 23ms/step - loss: 0.0089 - acc: 0.9989\n",
      "Epoch 11/50\n",
      "404/404 [==============================] - 9s 23ms/step - loss: 0.0070 - acc: 0.9991\n",
      "Epoch 12/50\n",
      "404/404 [==============================] - 9s 23ms/step - loss: 0.0058 - acc: 0.9994\n",
      "Epoch 13/50\n",
      "404/404 [==============================] - 9s 23ms/step - loss: 0.0053 - acc: 0.9994\n",
      "Epoch 14/50\n",
      "404/404 [==============================] - 9s 23ms/step - loss: 0.0041 - acc: 0.9997\n",
      "Epoch 15/50\n",
      "404/404 [==============================] - 9s 23ms/step - loss: 0.0035 - acc: 0.9997\n",
      "Epoch 16/50\n",
      "404/404 [==============================] - 9s 23ms/step - loss: 0.0031 - acc: 0.9997\n",
      "Epoch 17/50\n",
      "404/404 [==============================] - 9s 23ms/step - loss: 0.0027 - acc: 0.9998\n",
      "Epoch 18/50\n",
      "404/404 [==============================] - 9s 23ms/step - loss: 0.0025 - acc: 0.9998\n",
      "Epoch 19/50\n",
      "404/404 [==============================] - 9s 23ms/step - loss: 0.0023 - acc: 0.9998\n",
      "Epoch 20/50\n",
      "404/404 [==============================] - 9s 23ms/step - loss: 0.0021 - acc: 0.9999\n",
      "Epoch 21/50\n",
      "404/404 [==============================] - 9s 23ms/step - loss: 0.0017 - acc: 0.9998\n",
      "Epoch 22/50\n",
      "404/404 [==============================] - 9s 23ms/step - loss: 0.0017 - acc: 0.9998\n",
      "Epoch 23/50\n",
      "404/404 [==============================] - 9s 23ms/step - loss: 0.0015 - acc: 0.9998\n",
      "Epoch 24/50\n",
      "404/404 [==============================] - 9s 23ms/step - loss: 0.0014 - acc: 0.9998\n",
      "Epoch 25/50\n",
      "404/404 [==============================] - 9s 23ms/step - loss: 0.0013 - acc: 0.9998\n",
      "Epoch 26/50\n",
      "404/404 [==============================] - 9s 23ms/step - loss: 0.0012 - acc: 0.9999\n",
      "Epoch 27/50\n",
      "404/404 [==============================] - 9s 23ms/step - loss: 0.0012 - acc: 0.9998\n",
      "Epoch 28/50\n",
      "404/404 [==============================] - 9s 23ms/step - loss: 0.0011 - acc: 0.9999\n",
      "Epoch 29/50\n",
      "404/404 [==============================] - 9s 23ms/step - loss: 0.0010 - acc: 0.9998\n",
      "Epoch 30/50\n",
      "404/404 [==============================] - 9s 23ms/step - loss: 9.3744e-04 - acc: 0.9998\n",
      "Epoch 31/50\n",
      "404/404 [==============================] - 9s 23ms/step - loss: 8.9049e-04 - acc: 0.9999\n",
      "Epoch 32/50\n",
      "404/404 [==============================] - 9s 23ms/step - loss: 9.0407e-04 - acc: 0.9998\n",
      "Epoch 33/50\n",
      "404/404 [==============================] - 10s 24ms/step - loss: 8.9879e-04 - acc: 0.9999\n",
      "Epoch 34/50\n",
      "404/404 [==============================] - 9s 23ms/step - loss: 7.8909e-04 - acc: 0.9999\n",
      "Epoch 35/50\n",
      "404/404 [==============================] - 9s 23ms/step - loss: 7.8502e-04 - acc: 0.9999\n",
      "Epoch 36/50\n",
      "404/404 [==============================] - 9s 23ms/step - loss: 7.6399e-04 - acc: 0.9999\n",
      "Epoch 37/50\n",
      "404/404 [==============================] - 9s 23ms/step - loss: 6.9551e-04 - acc: 0.9999\n",
      "Epoch 38/50\n",
      "404/404 [==============================] - 9s 23ms/step - loss: 6.9453e-04 - acc: 0.9999\n",
      "Epoch 39/50\n",
      "404/404 [==============================] - 9s 23ms/step - loss: 6.7156e-04 - acc: 0.9999\n",
      "Epoch 40/50\n",
      "404/404 [==============================] - 9s 23ms/step - loss: 5.8573e-04 - acc: 0.9999\n",
      "Epoch 41/50\n",
      "404/404 [==============================] - 9s 23ms/step - loss: 6.4171e-04 - acc: 0.9998\n",
      "Epoch 42/50\n",
      "404/404 [==============================] - 9s 23ms/step - loss: 6.4322e-04 - acc: 0.9999\n",
      "Epoch 43/50\n",
      "404/404 [==============================] - 10s 25ms/step - loss: 9.5289e-04 - acc: 0.9998\n",
      "Epoch 44/50\n",
      "404/404 [==============================] - 10s 24ms/step - loss: 6.3541e-04 - acc: 0.9998\n",
      "Epoch 45/50\n",
      "404/404 [==============================] - 9s 23ms/step - loss: 5.2953e-04 - acc: 0.9999\n",
      "Epoch 46/50\n",
      "404/404 [==============================] - 9s 23ms/step - loss: 4.8589e-04 - acc: 0.9999\n",
      "Epoch 47/50\n",
      "404/404 [==============================] - 9s 23ms/step - loss: 4.9599e-04 - acc: 0.9999\n",
      "Epoch 48/50\n",
      "404/404 [==============================] - 9s 23ms/step - loss: 4.3859e-04 - acc: 0.9999\n",
      "Epoch 49/50\n",
      "404/404 [==============================] - 9s 23ms/step - loss: 4.1974e-04 - acc: 0.9999\n",
      "Epoch 50/50\n",
      "404/404 [==============================] - 9s 23ms/step - loss: 4.2759e-04 - acc: 0.9999\n"
     ]
    },
    {
     "data": {
      "text/plain": [
       "<keras.callbacks.History at 0x7efd32767630>"
      ]
     },
     "execution_count": 24,
     "metadata": {},
     "output_type": "execute_result"
    }
   ],
   "source": [
    "# change sentences_X to train_sentences_X and tags_y to train_tags_y for normal functionality;\n",
    "# also validation_split=0.2\n",
    "model.fit(sentences_X, to_categorical(tags_y, len(tag2index)), batch_size=16, epochs=50, validation_split=0)"
   ]
  },
  {
   "cell_type": "code",
   "execution_count": 28,
   "metadata": {},
   "outputs": [],
   "source": [
    "os.chdir(os.path.expanduser(os.path.join('~', 'python_workspace', 'medical_corpus_scripting',\\\n",
    "                                        'pos_tagger_interface')))\n",
    "\n",
    "model.save(\"pos_tagging_model_expanded.h5\")"
   ]
  },
  {
   "cell_type": "code",
   "execution_count": 27,
   "metadata": {},
   "outputs": [],
   "source": [
    "os.chdir(os.path.expanduser(os.path.join('~', 'python_workspace', 'medical_corpus_scripting',\\\n",
    "                                        'pos_tagger_interface')))\n",
    "\n",
    "with open('bio-pos.txt', 'w') as f:\n",
    "    for item in tag2index.items():\n",
    "        f.write(item[0] + '\\t' + str(item[1]) + '\\n')\n",
    "\n",
    "with open('word_indices.txt', 'w') as f:\n",
    "    for item in word2index.items():\n",
    "        f.write(item[0] + '\\t' + str(item[1]) + '\\n')"
   ]
  },
  {
   "cell_type": "code",
   "execution_count": 2,
   "metadata": {},
   "outputs": [
    {
     "name": "stdout",
     "output_type": "stream",
     "text": [
      "WARNING:tensorflow:From /home/nathan/anaconda3/lib/python3.7/site-packages/tensorflow/python/framework/op_def_library.py:263: colocate_with (from tensorflow.python.framework.ops) is deprecated and will be removed in a future version.\n",
      "Instructions for updating:\n",
      "Colocations handled automatically by placer.\n",
      "WARNING:tensorflow:From /home/nathan/anaconda3/lib/python3.7/site-packages/tensorflow/python/ops/math_ops.py:3066: to_int32 (from tensorflow.python.ops.math_ops) is deprecated and will be removed in a future version.\n",
      "Instructions for updating:\n",
      "Use tf.cast instead.\n",
      "WARNING:tensorflow:From /home/nathan/anaconda3/lib/python3.7/site-packages/tensorflow/python/ops/math_grad.py:102: div (from tensorflow.python.ops.math_ops) is deprecated and will be removed in a future version.\n",
      "Instructions for updating:\n",
      "Deprecated in favor of operator or tf.math.divide.\n"
     ]
    }
   ],
   "source": [
    "from keras.models import load_model\n",
    "\n",
    "os.chdir(os.path.expanduser(os.path.join(os.path.join('~', 'python_workspace'), 'medical_corpus_scripting')))\n",
    "\n",
    "new_model = load_model(\"pos_tagging_model.h5\")"
   ]
  },
  {
   "cell_type": "code",
   "execution_count": 44,
   "metadata": {},
   "outputs": [
    {
     "name": "stdout",
     "output_type": "stream",
     "text": [
      "75/75 [==============================] - 1s 8ms/step\n",
      "acc: 100.0\n"
     ]
    }
   ],
   "source": [
    "scores = model.evaluate(test_sentences_X, to_categorical(test_tags_y, len(tag2index)))\n",
    "print(f\"{model.metrics_names[1]}: {scores[1] * 100}\")"
   ]
  },
  {
   "cell_type": "code",
   "execution_count": 22,
   "metadata": {},
   "outputs": [],
   "source": [
    "test_samples = [\n",
    "    \"tus mob no yuav kis tau .\".split(),\n",
    "    \"nws mob plab tab sis lawv mob Shigellosis .\".split()\n",
    "]"
   ]
  },
  {
   "cell_type": "code",
   "execution_count": 59,
   "metadata": {},
   "outputs": [
    {
     "name": "stdout",
     "output_type": "stream",
     "text": [
      "[['TUS', 'MOB', 'ENTEROTOXIGENIC', 'E', '.'], ['COLI', '(', 'ETEC', ')', 'Escherichia', 'coli', '(', 'E', '.'], ['coli', ')', 'yog', 'cov', 'kab', 'mob', 'uas', 'pom', 'muaj', 'rau', 'ntawm', 'tej', 'chaw', 'nyob', 'ib', 'ncig', 'yus', ',', 'hauv', 'tej', 'khoom', 'noj', ',', 'thiab', 'hauv', 'cov', 'hnyuv', 'ntawm', 'tej', 'tsiaj', 'txhu', 'thiab', 'tib', 'neeg', '.'], ['Hom', 'mob', 'E', '.'], ['coli', 'feem', 'ntau', 'yeej', 'tsis', 'ua', 'teeb', 'meem', 'dab', 'tsi', 'thiab', 'kuj', 'yog', 'ib', 'feem', 'tseem', 'ceeb', 'ntawm', 'txoj', 'kev', 'zom', 'zaub', 'mov', ',', 'tab', 'sis', 'muaj', 'ib', 'txhia', 'kuj', 'ua', 'rau', 'koj', 'mob', '.'], ['Enterotoxigenic', 'E', '.'], ['coli', '(', 'ETEC', ')', 'yog', 'ib', 'hom', 'ntawm', 'cov', 'kab', 'mob', 'E', '.'], ['coli', 'uas', 'ua', 'tau', 'rau', 'koj', 'raws', 'plab', '.'], ['Tsis', 'hais', 'leej', 'twg', 'los', 'yeej', 'kis', 'tau', 'tus', 'mob', 'ETEC', '.'], ['Nws', 'yog', 'ib', 'tus', 'mob', 'raws', 'plab', 'uas', 'kheev', 'pom', 'muaj', 'nyob', 'rau', 'cov', 'teb', 'chaws', 'tseem', 'tsis', 'tau', 'vam', 'meej', 'txaus', ',', 'tshwj', 'xeeb', 'yog', 'ua', 'mob', 'rau', 'cov', 'me', 'nyuam', 'thiab', 'nyob', 'neeg', 'uas', 'mus', 'ncig', 'rau', 'cov', 'teb', 'chaws', 'ntawd', '.']]\n"
     ]
    }
   ],
   "source": [
    "from nltk.corpus import PlaintextCorpusReader as PCR\n",
    "\n",
    "os.chdir(os.path.expanduser(os.path.join(os.path.join('~', 'hmong_medical'), 'raw_processing')))\n",
    "\n",
    "test_samples = PCR('.', 'p01820h.txt').sents()\n",
    "print(test_samples[:10])"
   ]
  },
  {
   "cell_type": "code",
   "execution_count": 19,
   "metadata": {},
   "outputs": [],
   "source": [
    "test_samples = [\n",
    "    \"the county will decide .\".split(),\n",
    "    \"they have announced their resignations .\".split()\n",
    "]"
   ]
  },
  {
   "cell_type": "code",
   "execution_count": 60,
   "metadata": {},
   "outputs": [],
   "source": [
    "test_samples_X = []\n",
    "for s in test_samples:\n",
    "    s_int = []\n",
    "    for w in s:\n",
    "        try:\n",
    "            s_int.append(word2index[w.lower()])\n",
    "        except KeyError:\n",
    "            s_int.append(word2index['-OOV-'])\n",
    "    test_samples_X.append(s_int)\n",
    "    \n",
    "test_samples_X = pad_sequences(test_samples_X, maxlen=MAX_LENGTH, padding='post')"
   ]
  },
  {
   "cell_type": "code",
   "execution_count": 125,
   "metadata": {},
   "outputs": [
    {
     "name": "stdout",
     "output_type": "stream",
     "text": [
      "[[346  89   1 ...   0   0   0]\n",
      " [610 493 151 ...   0   0   0]\n",
      " [346  89   1 ...   0   0   0]\n",
      " ...\n",
      " [  1   1   1 ...   0   0   0]\n",
      " [  1 611   0 ...   0   0   0]\n",
      " [  1   1 563 ...   0   0   0]]\n"
     ]
    }
   ],
   "source": [
    "print(test_samples_X)"
   ]
  },
  {
   "cell_type": "code",
   "execution_count": 30,
   "metadata": {},
   "outputs": [],
   "source": [
    "f = open('pos_tagger.config', 'w')\n",
    "f.write('maxlen='+str(MAX_LENGTH) + '\\n')\n",
    "f.close()"
   ]
  },
  {
   "cell_type": "code",
   "execution_count": 61,
   "metadata": {},
   "outputs": [],
   "source": [
    "predictions = model.predict(test_samples_X)\n",
    "#print(predictions)"
   ]
  },
  {
   "cell_type": "code",
   "execution_count": 48,
   "metadata": {},
   "outputs": [],
   "source": [
    "def logits_to_tokens(sequences, index):\n",
    "    token_sequences = []\n",
    "    for categorical_sequence in sequences:\n",
    "        token_sequence = []\n",
    "        for categorical in categorical_sequence:\n",
    "            token_sequence.append(index[np.argmax(categorical)])\n",
    "        token_sequences.append(token_sequence)\n",
    "    return token_sequences"
   ]
  },
  {
   "cell_type": "code",
   "execution_count": 62,
   "metadata": {},
   "outputs": [],
   "source": [
    "tags = logits_to_tokens(predictions, {i: t for t, i in tag2index.items()})"
   ]
  },
  {
   "cell_type": "code",
   "execution_count": 63,
   "metadata": {},
   "outputs": [
    {
     "name": "stdout",
     "output_type": "stream",
     "text": [
      "0 0 ('TUS', 'B-CL')\n",
      "0 1 ('MOB', 'B-NN')\n",
      "0 2 ('ENTEROTOXIGENIC', 'B-FW')\n",
      "0 3 ('E', 'B-FW')\n",
      "0 4 ('.', 'O-PU')\n",
      "1 0 ('COLI', 'B-FW')\n",
      "1 1 ('(', 'O-PU')\n",
      "1 2 ('ETEC', 'B-FW')\n",
      "1 3 (')', 'O-PU')\n",
      "1 4 ('Escherichia', 'B-FW')\n",
      "1 5 ('coli', 'B-FW')\n",
      "1 6 ('(', 'O-PU')\n",
      "1 7 ('E', 'B-FW')\n",
      "1 8 ('.', 'O-PU')\n",
      "2 0 ('coli', 'B-FW')\n",
      "2 1 (')', 'O-PU')\n",
      "2 2 ('yog', 'B-VV')\n",
      "2 3 ('cov', 'B-CL')\n",
      "2 4 ('kab', 'B-NN')\n",
      "2 5 ('mob', 'I-VV')\n",
      "2 6 ('uas', 'B-CS')\n",
      "2 7 ('pom', 'B-VV')\n",
      "2 8 ('muaj', 'B-VV')\n",
      "2 9 ('rau', 'B-PP')\n",
      "2 10 ('ntawm', 'B-LC')\n",
      "2 11 ('tej', 'B-CL')\n",
      "2 12 ('chaw', 'B-NN')\n",
      "2 13 ('nyob', 'B-VV')\n",
      "2 14 ('ib', 'B-QU')\n",
      "2 15 ('ncig', 'B-CL')\n",
      "2 16 ('yus', 'B-PN')\n",
      "2 17 (',', 'O-PU')\n",
      "2 18 ('hauv', 'B-LC')\n",
      "2 19 ('tej', 'B-CL')\n",
      "2 20 ('khoom', 'B-NN')\n",
      "2 21 ('noj', 'B-VV')\n",
      "2 22 (',', 'O-PU')\n",
      "2 23 ('thiab', 'B-CC')\n",
      "2 24 ('hauv', 'B-LC')\n",
      "2 25 ('cov', 'B-CL')\n",
      "2 26 ('hnyuv', 'B-NN')\n",
      "2 27 ('ntawm', 'B-LC')\n",
      "2 28 ('tej', 'B-CL')\n",
      "2 29 ('tsiaj', 'B-NN')\n",
      "2 30 ('txhu', 'I-NN')\n",
      "2 31 ('thiab', 'B-CC')\n",
      "2 32 ('tib', 'B-NN')\n",
      "2 33 ('neeg', 'I-NN')\n",
      "2 34 ('.', 'O-PU')\n",
      "3 0 ('Hom', 'B-CL')\n",
      "3 1 ('mob', 'B-NN')\n",
      "3 2 ('E', 'B-FW')\n",
      "3 3 ('.', 'O-PU')\n",
      "4 0 ('coli', 'B-FW')\n",
      "4 1 ('feem', 'B-CL')\n",
      "4 2 ('ntau', 'B-VV')\n",
      "4 3 ('yeej', 'B-AD')\n",
      "4 4 ('tsis', 'B-AD')\n",
      "4 5 ('ua', 'B-VV')\n",
      "4 6 ('teeb', 'B-NN')\n",
      "4 7 ('meem', 'I-NN')\n",
      "4 8 ('dab', 'B-NN')\n",
      "4 9 ('tsi', 'I-NN')\n",
      "4 10 ('thiab', 'B-CC')\n",
      "4 11 ('kuj', 'B-AD')\n",
      "4 12 ('yog', 'B-VV')\n",
      "4 13 ('ib', 'B-QU')\n",
      "4 14 ('feem', 'B-CL')\n",
      "4 15 ('tseem', 'B-VV')\n",
      "4 16 ('ceeb', 'I-VV')\n",
      "4 17 ('ntawm', 'B-LC')\n",
      "4 18 ('txoj', 'B-CL')\n",
      "4 19 ('kev', 'B-NN')\n",
      "4 20 ('zom', 'B-VV')\n",
      "4 21 ('zaub', 'B-NN')\n",
      "4 22 ('mov', 'I-NN')\n",
      "4 23 (',', 'O-PU')\n",
      "4 24 ('tab', 'B-CC')\n",
      "4 25 ('sis', 'I-CC')\n",
      "4 26 ('muaj', 'B-VV')\n",
      "4 27 ('ib', 'B-QU')\n",
      "4 28 ('txhia', 'B-FW')\n",
      "4 29 ('kuj', 'B-AD')\n",
      "4 30 ('ua', 'B-VV')\n",
      "4 31 ('rau', 'B-PP')\n",
      "4 32 ('koj', 'B-PN')\n",
      "4 33 ('mob', 'B-VV')\n",
      "4 34 ('.', 'O-PU')\n",
      "5 0 ('Enterotoxigenic', 'B-FW')\n",
      "5 1 ('E', 'B-FW')\n",
      "5 2 ('.', 'O-PU')\n",
      "6 0 ('coli', 'B-FW')\n",
      "6 1 ('(', 'O-PU')\n",
      "6 2 ('ETEC', 'B-FW')\n",
      "6 3 (')', 'O-PU')\n",
      "6 4 ('yog', 'B-VV')\n",
      "6 5 ('ib', 'B-QU')\n",
      "6 6 ('hom', 'B-CL')\n",
      "6 7 ('ntawm', 'B-LC')\n",
      "6 8 ('cov', 'B-CL')\n",
      "6 9 ('kab', 'B-NN')\n",
      "6 10 ('mob', 'I-VV')\n",
      "6 11 ('E', 'B-FW')\n",
      "6 12 ('.', 'O-PU')\n",
      "7 0 ('coli', 'B-FW')\n",
      "7 1 ('uas', 'B-CS')\n",
      "7 2 ('ua', 'B-VV')\n",
      "7 3 ('tau', 'B-VV')\n",
      "7 4 ('rau', 'B-PP')\n",
      "7 5 ('koj', 'B-PN')\n",
      "7 6 ('raws', 'B-VV')\n",
      "7 7 ('plab', 'B-NN')\n",
      "7 8 ('.', 'O-PU')\n",
      "8 0 ('Tsis', 'B-AD')\n",
      "8 1 ('hais', 'B-VV')\n",
      "8 2 ('leej', 'B-CL')\n",
      "8 3 ('twg', 'B-RL')\n",
      "8 4 ('los', 'B-CS')\n",
      "8 5 ('yeej', 'B-AD')\n",
      "8 6 ('kis', 'B-VV')\n",
      "8 7 ('tau', 'B-VV')\n",
      "8 8 ('tus', 'B-CL')\n",
      "8 9 ('mob', 'B-NN')\n",
      "8 10 ('ETEC', 'B-FW')\n",
      "8 11 ('.', 'O-PU')\n",
      "9 0 ('Nws', 'B-PN')\n",
      "9 1 ('yog', 'B-VV')\n",
      "9 2 ('ib', 'B-QU')\n",
      "9 3 ('tus', 'I-CL')\n",
      "9 4 ('mob', 'B-NN')\n",
      "9 5 ('raws', 'B-VV')\n",
      "9 6 ('plab', 'B-NN')\n",
      "9 7 ('uas', 'B-CS')\n",
      "9 8 ('kheev', 'B-VV')\n",
      "9 9 ('pom', 'B-VV')\n",
      "9 10 ('muaj', 'B-VV')\n",
      "9 11 ('nyob', 'B-VV')\n",
      "9 12 ('rau', 'B-PP')\n",
      "9 13 ('cov', 'B-CL')\n",
      "9 14 ('teb', 'B-NN')\n",
      "9 15 ('chaws', 'I-NN')\n",
      "9 16 ('tseem', 'B-AD')\n",
      "9 17 ('tsis', 'B-AD')\n",
      "9 18 ('tau', 'B-AD')\n",
      "9 19 ('vam', 'B-VV')\n",
      "9 20 ('meej', 'I-VV')\n",
      "9 21 ('txaus', 'B-VV')\n",
      "9 22 (',', 'O-PU')\n",
      "9 23 ('tshwj', 'B-AD')\n",
      "9 24 ('xeeb', 'I-AD')\n",
      "9 25 ('yog', 'B-VV')\n",
      "9 26 ('ua', 'B-VV')\n",
      "9 27 ('mob', 'B-VV')\n",
      "9 28 ('rau', 'B-PP')\n",
      "9 29 ('cov', 'B-CL')\n",
      "9 30 ('me', 'B-NN')\n",
      "9 31 ('nyuam', 'I-NN')\n",
      "9 32 ('thiab', 'B-CC')\n",
      "9 33 ('nyob', 'B-VV')\n",
      "9 34 ('neeg', 'B-NN')\n",
      "9 35 ('uas', 'B-CS')\n",
      "9 36 ('mus', 'B-VV')\n",
      "9 37 ('ncig', 'B-VV')\n",
      "9 38 ('rau', 'B-PP')\n",
      "9 39 ('cov', 'B-CL')\n",
      "9 40 ('teb', 'B-NN')\n",
      "9 41 ('chaws', 'I-NN')\n",
      "9 42 ('ntawd', 'B-LC')\n",
      "9 43 ('.', 'O-PU')\n",
      "10 0 ('Tab', 'B-CC')\n",
      "10 1 ('sis', 'I-CC')\n",
      "10 2 (',', 'O-PU')\n",
      "10 3 ('tab', 'B-CS')\n",
      "10 4 ('txawm', 'B-AD')\n",
      "10 5 ('cov', 'B-CL')\n",
      "10 6 ('uas', 'B-CS')\n",
      "10 7 ('yeej', 'B-AD')\n",
      "10 8 ('tsis', 'B-AD')\n",
      "10 9 ('tawm', 'B-VV')\n",
      "10 10 ('lub', 'B-CL')\n",
      "10 11 ('Teb', 'B-NN')\n",
      "10 12 ('Chaws', 'I-NN')\n",
      "10 13 ('Meskas', 'B-FW')\n",
      "10 14 ('mus', 'B-VV')\n",
      "10 15 ('qhov', 'B-CL')\n",
      "10 16 ('twg', 'B-RL')\n",
      "10 17 ('li', 'B-PP')\n",
      "10 18 ('los', 'B-CS')\n",
      "10 19 ('yeej', 'B-AD')\n",
      "10 20 ('kis', 'B-VV')\n",
      "10 21 ('tau', 'B-VV')\n",
      "10 22 ('tus', 'B-CL')\n",
      "10 23 ('mob', 'B-NN')\n",
      "10 24 ('ETEC', 'B-FW')\n",
      "10 25 ('no', 'B-DT')\n",
      "10 26 ('thiab', 'B-AD')\n",
      "10 27 ('.', 'O-PU')\n",
      "11 0 ('Cov', 'B-CL')\n",
      "11 1 ('kev', 'B-NN')\n",
      "11 2 ('kho', 'B-VV')\n",
      "11 3 ('tus', 'B-CL')\n",
      "11 4 ('mob', 'B-NN')\n",
      "11 5 ('yog', 'B-VV')\n",
      "11 6 ('li', 'B-PP')\n",
      "11 7 ('cas', 'I-NN')\n",
      "11 8 ('?', 'O-PU')\n",
      "12 0 ('Cov', 'B-CL')\n",
      "12 1 ('neeg', 'B-NN')\n",
      "12 2 ('uas', 'B-CS')\n",
      "12 3 ('tau', 'B-VV')\n",
      "12 4 ('tus', 'B-CL')\n",
      "12 5 ('mob', 'B-NN')\n",
      "12 6 ('ETEC', 'B-FW')\n",
      "12 7 ('yuav', 'B-AD')\n",
      "12 8 ('tau', 'B-AD')\n",
      "12 9 ('haus', 'B-VV')\n",
      "12 10 ('dej', 'B-NN')\n",
      "12 11 ('kom', 'B-CS')\n",
      "12 12 ('ntau', 'B-VV')\n",
      "12 13 ('xwv', 'B-VV')\n",
      "12 14 ('kom', 'B-CS')\n",
      "12 15 ('lawv', 'B-PN')\n",
      "12 16 ('lub', 'B-CL')\n",
      "12 17 ('cev', 'B-NN')\n",
      "12 18 ('thiaj', 'B-AD')\n",
      "12 19 ('muaj', 'B-VV')\n",
      "12 20 ('dej', 'B-NN')\n",
      "12 21 ('txaus', 'B-VV')\n",
      "12 22 ('.', 'O-PU')\n",
      "13 0 ('Cov', 'B-CL')\n",
      "13 1 ('neeg', 'B-NN')\n",
      "13 2 ('feem', 'B-CL')\n",
      "13 3 ('coob', 'B-VV')\n",
      "13 4 ('kuj', 'B-AD')\n",
      "13 5 ('cia', 'B-AD')\n",
      "13 6 ('li', 'B-PP')\n",
      "13 7 ('zoo', 'B-VV')\n",
      "13 8 ('tuaj', 'B-VV')\n",
      "13 9 ('los', 'B-VV')\n",
      "13 10 ('ntawm', 'B-LC')\n",
      "13 11 ('qhov', 'B-CL')\n",
      "13 12 ('tu', 'B-VV')\n",
      "13 13 ('lawv', 'B-PN')\n",
      "13 14 ('tus', 'B-CL')\n",
      "13 15 ('kheej', 'B-NN')\n",
      "13 16 ('kom', 'B-CS')\n",
      "13 17 ('zoo', 'B-VV')\n",
      "13 18 ('yam', 'B-CL')\n",
      "13 19 ('tsis', 'B-AD')\n",
      "13 20 ('tas', 'B-VV')\n",
      "13 21 ('nrhiav', 'B-VV')\n",
      "13 22 ('lwm', 'B-QU')\n",
      "13 23 ('txoj', 'B-CL')\n",
      "13 24 ('kev', 'B-NN')\n",
      "13 25 ('kho', 'B-VV')\n",
      "13 26 ('tus', 'B-CL')\n",
      "13 27 ('mob', 'B-NN')\n",
      "13 28 ('.', 'O-PU')\n",
      "14 0 ('Yog', 'B-CS')\n",
      "14 1 ('hais', 'B-CS')\n",
      "14 2 ('tias', 'I-CS')\n",
      "14 3 ('yuav', 'B-AD')\n",
      "14 4 ('tau', 'B-AD')\n",
      "14 5 ('siv', 'B-VV')\n",
      "14 6 ('ib', 'B-QU')\n",
      "14 7 ('yam', 'B-CL')\n",
      "14 8 ('tshuaj', 'B-NN')\n",
      "14 9 ('tua', 'B-VV')\n",
      "14 10 ('kab', 'B-NN')\n",
      "14 11 ('mob', 'I-VV')\n",
      "14 12 ('(', 'O-PU')\n",
      "14 13 ('antibiotic', 'B-FW')\n",
      "14 14 (')', 'O-PU')\n",
      "14 15 (',', 'O-PU')\n",
      "14 16 ('mas', 'B-CS')\n",
      "14 17 ('yuav', 'B-AD')\n",
      "14 18 ('tau', 'B-AD')\n",
      "14 19 ('kuaj', 'B-VV')\n",
      "14 20 ('kom', 'B-CS')\n",
      "14 21 ('paub', 'B-VV')\n",
      "14 22 ('seb', 'B-CS')\n",
      "14 23 ('hom', 'B-CL')\n",
      "14 24 ('tshuaj', 'B-NN')\n",
      "14 25 ('tua', 'B-VV')\n",
      "14 26 ('kab', 'B-NN')\n",
      "14 27 ('mob', 'I-VV')\n",
      "14 28 ('twg', 'B-RL')\n",
      "14 29 ('yog', 'B-VV')\n",
      "14 30 ('hom', 'B-CL')\n",
      "14 31 ('yuav', 'B-AD')\n",
      "14 32 ('ua', 'B-VV')\n",
      "14 33 ('hauj', 'B-NN')\n",
      "14 34 ('lwm', 'I-NN')\n",
      "14 35 ('tawm', 'B-VV')\n",
      "14 36 ('tsam', 'I-VV')\n",
      "14 37 ('tau', 'B-VV')\n",
      "14 38 ('tus', 'B-CL')\n",
      "14 39 ('mob', 'B-NN')\n",
      "14 40 ('ETEC', 'B-FW')\n",
      "14 41 ('.', 'O-PU')\n",
      "15 0 ('Dab', 'B-NN')\n",
      "15 1 ('tsi', 'I-NN')\n",
      "15 2 ('ua', 'B-VV')\n",
      "15 3 ('rau', 'B-PP')\n",
      "15 4 ('tau', 'B-VV')\n",
      "15 5 ('tus', 'B-CL')\n",
      "15 6 ('mob', 'B-NN')\n",
      "15 7 ('no', 'B-DT')\n",
      "15 8 ('?', 'O-PU')\n",
      "16 0 ('Tus', 'B-CL')\n",
      "16 1 ('mob', 'B-NN')\n",
      "16 2 ('ETEC', 'B-FW')\n",
      "16 3 ('kis', 'B-VV')\n",
      "16 4 ('tau', 'B-VV')\n",
      "16 5 ('los', 'B-VV')\n",
      "16 6 ('ntawm', 'B-LC')\n",
      "16 7 ('tej', 'B-CL')\n",
      "16 8 ('khoom', 'B-NN')\n",
      "16 9 ('noj', 'B-VV')\n",
      "16 10 ('thiab', 'B-CC')\n",
      "16 11 ('dej', 'B-NN')\n",
      "16 12 ('uas', 'B-CS')\n",
      "16 13 ('paug', 'B-VV')\n",
      "16 14 ('cov', 'B-CL')\n",
      "16 15 ('quav', 'B-NN')\n",
      "16 16 ('.', 'O-PU')\n",
      "17 0 ('Yog', 'B-CS')\n",
      "17 1 ('hais', 'B-CS')\n",
      "17 2 ('tias', 'I-CS')\n",
      "17 3 ('neeg', 'B-NN')\n",
      "17 4 ('tsis', 'B-AD')\n",
      "17 5 ('ntxuav', 'B-VV')\n",
      "17 6 ('lawv', 'B-PN')\n",
      "17 7 ('ob', 'B-QU')\n",
      "17 8 ('txhais', 'B-CL')\n",
      "17 9 ('tes', 'B-NN')\n",
      "17 10 ('kom', 'B-CS')\n",
      "17 11 ('zoo', 'B-VV')\n",
      "17 12 ('thaum', 'B-LC')\n",
      "17 13 ('lawv', 'B-PN')\n",
      "17 14 ('npaj', 'B-VV')\n",
      "17 15 ('pluas', 'B-NN')\n",
      "17 16 ('noj', 'B-VV')\n",
      "17 17 ('los', 'B-CC')\n",
      "17 18 ('yog', 'I-CC')\n",
      "17 19 ('kov', 'B-VV')\n",
      "17 20 ('dej', 'B-NN')\n",
      "17 21 (',', 'O-PU')\n",
      "17 22 ('los', 'B-CC')\n",
      "17 23 ('yog', 'I-CC')\n",
      "17 24 ('hais', 'B-CS')\n",
      "17 25 ('tias', 'I-CS')\n",
      "17 26 ('muab', 'B-PP')\n",
      "17 27 ('cov', 'B-CL')\n",
      "17 28 ('dej', 'B-NN')\n",
      "17 29 ('uas', 'B-CS')\n",
      "17 30 ('paug', 'B-VV')\n",
      "17 31 ('tus', 'B-CL')\n",
      "17 32 ('mob', 'B-NN')\n",
      "17 33 ('los', 'B-VV')\n",
      "17 34 ('ywg', 'B-VV')\n",
      "17 35 ('tej', 'B-CL')\n",
      "17 36 ('khoom', 'B-NN')\n",
      "17 37 ('uas', 'B-CS')\n",
      "17 38 ('yus', 'B-PN')\n",
      "17 39 ('cog', 'B-FW')\n",
      "17 40 (',', 'O-PU')\n",
      "17 41 ('cov', 'B-CL')\n",
      "17 42 ('khoom', 'B-NN')\n",
      "17 43 ('noj', 'B-VV')\n",
      "17 44 ('kuj', 'B-AD')\n",
      "17 45 ('yuav', 'B-AD')\n",
      "17 46 ('paug', 'B-VV')\n",
      "17 47 ('tau', 'B-VV')\n",
      "17 48 ('cov', 'B-CL')\n",
      "17 49 ('quav', 'B-NN')\n",
      "17 50 ('thiab', 'B-AD')\n",
      "17 51 ('.', 'O-PU')\n",
      "18 0 ('P', 'B-FW')\n",
      "18 1 ('01820H', 'B-FW')\n",
      "18 2 ('(', 'O-PU')\n",
      "18 3 ('06', 'B-FW')\n",
      "18 4 ('/', 'O-PU')\n",
      "18 5 ('2017', 'B-FW')\n",
      "18 6 (')', 'O-PU')\n",
      "18 7 ('BUREAU', 'B-FW')\n",
      "18 8 ('OF', 'B-FW')\n",
      "18 9 ('COMMUNICABLE', 'B-FW')\n",
      "18 10 ('DISEASES', 'B-FW')\n",
      "18 11 ('https', 'B-FW')\n",
      "18 12 (':', 'O-PU')\n",
      "18 13 ('//', 'B-FW')\n",
      "18 14 ('www', 'B-FW')\n",
      "18 15 ('.', 'O-PU')\n",
      "19 0 ('dhs', 'B-FW')\n",
      "19 1 ('.', 'O-PU')\n",
      "20 0 ('wisconsin', 'B-FW')\n",
      "20 1 ('.', 'O-PU')\n",
      "21 0 ('gov', 'B-FW')\n",
      "21 1 ('/', 'O-PU')\n",
      "21 2 ('dph', 'B-FW')\n",
      "21 3 ('/', 'O-PU')\n",
      "21 4 ('bcd', 'B-FW')\n",
      "21 5 ('.', 'O-PU')\n"
     ]
    }
   ],
   "source": [
    "full_output = []\n",
    "for i, item in enumerate(test_samples[:22]):\n",
    "    line_output = []\n",
    "#    print(len(item))\n",
    "#    print(len([tag for tag in tags[i] if tag != '-PAD-']))\n",
    "    for j, word in enumerate(item):\n",
    "        print(i, j, (word, tags[i][j]))\n",
    "        line_output.append((word, tags[i][j]))\n",
    "    full_output.append(line_output)"
   ]
  },
  {
   "cell_type": "code",
   "execution_count": 54,
   "metadata": {},
   "outputs": [
    {
     "name": "stdout",
     "output_type": "stream",
     "text": [
      "[93, 93, 93, 93, 93, 93, 93, 93, 93, 93, 93, 93, 93, 93, 93, 93, 93, 93, 93, 93, 93, 93, 93, 93, 93, 93, 93, 93, 93]\n",
      "[47, 47, 32, 8, 55, 4, 35, 64, 22, 15, 93, 15, 31, 67, 13, 16, 12, 21, 36, 28, 11, 58, 10, 2, 2, 6, 6, 2, 19]\n"
     ]
    }
   ],
   "source": [
    "print([len(l) for l in tags])\n",
    "print([len(l) for l in test_samples])"
   ]
  },
  {
   "cell_type": "code",
   "execution_count": 51,
   "metadata": {},
   "outputs": [
    {
     "name": "stdout",
     "output_type": "stream",
     "text": [
      "TUS KAB MOB ZIKA : COV LUS POM ZOO SIV RAU COV NEEG UAS TEJ ZAUM TAU RAUG TUS KAB MOB ZIKA 1 . \n",
      "B-CL B-NN I-VV B-FW O-PU B-CL B-NN B-VV B-VV B-VV B-PP B-CL B-NN B-CS B-AD I-AD B-AD B-VV B-CL B-NN I-VV B-FW B-FW O-PU \n",
      "\n",
      "Nyob twj ywm hauv tsev kom txhob raug yoov tshaj cum tom los yog siv cov tshuaj pleev yoov kom txhob tom ntev li peb lim piam ( weeks ) . \n",
      "B-VV B-AD I-AD B-LC B-NN B-CS B-AD B-VV B-NN I-NN I-NN B-LC B-CC I-CC B-VV B-CL B-NN B-FW B-NN B-CS B-AD B-LC B-VV B-PP B-QU B-NN I-NN O-PU B-FW O-PU O-PU \n",
      "\n",
      "* Yog koj nyuam qhuav kis tau tus kab mob Zika tsis ntev los no , tej zaum yuav muaj tus kab mob no nyob hauv koj cov ntshav thiab yuav kis tau mus rau ib tus tshaj cum uas tom koj . \n",
      "O-PU B-VV B-PN B-AD B-VV B-VV B-VV B-CL B-NN I-VV B-FW B-AD B-VV B-VV B-DT O-PU B-AD I-AD B-AD B-VV B-CL B-NN I-VV B-DT B-VV B-LC B-PN B-CL B-NN B-CC B-AD B-VV B-VV B-VV B-PP B-QU I-CL I-NN I-NN B-CS B-LC B-PN O-PU \n",
      "\n",
      "Ces tus tshaj cum uas muaj tus mob yuav kis tau tus kab mob rau lwm tus . \n",
      "B-CC B-CL I-NN I-NN B-CS B-VV B-CL B-NN B-AD B-VV B-VV B-CL B-NN I-VV B-PP B-QU B-CL O-PU \n",
      "\n",
      "Thov tiv thaiv koj kom tshaj cum txhob tom uas yog nyob twj ywm sab hauv tsev los yog siv cov tshuaj pleev yoov kom txhob tom mus ntev tsawg kawg peb lub lim piam tom qab kis tau tus kab mob tab txawm koj yuav tsis hnov tias koj mob . \n",
      "B-VV B-VV I-VV B-PN B-CS I-NN I-NN B-AD B-LC B-CS B-VV B-VV B-AD I-AD B-CL B-LC B-NN B-CC I-CC B-VV B-CL B-NN B-FW B-NN B-CS B-AD B-LC B-VV B-VV B-VV B-VV B-QU B-CL B-NN I-NN B-LC B-NN B-VV B-VV B-CL B-NN I-VV B-CS B-AD B-PN B-AD B-AD B-VV B-CS B-PN B-VV O-PU \n",
      "\n",
      "* Yog xav paub ntxiv seb yuav tiv thaiv koj tus kheej li cas kom tshaj cum txhob tom , thov mus saib http : // www . \n",
      "O-PU B-CS B-VV B-VV B-VV B-CS B-AD B-VV I-VV B-PN B-CL B-NN B-PP I-NN B-CS I-NN I-NN B-AD B-VV O-PU B-VV B-VV B-VV B-FW O-PU B-FW B-FW O-PU \n",
      "\n",
      "cdc . \n",
      "B-FW O-PU \n",
      "\n",
      "gov / zika / pdfs / mosqprevinus . \n",
      "B-FW O-PU B-FW O-PU B-FW O-PU B-FW O-PU \n",
      "\n",
      "pdf . \n",
      "B-FW O-PU \n",
      "\n",
      "2 . \n",
      "B-PU O-PU \n",
      "\n",
      "Zam txhob sib deev los yog siv hnab looj thaum sib deev . \n",
      "B-VV B-AD B-AD I-VV B-CC I-CC B-VV B-NN I-VV B-LC B-AD I-VV O-PU \n",
      "\n",
      "* Yog koj nyuam qhuav kis tau tus kab mob Zika tsis ntev los no , koj yuav kis tau tus kab mob mus rau koj tus khub los ntawm kev sib deev tab txawm koj yuav tsis hnov tias koj mob . \n",
      "O-PU B-CS B-PN B-AD B-VV B-VV B-VV B-CL B-NN I-VV B-FW B-AD B-VV B-VV B-DT O-PU B-PN B-AD B-VV B-VV B-CL B-NN I-VV B-VV B-PP B-PN B-CL B-FW B-VV B-LC B-NN B-AD I-VV B-CS B-AD B-PN B-AD B-AD B-VV B-CS B-PN B-VV O-PU \n",
      "\n",
      "* Cov poj niam uas kuaj tau tias muaj tus kab mob Zika , LOS YOG tau mus ntoj ncig rau ib cheeb tsam uas muaj tus kab mob Zika , LOS YOG tau sib deev yam tsis siv kev tiv thaiv nrog ib tus neeg uas tau mus ntoj ncig rau ib cheeb tsam muaj tus kab mob yuav tau zam txhob sib deev los yog siv kev tiv thaiv txhua zaus lawv sib deev yam tsawg kawg yim lub lim piam . \n",
      "O-PU B-CL B-NN I-NN B-CS B-VV B-VV B-CS B-VV B-CL B-NN I-VV B-FW O-PU B-CC I-CC B-AD B-VV B-FW B-VV B-PP B-QU B-NN I-CL B-CS B-VV B-CL B-NN I-VV B-FW O-PU B-CC I-CC B-AD B-AD I-VV B-CL B-AD B-VV B-NN B-VV I-VV B-VV B-QU I-CL B-NN B-CS B-AD B-VV B-FW B-VV B-PP B-QU B-NN I-VV B-VV B-CL B-NN I-VV B-AD B-AD B-VV B-AD B-AD I-VV B-CC I-CC B-VV B-NN B-VV I-VV B-QU I-CL B-PN B-AD I-VV B-CL B-VV B-VV I-NN B-CL B-NN I-NN O-PU \n",
      "\n",
      "* Cov txiv neej uas kuaj tau tias muaj tus kab mob Zika , LOS YOG tau mus ntoj ncig rau ib cheeb tsam uas muaj tus kab mob Zika , LOS YOG tau sib deev yam tsis siv kev tiv thaiv nrog ib tus neeg uas tau mus ntoj ncig rau ib cheeb tsam muaj tus kab mob yuav tau zam txhob sib deev los yog siv ib lub hnab looj txhua zaus lawv sib deev yam tsawg kawg peb lub hlis . \n",
      "O-PU B-CL B-NN I-NN B-CS B-VV B-VV B-CS B-VV B-CL B-NN I-VV B-FW O-PU B-CC I-CC B-AD B-VV B-FW B-VV B-PP B-QU B-NN I-CL B-CS B-VV B-CL B-NN I-VV B-FW O-PU B-CC I-CC B-AD B-AD I-VV B-CL B-AD B-VV B-NN B-VV I-VV B-VV B-QU I-CL B-NN B-CS B-VV B-VV B-FW B-VV B-PP B-QU B-NN I-VV B-VV B-CL B-NN I-VV B-AD B-AD B-VV B-AD B-AD I-VV B-CC I-CC B-VV B-QU B-CL B-NN I-VV B-QU I-CL B-PN B-AD I-VV B-CL B-VV B-VV B-QU B-CL B-NN O-PU \n",
      "\n",
      "3 . \n",
      "B-PU O-PU \n",
      "\n",
      "Cov khub niam txiv uas xav kom tus niam cev xeeb muaj me nyuam yuav tau zam qhov kom muaj me nyuam mus tsawg kawg yim lub lim piam yog tias tsuas yog tus poj niam tau mus ntoj ncig , los yog tsawg kawg peb lub hlis yog tias tus txiv neej tau mus ntoj ncig . \n",
      "B-CL B-FW I-NN I-NN B-CS B-VV B-CS B-CL B-NN B-NN B-VV B-VV B-NN I-NN B-AD B-AD B-VV B-CL B-CS B-VV B-NN I-NN B-VV B-VV B-VV I-NN B-CL B-NN I-NN B-CS B-CS B-AD B-VV B-CL B-NN I-NN B-VV B-VV B-FW B-VV O-PU B-CC I-CC B-VV B-VV B-QU B-CL B-NN B-CS B-CS B-CL B-NN B-NN B-AD B-VV B-FW B-VV O-PU \n",
      "\n",
      "Tus kab mob Zika yuav kis tau ntawm tus poj niam uas cev xeeb tub mus rau nws tus me nyuam uas tseem tsis tau yug los thiab yuav ua rau muaj teeb meem loj rau tus me nyuam thaum yug tau los . \n",
      "B-CL B-NN I-VV B-FW B-AD B-VV B-VV B-LC B-CL B-NN I-NN B-CS B-VV B-VV B-NN B-VV B-PP B-PN B-CL B-NN I-NN B-CS B-AD B-AD B-VV B-VV B-VV B-CC B-AD B-VV B-PP B-VV B-NN I-NN B-VV B-PP B-CL B-NN I-NN B-LC B-FW B-VV B-VV O-PU \n",
      "\n",
      "Cov khub niam txiv uas xav kom tus niam muaj me nyuam yuav tau ncua lub sij hawm muaj me nyuam mus ntev tsawg kawg yim lub lim piam ( yog hais tias tus poj niam tau mus ntoj ncig nkaus xwb ) los yog tsawg kawg peb lub hlis ( yog tus txiv neej tau mus ntoj ncig ) tom qab cov tsos mob pib tshwm sim los yog tom qab uas kis tau tus kab mob Zika . \n",
      "B-CL B-FW I-NN I-NN B-CS B-VV B-CS B-CL B-NN B-VV B-NN I-NN B-AD B-AD B-FW B-CL B-NN I-NN B-VV B-NN I-NN B-VV B-VV B-VV B-VV I-NN B-CL B-NN I-NN O-PU B-CS B-CS I-CS B-CL B-NN I-NN B-AD B-VV B-FW B-VV B-AD B-AD O-PU B-CC I-CC B-VV B-VV B-QU B-CL B-NN O-PU B-VV B-CL B-NN B-NN B-AD B-VV B-FW B-VV O-PU B-LC B-NN B-CL B-NN I-VV B-VV B-VV I-VV B-CC I-CC B-LC B-NN B-RL B-VV B-VV B-CL B-NN I-VV B-FW O-PU \n",
      "\n",
      "4 . \n",
      "B-PU O-PU \n",
      "\n",
      "Cov txiv neej uas tau mus ntoj ncig rau cov cheeb tsam uas tus kab mob Zika tab tom tshwm sim thiab muaj nws tus khub cev xeeb tub yuav tau zam txhob sib deev los yog siv hnab looj kom thoob plaws lub caij cev xeeb tub . \n",
      "B-CL B-NN I-NN B-CS B-VV B-VV B-VV B-VV B-PP B-CL B-NN I-NN B-CS B-CL B-NN I-VV B-FW B-AD B-LC B-VV I-VV B-CC B-VV B-PN B-CL B-NN B-VV B-VV B-NN B-AD B-AD B-VV B-AD B-AD B-VV B-CC I-CC B-VV B-NN I-VV B-CS B-VV I-AD B-CL B-NN B-VV B-VV B-NN O-PU \n",
      "\n",
      "Division of Public Health P - 01581H ( 8 / 2018 ) \n",
      "B-FW B-FW B-FW B-FW B-FW I-PU B-FW O-PU B-FW O-PU B-FW O-PU \n",
      "\n"
     ]
    }
   ],
   "source": [
    "for item in full_output:\n",
    "    for word in item:\n",
    "        print(word[0], end=' ')\n",
    "    print()\n",
    "    for word in item:\n",
    "        print(word[1], end=' ')\n",
    "    print()\n",
    "    print()"
   ]
  },
  {
   "cell_type": "code",
   "execution_count": 64,
   "metadata": {},
   "outputs": [],
   "source": [
    "#print(full_output[0])\n",
    "printable_output = [['/'.join(w) for w in line] for line in full_output]\n",
    "#print(printable_output)\n",
    "os.chdir(os.path.expanduser('~/hmong_medical/'))\n",
    "f = open('p01820h.txt', 'w')\n",
    "f.write('\\n '.join([' '.join(line) for line in printable_output]))\n",
    "f.close()"
   ]
  },
  {
   "cell_type": "code",
   "execution_count": 27,
   "metadata": {},
   "outputs": [
    {
     "name": "stdout",
     "output_type": "stream",
     "text": [
      "[['PU', 'VV', 'QU', 'CL', 'VV', '-PAD-', '-PAD-', '-PAD-', '-PAD-', '-PAD-', '-PAD-', '-PAD-', '-PAD-', '-PAD-', '-PAD-', '-PAD-', '-PAD-', '-PAD-', '-PAD-', '-PAD-', '-PAD-', '-PAD-', '-PAD-', '-PAD-', '-PAD-', '-PAD-', '-PAD-', '-PAD-', '-PAD-', '-PAD-', '-PAD-', '-PAD-', '-PAD-', '-PAD-', '-PAD-', '-PAD-', '-PAD-', '-PAD-', '-PAD-', '-PAD-', '-PAD-', '-PAD-', '-PAD-', '-PAD-', '-PAD-', '-PAD-', '-PAD-', '-PAD-', '-PAD-', '-PAD-', '-PAD-', '-PAD-', '-PAD-', '-PAD-', '-PAD-', '-PAD-', '-PAD-', '-PAD-', '-PAD-', '-PAD-', '-PAD-', '-PAD-', '-PAD-', '-PAD-', '-PAD-', '-PAD-', '-PAD-', '-PAD-', '-PAD-', '-PAD-', '-PAD-', '-PAD-', '-PAD-', '-PAD-', '-PAD-', '-PAD-', '-PAD-', '-PAD-', '-PAD-', '-PAD-', '-PAD-', '-PAD-', '-PAD-', '-PAD-', '-PAD-', '-PAD-', '-PAD-', '-PAD-', '-PAD-', '-PAD-', '-PAD-', '-PAD-', '-PAD-'], ['PU', 'VV', '-PAD-', '-PAD-', '-PAD-', '-PAD-', '-PAD-', '-PAD-', '-PAD-', '-PAD-', '-PAD-', '-PAD-', '-PAD-', '-PAD-', '-PAD-', '-PAD-', '-PAD-', '-PAD-', '-PAD-', '-PAD-', '-PAD-', '-PAD-', '-PAD-', '-PAD-', '-PAD-', '-PAD-', '-PAD-', '-PAD-', '-PAD-', '-PAD-', '-PAD-', '-PAD-', '-PAD-', '-PAD-', '-PAD-', '-PAD-', '-PAD-', '-PAD-', '-PAD-', '-PAD-', '-PAD-', '-PAD-', '-PAD-', '-PAD-', '-PAD-', '-PAD-', '-PAD-', '-PAD-', '-PAD-', '-PAD-', '-PAD-', '-PAD-', '-PAD-', '-PAD-', '-PAD-', '-PAD-', '-PAD-', '-PAD-', '-PAD-', '-PAD-', '-PAD-', '-PAD-', '-PAD-', '-PAD-', '-PAD-', '-PAD-', '-PAD-', '-PAD-', '-PAD-', '-PAD-', '-PAD-', '-PAD-', '-PAD-', '-PAD-', '-PAD-', '-PAD-', '-PAD-', '-PAD-', '-PAD-', '-PAD-', '-PAD-', '-PAD-', '-PAD-', '-PAD-', '-PAD-', '-PAD-', '-PAD-', '-PAD-', '-PAD-', '-PAD-', '-PAD-', '-PAD-', '-PAD-'], ['CS', 'PN', 'VV', 'QU', 'CL', 'NN', 'FW', 'VV', 'AD', 'VV', 'NN', 'PU', '-PAD-', '-PAD-', '-PAD-', '-PAD-', '-PAD-', '-PAD-', '-PAD-', '-PAD-', '-PAD-', '-PAD-', '-PAD-', '-PAD-', '-PAD-', '-PAD-', '-PAD-', '-PAD-', '-PAD-', '-PAD-', '-PAD-', '-PAD-', '-PAD-', '-PAD-', '-PAD-', '-PAD-', '-PAD-', '-PAD-', '-PAD-', '-PAD-', '-PAD-', '-PAD-', '-PAD-', '-PAD-', '-PAD-', '-PAD-', '-PAD-', '-PAD-', '-PAD-', '-PAD-', '-PAD-', '-PAD-', '-PAD-', '-PAD-', '-PAD-', '-PAD-', '-PAD-', '-PAD-', '-PAD-', '-PAD-', '-PAD-', '-PAD-', '-PAD-', '-PAD-', '-PAD-', '-PAD-', '-PAD-', '-PAD-', '-PAD-', '-PAD-', '-PAD-', '-PAD-', '-PAD-', '-PAD-', '-PAD-', '-PAD-', '-PAD-', '-PAD-', '-PAD-', '-PAD-', '-PAD-', '-PAD-', '-PAD-', '-PAD-', '-PAD-', '-PAD-', '-PAD-', '-PAD-', '-PAD-', '-PAD-', '-PAD-', '-PAD-', '-PAD-'], ['CL', 'RL', 'CS', 'AD', 'VV', 'NN', 'AD', 'PU', 'CC', 'CC', 'CL', 'FW', 'PU', 'FW', 'FW', 'CS', 'VV', 'VV', 'PU', '-PAD-', '-PAD-', '-PAD-', '-PAD-', '-PAD-', '-PAD-', '-PAD-', '-PAD-', '-PAD-', '-PAD-', '-PAD-', '-PAD-', '-PAD-', '-PAD-', '-PAD-', '-PAD-', '-PAD-', '-PAD-', '-PAD-', '-PAD-', '-PAD-', '-PAD-', '-PAD-', '-PAD-', '-PAD-', '-PAD-', '-PAD-', '-PAD-', '-PAD-', '-PAD-', '-PAD-', '-PAD-', '-PAD-', '-PAD-', '-PAD-', '-PAD-', '-PAD-', '-PAD-', '-PAD-', '-PAD-', '-PAD-', '-PAD-', '-PAD-', '-PAD-', '-PAD-', '-PAD-', '-PAD-', '-PAD-', '-PAD-', '-PAD-', '-PAD-', '-PAD-', '-PAD-', '-PAD-', '-PAD-', '-PAD-', '-PAD-', '-PAD-', '-PAD-', '-PAD-', '-PAD-', '-PAD-', '-PAD-', '-PAD-', '-PAD-', '-PAD-', '-PAD-', '-PAD-', '-PAD-', '-PAD-', '-PAD-', '-PAD-', '-PAD-', '-PAD-'], ['CL', 'NN', 'FW', 'CC', 'FW', 'AD', 'AD', 'VV', 'VV', 'CC', 'VV', 'VV', 'VV', 'PP', 'LC', 'CL', 'NN', 'NN', 'CS', 'VV', 'VV', 'VV', 'PP', 'LC', 'CL', 'NN', 'PU', 'VV', 'QU', 'CL', 'NN', 'FW', 'VV', 'CC', 'AD', 'VV', 'PU', 'CC', 'CC', 'CL', 'VV', 'NN', 'VV', 'NN', 'VV', 'LC', 'CL', 'NN', 'VV', 'PP', 'CL', 'NN', 'NN', 'VV', 'NN', 'CC', 'CL', 'VV', 'VV', 'VV', 'NN', 'PU', '-PAD-', '-PAD-', '-PAD-', '-PAD-', '-PAD-', '-PAD-', '-PAD-', '-PAD-', '-PAD-', '-PAD-', '-PAD-', '-PAD-', '-PAD-', '-PAD-', '-PAD-', '-PAD-', '-PAD-', '-PAD-', '-PAD-', '-PAD-', '-PAD-', '-PAD-', '-PAD-', '-PAD-', '-PAD-', '-PAD-', '-PAD-', '-PAD-', '-PAD-', '-PAD-', '-PAD-'], ['PU', 'VV', 'NN', 'QU', 'CL', 'NN', 'QU', 'CL', 'PU', '-PAD-', '-PAD-', '-PAD-', '-PAD-', '-PAD-', '-PAD-', '-PAD-', '-PAD-', '-PAD-', '-PAD-', '-PAD-', '-PAD-', '-PAD-', '-PAD-', '-PAD-', '-PAD-', '-PAD-', '-PAD-', '-PAD-', '-PAD-', '-PAD-', '-PAD-', '-PAD-', '-PAD-', '-PAD-', '-PAD-', '-PAD-', '-PAD-', '-PAD-', '-PAD-', '-PAD-', '-PAD-', '-PAD-', '-PAD-', '-PAD-', '-PAD-', '-PAD-', '-PAD-', '-PAD-', '-PAD-', '-PAD-', '-PAD-', '-PAD-', '-PAD-', '-PAD-', '-PAD-', '-PAD-', '-PAD-', '-PAD-', '-PAD-', '-PAD-', '-PAD-', '-PAD-', '-PAD-', '-PAD-', '-PAD-', '-PAD-', '-PAD-', '-PAD-', '-PAD-', '-PAD-', '-PAD-', '-PAD-', '-PAD-', '-PAD-', '-PAD-', '-PAD-', '-PAD-', '-PAD-', '-PAD-', '-PAD-', '-PAD-', '-PAD-', '-PAD-', '-PAD-', '-PAD-', '-PAD-', '-PAD-', '-PAD-', '-PAD-', '-PAD-', '-PAD-', '-PAD-', '-PAD-'], ['LC', 'CL', 'NN', 'VV', 'CL', 'NN', 'VV', 'FW', 'DT', 'LC', 'PN', 'CL', 'NN', 'AD', 'PU', 'PN', 'VV', 'PU', 'VV', 'PU', 'CC', 'CC', 'VV', 'AD', 'AD', 'VV', 'VV', 'CL', 'NN', 'VV', 'DT', 'VV', 'PP', 'CL', 'VV', 'NN', 'PU', '-PAD-', '-PAD-', '-PAD-', '-PAD-', '-PAD-', '-PAD-', '-PAD-', '-PAD-', '-PAD-', '-PAD-', '-PAD-', '-PAD-', '-PAD-', '-PAD-', '-PAD-', '-PAD-', '-PAD-', '-PAD-', '-PAD-', '-PAD-', '-PAD-', '-PAD-', '-PAD-', '-PAD-', '-PAD-', '-PAD-', '-PAD-', '-PAD-', '-PAD-', '-PAD-', '-PAD-', '-PAD-', '-PAD-', '-PAD-', '-PAD-', '-PAD-', '-PAD-', '-PAD-', '-PAD-', '-PAD-', '-PAD-', '-PAD-', '-PAD-', '-PAD-', '-PAD-', '-PAD-', '-PAD-', '-PAD-', '-PAD-', '-PAD-', '-PAD-', '-PAD-', '-PAD-', '-PAD-', '-PAD-', '-PAD-'], ['CL', 'RL', 'CS', 'AD', 'VV', 'VV', 'CL', 'NN', 'FW', 'DT', 'PU', 'CC', 'CC', 'CL', 'NN', 'VV', 'CL', 'VV', 'CL', 'NN', 'NN', 'AD', 'VV', 'VV', 'NN', 'VV', 'PP', 'VV', 'PU', 'VV', 'PU', 'VV', 'VV', 'PU', 'CC', 'AD', 'VV', 'CL', 'VV', 'PP', 'CL', 'NN', 'NN', 'VV', 'NN', 'NN', 'CC', 'PN', 'PN', 'NN', 'NN', 'CS', 'CL', 'AD', 'VV', 'VV', 'VV', 'PU', '-PAD-', '-PAD-', '-PAD-', '-PAD-', '-PAD-', '-PAD-', '-PAD-', '-PAD-', '-PAD-', '-PAD-', '-PAD-', '-PAD-', '-PAD-', '-PAD-', '-PAD-', '-PAD-', '-PAD-', '-PAD-', '-PAD-', '-PAD-', '-PAD-', '-PAD-', '-PAD-', '-PAD-', '-PAD-', '-PAD-', '-PAD-', '-PAD-', '-PAD-', '-PAD-', '-PAD-', '-PAD-', '-PAD-', '-PAD-', '-PAD-'], ['PU', 'VV', 'NN', 'NN', '-PAD-', '-PAD-', '-PAD-', '-PAD-', '-PAD-', '-PAD-', '-PAD-', '-PAD-', '-PAD-', '-PAD-', '-PAD-', '-PAD-', '-PAD-', '-PAD-', '-PAD-', '-PAD-', '-PAD-', '-PAD-', '-PAD-', '-PAD-', '-PAD-', '-PAD-', '-PAD-', '-PAD-', '-PAD-', '-PAD-', '-PAD-', '-PAD-', '-PAD-', '-PAD-', '-PAD-', '-PAD-', '-PAD-', '-PAD-', '-PAD-', '-PAD-', '-PAD-', '-PAD-', '-PAD-', '-PAD-', '-PAD-', '-PAD-', '-PAD-', '-PAD-', '-PAD-', '-PAD-', '-PAD-', '-PAD-', '-PAD-', '-PAD-', '-PAD-', '-PAD-', '-PAD-', '-PAD-', '-PAD-', '-PAD-', '-PAD-', '-PAD-', '-PAD-', '-PAD-', '-PAD-', '-PAD-', '-PAD-', '-PAD-', '-PAD-', '-PAD-', '-PAD-', '-PAD-', '-PAD-', '-PAD-', '-PAD-', '-PAD-', '-PAD-', '-PAD-', '-PAD-', '-PAD-', '-PAD-', '-PAD-', '-PAD-', '-PAD-', '-PAD-', '-PAD-', '-PAD-', '-PAD-', '-PAD-', '-PAD-', '-PAD-', '-PAD-', '-PAD-'], ['CL', 'NN', 'DT', 'AD', 'VV', 'VV', 'PP', 'CL', 'NN', 'NN', 'VV', 'VV', 'CC', 'VV', 'PP', 'NN', 'NN', 'VV', 'NN', 'PU', 'VV', 'VV', 'PP', 'CL', 'NN', 'PU', 'PU', '-PAD-', '-PAD-', '-PAD-', '-PAD-', '-PAD-', '-PAD-', '-PAD-', '-PAD-', '-PAD-', '-PAD-', '-PAD-', '-PAD-', '-PAD-', '-PAD-', '-PAD-', '-PAD-', '-PAD-', '-PAD-', '-PAD-', '-PAD-', '-PAD-', '-PAD-', '-PAD-', '-PAD-', '-PAD-', '-PAD-', '-PAD-', '-PAD-', '-PAD-', '-PAD-', '-PAD-', '-PAD-', '-PAD-', '-PAD-', '-PAD-', '-PAD-', '-PAD-', '-PAD-', '-PAD-', '-PAD-', '-PAD-', '-PAD-', '-PAD-', '-PAD-', '-PAD-', '-PAD-', '-PAD-', '-PAD-', '-PAD-', '-PAD-', '-PAD-', '-PAD-', '-PAD-', '-PAD-', '-PAD-', '-PAD-', '-PAD-', '-PAD-', '-PAD-', '-PAD-', '-PAD-', '-PAD-', '-PAD-', '-PAD-', '-PAD-', '-PAD-'], ['CL', 'DT', 'CL', 'VV', 'AD', 'CS', 'CS', 'PN', 'AD', 'VV', 'CL', 'VV', 'VV', 'PU', 'NN', 'NN', 'VV', 'VV', 'NN', 'VV', 'PU', 'CC', 'CC', 'CS', 'AD', 'AD', 'VV', 'CL', 'NN', 'VV', 'DT', 'VV', 'NN', 'NN', 'VV', 'VV', 'PU', '-PAD-', '-PAD-', '-PAD-', '-PAD-', '-PAD-', '-PAD-', '-PAD-', '-PAD-', '-PAD-', '-PAD-', '-PAD-', '-PAD-', '-PAD-', '-PAD-', '-PAD-', '-PAD-', '-PAD-', '-PAD-', '-PAD-', '-PAD-', '-PAD-', '-PAD-', '-PAD-', '-PAD-', '-PAD-', '-PAD-', '-PAD-', '-PAD-', '-PAD-', '-PAD-', '-PAD-', '-PAD-', '-PAD-', '-PAD-', '-PAD-', '-PAD-', '-PAD-', '-PAD-', '-PAD-', '-PAD-', '-PAD-', '-PAD-', '-PAD-', '-PAD-', '-PAD-', '-PAD-', '-PAD-', '-PAD-', '-PAD-', '-PAD-', '-PAD-', '-PAD-', '-PAD-', '-PAD-', '-PAD-', '-PAD-'], ['CL', 'NN', 'CS', 'VV', 'CL', 'NN', 'VV', 'FW', 'VV', 'VV', 'VV', 'VV', 'VV', 'CL', 'CS', 'VV', 'VV', 'LC', 'QU', 'CL', 'NN', 'VV', 'FW', 'PU', '-PAD-', '-PAD-', '-PAD-', '-PAD-', '-PAD-', '-PAD-', '-PAD-', '-PAD-', '-PAD-', '-PAD-', '-PAD-', '-PAD-', '-PAD-', '-PAD-', '-PAD-', '-PAD-', '-PAD-', '-PAD-', '-PAD-', '-PAD-', '-PAD-', '-PAD-', '-PAD-', '-PAD-', '-PAD-', '-PAD-', '-PAD-', '-PAD-', '-PAD-', '-PAD-', '-PAD-', '-PAD-', '-PAD-', '-PAD-', '-PAD-', '-PAD-', '-PAD-', '-PAD-', '-PAD-', '-PAD-', '-PAD-', '-PAD-', '-PAD-', '-PAD-', '-PAD-', '-PAD-', '-PAD-', '-PAD-', '-PAD-', '-PAD-', '-PAD-', '-PAD-', '-PAD-', '-PAD-', '-PAD-', '-PAD-', '-PAD-', '-PAD-', '-PAD-', '-PAD-', '-PAD-', '-PAD-', '-PAD-', '-PAD-', '-PAD-', '-PAD-', '-PAD-', '-PAD-', '-PAD-'], ['PU', 'CL', 'NN', 'VV', 'NN', 'FW', 'DT', 'VV', 'NN', 'VV', 'CC', 'VV', 'NN', 'VV', 'VV', 'AD', 'PU', '-PAD-', '-PAD-', '-PAD-', '-PAD-', '-PAD-', '-PAD-', '-PAD-', '-PAD-', '-PAD-', '-PAD-', '-PAD-', '-PAD-', '-PAD-', '-PAD-', '-PAD-', '-PAD-', '-PAD-', '-PAD-', '-PAD-', '-PAD-', '-PAD-', '-PAD-', '-PAD-', '-PAD-', '-PAD-', '-PAD-', '-PAD-', '-PAD-', '-PAD-', '-PAD-', '-PAD-', '-PAD-', '-PAD-', '-PAD-', '-PAD-', '-PAD-', '-PAD-', '-PAD-', '-PAD-', '-PAD-', '-PAD-', '-PAD-', '-PAD-', '-PAD-', '-PAD-', '-PAD-', '-PAD-', '-PAD-', '-PAD-', '-PAD-', '-PAD-', '-PAD-', '-PAD-', '-PAD-', '-PAD-', '-PAD-', '-PAD-', '-PAD-', '-PAD-', '-PAD-', '-PAD-', '-PAD-', '-PAD-', '-PAD-', '-PAD-', '-PAD-', '-PAD-', '-PAD-', '-PAD-', '-PAD-', '-PAD-', '-PAD-', '-PAD-', '-PAD-', '-PAD-', '-PAD-'], ['PN', 'VV', 'QU', 'CL', 'VV', 'VV', 'CS', 'AD', 'AD', 'VV', 'PN', 'QU', 'CL', 'NN', 'LC', 'NN', 'VV', 'VV', 'CL', 'NN', 'NN', 'VV', 'PU', 'LC', 'NN', 'PN', 'VV', 'CL', 'NN', 'VV', 'CL', 'NN', 'PU', 'CC', 'CC', 'LC', 'NN', 'VV', 'VV', 'PN', 'NN', 'PU', '-PAD-', '-PAD-', '-PAD-', '-PAD-', '-PAD-', '-PAD-', '-PAD-', '-PAD-', '-PAD-', '-PAD-', '-PAD-', '-PAD-', '-PAD-', '-PAD-', '-PAD-', '-PAD-', '-PAD-', '-PAD-', '-PAD-', '-PAD-', '-PAD-', '-PAD-', '-PAD-', '-PAD-', '-PAD-', '-PAD-', '-PAD-', '-PAD-', '-PAD-', '-PAD-', '-PAD-', '-PAD-', '-PAD-', '-PAD-', '-PAD-', '-PAD-', '-PAD-', '-PAD-', '-PAD-', '-PAD-', '-PAD-', '-PAD-', '-PAD-', '-PAD-', '-PAD-', '-PAD-', '-PAD-', '-PAD-', '-PAD-', '-PAD-', '-PAD-'], ['CL', 'NN', 'VV', 'FW', 'AD', 'AD', 'VV', 'VV', 'PP', 'NN', 'PU', '-PAD-', '-PAD-', '-PAD-', '-PAD-', '-PAD-', '-PAD-', '-PAD-', '-PAD-', '-PAD-', '-PAD-', '-PAD-', '-PAD-', '-PAD-', '-PAD-', '-PAD-', '-PAD-', '-PAD-', '-PAD-', '-PAD-', '-PAD-', '-PAD-', '-PAD-', '-PAD-', '-PAD-', '-PAD-', '-PAD-', '-PAD-', '-PAD-', '-PAD-', '-PAD-', '-PAD-', '-PAD-', '-PAD-', '-PAD-', '-PAD-', '-PAD-', '-PAD-', '-PAD-', '-PAD-', '-PAD-', '-PAD-', '-PAD-', '-PAD-', '-PAD-', '-PAD-', '-PAD-', '-PAD-', '-PAD-', '-PAD-', '-PAD-', '-PAD-', '-PAD-', '-PAD-', '-PAD-', '-PAD-', '-PAD-', '-PAD-', '-PAD-', '-PAD-', '-PAD-', '-PAD-', '-PAD-', '-PAD-', '-PAD-', '-PAD-', '-PAD-', '-PAD-', '-PAD-', '-PAD-', '-PAD-', '-PAD-', '-PAD-', '-PAD-', '-PAD-', '-PAD-', '-PAD-', '-PAD-', '-PAD-', '-PAD-', '-PAD-', '-PAD-', '-PAD-'], ['NN', 'NN', 'VV', 'AD', 'VV', 'VV', 'DT', 'VV', 'CS', 'CS', 'CL', 'NN', 'FW', 'PU', 'AD', 'VV', 'CL', 'NN', 'VV', 'FW', 'PU', 'FW', 'FW', 'PU', 'VV', 'CL', 'VV', 'CS', 'VV', 'VV', 'CL', 'NN', 'VV', 'VV', 'PP', 'QU', 'CL', 'NN', 'PU', 'CC', 'AD', 'VV', 'AD', 'VV', 'NN', 'VV', 'LC', 'QU', 'CL', 'NN', 'FW', 'CC', 'FW', 'DT', 'AD', 'PU', '-PAD-', '-PAD-', '-PAD-', '-PAD-', '-PAD-', '-PAD-', '-PAD-', '-PAD-', '-PAD-', '-PAD-', '-PAD-', '-PAD-', '-PAD-', '-PAD-', '-PAD-', '-PAD-', '-PAD-', '-PAD-', '-PAD-', '-PAD-', '-PAD-', '-PAD-', '-PAD-', '-PAD-', '-PAD-', '-PAD-', '-PAD-', '-PAD-', '-PAD-', '-PAD-', '-PAD-', '-PAD-', '-PAD-', '-PAD-', '-PAD-', '-PAD-', '-PAD-'], ['CL', 'VV', 'PP', 'DT', 'AD', 'VV', 'PP', 'VV', 'NN', 'VV', 'PU', '-PAD-', '-PAD-', '-PAD-', '-PAD-', '-PAD-', '-PAD-', '-PAD-', '-PAD-', '-PAD-', '-PAD-', '-PAD-', '-PAD-', '-PAD-', '-PAD-', '-PAD-', '-PAD-', '-PAD-', '-PAD-', '-PAD-', '-PAD-', '-PAD-', '-PAD-', '-PAD-', '-PAD-', '-PAD-', '-PAD-', '-PAD-', '-PAD-', '-PAD-', '-PAD-', '-PAD-', '-PAD-', '-PAD-', '-PAD-', '-PAD-', '-PAD-', '-PAD-', '-PAD-', '-PAD-', '-PAD-', '-PAD-', '-PAD-', '-PAD-', '-PAD-', '-PAD-', '-PAD-', '-PAD-', '-PAD-', '-PAD-', '-PAD-', '-PAD-', '-PAD-', '-PAD-', '-PAD-', '-PAD-', '-PAD-', '-PAD-', '-PAD-', '-PAD-', '-PAD-', '-PAD-', '-PAD-', '-PAD-', '-PAD-', '-PAD-', '-PAD-', '-PAD-', '-PAD-', '-PAD-', '-PAD-', '-PAD-', '-PAD-', '-PAD-', '-PAD-', '-PAD-', '-PAD-', '-PAD-', '-PAD-', '-PAD-', '-PAD-', '-PAD-', '-PAD-'], ['CL', 'NN', 'VV', 'VV', 'VV', 'PP', 'CL', 'NN', 'VV', 'CC', 'CL', 'CL', 'NN', '-PAD-', '-PAD-', '-PAD-', '-PAD-', '-PAD-', '-PAD-', '-PAD-', '-PAD-', '-PAD-', '-PAD-', '-PAD-', '-PAD-', '-PAD-', '-PAD-', '-PAD-', '-PAD-', '-PAD-', '-PAD-', '-PAD-', '-PAD-', '-PAD-', '-PAD-', '-PAD-', '-PAD-', '-PAD-', '-PAD-', '-PAD-', '-PAD-', '-PAD-', '-PAD-', '-PAD-', '-PAD-', '-PAD-', '-PAD-', '-PAD-', '-PAD-', '-PAD-', '-PAD-', '-PAD-', '-PAD-', '-PAD-', '-PAD-', '-PAD-', '-PAD-', '-PAD-', '-PAD-', '-PAD-', '-PAD-', '-PAD-', '-PAD-', '-PAD-', '-PAD-', '-PAD-', '-PAD-', '-PAD-', '-PAD-', '-PAD-', '-PAD-', '-PAD-', '-PAD-', '-PAD-', '-PAD-', '-PAD-', '-PAD-', '-PAD-', '-PAD-', '-PAD-', '-PAD-', '-PAD-', '-PAD-', '-PAD-', '-PAD-', '-PAD-', '-PAD-', '-PAD-', '-PAD-', '-PAD-', '-PAD-', '-PAD-', '-PAD-'], ['PN', 'CL', 'NN', 'VV', 'NN', 'AD', 'VV', 'VV', 'PP', 'PN', 'CS', 'CS', 'LC', 'RL', 'PN', 'VV', 'VV', 'VV', 'NN', 'NN', 'PU', 'VV', 'NN', 'PU', 'CC', 'CC', 'QU', 'CL', 'AD', 'PU', '-PAD-', '-PAD-', '-PAD-', '-PAD-', '-PAD-', '-PAD-', '-PAD-', '-PAD-', '-PAD-', '-PAD-', '-PAD-', '-PAD-', '-PAD-', '-PAD-', '-PAD-', '-PAD-', '-PAD-', '-PAD-', '-PAD-', '-PAD-', '-PAD-', '-PAD-', '-PAD-', '-PAD-', '-PAD-', '-PAD-', '-PAD-', '-PAD-', '-PAD-', '-PAD-', '-PAD-', '-PAD-', '-PAD-', '-PAD-', '-PAD-', '-PAD-', '-PAD-', '-PAD-', '-PAD-', '-PAD-', '-PAD-', '-PAD-', '-PAD-', '-PAD-', '-PAD-', '-PAD-', '-PAD-', '-PAD-', '-PAD-', '-PAD-', '-PAD-', '-PAD-', '-PAD-', '-PAD-', '-PAD-', '-PAD-', '-PAD-', '-PAD-', '-PAD-', '-PAD-', '-PAD-', '-PAD-', '-PAD-'], ['CL', 'CS', 'VV', 'LC', 'CL', 'NN', 'AD', 'VV', 'CL', 'NN', 'VV', 'VV', 'PP', 'VV', 'NN', 'NN', 'PU', 'AD', 'VV', 'VV', 'VV', 'VV', 'LC', 'CL', 'NN', 'VV', 'PP', 'CL', 'NN', 'NN', 'CL', 'NN', 'PU', '-PAD-', '-PAD-', '-PAD-', '-PAD-', '-PAD-', '-PAD-', '-PAD-', '-PAD-', '-PAD-', '-PAD-', '-PAD-', '-PAD-', '-PAD-', '-PAD-', '-PAD-', '-PAD-', '-PAD-', '-PAD-', '-PAD-', '-PAD-', '-PAD-', '-PAD-', '-PAD-', '-PAD-', '-PAD-', '-PAD-', '-PAD-', '-PAD-', '-PAD-', '-PAD-', '-PAD-', '-PAD-', '-PAD-', '-PAD-', '-PAD-', '-PAD-', '-PAD-', '-PAD-', '-PAD-', '-PAD-', '-PAD-', '-PAD-', '-PAD-', '-PAD-', '-PAD-', '-PAD-', '-PAD-', '-PAD-', '-PAD-', '-PAD-', '-PAD-', '-PAD-', '-PAD-', '-PAD-', '-PAD-', '-PAD-', '-PAD-', '-PAD-', '-PAD-', '-PAD-'], ['CL', 'NN', 'VV', 'FW', 'VV', 'VV', 'PP', 'PN', 'CL', 'NN', 'PU', 'FW', 'FW', 'PU', 'PU', '-PAD-', '-PAD-', '-PAD-', '-PAD-', '-PAD-', '-PAD-', '-PAD-', '-PAD-', '-PAD-', '-PAD-', '-PAD-', '-PAD-', '-PAD-', '-PAD-', '-PAD-', '-PAD-', '-PAD-', '-PAD-', '-PAD-', '-PAD-', '-PAD-', '-PAD-', '-PAD-', '-PAD-', '-PAD-', '-PAD-', '-PAD-', '-PAD-', '-PAD-', '-PAD-', '-PAD-', '-PAD-', '-PAD-', '-PAD-', '-PAD-', '-PAD-', '-PAD-', '-PAD-', '-PAD-', '-PAD-', '-PAD-', '-PAD-', '-PAD-', '-PAD-', '-PAD-', '-PAD-', '-PAD-', '-PAD-', '-PAD-', '-PAD-', '-PAD-', '-PAD-', '-PAD-', '-PAD-', '-PAD-', '-PAD-', '-PAD-', '-PAD-', '-PAD-', '-PAD-', '-PAD-', '-PAD-', '-PAD-', '-PAD-', '-PAD-', '-PAD-', '-PAD-', '-PAD-', '-PAD-', '-PAD-', '-PAD-', '-PAD-', '-PAD-', '-PAD-', '-PAD-', '-PAD-', '-PAD-', '-PAD-'], ['CL', 'NN', 'VV', 'VV', 'VV', 'PU', 'VV', 'VV', 'PP', 'QU', 'CL', 'LC', 'NN', 'CL', 'NN', 'VV', 'VV', 'VV', 'PU', '-PAD-', '-PAD-', '-PAD-', '-PAD-', '-PAD-', '-PAD-', '-PAD-', '-PAD-', '-PAD-', '-PAD-', '-PAD-', '-PAD-', '-PAD-', '-PAD-', '-PAD-', '-PAD-', '-PAD-', '-PAD-', '-PAD-', '-PAD-', '-PAD-', '-PAD-', '-PAD-', '-PAD-', '-PAD-', '-PAD-', '-PAD-', '-PAD-', '-PAD-', '-PAD-', '-PAD-', '-PAD-', '-PAD-', '-PAD-', '-PAD-', '-PAD-', '-PAD-', '-PAD-', '-PAD-', '-PAD-', '-PAD-', '-PAD-', '-PAD-', '-PAD-', '-PAD-', '-PAD-', '-PAD-', '-PAD-', '-PAD-', '-PAD-', '-PAD-', '-PAD-', '-PAD-', '-PAD-', '-PAD-', '-PAD-', '-PAD-', '-PAD-', '-PAD-', '-PAD-', '-PAD-', '-PAD-', '-PAD-', '-PAD-', '-PAD-', '-PAD-', '-PAD-', '-PAD-', '-PAD-', '-PAD-', '-PAD-', '-PAD-', '-PAD-', '-PAD-'], ['AD', 'PU', 'AD', 'VV', 'CL', 'NN', 'VV', 'NN', 'VV', 'CS', 'VV', 'PP', 'PN', 'CL', 'NN', 'VV', 'NN', 'CS', 'VV', 'VV', 'AD', 'PU', '-PAD-', '-PAD-', '-PAD-', '-PAD-', '-PAD-', '-PAD-', '-PAD-', '-PAD-', '-PAD-', '-PAD-', '-PAD-', '-PAD-', '-PAD-', '-PAD-', '-PAD-', '-PAD-', '-PAD-', '-PAD-', '-PAD-', '-PAD-', '-PAD-', '-PAD-', '-PAD-', '-PAD-', '-PAD-', '-PAD-', '-PAD-', '-PAD-', '-PAD-', '-PAD-', '-PAD-', '-PAD-', '-PAD-', '-PAD-', '-PAD-', '-PAD-', '-PAD-', '-PAD-', '-PAD-', '-PAD-', '-PAD-', '-PAD-', '-PAD-', '-PAD-', '-PAD-', '-PAD-', '-PAD-', '-PAD-', '-PAD-', '-PAD-', '-PAD-', '-PAD-', '-PAD-', '-PAD-', '-PAD-', '-PAD-', '-PAD-', '-PAD-', '-PAD-', '-PAD-', '-PAD-', '-PAD-', '-PAD-', '-PAD-', '-PAD-', '-PAD-', '-PAD-', '-PAD-', '-PAD-', '-PAD-', '-PAD-'], ['AD', 'NN', 'VV', '-PAD-', '-PAD-', '-PAD-', '-PAD-', '-PAD-', '-PAD-', '-PAD-', '-PAD-', '-PAD-', '-PAD-', '-PAD-', '-PAD-', '-PAD-', '-PAD-', '-PAD-', '-PAD-', '-PAD-', '-PAD-', '-PAD-', '-PAD-', '-PAD-', '-PAD-', '-PAD-', '-PAD-', '-PAD-', '-PAD-', '-PAD-', '-PAD-', '-PAD-', '-PAD-', '-PAD-', '-PAD-', '-PAD-', '-PAD-', '-PAD-', '-PAD-', '-PAD-', '-PAD-', '-PAD-', '-PAD-', '-PAD-', '-PAD-', '-PAD-', '-PAD-', '-PAD-', '-PAD-', '-PAD-', '-PAD-', '-PAD-', '-PAD-', '-PAD-', '-PAD-', '-PAD-', '-PAD-', '-PAD-', '-PAD-', '-PAD-', '-PAD-', '-PAD-', '-PAD-', '-PAD-', '-PAD-', '-PAD-', '-PAD-', '-PAD-', '-PAD-', '-PAD-', '-PAD-', '-PAD-', '-PAD-', '-PAD-', '-PAD-', '-PAD-', '-PAD-', '-PAD-', '-PAD-', '-PAD-', '-PAD-', '-PAD-', '-PAD-', '-PAD-', '-PAD-', '-PAD-', '-PAD-', '-PAD-', '-PAD-', '-PAD-', '-PAD-', '-PAD-', '-PAD-'], ['CL', 'NN', 'VV', 'AD', 'VV', 'AD', 'VV', 'QU', 'CL', 'AD', 'AD', 'VV', 'PP', 'CL', 'NN', 'PU', 'CC', 'CC', 'AD', 'VV', 'VV', 'PP', 'CL', 'NN', 'NN', 'PU', '-PAD-', '-PAD-', '-PAD-', '-PAD-', '-PAD-', '-PAD-', '-PAD-', '-PAD-', '-PAD-', '-PAD-', '-PAD-', '-PAD-', '-PAD-', '-PAD-', '-PAD-', '-PAD-', '-PAD-', '-PAD-', '-PAD-', '-PAD-', '-PAD-', '-PAD-', '-PAD-', '-PAD-', '-PAD-', '-PAD-', '-PAD-', '-PAD-', '-PAD-', '-PAD-', '-PAD-', '-PAD-', '-PAD-', '-PAD-', '-PAD-', '-PAD-', '-PAD-', '-PAD-', '-PAD-', '-PAD-', '-PAD-', '-PAD-', '-PAD-', '-PAD-', '-PAD-', '-PAD-', '-PAD-', '-PAD-', '-PAD-', '-PAD-', '-PAD-', '-PAD-', '-PAD-', '-PAD-', '-PAD-', '-PAD-', '-PAD-', '-PAD-', '-PAD-', '-PAD-', '-PAD-', '-PAD-', '-PAD-', '-PAD-', '-PAD-', '-PAD-', '-PAD-'], ['CL', 'NN', 'PU', 'FW', 'FW', 'VV', 'VV', 'VV', 'CL', 'NN', 'FW', 'VV', 'PP', 'NN', 'PU', '-PAD-', '-PAD-', '-PAD-', '-PAD-', '-PAD-', '-PAD-', '-PAD-', '-PAD-', '-PAD-', '-PAD-', '-PAD-', '-PAD-', '-PAD-', '-PAD-', '-PAD-', '-PAD-', '-PAD-', '-PAD-', '-PAD-', '-PAD-', '-PAD-', '-PAD-', '-PAD-', '-PAD-', '-PAD-', '-PAD-', '-PAD-', '-PAD-', '-PAD-', '-PAD-', '-PAD-', '-PAD-', '-PAD-', '-PAD-', '-PAD-', '-PAD-', '-PAD-', '-PAD-', '-PAD-', '-PAD-', '-PAD-', '-PAD-', '-PAD-', '-PAD-', '-PAD-', '-PAD-', '-PAD-', '-PAD-', '-PAD-', '-PAD-', '-PAD-', '-PAD-', '-PAD-', '-PAD-', '-PAD-', '-PAD-', '-PAD-', '-PAD-', '-PAD-', '-PAD-', '-PAD-', '-PAD-', '-PAD-', '-PAD-', '-PAD-', '-PAD-', '-PAD-', '-PAD-', '-PAD-', '-PAD-', '-PAD-', '-PAD-', '-PAD-', '-PAD-', '-PAD-', '-PAD-', '-PAD-', '-PAD-'], ['CL', 'NN', 'NN', 'CS', 'VV', 'CL', 'NN', 'VV', 'CS', 'VV', 'VV', 'VV', 'PP', 'VV', 'CL', 'CS', 'AD', 'VV', 'VV', 'CL', 'NN', 'VV', 'NN', 'VV', 'VV', 'VV', 'QU', 'CL', 'PU', '-PAD-', '-PAD-', '-PAD-', '-PAD-', '-PAD-', '-PAD-', '-PAD-', '-PAD-', '-PAD-', '-PAD-', '-PAD-', '-PAD-', '-PAD-', '-PAD-', '-PAD-', '-PAD-', '-PAD-', '-PAD-', '-PAD-', '-PAD-', '-PAD-', '-PAD-', '-PAD-', '-PAD-', '-PAD-', '-PAD-', '-PAD-', '-PAD-', '-PAD-', '-PAD-', '-PAD-', '-PAD-', '-PAD-', '-PAD-', '-PAD-', '-PAD-', '-PAD-', '-PAD-', '-PAD-', '-PAD-', '-PAD-', '-PAD-', '-PAD-', '-PAD-', '-PAD-', '-PAD-', '-PAD-', '-PAD-', '-PAD-', '-PAD-', '-PAD-', '-PAD-', '-PAD-', '-PAD-', '-PAD-', '-PAD-', '-PAD-', '-PAD-', '-PAD-', '-PAD-', '-PAD-', '-PAD-', '-PAD-', '-PAD-'], ['CL', 'NN', 'DT', 'AD', 'AD', 'VV', 'AD', 'AD', 'VV', 'CL', 'NN', 'VV', 'NN', 'VV', 'AD', 'PU', 'FW', 'VV', 'PU', 'VV', 'CL', 'NN', 'VV', 'VV', 'VV', 'NN', 'PU', '-PAD-', '-PAD-', '-PAD-', '-PAD-', '-PAD-', '-PAD-', '-PAD-', '-PAD-', '-PAD-', '-PAD-', '-PAD-', '-PAD-', '-PAD-', '-PAD-', '-PAD-', '-PAD-', '-PAD-', '-PAD-', '-PAD-', '-PAD-', '-PAD-', '-PAD-', '-PAD-', '-PAD-', '-PAD-', '-PAD-', '-PAD-', '-PAD-', '-PAD-', '-PAD-', '-PAD-', '-PAD-', '-PAD-', '-PAD-', '-PAD-', '-PAD-', '-PAD-', '-PAD-', '-PAD-', '-PAD-', '-PAD-', '-PAD-', '-PAD-', '-PAD-', '-PAD-', '-PAD-', '-PAD-', '-PAD-', '-PAD-', '-PAD-', '-PAD-', '-PAD-', '-PAD-', '-PAD-', '-PAD-', '-PAD-', '-PAD-', '-PAD-', '-PAD-', '-PAD-', '-PAD-', '-PAD-', '-PAD-', '-PAD-', '-PAD-', '-PAD-'], ['AD', 'VV', 'VV', 'PP', 'NN', 'LC', 'NN', 'VV', 'VV', 'AD', 'CL', 'NN', 'AD', 'PP', 'VV', 'PU', '-PAD-', '-PAD-', '-PAD-', '-PAD-', '-PAD-', '-PAD-', '-PAD-', '-PAD-', '-PAD-', '-PAD-', '-PAD-', '-PAD-', '-PAD-', '-PAD-', '-PAD-', '-PAD-', '-PAD-', '-PAD-', '-PAD-', '-PAD-', '-PAD-', '-PAD-', '-PAD-', '-PAD-', '-PAD-', '-PAD-', '-PAD-', '-PAD-', '-PAD-', '-PAD-', '-PAD-', '-PAD-', '-PAD-', '-PAD-', '-PAD-', '-PAD-', '-PAD-', '-PAD-', '-PAD-', '-PAD-', '-PAD-', '-PAD-', '-PAD-', '-PAD-', '-PAD-', '-PAD-', '-PAD-', '-PAD-', '-PAD-', '-PAD-', '-PAD-', '-PAD-', '-PAD-', '-PAD-', '-PAD-', '-PAD-', '-PAD-', '-PAD-', '-PAD-', '-PAD-', '-PAD-', '-PAD-', '-PAD-', '-PAD-', '-PAD-', '-PAD-', '-PAD-', '-PAD-', '-PAD-', '-PAD-', '-PAD-', '-PAD-', '-PAD-', '-PAD-', '-PAD-', '-PAD-', '-PAD-'], ['PN', 'VV', 'QU', 'CL', 'NN', 'VV', 'VV', 'VV', 'VV', 'VV', 'NN', 'AD', 'VV', 'VV', 'CL', 'NN', 'FW', 'CS', 'VV', 'PU', '-PAD-', '-PAD-', '-PAD-', '-PAD-', '-PAD-', '-PAD-', '-PAD-', '-PAD-', '-PAD-', '-PAD-', '-PAD-', '-PAD-', '-PAD-', '-PAD-', '-PAD-', '-PAD-', '-PAD-', '-PAD-', '-PAD-', '-PAD-', '-PAD-', '-PAD-', '-PAD-', '-PAD-', '-PAD-', '-PAD-', '-PAD-', '-PAD-', '-PAD-', '-PAD-', '-PAD-', '-PAD-', '-PAD-', '-PAD-', '-PAD-', '-PAD-', '-PAD-', '-PAD-', '-PAD-', '-PAD-', '-PAD-', '-PAD-', '-PAD-', '-PAD-', '-PAD-', '-PAD-', '-PAD-', '-PAD-', '-PAD-', '-PAD-', '-PAD-', '-PAD-', '-PAD-', '-PAD-', '-PAD-', '-PAD-', '-PAD-', '-PAD-', '-PAD-', '-PAD-', '-PAD-', '-PAD-', '-PAD-', '-PAD-', '-PAD-', '-PAD-', '-PAD-', '-PAD-', '-PAD-', '-PAD-', '-PAD-', '-PAD-', '-PAD-'], ['PP', 'NN', 'NN', 'VV', 'VV', 'NN', 'CS', 'VV', 'VV', 'VV', 'LC', 'CL', 'NN', 'NN', 'AD', 'CS', 'AD', 'AD', 'VV', 'VV', 'VV', 'CL', 'NN', 'VV', 'DT', 'CS', 'AD', 'AD', 'VV', 'AD', 'PU', 'VV', 'VV', 'VV', 'VV', 'PP', 'CL', 'NN', 'CS', 'VV', 'NN', 'AD', 'VV', 'QU', 'QU', 'AD', 'AD', 'PU', '-PAD-', '-PAD-', '-PAD-', '-PAD-', '-PAD-', '-PAD-', '-PAD-', '-PAD-', '-PAD-', '-PAD-', '-PAD-', '-PAD-', '-PAD-', '-PAD-', '-PAD-', '-PAD-', '-PAD-', '-PAD-', '-PAD-', '-PAD-', '-PAD-', '-PAD-', '-PAD-', '-PAD-', '-PAD-', '-PAD-', '-PAD-', '-PAD-', '-PAD-', '-PAD-', '-PAD-', '-PAD-', '-PAD-', '-PAD-', '-PAD-', '-PAD-', '-PAD-', '-PAD-', '-PAD-', '-PAD-', '-PAD-', '-PAD-', '-PAD-', '-PAD-', '-PAD-'], ['VV', 'VV', 'NN', 'CC', 'CS', 'AD', 'AD', 'VV', 'VV', 'NN', 'CC', 'NN', 'VV', 'LC', 'CL', 'NN', 'PU', '-PAD-', '-PAD-', '-PAD-', '-PAD-', '-PAD-', '-PAD-', '-PAD-', '-PAD-', '-PAD-', '-PAD-', '-PAD-', '-PAD-', '-PAD-', '-PAD-', '-PAD-', '-PAD-', '-PAD-', '-PAD-', '-PAD-', '-PAD-', '-PAD-', '-PAD-', '-PAD-', '-PAD-', '-PAD-', '-PAD-', '-PAD-', '-PAD-', '-PAD-', '-PAD-', '-PAD-', '-PAD-', '-PAD-', '-PAD-', '-PAD-', '-PAD-', '-PAD-', '-PAD-', '-PAD-', '-PAD-', '-PAD-', '-PAD-', '-PAD-', '-PAD-', '-PAD-', '-PAD-', '-PAD-', '-PAD-', '-PAD-', '-PAD-', '-PAD-', '-PAD-', '-PAD-', '-PAD-', '-PAD-', '-PAD-', '-PAD-', '-PAD-', '-PAD-', '-PAD-', '-PAD-', '-PAD-', '-PAD-', '-PAD-', '-PAD-', '-PAD-', '-PAD-', '-PAD-', '-PAD-', '-PAD-', '-PAD-', '-PAD-', '-PAD-', '-PAD-', '-PAD-', '-PAD-'], ['CL', 'NN', 'CS', 'NN', 'FW', 'VV', 'VV', 'AD', 'AD', 'VV', 'PP', 'NN', 'VV', 'LC', 'CL', 'NN', 'NN', 'VV', 'NN', 'NN', 'PU', 'VV', 'NN', 'NN', 'PU', 'CC', 'CC', 'VV', 'VV', 'VV', 'VV', 'VV', 'PP', 'PP', 'LC', 'VV', 'NN', 'VV', 'VV', 'QU', 'CL', 'CS', 'AD', 'VV', 'NN', 'NN', 'PP', 'AD', 'PU', 'CS', 'CS', 'QU', 'CL', 'AD', 'VV', 'QU', 'VV', 'PU', 'CC', 'VV', 'VV', 'VV', 'CL', 'LC', 'NN', 'VV', 'NN', 'VV', 'AD', 'PU', 'CC', 'AD', 'AD', 'AD', 'AD', 'VV', 'VV', 'QU', 'CL', 'CL', 'LC', 'NN', 'VV', 'CL', 'NN', 'AD', 'PU', '-PAD-', '-PAD-', '-PAD-', '-PAD-', '-PAD-', '-PAD-'], ['AD', 'VV', 'NN', 'FW', 'PP', 'LC', 'QU', 'PP', 'QU', 'CL', 'LC', 'NN', 'VV', 'AD', 'AD', 'PU', '-PAD-', '-PAD-', '-PAD-', '-PAD-', '-PAD-', '-PAD-', '-PAD-', '-PAD-', '-PAD-', '-PAD-', '-PAD-', '-PAD-', '-PAD-', '-PAD-', '-PAD-', '-PAD-', '-PAD-', '-PAD-', '-PAD-', '-PAD-', '-PAD-', '-PAD-', '-PAD-', '-PAD-', '-PAD-', '-PAD-', '-PAD-', '-PAD-', '-PAD-', '-PAD-', '-PAD-', '-PAD-', '-PAD-', '-PAD-', '-PAD-', '-PAD-', '-PAD-', '-PAD-', '-PAD-', '-PAD-', '-PAD-', '-PAD-', '-PAD-', '-PAD-', '-PAD-', '-PAD-', '-PAD-', '-PAD-', '-PAD-', '-PAD-', '-PAD-', '-PAD-', '-PAD-', '-PAD-', '-PAD-', '-PAD-', '-PAD-', '-PAD-', '-PAD-', '-PAD-', '-PAD-', '-PAD-', '-PAD-', '-PAD-', '-PAD-', '-PAD-', '-PAD-', '-PAD-', '-PAD-', '-PAD-', '-PAD-', '-PAD-', '-PAD-', '-PAD-', '-PAD-', '-PAD-', '-PAD-'], ['CL', 'RL', 'AD', 'AD', 'VV', 'VV', 'CL', 'NN', 'VV', 'FW', 'VV', 'VV', 'PU', '-PAD-', '-PAD-', '-PAD-', '-PAD-', '-PAD-', '-PAD-', '-PAD-', '-PAD-', '-PAD-', '-PAD-', '-PAD-', '-PAD-', '-PAD-', '-PAD-', '-PAD-', '-PAD-', '-PAD-', '-PAD-', '-PAD-', '-PAD-', '-PAD-', '-PAD-', '-PAD-', '-PAD-', '-PAD-', '-PAD-', '-PAD-', '-PAD-', '-PAD-', '-PAD-', '-PAD-', '-PAD-', '-PAD-', '-PAD-', '-PAD-', '-PAD-', '-PAD-', '-PAD-', '-PAD-', '-PAD-', '-PAD-', '-PAD-', '-PAD-', '-PAD-', '-PAD-', '-PAD-', '-PAD-', '-PAD-', '-PAD-', '-PAD-', '-PAD-', '-PAD-', '-PAD-', '-PAD-', '-PAD-', '-PAD-', '-PAD-', '-PAD-', '-PAD-', '-PAD-', '-PAD-', '-PAD-', '-PAD-', '-PAD-', '-PAD-', '-PAD-', '-PAD-', '-PAD-', '-PAD-', '-PAD-', '-PAD-', '-PAD-', '-PAD-', '-PAD-', '-PAD-', '-PAD-', '-PAD-', '-PAD-', '-PAD-', '-PAD-'], ['CL', 'NN', 'VV', 'DT', 'AD', 'VV', 'AD', 'VV', 'VV', 'LC', 'NN', 'NN', 'NN', 'PU', 'VV', 'NN', 'NN', 'PU', 'VV', 'VV', 'VV', 'VV', 'PU', 'CL', 'NN', 'NN', 'PU', 'CC', 'CC', 'QU', 'CL', 'PU', '-PAD-', '-PAD-', '-PAD-', '-PAD-', '-PAD-', '-PAD-', '-PAD-', '-PAD-', '-PAD-', '-PAD-', '-PAD-', '-PAD-', '-PAD-', '-PAD-', '-PAD-', '-PAD-', '-PAD-', '-PAD-', '-PAD-', '-PAD-', '-PAD-', '-PAD-', '-PAD-', '-PAD-', '-PAD-', '-PAD-', '-PAD-', '-PAD-', '-PAD-', '-PAD-', '-PAD-', '-PAD-', '-PAD-', '-PAD-', '-PAD-', '-PAD-', '-PAD-', '-PAD-', '-PAD-', '-PAD-', '-PAD-', '-PAD-', '-PAD-', '-PAD-', '-PAD-', '-PAD-', '-PAD-', '-PAD-', '-PAD-', '-PAD-', '-PAD-', '-PAD-', '-PAD-', '-PAD-', '-PAD-', '-PAD-', '-PAD-', '-PAD-', '-PAD-', '-PAD-', '-PAD-'], ['NN', 'NN', 'AD', 'VV', 'VV', 'PP', 'NN', 'AD', 'VV', 'CL', 'NN', 'VV', 'FW', 'PU', '-PAD-', '-PAD-', '-PAD-', '-PAD-', '-PAD-', '-PAD-', '-PAD-', '-PAD-', '-PAD-', '-PAD-', '-PAD-', '-PAD-', '-PAD-', '-PAD-', '-PAD-', '-PAD-', '-PAD-', '-PAD-', '-PAD-', '-PAD-', '-PAD-', '-PAD-', '-PAD-', '-PAD-', '-PAD-', '-PAD-', '-PAD-', '-PAD-', '-PAD-', '-PAD-', '-PAD-', '-PAD-', '-PAD-', '-PAD-', '-PAD-', '-PAD-', '-PAD-', '-PAD-', '-PAD-', '-PAD-', '-PAD-', '-PAD-', '-PAD-', '-PAD-', '-PAD-', '-PAD-', '-PAD-', '-PAD-', '-PAD-', '-PAD-', '-PAD-', '-PAD-', '-PAD-', '-PAD-', '-PAD-', '-PAD-', '-PAD-', '-PAD-', '-PAD-', '-PAD-', '-PAD-', '-PAD-', '-PAD-', '-PAD-', '-PAD-', '-PAD-', '-PAD-', '-PAD-', '-PAD-', '-PAD-', '-PAD-', '-PAD-', '-PAD-', '-PAD-', '-PAD-', '-PAD-', '-PAD-', '-PAD-', '-PAD-'], ['LC', 'DT', 'CS', 'QU', 'CL', 'AD', 'VV', 'PN', 'AD', 'AD', 'VV', 'AD', 'PU', 'PU', 'FW', 'VV', 'QU', 'CL', 'NN', 'VV', 'VV', 'VV', 'CS', 'AD', 'AD', 'VV', 'VV', 'CC', 'VV', 'CL', 'NN', 'CS', 'CS', 'AD', 'VV', 'VV', 'PU', '-PAD-', '-PAD-', '-PAD-', '-PAD-', '-PAD-', '-PAD-', '-PAD-', '-PAD-', '-PAD-', '-PAD-', '-PAD-', '-PAD-', '-PAD-', '-PAD-', '-PAD-', '-PAD-', '-PAD-', '-PAD-', '-PAD-', '-PAD-', '-PAD-', '-PAD-', '-PAD-', '-PAD-', '-PAD-', '-PAD-', '-PAD-', '-PAD-', '-PAD-', '-PAD-', '-PAD-', '-PAD-', '-PAD-', '-PAD-', '-PAD-', '-PAD-', '-PAD-', '-PAD-', '-PAD-', '-PAD-', '-PAD-', '-PAD-', '-PAD-', '-PAD-', '-PAD-', '-PAD-', '-PAD-', '-PAD-', '-PAD-', '-PAD-', '-PAD-', '-PAD-', '-PAD-', '-PAD-', '-PAD-', '-PAD-'], ['VV', 'PP', 'VV', 'PP', 'CL', 'NN', 'VV', 'FW', 'PU', 'CL', 'NN', 'VV', 'FW', 'AD', 'VV', 'VV', 'VV', 'PP', 'LC', 'NN', 'NN', 'PN', 'AD', 'PU', '-PAD-', '-PAD-', '-PAD-', '-PAD-', '-PAD-', '-PAD-', '-PAD-', '-PAD-', '-PAD-', '-PAD-', '-PAD-', '-PAD-', '-PAD-', '-PAD-', '-PAD-', '-PAD-', '-PAD-', '-PAD-', '-PAD-', '-PAD-', '-PAD-', '-PAD-', '-PAD-', '-PAD-', '-PAD-', '-PAD-', '-PAD-', '-PAD-', '-PAD-', '-PAD-', '-PAD-', '-PAD-', '-PAD-', '-PAD-', '-PAD-', '-PAD-', '-PAD-', '-PAD-', '-PAD-', '-PAD-', '-PAD-', '-PAD-', '-PAD-', '-PAD-', '-PAD-', '-PAD-', '-PAD-', '-PAD-', '-PAD-', '-PAD-', '-PAD-', '-PAD-', '-PAD-', '-PAD-', '-PAD-', '-PAD-', '-PAD-', '-PAD-', '-PAD-', '-PAD-', '-PAD-', '-PAD-', '-PAD-', '-PAD-', '-PAD-', '-PAD-', '-PAD-', '-PAD-', '-PAD-'], ['PN', 'VV', 'VV', 'CL', 'NN', 'VV', 'DT', 'PP', 'NN', 'PU', '-PAD-', '-PAD-', '-PAD-', '-PAD-', '-PAD-', '-PAD-', '-PAD-', '-PAD-', '-PAD-', '-PAD-', '-PAD-', '-PAD-', '-PAD-', '-PAD-', '-PAD-', '-PAD-', '-PAD-', '-PAD-', '-PAD-', '-PAD-', '-PAD-', '-PAD-', '-PAD-', '-PAD-', '-PAD-', '-PAD-', '-PAD-', '-PAD-', '-PAD-', '-PAD-', '-PAD-', '-PAD-', '-PAD-', '-PAD-', '-PAD-', '-PAD-', '-PAD-', '-PAD-', '-PAD-', '-PAD-', '-PAD-', '-PAD-', '-PAD-', '-PAD-', '-PAD-', '-PAD-', '-PAD-', '-PAD-', '-PAD-', '-PAD-', '-PAD-', '-PAD-', '-PAD-', '-PAD-', '-PAD-', '-PAD-', '-PAD-', '-PAD-', '-PAD-', '-PAD-', '-PAD-', '-PAD-', '-PAD-', '-PAD-', '-PAD-', '-PAD-', '-PAD-', '-PAD-', '-PAD-', '-PAD-', '-PAD-', '-PAD-', '-PAD-', '-PAD-', '-PAD-', '-PAD-', '-PAD-', '-PAD-', '-PAD-', '-PAD-', '-PAD-', '-PAD-', '-PAD-'], ['NN', 'FW', 'VV', 'NN', 'NN', 'PU', '-PAD-', '-PAD-', '-PAD-', '-PAD-', '-PAD-', '-PAD-', '-PAD-', '-PAD-', '-PAD-', '-PAD-', '-PAD-', '-PAD-', '-PAD-', '-PAD-', '-PAD-', '-PAD-', '-PAD-', '-PAD-', '-PAD-', '-PAD-', '-PAD-', '-PAD-', '-PAD-', '-PAD-', '-PAD-', '-PAD-', '-PAD-', '-PAD-', '-PAD-', '-PAD-', '-PAD-', '-PAD-', '-PAD-', '-PAD-', '-PAD-', '-PAD-', '-PAD-', '-PAD-', '-PAD-', '-PAD-', '-PAD-', '-PAD-', '-PAD-', '-PAD-', '-PAD-', '-PAD-', '-PAD-', '-PAD-', '-PAD-', '-PAD-', '-PAD-', '-PAD-', '-PAD-', '-PAD-', '-PAD-', '-PAD-', '-PAD-', '-PAD-', '-PAD-', '-PAD-', '-PAD-', '-PAD-', '-PAD-', '-PAD-', '-PAD-', '-PAD-', '-PAD-', '-PAD-', '-PAD-', '-PAD-', '-PAD-', '-PAD-', '-PAD-', '-PAD-', '-PAD-', '-PAD-', '-PAD-', '-PAD-', '-PAD-', '-PAD-', '-PAD-', '-PAD-', '-PAD-', '-PAD-', '-PAD-', '-PAD-', '-PAD-'], ['CL', 'QU', 'CL', 'NN', 'CS', 'VV', 'CL', 'NN', 'FW', 'LC', 'NN', 'NN', 'PN', 'PN', 'VV', 'VV', 'AD', 'VV', 'NN', 'VV', 'PP', 'LC', 'CL', 'NN', 'NN', 'VV', 'CC', 'CL', 'NN', 'VV', 'VV', 'VV', 'PU', '-PAD-', '-PAD-', '-PAD-', '-PAD-', '-PAD-', '-PAD-', '-PAD-', '-PAD-', '-PAD-', '-PAD-', '-PAD-', '-PAD-', '-PAD-', '-PAD-', '-PAD-', '-PAD-', '-PAD-', '-PAD-', '-PAD-', '-PAD-', '-PAD-', '-PAD-', '-PAD-', '-PAD-', '-PAD-', '-PAD-', '-PAD-', '-PAD-', '-PAD-', '-PAD-', '-PAD-', '-PAD-', '-PAD-', '-PAD-', '-PAD-', '-PAD-', '-PAD-', '-PAD-', '-PAD-', '-PAD-', '-PAD-', '-PAD-', '-PAD-', '-PAD-', '-PAD-', '-PAD-', '-PAD-', '-PAD-', '-PAD-', '-PAD-', '-PAD-', '-PAD-', '-PAD-', '-PAD-', '-PAD-', '-PAD-', '-PAD-', '-PAD-', '-PAD-', '-PAD-'], ['VV', 'CL', 'FW', 'DT', 'VV', 'QU', 'CL', 'NN', 'LC', 'PN', 'CL', 'NN', 'PU', 'CL', 'VV', 'AD', 'VV', 'PP', 'QU', 'CL', 'PU', '-PAD-', '-PAD-', '-PAD-', '-PAD-', '-PAD-', '-PAD-', '-PAD-', '-PAD-', '-PAD-', '-PAD-', '-PAD-', '-PAD-', '-PAD-', '-PAD-', '-PAD-', '-PAD-', '-PAD-', '-PAD-', '-PAD-', '-PAD-', '-PAD-', '-PAD-', '-PAD-', '-PAD-', '-PAD-', '-PAD-', '-PAD-', '-PAD-', '-PAD-', '-PAD-', '-PAD-', '-PAD-', '-PAD-', '-PAD-', '-PAD-', '-PAD-', '-PAD-', '-PAD-', '-PAD-', '-PAD-', '-PAD-', '-PAD-', '-PAD-', '-PAD-', '-PAD-', '-PAD-', '-PAD-', '-PAD-', '-PAD-', '-PAD-', '-PAD-', '-PAD-', '-PAD-', '-PAD-', '-PAD-', '-PAD-', '-PAD-', '-PAD-', '-PAD-', '-PAD-', '-PAD-', '-PAD-', '-PAD-', '-PAD-', '-PAD-', '-PAD-', '-PAD-', '-PAD-', '-PAD-', '-PAD-', '-PAD-', '-PAD-'], ['VV', 'CL', 'LC', 'AD', 'VV', 'AD', 'VV', 'PU', '-PAD-', '-PAD-', '-PAD-', '-PAD-', '-PAD-', '-PAD-', '-PAD-', '-PAD-', '-PAD-', '-PAD-', '-PAD-', '-PAD-', '-PAD-', '-PAD-', '-PAD-', '-PAD-', '-PAD-', '-PAD-', '-PAD-', '-PAD-', '-PAD-', '-PAD-', '-PAD-', '-PAD-', '-PAD-', '-PAD-', '-PAD-', '-PAD-', '-PAD-', '-PAD-', '-PAD-', '-PAD-', '-PAD-', '-PAD-', '-PAD-', '-PAD-', '-PAD-', '-PAD-', '-PAD-', '-PAD-', '-PAD-', '-PAD-', '-PAD-', '-PAD-', '-PAD-', '-PAD-', '-PAD-', '-PAD-', '-PAD-', '-PAD-', '-PAD-', '-PAD-', '-PAD-', '-PAD-', '-PAD-', '-PAD-', '-PAD-', '-PAD-', '-PAD-', '-PAD-', '-PAD-', '-PAD-', '-PAD-', '-PAD-', '-PAD-', '-PAD-', '-PAD-', '-PAD-', '-PAD-', '-PAD-', '-PAD-', '-PAD-', '-PAD-', '-PAD-', '-PAD-', '-PAD-', '-PAD-', '-PAD-', '-PAD-', '-PAD-', '-PAD-', '-PAD-', '-PAD-', '-PAD-', '-PAD-'], ['CL', 'NN', 'NN', 'VV', 'VV', 'VV', 'VV', 'VV', 'CL', 'NN', 'VV', 'FW', 'CS', 'AD', 'VV', 'PP', 'CL', 'NN', 'NN', 'VV', 'VV', 'PU', 'CL', 'VV', 'PU', 'CC', 'CL', 'VV', 'NN', 'NN', 'VV', 'VV', 'NN', 'PU', '-PAD-', '-PAD-', '-PAD-', '-PAD-', '-PAD-', '-PAD-', '-PAD-', '-PAD-', '-PAD-', '-PAD-', '-PAD-', '-PAD-', '-PAD-', '-PAD-', '-PAD-', '-PAD-', '-PAD-', '-PAD-', '-PAD-', '-PAD-', '-PAD-', '-PAD-', '-PAD-', '-PAD-', '-PAD-', '-PAD-', '-PAD-', '-PAD-', '-PAD-', '-PAD-', '-PAD-', '-PAD-', '-PAD-', '-PAD-', '-PAD-', '-PAD-', '-PAD-', '-PAD-', '-PAD-', '-PAD-', '-PAD-', '-PAD-', '-PAD-', '-PAD-', '-PAD-', '-PAD-', '-PAD-', '-PAD-', '-PAD-', '-PAD-', '-PAD-', '-PAD-', '-PAD-', '-PAD-', '-PAD-', '-PAD-', '-PAD-', '-PAD-', '-PAD-'], ['CL', 'NN', 'CS', 'VV', 'CL', 'NN', 'AD', 'VV', 'VV', 'VV', 'CL', 'AD', 'VV', 'VV', 'PP', 'NN', 'VV', 'VV', 'NN', 'VV', 'CL', 'NN', 'VV', 'PU', '-PAD-', '-PAD-', '-PAD-', '-PAD-', '-PAD-', '-PAD-', '-PAD-', '-PAD-', '-PAD-', '-PAD-', '-PAD-', '-PAD-', '-PAD-', '-PAD-', '-PAD-', '-PAD-', '-PAD-', '-PAD-', '-PAD-', '-PAD-', '-PAD-', '-PAD-', '-PAD-', '-PAD-', '-PAD-', '-PAD-', '-PAD-', '-PAD-', '-PAD-', '-PAD-', '-PAD-', '-PAD-', '-PAD-', '-PAD-', '-PAD-', '-PAD-', '-PAD-', '-PAD-', '-PAD-', '-PAD-', '-PAD-', '-PAD-', '-PAD-', '-PAD-', '-PAD-', '-PAD-', '-PAD-', '-PAD-', '-PAD-', '-PAD-', '-PAD-', '-PAD-', '-PAD-', '-PAD-', '-PAD-', '-PAD-', '-PAD-', '-PAD-', '-PAD-', '-PAD-', '-PAD-', '-PAD-', '-PAD-', '-PAD-', '-PAD-', '-PAD-', '-PAD-', '-PAD-', '-PAD-'], ['VV', 'VV', 'VV', 'CS', 'CL', 'NN', 'DT', 'AD', 'VV', 'QU', 'CL', 'NN', 'NN', 'PP', 'LC', 'CL', 'NN', 'VV', 'VV', 'CL', 'NN', 'LC', 'NN', 'VV', 'CL', 'NN', 'AD', 'PU', 'CC', 'CC', 'VV', 'PP', 'CL', 'NN', 'CS', 'VV', 'VV', 'FW', 'PU', 'FW', 'AD', 'AD', 'VV', 'VV', 'CL', 'NN', 'VV', 'DT', 'VV', 'LC', 'PN', 'CL', 'NN', 'VV', 'PP', 'CL', 'CS', 'VV', 'VV', 'FW', 'PU', 'VV', 'PU', '-PAD-', '-PAD-', '-PAD-', '-PAD-', '-PAD-', '-PAD-', '-PAD-', '-PAD-', '-PAD-', '-PAD-', '-PAD-', '-PAD-', '-PAD-', '-PAD-', '-PAD-', '-PAD-', '-PAD-', '-PAD-', '-PAD-', '-PAD-', '-PAD-', '-PAD-', '-PAD-', '-PAD-', '-PAD-', '-PAD-', '-PAD-', '-PAD-', '-PAD-', '-PAD-'], ['FW', 'VV', 'VV', 'VV', 'PP', 'CL', 'NN', 'CS', 'VV', 'LC', 'CL', 'NN', 'VV', 'CL', 'NN', 'NN', 'VV', 'VV', 'VV', 'VV', 'CC', 'CC', 'NN', 'VV', 'NN', 'NN', 'VV', 'PU', 'CS', 'CL', 'NN', 'NN', 'VV', 'VV', 'NN', 'VV', 'LC', 'NN', 'NN', 'NN', 'AD', 'VV', 'NN', 'PU', 'CC', 'CC', 'VV', 'CL', 'NN', 'NN', 'VV', 'PP', 'QU', 'CL', 'NN', 'CS', 'VV', 'VV', 'PP', 'LC', 'PN', 'CL', 'NN', 'PU', '-PAD-', '-PAD-', '-PAD-', '-PAD-', '-PAD-', '-PAD-', '-PAD-', '-PAD-', '-PAD-', '-PAD-', '-PAD-', '-PAD-', '-PAD-', '-PAD-', '-PAD-', '-PAD-', '-PAD-', '-PAD-', '-PAD-', '-PAD-', '-PAD-', '-PAD-', '-PAD-', '-PAD-', '-PAD-', '-PAD-', '-PAD-', '-PAD-', '-PAD-'], ['VV', 'NN', 'NN', 'PU', '-PAD-', '-PAD-', '-PAD-', '-PAD-', '-PAD-', '-PAD-', '-PAD-', '-PAD-', '-PAD-', '-PAD-', '-PAD-', '-PAD-', '-PAD-', '-PAD-', '-PAD-', '-PAD-', '-PAD-', '-PAD-', '-PAD-', '-PAD-', '-PAD-', '-PAD-', '-PAD-', '-PAD-', '-PAD-', '-PAD-', '-PAD-', '-PAD-', '-PAD-', '-PAD-', '-PAD-', '-PAD-', '-PAD-', '-PAD-', '-PAD-', '-PAD-', '-PAD-', '-PAD-', '-PAD-', '-PAD-', '-PAD-', '-PAD-', '-PAD-', '-PAD-', '-PAD-', '-PAD-', '-PAD-', '-PAD-', '-PAD-', '-PAD-', '-PAD-', '-PAD-', '-PAD-', '-PAD-', '-PAD-', '-PAD-', '-PAD-', '-PAD-', '-PAD-', '-PAD-', '-PAD-', '-PAD-', '-PAD-', '-PAD-', '-PAD-', '-PAD-', '-PAD-', '-PAD-', '-PAD-', '-PAD-', '-PAD-', '-PAD-', '-PAD-', '-PAD-', '-PAD-', '-PAD-', '-PAD-', '-PAD-', '-PAD-', '-PAD-', '-PAD-', '-PAD-', '-PAD-', '-PAD-', '-PAD-', '-PAD-', '-PAD-', '-PAD-', '-PAD-'], ['PU', 'VV', 'NN', 'CS', 'VV', 'CC', 'VV', 'CS', 'VV', 'PU', '-PAD-', '-PAD-', '-PAD-', '-PAD-', '-PAD-', '-PAD-', '-PAD-', '-PAD-', '-PAD-', '-PAD-', '-PAD-', '-PAD-', '-PAD-', '-PAD-', '-PAD-', '-PAD-', '-PAD-', '-PAD-', '-PAD-', '-PAD-', '-PAD-', '-PAD-', '-PAD-', '-PAD-', '-PAD-', '-PAD-', '-PAD-', '-PAD-', '-PAD-', '-PAD-', '-PAD-', '-PAD-', '-PAD-', '-PAD-', '-PAD-', '-PAD-', '-PAD-', '-PAD-', '-PAD-', '-PAD-', '-PAD-', '-PAD-', '-PAD-', '-PAD-', '-PAD-', '-PAD-', '-PAD-', '-PAD-', '-PAD-', '-PAD-', '-PAD-', '-PAD-', '-PAD-', '-PAD-', '-PAD-', '-PAD-', '-PAD-', '-PAD-', '-PAD-', '-PAD-', '-PAD-', '-PAD-', '-PAD-', '-PAD-', '-PAD-', '-PAD-', '-PAD-', '-PAD-', '-PAD-', '-PAD-', '-PAD-', '-PAD-', '-PAD-', '-PAD-', '-PAD-', '-PAD-', '-PAD-', '-PAD-', '-PAD-', '-PAD-', '-PAD-', '-PAD-', '-PAD-'], ['CL', 'NN', 'FW', 'AD', 'VV', 'PP', 'VV', 'VV', 'PP', 'CL', 'VV', 'VV', 'VV', 'LC', 'CL', 'NN', 'CS', 'VV', 'CL', 'NN', 'PU', '-PAD-', '-PAD-', '-PAD-', '-PAD-', '-PAD-', '-PAD-', '-PAD-', '-PAD-', '-PAD-', '-PAD-', '-PAD-', '-PAD-', '-PAD-', '-PAD-', '-PAD-', '-PAD-', '-PAD-', '-PAD-', '-PAD-', '-PAD-', '-PAD-', '-PAD-', '-PAD-', '-PAD-', '-PAD-', '-PAD-', '-PAD-', '-PAD-', '-PAD-', '-PAD-', '-PAD-', '-PAD-', '-PAD-', '-PAD-', '-PAD-', '-PAD-', '-PAD-', '-PAD-', '-PAD-', '-PAD-', '-PAD-', '-PAD-', '-PAD-', '-PAD-', '-PAD-', '-PAD-', '-PAD-', '-PAD-', '-PAD-', '-PAD-', '-PAD-', '-PAD-', '-PAD-', '-PAD-', '-PAD-', '-PAD-', '-PAD-', '-PAD-', '-PAD-', '-PAD-', '-PAD-', '-PAD-', '-PAD-', '-PAD-', '-PAD-', '-PAD-', '-PAD-', '-PAD-', '-PAD-', '-PAD-', '-PAD-', '-PAD-'], ['PU', 'VV', 'PU', 'VV', 'NN', '-PAD-', '-PAD-', '-PAD-', '-PAD-', '-PAD-', '-PAD-', '-PAD-', '-PAD-', '-PAD-', '-PAD-', '-PAD-', '-PAD-', '-PAD-', '-PAD-', '-PAD-', '-PAD-', '-PAD-', '-PAD-', '-PAD-', '-PAD-', '-PAD-', '-PAD-', '-PAD-', '-PAD-', '-PAD-', '-PAD-', '-PAD-', '-PAD-', '-PAD-', '-PAD-', '-PAD-', '-PAD-', '-PAD-', '-PAD-', '-PAD-', '-PAD-', '-PAD-', '-PAD-', '-PAD-', '-PAD-', '-PAD-', '-PAD-', '-PAD-', '-PAD-', '-PAD-', '-PAD-', '-PAD-', '-PAD-', '-PAD-', '-PAD-', '-PAD-', '-PAD-', '-PAD-', '-PAD-', '-PAD-', '-PAD-', '-PAD-', '-PAD-', '-PAD-', '-PAD-', '-PAD-', '-PAD-', '-PAD-', '-PAD-', '-PAD-', '-PAD-', '-PAD-', '-PAD-', '-PAD-', '-PAD-', '-PAD-', '-PAD-', '-PAD-', '-PAD-', '-PAD-', '-PAD-', '-PAD-', '-PAD-', '-PAD-', '-PAD-', '-PAD-', '-PAD-', '-PAD-', '-PAD-', '-PAD-', '-PAD-', '-PAD-', '-PAD-'], ['VV', 'AD', 'VV', 'CS', 'CL', 'NN', 'DT', 'VV', 'VV', 'VV', 'NN', 'PP', 'VV', 'VV', 'PU', '-PAD-', '-PAD-', '-PAD-', '-PAD-', '-PAD-', '-PAD-', '-PAD-', '-PAD-', '-PAD-', '-PAD-', '-PAD-', '-PAD-', '-PAD-', '-PAD-', '-PAD-', '-PAD-', '-PAD-', '-PAD-', '-PAD-', '-PAD-', '-PAD-', '-PAD-', '-PAD-', '-PAD-', '-PAD-', '-PAD-', '-PAD-', '-PAD-', '-PAD-', '-PAD-', '-PAD-', '-PAD-', '-PAD-', '-PAD-', '-PAD-', '-PAD-', '-PAD-', '-PAD-', '-PAD-', '-PAD-', '-PAD-', '-PAD-', '-PAD-', '-PAD-', '-PAD-', '-PAD-', '-PAD-', '-PAD-', '-PAD-', '-PAD-', '-PAD-', '-PAD-', '-PAD-', '-PAD-', '-PAD-', '-PAD-', '-PAD-', '-PAD-', '-PAD-', '-PAD-', '-PAD-', '-PAD-', '-PAD-', '-PAD-', '-PAD-', '-PAD-', '-PAD-', '-PAD-', '-PAD-', '-PAD-', '-PAD-', '-PAD-', '-PAD-', '-PAD-', '-PAD-', '-PAD-', '-PAD-', '-PAD-'], ['FW', 'CC', 'FW', 'CS', 'VV', 'PP', 'FW', 'FW', 'PU', 'CC', 'CC', 'CL', 'NN', 'VV', 'RL', 'VV', 'VV', 'CL', 'NN', 'VV', 'NN', 'VV', 'FW', 'PU', 'CC', 'CC', 'CL', 'NN', 'VV', 'LC', 'CL', 'NN', 'VV', 'DT', 'AD', 'VV', 'QU', 'CL', 'NN', 'VV', 'VV', 'CC', 'PU', '-PAD-', '-PAD-', '-PAD-', '-PAD-', '-PAD-', '-PAD-', '-PAD-', '-PAD-', '-PAD-', '-PAD-', '-PAD-', '-PAD-', '-PAD-', '-PAD-', '-PAD-', '-PAD-', '-PAD-', '-PAD-', '-PAD-', '-PAD-', '-PAD-', '-PAD-', '-PAD-', '-PAD-', '-PAD-', '-PAD-', '-PAD-', '-PAD-', '-PAD-', '-PAD-', '-PAD-', '-PAD-', '-PAD-', '-PAD-', '-PAD-', '-PAD-', '-PAD-', '-PAD-', '-PAD-', '-PAD-', '-PAD-', '-PAD-', '-PAD-', '-PAD-', '-PAD-', '-PAD-', '-PAD-', '-PAD-', '-PAD-', '-PAD-'], ['NN', 'NN', 'VV', 'NN', 'AD', 'VV', 'LC', 'RL', 'CS', 'PN', 'AD', 'VV', 'VV', 'VV', 'CL', 'NN', 'NN', 'LC', 'NN', 'NN', 'NN', 'CC', 'CC', 'CL', 'NN', 'PU', '-PAD-', '-PAD-', '-PAD-', '-PAD-', '-PAD-', '-PAD-', '-PAD-', '-PAD-', '-PAD-', '-PAD-', '-PAD-', '-PAD-', '-PAD-', '-PAD-', '-PAD-', '-PAD-', '-PAD-', '-PAD-', '-PAD-', '-PAD-', '-PAD-', '-PAD-', '-PAD-', '-PAD-', '-PAD-', '-PAD-', '-PAD-', '-PAD-', '-PAD-', '-PAD-', '-PAD-', '-PAD-', '-PAD-', '-PAD-', '-PAD-', '-PAD-', '-PAD-', '-PAD-', '-PAD-', '-PAD-', '-PAD-', '-PAD-', '-PAD-', '-PAD-', '-PAD-', '-PAD-', '-PAD-', '-PAD-', '-PAD-', '-PAD-', '-PAD-', '-PAD-', '-PAD-', '-PAD-', '-PAD-', '-PAD-', '-PAD-', '-PAD-', '-PAD-', '-PAD-', '-PAD-', '-PAD-', '-PAD-', '-PAD-', '-PAD-', '-PAD-', '-PAD-'], ['PU', 'VV', 'NN', 'NN', '-PAD-', '-PAD-', '-PAD-', '-PAD-', '-PAD-', '-PAD-', '-PAD-', '-PAD-', '-PAD-', '-PAD-', '-PAD-', '-PAD-', '-PAD-', '-PAD-', '-PAD-', '-PAD-', '-PAD-', '-PAD-', '-PAD-', '-PAD-', '-PAD-', '-PAD-', '-PAD-', '-PAD-', '-PAD-', '-PAD-', '-PAD-', '-PAD-', '-PAD-', '-PAD-', '-PAD-', '-PAD-', '-PAD-', '-PAD-', '-PAD-', '-PAD-', '-PAD-', '-PAD-', '-PAD-', '-PAD-', '-PAD-', '-PAD-', '-PAD-', '-PAD-', '-PAD-', '-PAD-', '-PAD-', '-PAD-', '-PAD-', '-PAD-', '-PAD-', '-PAD-', '-PAD-', '-PAD-', '-PAD-', '-PAD-', '-PAD-', '-PAD-', '-PAD-', '-PAD-', '-PAD-', '-PAD-', '-PAD-', '-PAD-', '-PAD-', '-PAD-', '-PAD-', '-PAD-', '-PAD-', '-PAD-', '-PAD-', '-PAD-', '-PAD-', '-PAD-', '-PAD-', '-PAD-', '-PAD-', '-PAD-', '-PAD-', '-PAD-', '-PAD-', '-PAD-', '-PAD-', '-PAD-', '-PAD-', '-PAD-', '-PAD-', '-PAD-', '-PAD-'], ['CL', 'NN', 'VV', 'FW', 'FW', 'PU', 'FW', 'PU', 'VV', 'QU', 'LC', 'QU', 'CL', 'NN', 'VV', 'FW', 'PU', '-PAD-', '-PAD-', '-PAD-', '-PAD-', '-PAD-', '-PAD-', '-PAD-', '-PAD-', '-PAD-', '-PAD-', '-PAD-', '-PAD-', '-PAD-', '-PAD-', '-PAD-', '-PAD-', '-PAD-', '-PAD-', '-PAD-', '-PAD-', '-PAD-', '-PAD-', '-PAD-', '-PAD-', '-PAD-', '-PAD-', '-PAD-', '-PAD-', '-PAD-', '-PAD-', '-PAD-', '-PAD-', '-PAD-', '-PAD-', '-PAD-', '-PAD-', '-PAD-', '-PAD-', '-PAD-', '-PAD-', '-PAD-', '-PAD-', '-PAD-', '-PAD-', '-PAD-', '-PAD-', '-PAD-', '-PAD-', '-PAD-', '-PAD-', '-PAD-', '-PAD-', '-PAD-', '-PAD-', '-PAD-', '-PAD-', '-PAD-', '-PAD-', '-PAD-', '-PAD-', '-PAD-', '-PAD-', '-PAD-', '-PAD-', '-PAD-', '-PAD-', '-PAD-', '-PAD-', '-PAD-', '-PAD-', '-PAD-', '-PAD-', '-PAD-', '-PAD-', '-PAD-', '-PAD-'], ['CL', 'NN', 'VV', 'FW', 'NN', 'VV', 'PU', 'FW', 'FW', 'PU', 'VV', 'VV', 'VV', 'VV', 'LC', 'CL', 'NN', 'NN', 'VV', 'CC', 'VV', 'CC', 'VV', 'PP', 'VV', 'CL', 'NN', 'NN', 'VV', 'VV', 'FW', 'FW', 'PU', 'FW', 'PU', 'PP', 'NN', 'NN', 'PU', 'VV', 'VV', 'VV', 'CL', 'NN', 'FW', 'VV', 'VV', 'VV', 'PU', 'PU', '-PAD-', '-PAD-', '-PAD-', '-PAD-', '-PAD-', '-PAD-', '-PAD-', '-PAD-', '-PAD-', '-PAD-', '-PAD-', '-PAD-', '-PAD-', '-PAD-', '-PAD-', '-PAD-', '-PAD-', '-PAD-', '-PAD-', '-PAD-', '-PAD-', '-PAD-', '-PAD-', '-PAD-', '-PAD-', '-PAD-', '-PAD-', '-PAD-', '-PAD-', '-PAD-', '-PAD-', '-PAD-', '-PAD-', '-PAD-', '-PAD-', '-PAD-', '-PAD-', '-PAD-', '-PAD-', '-PAD-', '-PAD-', '-PAD-', '-PAD-'], ['QU', 'CL', 'VV', 'VV', 'AD', 'VV', 'VV', 'QU', 'NN', 'NN', 'VV', 'CL', 'NN', 'VV', 'LC', 'PP', 'PN', 'CL', 'NN', 'PU', '-PAD-', '-PAD-', '-PAD-', '-PAD-', '-PAD-', '-PAD-', '-PAD-', '-PAD-', '-PAD-', '-PAD-', '-PAD-', '-PAD-', '-PAD-', '-PAD-', '-PAD-', '-PAD-', '-PAD-', '-PAD-', '-PAD-', '-PAD-', '-PAD-', '-PAD-', '-PAD-', '-PAD-', '-PAD-', '-PAD-', '-PAD-', '-PAD-', '-PAD-', '-PAD-', '-PAD-', '-PAD-', '-PAD-', '-PAD-', '-PAD-', '-PAD-', '-PAD-', '-PAD-', '-PAD-', '-PAD-', '-PAD-', '-PAD-', '-PAD-', '-PAD-', '-PAD-', '-PAD-', '-PAD-', '-PAD-', '-PAD-', '-PAD-', '-PAD-', '-PAD-', '-PAD-', '-PAD-', '-PAD-', '-PAD-', '-PAD-', '-PAD-', '-PAD-', '-PAD-', '-PAD-', '-PAD-', '-PAD-', '-PAD-', '-PAD-', '-PAD-', '-PAD-', '-PAD-', '-PAD-', '-PAD-', '-PAD-', '-PAD-', '-PAD-'], ['QU', 'CL', 'NN', 'VV', 'CL', 'NN', 'DT', 'AD', 'VV', 'CL', 'NN', 'VV', 'VV', 'VV', 'NN', 'PU', '-PAD-', '-PAD-', '-PAD-', '-PAD-', '-PAD-', '-PAD-', '-PAD-', '-PAD-', '-PAD-', '-PAD-', '-PAD-', '-PAD-', '-PAD-', '-PAD-', '-PAD-', '-PAD-', '-PAD-', '-PAD-', '-PAD-', '-PAD-', '-PAD-', '-PAD-', '-PAD-', '-PAD-', '-PAD-', '-PAD-', '-PAD-', '-PAD-', '-PAD-', '-PAD-', '-PAD-', '-PAD-', '-PAD-', '-PAD-', '-PAD-', '-PAD-', '-PAD-', '-PAD-', '-PAD-', '-PAD-', '-PAD-', '-PAD-', '-PAD-', '-PAD-', '-PAD-', '-PAD-', '-PAD-', '-PAD-', '-PAD-', '-PAD-', '-PAD-', '-PAD-', '-PAD-', '-PAD-', '-PAD-', '-PAD-', '-PAD-', '-PAD-', '-PAD-', '-PAD-', '-PAD-', '-PAD-', '-PAD-', '-PAD-', '-PAD-', '-PAD-', '-PAD-', '-PAD-', '-PAD-', '-PAD-', '-PAD-', '-PAD-', '-PAD-', '-PAD-', '-PAD-', '-PAD-', '-PAD-'], ['NN', 'VV', 'NN', 'PU', '-PAD-', '-PAD-', '-PAD-', '-PAD-', '-PAD-', '-PAD-', '-PAD-', '-PAD-', '-PAD-', '-PAD-', '-PAD-', '-PAD-', '-PAD-', '-PAD-', '-PAD-', '-PAD-', '-PAD-', '-PAD-', '-PAD-', '-PAD-', '-PAD-', '-PAD-', '-PAD-', '-PAD-', '-PAD-', '-PAD-', '-PAD-', '-PAD-', '-PAD-', '-PAD-', '-PAD-', '-PAD-', '-PAD-', '-PAD-', '-PAD-', '-PAD-', '-PAD-', '-PAD-', '-PAD-', '-PAD-', '-PAD-', '-PAD-', '-PAD-', '-PAD-', '-PAD-', '-PAD-', '-PAD-', '-PAD-', '-PAD-', '-PAD-', '-PAD-', '-PAD-', '-PAD-', '-PAD-', '-PAD-', '-PAD-', '-PAD-', '-PAD-', '-PAD-', '-PAD-', '-PAD-', '-PAD-', '-PAD-', '-PAD-', '-PAD-', '-PAD-', '-PAD-', '-PAD-', '-PAD-', '-PAD-', '-PAD-', '-PAD-', '-PAD-', '-PAD-', '-PAD-', '-PAD-', '-PAD-', '-PAD-', '-PAD-', '-PAD-', '-PAD-', '-PAD-', '-PAD-', '-PAD-', '-PAD-', '-PAD-', '-PAD-', '-PAD-', '-PAD-'], ['PU', 'CL', 'NN', 'VV', 'NN', 'VV', 'VV', 'CS', 'AD', 'AD', 'VV', 'CS', 'CL', 'NN', 'VV', 'DT', 'AD', 'AD', 'VV', 'NN', 'VV', 'VV', 'PU', '-PAD-', '-PAD-', '-PAD-', '-PAD-', '-PAD-', '-PAD-', '-PAD-', '-PAD-', '-PAD-', '-PAD-', '-PAD-', '-PAD-', '-PAD-', '-PAD-', '-PAD-', '-PAD-', '-PAD-', '-PAD-', '-PAD-', '-PAD-', '-PAD-', '-PAD-', '-PAD-', '-PAD-', '-PAD-', '-PAD-', '-PAD-', '-PAD-', '-PAD-', '-PAD-', '-PAD-', '-PAD-', '-PAD-', '-PAD-', '-PAD-', '-PAD-', '-PAD-', '-PAD-', '-PAD-', '-PAD-', '-PAD-', '-PAD-', '-PAD-', '-PAD-', '-PAD-', '-PAD-', '-PAD-', '-PAD-', '-PAD-', '-PAD-', '-PAD-', '-PAD-', '-PAD-', '-PAD-', '-PAD-', '-PAD-', '-PAD-', '-PAD-', '-PAD-', '-PAD-', '-PAD-', '-PAD-', '-PAD-', '-PAD-', '-PAD-', '-PAD-', '-PAD-', '-PAD-', '-PAD-', '-PAD-'], ['FW', 'AD', 'VV', 'PP', 'PN', 'CL', 'NN', 'QU', 'CL', 'NN', 'VV', 'AD', 'VV', 'CC', 'CC', 'QU', 'QU', 'CL', 'PU', '-PAD-', '-PAD-', '-PAD-', '-PAD-', '-PAD-', '-PAD-', '-PAD-', '-PAD-', '-PAD-', '-PAD-', '-PAD-', '-PAD-', '-PAD-', '-PAD-', '-PAD-', '-PAD-', '-PAD-', '-PAD-', '-PAD-', '-PAD-', '-PAD-', '-PAD-', '-PAD-', '-PAD-', '-PAD-', '-PAD-', '-PAD-', '-PAD-', '-PAD-', '-PAD-', '-PAD-', '-PAD-', '-PAD-', '-PAD-', '-PAD-', '-PAD-', '-PAD-', '-PAD-', '-PAD-', '-PAD-', '-PAD-', '-PAD-', '-PAD-', '-PAD-', '-PAD-', '-PAD-', '-PAD-', '-PAD-', '-PAD-', '-PAD-', '-PAD-', '-PAD-', '-PAD-', '-PAD-', '-PAD-', '-PAD-', '-PAD-', '-PAD-', '-PAD-', '-PAD-', '-PAD-', '-PAD-', '-PAD-', '-PAD-', '-PAD-', '-PAD-', '-PAD-', '-PAD-', '-PAD-', '-PAD-', '-PAD-', '-PAD-', '-PAD-', '-PAD-'], ['PU', 'VV', 'NN', 'NN', '-PAD-', '-PAD-', '-PAD-', '-PAD-', '-PAD-', '-PAD-', '-PAD-', '-PAD-', '-PAD-', '-PAD-', '-PAD-', '-PAD-', '-PAD-', '-PAD-', '-PAD-', '-PAD-', '-PAD-', '-PAD-', '-PAD-', '-PAD-', '-PAD-', '-PAD-', '-PAD-', '-PAD-', '-PAD-', '-PAD-', '-PAD-', '-PAD-', '-PAD-', '-PAD-', '-PAD-', '-PAD-', '-PAD-', '-PAD-', '-PAD-', '-PAD-', '-PAD-', '-PAD-', '-PAD-', '-PAD-', '-PAD-', '-PAD-', '-PAD-', '-PAD-', '-PAD-', '-PAD-', '-PAD-', '-PAD-', '-PAD-', '-PAD-', '-PAD-', '-PAD-', '-PAD-', '-PAD-', '-PAD-', '-PAD-', '-PAD-', '-PAD-', '-PAD-', '-PAD-', '-PAD-', '-PAD-', '-PAD-', '-PAD-', '-PAD-', '-PAD-', '-PAD-', '-PAD-', '-PAD-', '-PAD-', '-PAD-', '-PAD-', '-PAD-', '-PAD-', '-PAD-', '-PAD-', '-PAD-', '-PAD-', '-PAD-', '-PAD-', '-PAD-', '-PAD-', '-PAD-', '-PAD-', '-PAD-', '-PAD-', '-PAD-', '-PAD-', '-PAD-'], ['CL', 'VV', 'FW', 'VV', 'CL', 'QU', 'CL', 'VV', 'CS', 'VV', 'VV', 'VV', 'VV', 'PU', 'VV', 'VV', 'VV', 'PU', 'CC', 'VV', 'VV', 'CL', 'NN', 'FW', 'PU', '-PAD-', '-PAD-', '-PAD-', '-PAD-', '-PAD-', '-PAD-', '-PAD-', '-PAD-', '-PAD-', '-PAD-', '-PAD-', '-PAD-', '-PAD-', '-PAD-', '-PAD-', '-PAD-', '-PAD-', '-PAD-', '-PAD-', '-PAD-', '-PAD-', '-PAD-', '-PAD-', '-PAD-', '-PAD-', '-PAD-', '-PAD-', '-PAD-', '-PAD-', '-PAD-', '-PAD-', '-PAD-', '-PAD-', '-PAD-', '-PAD-', '-PAD-', '-PAD-', '-PAD-', '-PAD-', '-PAD-', '-PAD-', '-PAD-', '-PAD-', '-PAD-', '-PAD-', '-PAD-', '-PAD-', '-PAD-', '-PAD-', '-PAD-', '-PAD-', '-PAD-', '-PAD-', '-PAD-', '-PAD-', '-PAD-', '-PAD-', '-PAD-', '-PAD-', '-PAD-', '-PAD-', '-PAD-', '-PAD-', '-PAD-', '-PAD-', '-PAD-', '-PAD-', '-PAD-'], ['CL', 'NN', 'VV', 'FW', 'AD', 'VV', 'VV', 'VV', 'LC', 'NN', 'VV', 'VV', 'QU', 'CL', 'NN', 'CS', 'VV', 'CL', 'NN', 'LC', 'PN', 'VV', 'CC', 'CC', 'VV', 'PP', 'PN', 'PU', 'VV', 'LC', 'CL', 'CS', 'VV', 'VV', 'NN', 'VV', 'VV', 'CL', 'NN', 'PU', 'CC', 'VV', 'VV', 'CL', 'NN', 'CC', 'CC', 'QU', 'CL', 'NN', 'CS', 'VV', 'CL', 'NN', 'VV', 'VV', 'PP', 'LC', 'CC', 'CC', 'AD', 'VV', 'VV', 'PN', 'QU', 'CL', 'NN', 'NN', 'PU', 'CL', 'NN', 'NN', 'CC', 'CC', 'CL', 'NN', 'NN', 'PU', '-PAD-', '-PAD-', '-PAD-', '-PAD-', '-PAD-', '-PAD-', '-PAD-', '-PAD-', '-PAD-', '-PAD-', '-PAD-', '-PAD-', '-PAD-', '-PAD-', '-PAD-'], ['PU', 'VV', 'CL', 'DT', '-PAD-', '-PAD-', '-PAD-', '-PAD-', '-PAD-', '-PAD-', '-PAD-', '-PAD-', '-PAD-', '-PAD-', '-PAD-', '-PAD-', '-PAD-', '-PAD-', '-PAD-', '-PAD-', '-PAD-', '-PAD-', '-PAD-', '-PAD-', '-PAD-', '-PAD-', '-PAD-', '-PAD-', '-PAD-', '-PAD-', '-PAD-', '-PAD-', '-PAD-', '-PAD-', '-PAD-', '-PAD-', '-PAD-', '-PAD-', '-PAD-', '-PAD-', '-PAD-', '-PAD-', '-PAD-', '-PAD-', '-PAD-', '-PAD-', '-PAD-', '-PAD-', '-PAD-', '-PAD-', '-PAD-', '-PAD-', '-PAD-', '-PAD-', '-PAD-', '-PAD-', '-PAD-', '-PAD-', '-PAD-', '-PAD-', '-PAD-', '-PAD-', '-PAD-', '-PAD-', '-PAD-', '-PAD-', '-PAD-', '-PAD-', '-PAD-', '-PAD-', '-PAD-', '-PAD-', '-PAD-', '-PAD-', '-PAD-', '-PAD-', '-PAD-', '-PAD-', '-PAD-', '-PAD-', '-PAD-', '-PAD-', '-PAD-', '-PAD-', '-PAD-', '-PAD-', '-PAD-', '-PAD-', '-PAD-', '-PAD-', '-PAD-', '-PAD-', '-PAD-'], ['CL', 'NN', 'VV', 'FW', 'AD', 'VV', 'VV', 'PP', 'CS', 'VV', 'CL', 'NN', 'VV', 'NN', 'VV', 'AD', 'AD', 'VV', 'PP', 'VV', 'VV', 'PU', '-PAD-', '-PAD-', '-PAD-', '-PAD-', '-PAD-', '-PAD-', '-PAD-', '-PAD-', '-PAD-', '-PAD-', '-PAD-', '-PAD-', '-PAD-', '-PAD-', '-PAD-', '-PAD-', '-PAD-', '-PAD-', '-PAD-', '-PAD-', '-PAD-', '-PAD-', '-PAD-', '-PAD-', '-PAD-', '-PAD-', '-PAD-', '-PAD-', '-PAD-', '-PAD-', '-PAD-', '-PAD-', '-PAD-', '-PAD-', '-PAD-', '-PAD-', '-PAD-', '-PAD-', '-PAD-', '-PAD-', '-PAD-', '-PAD-', '-PAD-', '-PAD-', '-PAD-', '-PAD-', '-PAD-', '-PAD-', '-PAD-', '-PAD-', '-PAD-', '-PAD-', '-PAD-', '-PAD-', '-PAD-', '-PAD-', '-PAD-', '-PAD-', '-PAD-', '-PAD-', '-PAD-', '-PAD-', '-PAD-', '-PAD-', '-PAD-', '-PAD-', '-PAD-', '-PAD-', '-PAD-', '-PAD-', '-PAD-'], ['PN', 'AD', 'AD', 'VV', 'VV', 'VV', 'CL', 'NN', 'VV', 'DT', 'LC', 'CL', 'VV', 'VV', 'LC', 'CL', 'NN', 'PU', '-PAD-', '-PAD-', '-PAD-', '-PAD-', '-PAD-', '-PAD-', '-PAD-', '-PAD-', '-PAD-', '-PAD-', '-PAD-', '-PAD-', '-PAD-', '-PAD-', '-PAD-', '-PAD-', '-PAD-', '-PAD-', '-PAD-', '-PAD-', '-PAD-', '-PAD-', '-PAD-', '-PAD-', '-PAD-', '-PAD-', '-PAD-', '-PAD-', '-PAD-', '-PAD-', '-PAD-', '-PAD-', '-PAD-', '-PAD-', '-PAD-', '-PAD-', '-PAD-', '-PAD-', '-PAD-', '-PAD-', '-PAD-', '-PAD-', '-PAD-', '-PAD-', '-PAD-', '-PAD-', '-PAD-', '-PAD-', '-PAD-', '-PAD-', '-PAD-', '-PAD-', '-PAD-', '-PAD-', '-PAD-', '-PAD-', '-PAD-', '-PAD-', '-PAD-', '-PAD-', '-PAD-', '-PAD-', '-PAD-', '-PAD-', '-PAD-', '-PAD-', '-PAD-', '-PAD-', '-PAD-', '-PAD-', '-PAD-', '-PAD-', '-PAD-', '-PAD-', '-PAD-'], ['AD', 'CS', 'VV', 'VV', 'CS', 'VV', 'VV', 'CL', 'NN', 'VV', 'NN', 'VV', 'PN', 'AD', 'AD', 'VV', 'NN', 'CL', 'VV', 'VV', 'PP', 'LC', 'QU', 'PU', 'QU', 'CL', 'NN', 'PU', '-PAD-', '-PAD-', '-PAD-', '-PAD-', '-PAD-', '-PAD-', '-PAD-', '-PAD-', '-PAD-', '-PAD-', '-PAD-', '-PAD-', '-PAD-', '-PAD-', '-PAD-', '-PAD-', '-PAD-', '-PAD-', '-PAD-', '-PAD-', '-PAD-', '-PAD-', '-PAD-', '-PAD-', '-PAD-', '-PAD-', '-PAD-', '-PAD-', '-PAD-', '-PAD-', '-PAD-', '-PAD-', '-PAD-', '-PAD-', '-PAD-', '-PAD-', '-PAD-', '-PAD-', '-PAD-', '-PAD-', '-PAD-', '-PAD-', '-PAD-', '-PAD-', '-PAD-', '-PAD-', '-PAD-', '-PAD-', '-PAD-', '-PAD-', '-PAD-', '-PAD-', '-PAD-', '-PAD-', '-PAD-', '-PAD-', '-PAD-', '-PAD-', '-PAD-', '-PAD-', '-PAD-', '-PAD-', '-PAD-', '-PAD-', '-PAD-'], ['CL', 'NN', 'FW', 'CL', 'VV', 'VV', 'VV', 'PP', 'CL', 'NN', 'CS', 'VV', 'QU', 'CL', 'NN', 'NN', 'NN', 'PU', 'AD', 'AD', 'CS', 'CL', 'CS', 'VV', 'CL', 'NN', 'NN', 'VV', 'PP', 'QU', 'CL', 'NN', 'VV', 'PP', 'CL', 'NN', 'NN', 'VV', 'NN', 'CC', 'CC', 'CL', 'CS', 'VV', 'QU', 'CL', 'NN', 'NN', 'CC', 'VV', 'QU', 'CL', 'NN', 'NN', 'VV', 'AD', 'VV', 'VV', 'PU', '-PAD-', '-PAD-', '-PAD-', '-PAD-', '-PAD-', '-PAD-', '-PAD-', '-PAD-', '-PAD-', '-PAD-', '-PAD-', '-PAD-', '-PAD-', '-PAD-', '-PAD-', '-PAD-', '-PAD-', '-PAD-', '-PAD-', '-PAD-', '-PAD-', '-PAD-', '-PAD-', '-PAD-', '-PAD-', '-PAD-', '-PAD-', '-PAD-', '-PAD-', '-PAD-', '-PAD-', '-PAD-', '-PAD-', '-PAD-']]\n"
     ]
    }
   ],
   "source": [
    "predictions = model.predict(test_sentences_X)\n",
    "print(logits_to_tokens(predictions, {i: t for t, i in tag2index.items()}))"
   ]
  },
  {
   "cell_type": "code",
   "execution_count": 66,
   "metadata": {},
   "outputs": [
    {
     "name": "stdout",
     "output_type": "stream",
     "text": [
      "[[ 1  8  9  5  1  2  2  2  5  6  5 14  9  9  5  5  3 14  9  5  7  1  5  5\n",
      "   6  1  2  5  2  2  5  5  5  5  3  1  2  2  6  6  8  2  5  2  2  3 11 11\n",
      "   3  1  2 14  5  8  1  2  5  9  9  3  0  0  0  0  0  0  0  0  0  0  0  0\n",
      "   0  0  0  0  0  0  0  0  0  0  0  0  0  0  0]\n",
      " [ 1  2  3  1  2  5 11  1  5  5  6  8  1  5  4 11  1  2  4  9  9  5  5  5\n",
      "   9  3  0  0  0  0  0  0  0  0  0  0  0  0  0  0  0  0  0  0  0  0  0  0\n",
      "   0  0  0  0  0  0  0  0  0  0  0  0  0  0  0  0  0  0  0  0  0  0  0  0\n",
      "   0  0  0  0  0  0  0  0  0  0  0  0  0  0  0]\n",
      " [ 9  9  5 11 11  6  1  2  5  2 10  5  5  8  2  2 11 11  2  5  2  3  0  0\n",
      "   0  0  0  0  0  0  0  0  0  0  0  0  0  0  0  0  0  0  0  0  0  0  0  0\n",
      "   0  0  0  0  0  0  0  0  0  0  0  0  0  0  0  0  0  0  0  0  0  0  0  0\n",
      "   0  0  0  0  0  0  0  0  0  0  0  0  0  0  0]\n",
      " [ 9  5  6  2  9  9  5  5 14  1  2  4 10  9  5  5  3  0  0  0  0  0  0  0\n",
      "   0  0  0  0  0  0  0  0  0  0  0  0  0  0  0  0  0  0  0  0  0  0  0  0\n",
      "   0  0  0  0  0  0  0  0  0  0  0  0  0  0  0  0  0  0  0  0  0  0  0  0\n",
      "   0  0  0  0  0  0  0  0  0  0  0  0  0  0  0]\n",
      " [ 1  2  4  5  1  7  1  5 14  9  5  5  5  3  5  5  5  3 11  5  5  1  2  4\n",
      "   3  0  0  0  0  0  0  0  0  0  0  0  0  0  0  0  0  0  0  0  0  0  0  0\n",
      "   0  0  0  0  0  0  0  0  0  0  0  0  0  0  0  0  0  0  0  0  0  0  0  0\n",
      "   0  0  0  0  0  0  0  0  0  0  0  0  0  0  0]]\n"
     ]
    }
   ],
   "source": [
    "print(test_tags_y[:5])"
   ]
  },
  {
   "cell_type": "code",
   "execution_count": 74,
   "metadata": {},
   "outputs": [
    {
     "name": "stdout",
     "output_type": "stream",
     "text": [
      "0.7241379310344827\n"
     ]
    }
   ],
   "source": [
    "from collections import Counter\n",
    "total = 0.0\n",
    "for item in test_tags_y:\n",
    "    c = Counter(item)\n",
    "    total +=((c[0] + c[5]) / len(item))\n",
    "print(total / len(test_tags_y))\n",
    "# if all is predicted to be a series of 5s followed by 0s, then 72% accurate!\n",
    "# this method is essentially worthless!"
   ]
  },
  {
   "cell_type": "code",
   "execution_count": null,
   "metadata": {},
   "outputs": [],
   "source": []
  }
 ],
 "metadata": {
  "kernelspec": {
   "display_name": "Python 3",
   "language": "python",
   "name": "python3"
  },
  "language_info": {
   "codemirror_mode": {
    "name": "ipython",
    "version": 3
   },
   "file_extension": ".py",
   "mimetype": "text/x-python",
   "name": "python",
   "nbconvert_exporter": "python",
   "pygments_lexer": "ipython3",
   "version": "3.7.1"
  }
 },
 "nbformat": 4,
 "nbformat_minor": 2
}
