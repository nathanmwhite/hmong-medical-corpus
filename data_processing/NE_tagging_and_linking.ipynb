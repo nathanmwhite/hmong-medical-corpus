{
 "cells": [
  {
   "cell_type": "code",
   "execution_count": 1,
   "metadata": {},
   "outputs": [],
   "source": [
    "import re\n",
    "import os\n",
    "import glob\n",
    "\n",
    "os.chdir(os.path.expanduser(os.path.join('~', 'python_workspace', 'medical_corpus_scripting', 'ner_assets')))"
   ]
  },
  {
   "cell_type": "markdown",
   "metadata": {},
   "source": [
    "first step involves using an algorithm to tag the sequences based on curated lists\n",
    "sequence tags: B-IL for illness, B-SY for symptom, B-BP for body part\n",
    "symptoms and body parts overlap: body parts are found within symptoms\n",
    "\n",
    "therefore, need to do each of three sequences separately on same document\n",
    "step 1: load three curated list files as lists (done)\n",
    "step 2: for each document in raw_processing, do tagging three times, \n",
    "     once for illness, then symptom, then body part\n",
    "     \n",
    "if overlapping duplicates in each type, need to match the longest one--it's best to sort candidate\n",
    "    lists by how many spaces they contain (done)\n",
    "\n",
    "the linking process will involve two steps:\n",
    "step 1: set up linking database using MySQL through sqlalchemy\n",
    "step 2: do linking of tagged elements based on the following rule:\n",
    "    if illness, then link symptoms, where these do not overlap; domain is entire file\n",
    "    if symptom, then link body parts, where these do overlap; domain is symptom itself"
   ]
  },
  {
   "cell_type": "markdown",
   "metadata": {},
   "source": [
    "Semantic types in the UMLS (metamap.nlm.nih.gov/Docs/SemanticTypes_2018AB.txt):\n",
    "bpoc \"body part, organ, or organ component\"\n",
    "bact \"bacterium\"\n",
    "dsyn \"disease or syndrome\"\n",
    "orgm \"organism\"\n",
    "sosy \"sign or symptom\"\n",
    "tisu \"tissue\"\n",
    "virs \"virus\"\n",
    "\n",
    "before I begin to actually tag anything, I have separated out dsyn, virs, and bact."
   ]
  },
  {
   "cell_type": "code",
   "execution_count": 2,
   "metadata": {},
   "outputs": [],
   "source": [
    "def load_names(filename):\n",
    "    '''Loads named entity candidates from curated lists.\n",
    "    param filename : name of file containing the curated list\n",
    "    returns names : list of strings representing named entity candidates\n",
    "    Note: This returns the names as untokenized strings, as untokenized strings are\n",
    "        more easily handled in Python when matching than tokenized sentences as lists.\n",
    "    '''\n",
    "    with open(filename, 'r') as f:\n",
    "        names = [line.strip() for line in f.readlines()]\n",
    "    names = sorted(names, key=lambda x: x.count(' '), reverse = True)\n",
    "    return names\n",
    "\n",
    "# load illness names\n",
    "illness_names = load_names('disease_names.txt')\n",
    "\n",
    "# load symptom names\n",
    "symptom_names = load_names('symptom_names.txt')\n",
    "\n",
    "# load body part names\n",
    "bodypart_names = load_names('body_part_names.txt')"
   ]
  },
  {
   "cell_type": "code",
   "execution_count": 13,
   "metadata": {},
   "outputs": [
    {
     "name": "stdout",
     "output_type": "stream",
     "text": [
      "['TUS MOB GROUP B STREPTOCOCCAL , KIS MUS RAU LWM QHOV UAS TSIS MUAJ MOB ( Tus mob GBS , Group B Strep , Tus mob Group B streptococcal ua mob rau cov mos liab yug los tshiab )', 'Cov Kab Mob Arboviral ( arthropod - borne encephalitis , California ( La Crosse ) encephalitis , St . Louis encephalitis , Eastern equine encephalitis , Western equine encephalitis )', 'Tus Mob - Viral Hemorrhagic Fever ( Ebola Virus Hemorrhagic Fever , Marburg Virus Hemorrhagic Fever )', 'Mob Tes , Taw thiab Qhov Ncauj ( Hand , Foot and Mouth Disease ) HFMD', 'Ua Npaws Tshaj Cum - Dengue Fever ( breakbone fever , dengue hemorrhagic fever )', 'Kab Mob Npluag Paj Hlwb - Viral Meningitis ( aseptic meningitis , nonbacterial meningitis )', 'Mob Plab Zawv / Thoj Plab Cholera ( Vibrio cholerae O1 or 0139 )', 'Tus Mob - Rocky Mountain Spotted Fever ( tick - borne typhus fever )', 'Mob Plab Ntswj / Plab Zawv Liab Campylobacteriosis ( Campylobacter sp . )', 'Qaug Zog / Si Nkees Ntev Ntev Chronic Fatigue Syndrome ( CFS )', 'TUS MOB HEPATITIS A ( Tus Mob Rau Daim Siab )', 'TUS MOB LEGIONELLOSIS ( Tus mob Legionnaires , Pontiac fever )', 'tus mob ntawm tes, taw thiab qhov ncauj ( HFMD )', 'Tus Mob - Infectious Mononucleosis ( mono , EBV mononucleosis )', 'Kab Mob Tshaj Cum - Eastern Equine Encephalitis ( EEE )', 'TUS MOB RAU DAIM SIAB C ( HEPATITIS C )', 'TUS MOB MENINGOCOCCAL DISEASE ( Meningococcal meningitis , Meningococcemia )', 'Tus mob botulism , raug lom ntawm kev noj haus', 'Tus Mob - Psittacosis ( ornithosis , parrot fever )', 'Streptococcal Pharyngitis ( Mob Qa ( Strep Throat ) )', '\"Swimmer\\'s Itch \" ( cercarial dermatitis , schistosome dermatitis )', 'Tus Mob Puab Tsaig Txhav - Tetanus ( Lockjaw )', 'Qoob Qhua Pias Soob - Rubella ( German measles )', 'TUS MOB UA QHUA TAUM VARICELLA ( Chickenpox )', 'TUS MOB RAU DAIM SIAB ( HEPATITIS ) B', 'UA QHUA PIAS / UA QOOB ( MEASLES )', 'TUS MOB CREUTZFELDT - JAKOB DISEASE ( CJD )', 'Kab Mob Lom Me Nyuam Mos Botulism , Infant', 'Tus Mob - Kawasaki Syndrome ( Kawasaki Disease )', 'Pediculosis ( dev mub , tuv ntau ntau )', 'tus mob Rocky Mountain spotted fever ( RMSF )', 'Tus Kab Mob Ntsws - Tuberculosis ( TB )', 'TUS MOB HNOOS PERTUSSIS ( HNOOS HAWB POB )', 'TUS MOB ACUTE FLACCID MYELITIS ( AFM )', 'TUS MOB NTSWS QHUAV CLASS B1 / B2', 'MOB QOG / TUAV QOG ( Mumps )', 'Mob Cab - Amebiasis ( amebic dysentary )', \"Tus mob Brucellosis Undulant fever , Bang's disease\", 'Tus Mob Thib Tsib ( Fifth Disease )', 'tus mob ntawm tes, taw thiab qhov ncauj', 'Hom Kab Mob Siab D - Hepatitis D', 'Tus Mob Hemolytic Uremic Syndrome ( HUS )', \"Mob Ruas - Leprosy ( Hansen's Disease )\", 'Tus Mob Toxic Shock Syndrome ( TSS )', 'Tus Mob - Tularemia ( rabbit fever )', 'tus mob kub cev ( typhoid fever )', 'kab mob tshaj cum - eastern equine encephalitis', 'Hemorrhagic Fever with Renal Syndrome ( HFRS )', 'TUS MOB ACUTE FLACCID MYELITIS ( AFM )', 'TUS MOB NTSWS QHUAV CLASS B1 / B2', 'TUS MOB VALLEY FEVER ( Coccidioidomycosis )', 'tus mob rau daim siab (hepatitis) C', 'ua npaws tshaj cum - dengue fever', 'kab mob kas cees ( STD )', 'Acquired Immune Deficiency Syndrome ( AIDS )', 'Mob Txhab Txiag Ringworm ( Tinea )', 'Tus Mob Kub Cev - Typhoid Fever', 'Mob ntsws lawm ( Active TB )', 'hnoos hawb pob ( whooping cough )', 'tus mob ntsws qhuav ( Tuberculosis )', 'TUS MOB UA QHUA TAUM VARICELLA', 'tus mob ua qhua taum chickenpox', 'TUS MOB TRICHINELLOSIS ( Trichinosis )', 'tus mob ua qhua pias/ua qoob', 'kab mob lom me nyuam mos', 'mob plab zawv / thoj plab', 'Kab Mob Kas Cees - Gonorrhea', 'Hemolytic Uremic Syndrome ( HUS )', 'tus mob Rocky Mountain spotted fever', 'Kab Xwv Pob Khaus - Scabies', 'Qoob Hlwv Dej Laus - Shingles', 'Mob Kas Cees Taug Leeg Syphilis', 'tus mob kub cev typhoid fever', 'tub mob - viral hemorrhagic fever', 'eastern equine encephalitis ( EEE )', 'qoob qhua pias soob - rubella', 'Vibriosis ( non - cholera )', 'hantavirus pulmonary syndrome ( HPS )', 'tus mob Guillain - Barré syndrome', 'tus mob Hemolytic Uremic Syndrome', 'Mob Pob Khaus - Impetigo', 'Khaub Thuas ( Influenza )', 'tus kab mob Pseudomonas folliculitis', 'Mob Zaws Plab - Salmonellosis', 'kab xwv pob khaus scabies', \"tus kab mob swimmer's itch\", 'tus kab mob ntsws tuberculosis', 'tus mob kub cev typhoid', 'tus mob viral hemorrhagic fever', 'tus mob puab tsasig txhav', 'tus mob Eastern equine encephalitis', 'tus kab mob ua qoob', 'Tus Mob - Reye Syndrome', 'Reye Syndrome ( RS )', 'tus kab mob ntsws tuberculosis', 'tus kab mob ntsws TB', 'tus mob Class B TB', 'tus mob hepatitis A', 'TUS MOB LYME DISEASE', 'tus mob meningococcal disease', 'cov kab mob arboviral', 'tus kab mob campylobacteriosis', 'ua npaws tshaj cum', 'Mob Zawv Plab Liab', 'kab mob kas cees', 'kab mob siab B', 'tus mob Infectious mononucleosis', 'Tus Mob - Listeriosis', 'tus mob ua npaws', 'tus mob Pseudomonas folliculitis', 'Reptile - associated Salmonellosis', 'kab xwv pob khaus', 'qoob hlwv dej laus', 'tus mob streptococcal pharyngitis', \"tus mob swimmer's itch\", 'tus mob typhoid fever', 'tus mob Reye Syndrome', 'Tus Mob – Shigellosis', 'tus kab mob TB', 'tus mob hnoos Pertussis', 'TUS MOB BABESIOSIS', 'TUS MOB BLASTOMYCOSIS', 'TUS MOB CYCLOSPORIASIS', 'TUS MOB ANAPLASMOSIS', 'tus mob anaplasmosis', 'tus mob ehrlichiosis', 'TUS MOB GIARDIASIS', 'tus mob GBS', 'TUS MOB HISTOPLASMOSIS', 'tus mob Legionellosis', 'tus mob Legionnaires', 'tus mob meningococcal', 'tus mob meningitis', 'tus mob Trichinellosis', 'mob cab amebiasis', 'Tus Mob Anthrax', 'mob ntsws qhuav', 'tus mob Brucellosis', 'Chronic fatigue syndrome', 'tus mob CFS', 'Tus Mob Cryptosporidiosis', 'tus mob HUS', 'pob khaus impetigo', 'mob infectious mononucleosis', 'tus khaub thuas', 'tus mob Kawasaki', 'Tus Mob Leptospirosis', 'tus mob Listeriosis', 'Ua Npaws MALARIA', 'mob ua npaws', 'tus mob Psittacosis', 'Tus Mob Rabies', 'kab mob salmonellosis', 'tus mob RMSF', 'tus mob salmonellosis', 'qoob hlwv dej', 'tus mob Syphilis', 'Tus mob Toxoplasmosis', 'tus mob Tularemia', 'Tus Mob Yersiniosis', 'tus mob plgue', 'tus mob vibriorosis', 'tus mob shigellosis', 'tus mob paratyphoid', 'Hantavirus Pulmonary Syndrome', 'tus mob HFRS', 'tus mob HPS', 'kab mob TB', 'latent TB infection', 'active TB disease', 'tus mob TB', 'tus mob AFM', 'cov mob AFM', 'mob anaplasmosis', 'Hepatitis C', 'Pontiac fever', 'Meningococcal meningitis', 'mob qob', 'tuav qog', 'mob cab-amebiasis', 'mob botulism', 'infant botulism', 'venereal warts', 'khaub thuas', 'mob ruas', 'Ntshauv Pediculosis', 'Pseudomonas folliculitis', 'txhab txiag', 'Streptococcal pharyngitis', 'otitis media', \"Swimmer's itch\", 'qoob rubella', 'mob Vibriosis', 'Mob Paratyphoid', 'Paratyphoid Fever', 'typhoid fever', 'enteric fever', 'pulmonary TB', 'tus TB', 'mob B1', 'mob TB', 'mob B2', 'mob B3', 'EHRLIQUIOSIS', 'ehrlichiosis', 'GBS', 'Meningococcemia', 'mumps', 'Campylobacteriosis', 'CFS', 'Impetigo', 'Pediculosis', 'hydrophobia', 'Salmonellosis', 'Syphilis', 'TB', 'Meningitis', 'Yersiniosis', 'Plague', 'Vibriosis', 'Shigellosis', 'HFRS', 'TB', 'LTBI']\n"
     ]
    }
   ],
   "source": [
    "print(illness_names)"
   ]
  },
  {
   "cell_type": "markdown",
   "metadata": {},
   "source": [
    "place tag at each space\n",
    "use re to find matches, and use start and end locations of matches to determine \n",
    "     where to insert /B-IL or /I-IL, and insert them\n",
    "if illness, there should be only one complete match, and then several partial matches\n",
    "remember that matches may not align with syllable boundaries\n",
    "once entire list of candidates has been checked, insert /O after all others not already with tags\n",
    "then tokenize"
   ]
  },
  {
   "cell_type": "code",
   "execution_count": 3,
   "metadata": {},
   "outputs": [],
   "source": [
    "# this is producing exactly the right results\n",
    "# I just need to modify this to apply O labels for non-entities\n",
    "# then have it save each output as a file in a specific folder\n",
    "def return_ne_tags(input_sequences, candidate_names, tag_str):\n",
    "    '''\n",
    "    Returns input sequences with named entity tags inserted before spaces.\n",
    "    param input_sequences : the input sequences to tag, as a list of strings\n",
    "    param candidate_names : the candidate names to consider when tagging\n",
    "    param tag_str : string of tag representing candidate type\n",
    "    returns tagged_sequences : input sequences with tags inserted\n",
    "    '''\n",
    "    tagged_candidates = {}\n",
    "    processed_sequences = []\n",
    "    for item in input_sequences:\n",
    "        sequence = item\n",
    "        for name in candidate_names:\n",
    "            name_pattern = re.compile('(?:(?<=^)|(?<= ))' + re.escape(name) + '(?:(?=$)|(?= ))', re.I)\n",
    "            if name_pattern.search(item):\n",
    "                if name not in tagged_candidates.keys():\n",
    "                    name_list = name.split(' ')\n",
    "                    for i, word in enumerate(name_list):\n",
    "                        if i == 0:\n",
    "                            prefix = '▹B-'\n",
    "                        elif i == len(name_list) - 1:\n",
    "                            prefix = '▹E-'\n",
    "                        else:\n",
    "                            prefix = '▹I-'\n",
    "                        name_list[i] = word + prefix + tag_str\n",
    "                    tagged_name = ' '.join(name_list)\n",
    "                    tagged_candidates[name] = tagged_name\n",
    "                sequence = name_pattern.sub(tagged_candidates[name], sequence)\n",
    "        processed_sequences.append(sequence)\n",
    "    return processed_sequences"
   ]
  },
  {
   "cell_type": "code",
   "execution_count": 4,
   "metadata": {},
   "outputs": [],
   "source": [
    "def tag_default(input_sequences):\n",
    "    output_sequences = []\n",
    "    for line in input_sequences:\n",
    "        tokenized_line = line.split(' ')\n",
    "        processed_line = []\n",
    "        for item in tokenized_line:\n",
    "            if '▹' not in item:\n",
    "                processed_line.append(item + '▹O')\n",
    "            else:\n",
    "                processed_line.append(item)\n",
    "        output_sequences.append(' '.join(processed_line))\n",
    "    return output_sequences"
   ]
  },
  {
   "cell_type": "code",
   "execution_count": 17,
   "metadata": {},
   "outputs": [
    {
     "name": "stdout",
     "output_type": "stream",
     "text": [
      "['WISCONSIN▹O DIVISION▹O OF▹O PUBLIC▹O HEALTH▹O Department▹O of▹O Health▹O Services▹O Vibriosis▹B-DSYN (▹I-DSYN non▹I-DSYN -▹I-DSYN cholera▹I-DSYN )▹E-DSYN Disease▹O Fact▹O Sheet▹O Series▹O', 'Vibriosis▹B-DSYN yog▹O ib▹O hom▹O mob▹O los▹O ntawm▹O tus▹O kab▹O mob▹O Vibrio▹O ,▹O feem▹O ntau▹O yog▹O tus▹O kab▹O mob▹O Vibrio▹O parahemolyticus▹O los▹O yog▹O tus▹O kab▹O mob▹O Vibrio▹O vulnificus▹O .▹O Tus▹O kab▹O mob▹O Vibrio▹O ua▹O kom▹O raws▹O plab▹O ,▹O ua▹O mob▹O rau▹O daim▹O tawv▹O nqaij▹O ,▹O thiab▹O ua▹O mob▹O rau▹O cov▹O ntshav▹O .▹O Hom▹O kab▹O mob▹O Vibrio▹O (▹O non▹O -▹O cholera▹O )▹O yog▹O dab▹O tsi▹O ?▹O Hom▹O kab▹O mob▹O Vibrio▹O (▹O non▹O -▹O cholera▹O )▹O yog▹O cov▹O mob▹O uas▹O los▹O ntawm▹O tib▹O hom▹O kab▹O mob▹O Vibrio▹O uas▹O ua▹O kom▹O muaj▹O cov▹O mob▹O cholera▹O ,▹O tab▹O sis▹O ho▹O tsis▹O ua▹O kom▹O mob▹O cholera▹O .▹O Cov▹O kab▹O mob▹O ua▹O kom▹O mob▹O cholera▹O tsuas▹O muaj▹O V▹O .▹O cholerae▹O O1▹O thiab▹O V▹O .▹O cholerae▹O O139▹O xwb▹O .▹O Kab▹O mob▹B-DSYN Vibriosis▹E-DSYN yog▹O dab▹O tsi▹O ?▹O Cov▹O mob▹B-DSYN Vibriosis▹E-DSYN yuav▹O mob▹O nyhav▹O tsis▹O sib▹O thooj▹O thiab▹O yuav▹O ua▹O rau▹O kom▹O raws▹O plab▹O ,▹O ntuav▹O ,▹O mob▹O rau▹O hauv▹O cov▹O hlab▹O ntsha▹O ,▹O los▹O yog▹O ua▹O rau▹O kiav▹O txhab▹O voos▹O .▹O Cov▹O kab▹O mob▹O Vibrio▹O (▹O non▹O -▹O cholera▹O )▹O muaj▹O nyob▹O rau▹O qhov▹O twg▹O ?▹O Hom▹O kab▹O mob▹O Vibrio▹O (▹O non▹O -▹O cholera▹O )▹O muaj▹O nyob▹O hauv▹O cov▹O dej▹O qab▹O ntsev▹O thiab▹O feem▹O ntau▹O pom▹O nyob▹O hauv▹O hiav▹O txwv▹O thiab▹O ntawm▹O tej▹O thaj▹O chaw▹O uas▹O dej▹O ntshiab▹O thiab▹O dej▹O hiav▹O txwv▹O sib▹O tshuam▹O .▹O Feem▹O ntau▹O muaj▹O cov▹O kab▹O mob▹O no▹O los▹O ntawm▹O noj▹O cov▹O phias▹O deg▹O thiab▹O cov▹O tsiaj▹O muaj▹O plhaub▹O rau▹O thaum▹O lub▹O caij▹O ntuj▹O sov▹O ,▹O thiab▹O ntawm▹O tej▹O chaw▹O muaj▹O dej▹O ua▹O si▹O .▹O Leej▹O twg▹O thiaj▹O kis▹O tau▹O tus▹O mob▹O V▹O ibrio▹O (▹O non▹O -▹O cholera▹O )▹O ?▹O Cov▹O neeg▹O uas▹O lub▹O cev▹O tiv▹O thaiv▹O tsis▹O tau▹O kab▹O mob▹O lawm▹O ,▹O tshwj▹O xeeb▹O cov▹O neeg▹O mob▹O siab▹O ntev▹O ntev▹O lawm▹O ,▹O yog▹O cov▹O yuav▹O ntxim▹O tus▹O kab▹O mob▹O Vibrio▹O (▹O non▹O -▹O cholera▹O )▹O thaum▹O lawv▹O noj▹O cov▹O khoom▹O hiav▹O txwv▹O nyoos▹O ,▹O tshwj▹O xeeb▹O cov▹O phias▹O deg▹O .▹O Vim▹O muaj▹O cov▹O kab▹O mob▹O Vibrio▹O (▹O non▹O -▹O cholera▹O )▹O no▹O nyob▹O hauv▹O cov▹O dej▹O hiav▹O txwv▹O uas▹O sov▹O sov▹O ,▹O cov▹O neeg▹O muaj▹O nqaij▹O to▹O yuav▹O kis▹O tau▹O tus▹O kab▹O mob▹O no▹O thaum▹O kov▹O cov▹O dej▹O hiav▹O txwv▹O .▹O Tus▹O yam▹O ntxwv▹O ntawm▹O tus▹B-DSYN mob▹I-DSYN vibriorosis▹E-DSYN zoo▹O li▹O cas▹O ?▹O Cov▹O neeg▹O uas▹O nyob▹O dhia▹O rhees▹O ,▹O noj▹O tau▹O tus▹O kab▹O mob▹O Vibrio▹O (▹O non▹O -▹O cholera▹O )▹O yuav▹O ua▹O rau▹O kom▹O ntuav▹O ,▹O raws▹O plab▹O ,▹O thiab▹O mob▹O plab▹O .▹O Cov▹O neeg▹O lub▹O cev▹O tiv▹O thaiv▹O tsis▹O tau▹O kab▹O mob▹O lawm▹O ,▹O tshwj▹O xeeb▹O cov▹O neeg▹O mob▹O siab▹O tau▹O ntev▹O ntev▹O lawm▹O ,▹O cov▹O kab▹O mob▹O no▹O yuav▹O ua▹O mob▹O rau▹O hauv▹O cov▹O ntshav▹O ,▹O ua▹O rau▹O kom▹O mob▹O nyhav▹O heev▹O thiab▹O nrom▹O siav▹O nrag▹O .▹O Tus▹O mob▹O Vibrio▹O (▹O non▹O -▹O cholera▹O )▹O yuav▹O ua▹O mob▹O tau▹O rau▹O daim▹O tawv▹O nqaij▹O thaum▹O qhov▹O nqaij▹O to▹O raug▹O rau▹O cov▹O dej▹O hiav▹O txwv▹O uas▹O sov▹O so▹O .▹O Cov▹O mob▹O no▹O kuj▹O yuav▹O kis▹O tau▹O thaum▹O cov▹O nqaij▹O to▹O ntub▹O cov▹O dej▹O qab▹O ntsev▹O uas▹O muaj▹O dej▹O hiav▹O txwv▹O tov▹O nrog▹O ,▹O los▹O yog▹O tej▹O dej▹O uas▹O nrog▹O ntawm▹O cov▹O khoom▹O nyoos▹O muab▹O hauv▹O dej▹O hiav▹O txwv▹O los▹O .▹O Cov▹O mob▹O no▹O yuav▹O ua▹O rau▹O kom▹O daim▹O tawv▹O nqaij▹O ntuag▹O thiab▹O ua▹O kiav▹O txhab▹O tsis▹O txawj▹O zoo▹O .▹O ▹O Tus▹O kab▹O mob▹O Vibrio▹O (▹O non▹O -▹O cholera▹O )▹O no▹O kis▹O tau▹O mus▹O li▹O cas▹O ?▹O Tus▹O kab▹O mob▹O Vibrio▹O (▹O non▹O -▹O cholera▹O )▹O yuav▹O ua▹O rau▹O cov▹O neeg▹O uas▹O noj▹O tau▹O cov▹O khoom▹O hiav▹O txwv▹O paug▹O kab▹O mob▹O los▹O yog▹O muaj▹O nqaij▹O tos▹O es▹O ho▹O mus▹O kov▹O dej▹O hiav▹O txwv▹O ces▹O muaj▹O mob▹O .▹O Tsis▹O tau▹O muaj▹O puav▹O pheej▹O qhia▹O hais▹O tias▹O tus▹O kab▹O mob▹O no▹O kis▹O los▹O ntawm▹O ib▹O -▹O tug▹O -▹O neeg▹O -▹O mus▹O -▹O rau▹O -▹O ib▹O -▹O tug▹O -▹O neeg▹O .▹O Yuav▹O ntev▹O npaum▹O li▹O cas▹O tus▹O yam▹O ntxwv▹O mam▹O li▹O tshwm▹O ?▹O Feem▹O ntau▹O tus▹O yam▹O ntxwv▹O tshwm▹O nyob▹O rau▹O hauv▹O 24▹O teev▹O tom▹O qab▹O noj▹O cov▹O khoom▹O tsis▹O huv▹O los▹O yog▹O 12▹O mus▹O rau▹O 72▹O teev▹O tom▹O qab▹O kov▹O cov▹O dej▹O hiav▹O txwv▹O tsis▹O huv▹O .▹O Yuav▹O kho▹O tus▹O mob▹B-DSYN Vibriosis▹E-DSYN li▹O cas▹O ?▹O Vim▹O lub▹O cev▹O yuav▹O qhuav▹O sai▹O los▹O ntawm▹O raws▹O plab▹O nyav▹O heev▹O ,▹O yuav▹O tau▹O haus▹O dej▹O los▹O yog▹O tso▹O dej▹O mus▹O rau▹O hauv▹O lub▹O cev▹O yog▹O ib▹O qho▹O tseem▹O ceeb▹O .▹O Cov▹O neeg▹O mob▹O uas▹O raws▹O plab▹O yuav▹O tsum▹O haus▹O dej▹O kom▹O ntau▹O mus▹O rau▹O lub▹O cev▹O .▹O Feem▹O ntau▹O cov▹O neeg▹O mob▹O uas▹O raws▹O plab▹O tsis▹O tas▹O siv▹O tshuaj▹O los▹O kho▹O ,▹O thiab▹O kuj▹O tsis▹O tau▹O pom▹O hais▹O tais▹O cov▹O tshuaj▹O tua▹O kab▹O mob▹O yuav▹O txo▹O tau▹O tus▹O mob▹O kom▹O zoo▹O sai▹O npaum▹O li▹O cas▹O .▹O Nyob▹O rau▹O ntawm▹O cov▹O uas▹O mob▹O nyhav▹O heev▹O ,▹O (▹O xws▹O li▹O mob▹O rau▹O hauv▹O cov▹O ntshav▹O los▹O yog▹O nqaij▹O voos▹O )▹O kuj▹O yuav▹O tau▹O siv▹O tshuaj▹O tua▹O kab▹O mob▹O .▹O Yuav▹O ua▹O li▹O cas▹O thiaj▹O tiv▹O thaiv▹O tau▹O tus▹O kab▹O mob▹B-DSYN Vibriosis▹E-DSYN ?▹O Ntawm▹O no▹O yog▹O tej▹O yam▹O yuav▹O pab▹O tiv▹O thaiv▹O tus▹O kab▹O mob▹O Vibrio▹O (▹O non▹O -▹O cholera▹O )▹O ,▹O tshwj▹O xeeb▹O rau▹O cov▹O neeg▹O mob▹O uas▹O lub▹O cev▹O tiv▹O thaiv▹O tsis▹O tau▹O lawm▹O ,▹O nrog▹O rau▹O cov▹O neeg▹O uas▹O mob▹O siab▹O :▹O Tsis▹O txhob▹O noj▹O cov▹O phias▹O deg▹O los▹O yog▹O ntses▹O muaj▹O plhaub▹O tseem▹O nyoos▹O .▹O Muab▹O cov▹O ntses▹O muaj▹O plhaub▹O (▹O cov▹O phias▹O deg▹O )▹O ua▹O kom▹O siav▹O siav▹O :▹O Cov▹O ntses▹O muaj▹O plhaub▹O tseem▹O nyob▹O hauv▹O lub▹O plhuab▹O ,▹O a▹O )▹O hau▹O kom▹O txog▹O thaum▹O lub▹O plhaub▹O rua▹O thiab▹O yij▹O meem▹O hau▹O mus▹O ntxiv▹O li▹O 5▹O feeb▹O ,▹O los▹O yog▹O b▹O )▹O cub▹O kom▹O txog▹O thaum▹O lub▹O plhaub▹O rua▹O thiab▹O yij▹O meem▹O cub▹O mus▹O ntxiv▹O li▹O 9▹O feeb▹O .▹O Tsis▹O txhob▹O noj▹O cov▹O ntses▹O muaj▹O plhaub▹O uas▹O lub▹O plhuab▹O tsis▹O rua▹O thaum▹O muab▹O hau▹O los▹O yog▹O cub▹O .▹O Hau▹O cov▹O phias▹O deg▹O uas▹O tev▹O lawm▹O mus▹O li▹O 3▹O feeb▹O los▹O yog▹O muab▹O nthee▹O hauv▹O roj▹O kom▹O kub▹O txog▹O 375°F▹O mus▹O li▹O 10▹O feeb▹O .▹O Tsis▹O txhob▹O pub▹O cov▹O nqaij▹O hiav▹O txwv▹O uas▹O siav▹O lawm▹O thiab▹O lwm▹O yam▹O zaub▹O mov▹O siav▹O xyaw▹O cov▹O nqaij▹O hiav▹O txwv▹O uas▹O tseem▹O nyoos▹O ,▹O thiab▹O txhob▹O pub▹O cov▹O kua▹O nyoos▹O ntawm▹O cov▹O tsiaj▹O hiav▹O txwv▹O nrog▹O rau▹O .▹O Noj▹O cov▹O ntses▹O muaj▹O plhaub▹O kom▹O sai▹O tom▹O qab▹O ua▹O tiav▹O lawm▹O thiab▹O muab▹O cov▹O seem▹O cia▹O rau▹O hauv▹O lub▹O txee▹O txias▹O .▹O Tsis▹O txhob▹O pub▹O tej▹O nqaij▹O to▹O los▹O yog▹O tawv▹O ntuag▹O raug▹O cov▹O dej▹O qab▹O ntsev▹O sov▹O so▹O los▹O yog▹O cov▹O dej▹O hiav▹O txwv▹O ,▹O thiab▹O cov▹O tsiaj▹O muaj▹O plhaub▹O nyob▹O hauv▹O hiav▹O txwv▹O nrog▹O kua▹O rau▹O .▹O Hnav▹O tej▹O ris▹O tsho▹O kom▹O tiv▹O thaiv▹O tau▹O (▹O xws▹O li▹O hnab▹O looj▹O tes▹O )▹O thaum▹O kov▹O cov▹O ntses▹O muaj▹O plhaub▹O .▹O DEVELOPED▹O BY▹O THE▹O DIVISION▹O OF▹O PUBLIC▹O HEALTH▹O ,▹O BUREAU▹O OF▹O COMMUNICABLE▹O DISEASES▹O COMMUNICABLE▹O DISEASE▹O EPIDEMIOLOGY▹O SECTION▹O P▹O -▹O 42186H▹O (▹O Rev▹O .▹O 12▹O /▹O 08▹O )▹O']\n"
     ]
    }
   ],
   "source": [
    "#print(data)\n",
    "#print(illness_names)\n",
    "# this process has a problem: this isn't getting them all--modify disease_names\n",
    "illness_tagged = tag_default(return_ne_tags(data, illness_names, 'DSYN'))\n",
    "print(illness_tagged)"
   ]
  },
  {
   "cell_type": "code",
   "execution_count": 21,
   "metadata": {},
   "outputs": [],
   "source": [
    "symptom_tagged = return_ne_tags(data, symptom_names, 'SY')"
   ]
  },
  {
   "cell_type": "code",
   "execution_count": 22,
   "metadata": {},
   "outputs": [
    {
     "name": "stdout",
     "output_type": "stream",
     "text": [
      "['TUS▹B-IL MOB▹I-IL ENTEROTOXIGENIC▹I-IL E▹I-IL .▹I-IL COLI▹I-IL (▹I-IL ETEC▹I-IL )▹E-IL', 'Escherichia coli ( E . coli ) yog cov kab mob uas pom muaj rau ntawm tej chaw nyob ib ncig yus , hauv tej khoom noj , thiab hauv cov hnyuv ntawm tej tsiaj txhu thiab tib neeg . Hom mob E . coli feem ntau yeej tsis ua teeb meem dab tsi thiab kuj yog ib feem tseem ceeb ntawm txoj kev zom zaub mov , tab sis muaj ib txhia kuj ua rau koj mob . Enterotoxigenic E . coli ( ETEC ) yog ib hom ntawm cov kab mob E . coli uas ua tau rau koj raws plab . Tsis hais leej twg los yeej kis tau tus mob ETEC . Nws yog ib tus mob raws plab uas kheev pom muaj nyob rau cov teb chaws tseem tsis tau vam meej txaus , tshwj xeeb yog ua mob rau cov me nyuam thiab nyob neeg uas mus ncig rau cov teb chaws ntawd . Tab sis , tab txawm cov uas yeej tsis tawm lub Teb Chaws Meskas mus qhov twg li los yeej kis tau tus mob ETEC no thiab .', 'Dab tsi ua rau tau tus mob no ? Tus mob ETEC kis tau los ntawm tej khoom noj thiab dej uas paug cov quav . Yog hais tias neeg tsis ntxuav lawv ob txhais tes kom zoo thaum lawv npaj pluas noj los yog kov dej , los yog hais tias muab cov dej uas paug tus mob los ywg tej khoom uas yus cog , cov khoom noj kuj yuav paug tau cov quav thiab .', 'Dab tsi yog cov cim qhia tias yog tus mob thiab cov tsos mob ? Cov tsos mob yuav pom tshwm tuaj sai li 10 xuaj moos tom qab kis tau tus mob ETEC , los yog tej zaum kuj siv sij hawm ntev txog 72 xuaj moos mam pom tshwm . Cov tsos mob no kheev yuav nyob mus tsis ntev tshaj tsib hnub , tab sis tej zaum kuj ntev dua . Muaj tej thaum neeg kuj muaj tau tus mob ETEC tab sis tsis pom muaj cov tsos mob li . Tus mob ETEC no tsis yooj yim rau kuaj kom paub tias muaj nyob hauv cov quav .', '* Raws plab ua kua dej ( tsis muaj ntshav los yog ua ntswg lej ) * Mob plab ntswj * Ntuav * Muaj dej tsis txaus hauv lub cev * Tsis muaj zog Ua npaws / kub ib ce', 'Cov kev kho tus mob yog li cas ? Cov neeg uas tau tus mob ETEC yuav tau haus dej kom ntau xwv kom lawv lub cev thiaj muaj dej txaus . Cov neeg feem coob kuj cia li zoo tuaj los ntawm qhov tu lawv tus kheej kom zoo yam tsis tas nrhiav lwm txoj kev kho tus mob . Yog hais tias yuav tau siv ib yam tshuaj tua kab mob ( antibiotic ) , mas yuav tau kuaj kom paub seb hom tshuaj tua kab mob twg yog hom yuav ua hauj lwm tawm tsam tau tus mob ETEC .', 'Yuav tiv thaiv li cas thiaj tsis kis tau tus mob ? Cov neeg ncig teb chaws mus rau cov teb chaws uas tseem tsis tau vam meej yuav tau ceev faj txog tej khoom uas lawv noj thiab tej dej haus , thiab nco ntsoov muab nws Rhaub kom npau , Hau kom siav , Tev daim tawv tawm , los yog Tso tseg txhob kov nws li . Ib txhia khoom noj uas yuav ua rau tau tus mob yog cov txiv hmab txiv ntoo thiab zaub nyoos , khoom noj hiav txwv nyoos , tej nqaij nyuj los yog nqaij qaib hau tsis siav zoo , tej khoom muab mis nyuj ua es tsis muab tso kom txias zoo , tej khoom noj muag ntawm kev , thiab tej dej haus ( nrog rau cov dej khov ) nyob hauv cov cheeb tsam uas tsis muaj cov tshuaj chlorine txaus tso rau hauv . Muab xab npum thiab dej los ntxuav koj ob txhais tes tom qab siv chav dej thiab ua ntej npaj ua zaub mov noj kom txhob muaj kab mob paug rau tej khoom noj los yog dej haus . Cov neeg muaj tus mob ETEC uas ua hauj lwm tu khoom noj , tu neeg mob los yog zov me nyuam , los yog mus nyob hauv ib qhov chaw zov me nyuam yuav tau nyob twj ywm hauv tsev thaum lawv muaj cov tsos mob thiab kom txog rau thaum lawv tso tseg tsis raws plab ntev txog 24 xuaj moos . Cov neeg ua hauj lwm nrog khoom noj yuav tau mus ntsib fab saib xyuas kev noj qab haus huv hauv zos kom paub tias lawv tsis muaj tus mob lawm ua ntej rov qab mus ua hauj lwm .', 'BUREAU OF COMMUNICABLE DISEASES https : //www . dhs . wisconsin . gov / dph / bcd . htm | DHSDPHBCD@dhs . wi . gov P-01820H ( 06 / 2017 ) Wisconsin Department of Health Services | Division of Public Health', '', '']\n",
      "['TUS MOB ENTEROTOXIGENIC E . COLI ( ETEC )', 'Escherichia coli ( E . coli ) yog cov kab mob uas pom muaj rau ntawm tej chaw nyob ib ncig yus , hauv tej khoom noj , thiab hauv cov hnyuv ntawm tej tsiaj txhu thiab tib neeg . Hom mob E . coli feem ntau yeej tsis ua teeb meem dab tsi thiab kuj yog ib feem tseem ceeb ntawm txoj kev zom zaub mov , tab sis muaj ib txhia kuj ua rau koj mob . Enterotoxigenic E . coli ( ETEC ) yog ib hom ntawm cov kab mob E . coli uas ua tau rau koj raws▹B-SY plab▹E-SY . Tsis hais leej twg los yeej kis tau tus mob ETEC . Nws yog ib tus mob raws▹B-SY plab▹E-SY uas kheev pom muaj nyob rau cov teb chaws tseem tsis tau vam meej txaus , tshwj xeeb yog ua mob rau cov me nyuam thiab nyob neeg uas mus ncig rau cov teb chaws ntawd . Tab sis , tab txawm cov uas yeej tsis tawm lub Teb Chaws Meskas mus qhov twg li los yeej kis tau tus mob ETEC no thiab .', 'Dab tsi ua rau tau tus mob no ? Tus mob ETEC kis tau los ntawm tej khoom noj thiab dej uas paug cov quav . Yog hais tias neeg tsis ntxuav lawv ob txhais tes kom zoo thaum lawv npaj pluas noj los yog kov dej , los yog hais tias muab cov dej uas paug tus mob los ywg tej khoom uas yus cog , cov khoom noj kuj yuav paug tau cov quav thiab .', 'Dab tsi yog cov cim qhia tias yog tus mob thiab cov tsos mob ? Cov tsos mob yuav pom tshwm tuaj sai li 10 xuaj moos tom qab kis tau tus mob ETEC , los yog tej zaum kuj siv sij hawm ntev txog 72 xuaj moos mam pom tshwm . Cov tsos mob no kheev yuav nyob mus tsis ntev tshaj tsib hnub , tab sis tej zaum kuj ntev dua . Muaj tej thaum neeg kuj muaj tau tus mob ETEC tab sis tsis pom muaj cov tsos mob li . Tus mob ETEC no tsis yooj yim rau kuaj kom paub tias muaj nyob hauv cov quav .', '* raws▹B-SY plab▹E-SY ua kua dej ( tsis muaj ntshav los yog ua ntswg lej ) * mob▹B-SY plab▹I-SY ntswj▹E-SY * ntuav▹B-SY * muaj▹B-SY dej▹I-SY tsis▹I-SY txaus▹I-SY hauv▹I-SY lub▹I-SY cev▹E-SY * tsis▹B-SY muaj▹I-SY zog▹E-SY ua▹B-SY npaws▹E-SY / kub▹B-SY ib▹I-SY ce▹E-SY', 'Cov kev kho tus mob yog li cas ? Cov neeg uas tau tus mob ETEC yuav tau haus dej kom ntau xwv kom lawv lub cev thiaj muaj dej txaus . Cov neeg feem coob kuj cia li zoo tuaj los ntawm qhov tu lawv tus kheej kom zoo yam tsis tas nrhiav lwm txoj kev kho tus mob . Yog hais tias yuav tau siv ib yam tshuaj tua kab mob ( antibiotic ) , mas yuav tau kuaj kom paub seb hom tshuaj tua kab mob twg yog hom yuav ua hauj lwm tawm tsam tau tus mob ETEC .', 'Yuav tiv thaiv li cas thiaj tsis kis tau tus mob ? Cov neeg ncig teb chaws mus rau cov teb chaws uas tseem tsis tau vam meej yuav tau ceev faj txog tej khoom uas lawv noj thiab tej dej haus , thiab nco ntsoov muab nws Rhaub kom npau , Hau kom siav , Tev daim tawv tawm , los yog Tso tseg txhob kov nws li . Ib txhia khoom noj uas yuav ua rau tau tus mob yog cov txiv hmab txiv ntoo thiab zaub nyoos , khoom noj hiav txwv nyoos , tej nqaij nyuj los yog nqaij qaib hau tsis siav zoo , tej khoom muab mis nyuj ua es tsis muab tso kom txias zoo , tej khoom noj muag ntawm kev , thiab tej dej haus ( nrog rau cov dej khov ) nyob hauv cov cheeb tsam uas tsis muaj cov tshuaj chlorine txaus tso rau hauv . Muab xab npum thiab dej los ntxuav koj ob txhais tes tom qab siv chav dej thiab ua ntej npaj ua zaub mov noj kom txhob muaj kab mob paug rau tej khoom noj los yog dej haus . Cov neeg muaj tus mob ETEC uas ua hauj lwm tu khoom noj , tu neeg mob los yog zov me nyuam , los yog mus nyob hauv ib qhov chaw zov me nyuam yuav tau nyob twj ywm hauv tsev thaum lawv muaj cov tsos mob thiab kom txog rau thaum lawv tso tseg tsis raws▹B-SY plab▹E-SY ntev txog 24 xuaj moos . Cov neeg ua hauj lwm nrog khoom noj yuav tau mus ntsib fab saib xyuas kev noj qab haus huv hauv zos kom paub tias lawv tsis muaj tus mob lawm ua ntej rov qab mus ua hauj lwm .', 'BUREAU OF COMMUNICABLE DISEASES https : //www . dhs . wisconsin . gov / dph / bcd . htm | DHSDPHBCD@dhs . wi . gov P-01820H ( 06 / 2017 ) Wisconsin Department of Health Services | Division of Public Health', '', '']\n"
     ]
    }
   ],
   "source": [
    "print(illness_tagged)\n",
    "print(symptom_tagged)"
   ]
  },
  {
   "cell_type": "code",
   "execution_count": 81,
   "metadata": {},
   "outputs": [
    {
     "name": "stdout",
     "output_type": "stream",
     "text": [
      "['TUS MOB ACUTE FLACCID MYELITIS ( AFM )', 'Tus Mob Acute flaccid myelitis ( AFM ) los yog kuj muab hu ua acute flaccid paralysis with anterior myelitis los yog polio like syndrome ( cov tsos mob zoo li tus mob tuag npab tuag ceg▹B-BP ) . Nws yog ib tus mob uas tsis tshua pom muaj , feem tau yog pom muaj rau cov me nyuam , uas ua teeb meem rau cov leeg▹B-BP xa xov hauv lub cev , uas yog muab hais kom tseeb ces yog tus txha▹B-BP nqaj qaum . Tus mob AFM yog tau los ntawm ib cov kab mob ntawm cov yoov chaj tsum los yog muaj nyob hauv tej chaw uas nyob ib ncig yus ( environment ) . Dab tsi ua rau muaj tus mob ? Tus mob no yog tau los ntawm cov kab mob xws li cov enteroviruses ( tuag npab tuag ceg▹B-BP thiab tsis yog tuag npab tuag ceg▹B-BP ) thiab cov kab mob aviviruses xws li tus kab mob West Nile Virus , tus kab mob Japanese Encephalitis virus , los yog tus kab mob St . Louis encephalitis virus . Lwm cov kab mob uas tej zaum yuav ua rau muaj tus mob AFM yog cov herpesviruses ( piv txwv li , tus kab mob cytomegalovirus , Epstein Barr virus ) thiab cov adenoviruses . Txawm as tus mob AFM yuav ua rau koj tej npab los yog tej ceg▹B-BP tsis muaj zog los , cov mob raws keeb caj ces , cov mob tau los ntawm tej khoom los yog tej chaw muaj tshuaj lom uas nyob ib ncig yus thiab tus mob Guillain Barré syndrome kuj ua rau muaj cov tsos mob zoo ib yam thiab . Txawm yuav tau sim kuaj los , qhov ua rau muaj tus mob AFM yeej tseem rhiav tsis tau hlo li . Dab tsi yog cov cim qhia tias yog tus mob thiab cov tsos mob ? * Sab npab los yog sab ceg▹B-BP tsis muaj zog cia li tshwm sim sai heev', '* Tej nqaij▹B-BP tsis nruj li qub thiab xoob tuaj', '* Lub ntsej muag nrwg los yog tsis muaj zog', '* Tsis qab los', '* Daim tawv▹B-BP muag▹E-BP nrwg', '* Nqos tsis tau khoom noj los yog dej haus', '* Txav tsis tau lub qhov▹B-BP muag▹E-BP mus los', '* Hais lus txha▹B-BP / tsis muaj lub muaj log', '* Ua tsis taus pa ( pom muaj tsawg )', 'Cov kev kho tus mob yog li cas ? Kev nrhiav tau tias yog tus mob AFM kheev yog ib qho nyuaj kawg . Cov kws kho mob yuav xyuas tej hlab▹B-BP ntsha▹E-BP , qhov chaw uas tej nqaij▹B-BP tsis muaj zog , nqaij▹B-BP xoob , thiab nqaij▹B-BP tsis nruj los yog tsis ceev . Kev yees duab sab hauv nruab nrog cev siv hluav taws xob ( magnetic resonance imaging , MRI ) , cov kev kuaj sim cov kua dej ( cerebrospinal fluid , CSF ) , thiab cov kev kuaj sim tej hlab▹B-BP ntsha▹E-BP uas xa xov rau cov hlwb▹B-BP ( electromyography , EMG ) los kuj ua tau los mus sim seb puas muaj lwm yam mob . Nws tsis muajib txoj kev kho tus mob AFM uas paub tseeb . Qhov kev kho yog nyob ntawm tus tibneeg seb nws tus mob zoo li cas . Yuav tiv thaiv li cas thiaj tsis kis tau tus mob ? Yuav kom tiv thaiv tau tus mob AFM , Koj yuav tsum xub tiv thaiv qhov uas ua rau mob . Nws muaj cov tshuaj txhaj uas yuav tiv thaiv tau ib cov mob uas ua rau muaj tus mob AFM ( piv txwv li , hom tshuaj txhaj tus mob tuag npab tuag ceg▹B-BP ) . Tiv thaiv koj tus kheej kom yoov tshaj cum txhob tom kuj yuav pab tiv thaiv tau cov mob li AFM xws li tus kab mob St . Louis encephalitis , Japanese encephalitis , thiab West Nile Virus . Kom tiv thaiv tau cov kab mob enteroviruses uas ua rau muaj cov mob AFM , nws yog ib qho tseem ceeb uas yuav tau ntxuav ob txhais tes▹B-BP tsis so , txav kom deb ntawm cov neeg uas muaj tus mob , thiab ntxuav cov thaj chaw uas cov neeg mob kov tau kom huv si . BUREAU OF COMMUNICABLE DISEASES h ps : //www . dhs . wisconsin . gov / dph / bcd . htm | DHSDPHBCD@dhs . wi . gov P-01289h ( 1 / 2017 ) Wisconsin Department of Health Services | Division of Public Health']\n"
     ]
    }
   ],
   "source": [
    "# this might be better served with a machine learning approach ultimately to avoid homonyms\n",
    "# for now, this is OK because it'll be processed within symptoms\n",
    "# however, body parts are associated with symptoms, so I don't really need to build this\n",
    "#     part of the ontology using illness text files\n",
    "print(return_ne_tags(data, bodypart_names, 'BP'))"
   ]
  },
  {
   "cell_type": "code",
   "execution_count": 33,
   "metadata": {},
   "outputs": [],
   "source": [
    "illness_tagged_tokenized = [w for line in illness_tagged for w in line.split(' ') if w[-3:] == '-IL']\n",
    "symptom_tagged_tokenized = [w for line in symptom_tagged for w in line.split(' ') if w[-3:] == '-SY']\n",
    "\n",
    "def get_separated(tagged_list):\n",
    "    separated = []\n",
    "    current = []\n",
    "    for i, item in enumerate(tagged_list):\n",
    "        if item[-4] == 'B':\n",
    "            if len(current) == 1:\n",
    "                if tagged_list[i - 1][-4] == 'B':\n",
    "                    if current not in separated:\n",
    "                        separated.append(current)\n",
    "                    current = [item[:-5]]\n",
    "            else:\n",
    "                current.append(item[:-5])\n",
    "        elif item[-4] != 'E':\n",
    "            current.append(item[:-5])\n",
    "        else:\n",
    "            current.append(item[:-5])\n",
    "            if current not in separated:\n",
    "                separated.append(current)\n",
    "            current = []\n",
    "    return separated\n",
    "        \n",
    "illness_separated = get_separated(illness_tagged_tokenized)\n",
    "symptom_separated = get_separated(symptom_tagged_tokenized)\n"
   ]
  },
  {
   "cell_type": "code",
   "execution_count": 34,
   "metadata": {},
   "outputs": [
    {
     "name": "stdout",
     "output_type": "stream",
     "text": [
      "[['TUS', 'MOB', 'ENTEROTOXIGENIC', 'E', '.', 'COLI', '(', 'ETEC', ')']]\n"
     ]
    }
   ],
   "source": [
    "print(illness_separated)"
   ]
  },
  {
   "cell_type": "code",
   "execution_count": 35,
   "metadata": {},
   "outputs": [
    {
     "name": "stdout",
     "output_type": "stream",
     "text": [
      "[['raws', 'plab'], ['mob', 'plab', 'ntswj'], ['ntuav'], ['muaj', 'dej', 'tsis', 'txaus', 'hauv', 'lub', 'cev'], ['tsis', 'muaj', 'zog'], ['ua', 'npaws'], ['kub', 'ib', 'ce']]\n"
     ]
    }
   ],
   "source": [
    "print(symptom_separated)"
   ]
  },
  {
   "cell_type": "code",
   "execution_count": 36,
   "metadata": {},
   "outputs": [],
   "source": [
    "import sqlite3\n",
    "os.chdir(os.path.expanduser(os.path.join('~', 'python_workspace', 'medical_corpus_scripting', 'ner_assets')))\n",
    "\n",
    "conn = sqlite3.Connection('ontology.db')\n",
    "\n",
    "crsr = conn.cursor()\n",
    "\n",
    "#sql_query = \"\"\"CREATE TABLE illness(\n",
    "#illness_id INTEGER PRIMARY KEY AUTOINCREMENT,\n",
    "#name TEXT);\"\"\"\n",
    "\n",
    "#crsr.execute(sql_query)"
   ]
  },
  {
   "cell_type": "code",
   "execution_count": 12,
   "metadata": {},
   "outputs": [
    {
     "ename": "OperationalError",
     "evalue": "table symptom already exists",
     "output_type": "error",
     "traceback": [
      "\u001b[0;31m---------------------------------------------------------------------------\u001b[0m",
      "\u001b[0;31mOperationalError\u001b[0m                          Traceback (most recent call last)",
      "\u001b[0;32m<ipython-input-12-aa85f6b8da0c>\u001b[0m in \u001b[0;36m<module>\u001b[0;34m\u001b[0m\n\u001b[1;32m      3\u001b[0m name TEXT);\"\"\"\n\u001b[1;32m      4\u001b[0m \u001b[0;34m\u001b[0m\u001b[0m\n\u001b[0;32m----> 5\u001b[0;31m \u001b[0mcrsr\u001b[0m\u001b[0;34m.\u001b[0m\u001b[0mexecute\u001b[0m\u001b[0;34m(\u001b[0m\u001b[0msql_query\u001b[0m\u001b[0;34m)\u001b[0m\u001b[0;34m\u001b[0m\u001b[0;34m\u001b[0m\u001b[0m\n\u001b[0m",
      "\u001b[0;31mOperationalError\u001b[0m: table symptom already exists"
     ]
    }
   ],
   "source": [
    "sql_query = \"\"\"CREATE TABLE symptom(\n",
    "symptom_id INTEGER PRIMARY KEY AUTOINCREMENT,\n",
    "name TEXT);\"\"\"\n",
    "\n",
    "crsr.execute(sql_query)"
   ]
  },
  {
   "cell_type": "code",
   "execution_count": 14,
   "metadata": {},
   "outputs": [
    {
     "ename": "OperationalError",
     "evalue": "table illness_symptom already exists",
     "output_type": "error",
     "traceback": [
      "\u001b[0;31m---------------------------------------------------------------------------\u001b[0m",
      "\u001b[0;31mOperationalError\u001b[0m                          Traceback (most recent call last)",
      "\u001b[0;32m<ipython-input-14-73d0f9f2f6b9>\u001b[0m in \u001b[0;36m<module>\u001b[0;34m\u001b[0m\n\u001b[1;32m      4\u001b[0m PRIMARY KEY(illness_id, symptom_id));\"\"\"\n\u001b[1;32m      5\u001b[0m \u001b[0;34m\u001b[0m\u001b[0m\n\u001b[0;32m----> 6\u001b[0;31m \u001b[0mcrsr\u001b[0m\u001b[0;34m.\u001b[0m\u001b[0mexecute\u001b[0m\u001b[0;34m(\u001b[0m\u001b[0msql_query\u001b[0m\u001b[0;34m)\u001b[0m\u001b[0;34m\u001b[0m\u001b[0;34m\u001b[0m\u001b[0m\n\u001b[0m",
      "\u001b[0;31mOperationalError\u001b[0m: table illness_symptom already exists"
     ]
    }
   ],
   "source": [
    "sql_query = \"\"\"CREATE TABLE illness_symptom (\n",
    "illness_id INTEGER NOT NULL,\n",
    "symptom_id INTEGER NOT NULL,\n",
    "PRIMARY KEY(illness_id, symptom_id));\"\"\"\n",
    "\n",
    "crsr.execute(sql_query)"
   ]
  },
  {
   "cell_type": "code",
   "execution_count": 38,
   "metadata": {},
   "outputs": [],
   "source": [
    "for item in illness_separated:\n",
    "    illness_name = ' '.join(item)\n",
    "    crsr.execute(\"INSERT INTO illness (name) VALUES ('{il_name}');\".format(il_name=illness_name))"
   ]
  },
  {
   "cell_type": "code",
   "execution_count": 16,
   "metadata": {},
   "outputs": [],
   "source": [
    "for item in symptom_separated:\n",
    "    symptom_name = ' '.join(item)\n",
    "    crsr.execute(\"INSERT INTO symptom (name) VALUES ('{sy_name}');\".format(sy_name=symptom_name))"
   ]
  },
  {
   "cell_type": "code",
   "execution_count": 17,
   "metadata": {},
   "outputs": [],
   "source": [
    "for item in symptom_separated:\n",
    "    symptom_name = ' '.join(item)\n",
    "    illness_id = crsr.execute(\"SELECT illness_id FROM illness WHERE name='{il_name}';\".format(il_name=illness_name)).fetchone()[0]\n",
    "    symptom_id = crsr.execute(\"SELECT symptom_id FROM symptom WHERE name='{sy_name}'\".format(sy_name=symptom_name)).fetchone()[0]\n",
    "    crsr.execute(\"INSERT INTO illness_symptom VALUES ({il}, {sy});\".format(il=illness_id, sy=symptom_id))"
   ]
  },
  {
   "cell_type": "code",
   "execution_count": 18,
   "metadata": {},
   "outputs": [
    {
     "name": "stdout",
     "output_type": "stream",
     "text": [
      "[(1, 'TUS MOB ACUTE FLACCID MYELITIS ( AFM )', 1, 'tuag npab tuag ceg'), (1, 'TUS MOB ACUTE FLACCID MYELITIS ( AFM )', 2, 'tsis muaj zog'), (1, 'TUS MOB ACUTE FLACCID MYELITIS ( AFM )', 3, 'raws sab npab los yog sab ceg tsis muaj zog cia li tshwm sim sai heev'), (1, 'TUS MOB ACUTE FLACCID MYELITIS ( AFM )', 4, 'tej nqaij tsis nruj li qub thiab xoob tuaj'), (1, 'TUS MOB ACUTE FLACCID MYELITIS ( AFM )', 5, 'lub ntsej muag nrwg los yog tsis muaj zog'), (1, 'TUS MOB ACUTE FLACCID MYELITIS ( AFM )', 6, 'tsis qab los'), (1, 'TUS MOB ACUTE FLACCID MYELITIS ( AFM )', 7, 'daim tawv muag nrwg'), (1, 'TUS MOB ACUTE FLACCID MYELITIS ( AFM )', 8, 'nqos tsis tau khoom noj los yog dej haus'), (1, 'TUS MOB ACUTE FLACCID MYELITIS ( AFM )', 9, 'txav tsis tau lub qhov muag mus los'), (1, 'TUS MOB ACUTE FLACCID MYELITIS ( AFM )', 10, 'hais lus txha'), (1, 'TUS MOB ACUTE FLACCID MYELITIS ( AFM )', 11, 'tsis muaj lub muaj log'), (1, 'TUS MOB ACUTE FLACCID MYELITIS ( AFM )', 12, 'ua tsis taus pa')]\n"
     ]
    }
   ],
   "source": [
    "sql_query = \"\"\"SELECT illness.illness_id, illness.name, symptom.symptom_id, symptom.name FROM illness_symptom\n",
    "INNER JOIN illness ON illness.illness_id=illness_symptom.illness_id\n",
    "INNER JOIN symptom ON symptom.symptom_id=illness_symptom.symptom_id;\"\"\"\n",
    "print(crsr.execute(sql_query).fetchall())"
   ]
  },
  {
   "cell_type": "code",
   "execution_count": 37,
   "metadata": {},
   "outputs": [
    {
     "data": {
      "text/plain": [
       "<sqlite3.Cursor at 0x7f4f5c1182d0>"
      ]
     },
     "execution_count": 37,
     "metadata": {},
     "output_type": "execute_result"
    }
   ],
   "source": [
    "sql_query = \"\"\"BEGIN TRANSACTION;\"\"\"\n",
    "crsr.execute(sql_query)"
   ]
  },
  {
   "cell_type": "code",
   "execution_count": 42,
   "metadata": {},
   "outputs": [],
   "source": [
    "for item in symptom_separated:\n",
    "    symptom_name = ' '.join(item)\n",
    "    sql_query = \"\"\"INSERT INTO symptom (name) SELECT '{sy_name}' \n",
    "    WHERE NOT EXISTS(SELECT * FROM symptom WHERE name='{sy_name}');\"\"\".format(sy_name=symptom_name)\n",
    "    crsr.execute(sql_query)"
   ]
  },
  {
   "cell_type": "code",
   "execution_count": 43,
   "metadata": {},
   "outputs": [
    {
     "name": "stdout",
     "output_type": "stream",
     "text": [
      "[(1, 'tuag npab tuag ceg'), (2, 'tsis muaj zog'), (3, 'raws sab npab los yog sab ceg tsis muaj zog cia li tshwm sim sai heev'), (4, 'tej nqaij tsis nruj li qub thiab xoob tuaj'), (5, 'lub ntsej muag nrwg los yog tsis muaj zog'), (6, 'tsis qab los'), (7, 'daim tawv muag nrwg'), (8, 'nqos tsis tau khoom noj los yog dej haus'), (9, 'txav tsis tau lub qhov muag mus los'), (10, 'hais lus txha'), (11, 'tsis muaj lub muaj log'), (12, 'ua tsis taus pa'), (13, 'raws plab'), (14, 'mob plab ntswj'), (15, 'ntuav'), (16, 'muaj dej tsis txaus hauv lub cev'), (17, 'ua npaws'), (18, 'kub ib ce')]\n"
     ]
    }
   ],
   "source": [
    "print(crsr.execute(\"SELECT * FROM symptom;\").fetchall())"
   ]
  },
  {
   "cell_type": "code",
   "execution_count": 44,
   "metadata": {},
   "outputs": [
    {
     "data": {
      "text/plain": [
       "<sqlite3.Cursor at 0x7f4f5c1182d0>"
      ]
     },
     "execution_count": 44,
     "metadata": {},
     "output_type": "execute_result"
    }
   ],
   "source": [
    "crsr.execute(\"COMMIT;\")"
   ]
  },
  {
   "cell_type": "code",
   "execution_count": 45,
   "metadata": {},
   "outputs": [],
   "source": [
    "conn.commit()\n",
    "conn.close()"
   ]
  },
  {
   "cell_type": "code",
   "execution_count": 8,
   "metadata": {},
   "outputs": [
    {
     "name": "stdout",
     "output_type": "stream",
     "text": [
      "[1, 10]\n"
     ]
    }
   ],
   "source": [
    "# this is deprecated\n",
    "def get_locations(sequence, to_match):\n",
    "    end = 0\n",
    "    locations = []\n",
    "    while (end != len(sequence)):\n",
    "        out = re.search(to_match, sequence[end:])\n",
    "        if type(out) == re.Match:\n",
    "            locations.append(end + out.span()[0])\n",
    "            end += out.span()[1]\n",
    "        else:\n",
    "            end = len(sequence)\n",
    "    return locations\n",
    "\n",
    "print(get_locations(data[0], 'U'))\n",
    "# the truth is, I only need one match to know whether I need to do sub, then I can do sub\n"
   ]
  },
  {
   "cell_type": "code",
   "execution_count": null,
   "metadata": {},
   "outputs": [],
   "source": [
    "return_ne_tags(data, illness_names, 'IL')"
   ]
  },
  {
   "cell_type": "code",
   "execution_count": 30,
   "metadata": {},
   "outputs": [],
   "source": [
    "basedir = os.path.expanduser(os.path.join('~', 'hmong_medical', 'raw_processing'))\n",
    "os.chdir(basedir)"
   ]
  },
  {
   "cell_type": "code",
   "execution_count": 31,
   "metadata": {},
   "outputs": [],
   "source": [
    "filenames = glob.glob('p*h.txt')\n",
    "datasets = {}"
   ]
  },
  {
   "cell_type": "code",
   "execution_count": 32,
   "metadata": {},
   "outputs": [],
   "source": [
    "for file in filenames:\n",
    "    with open(os.path.join(basedir, file), 'r') as test_f:\n",
    "        datasets[file] = [line.strip() for line in test_f.readlines()]"
   ]
  },
  {
   "cell_type": "code",
   "execution_count": 17,
   "metadata": {},
   "outputs": [
    {
     "data": {
      "text/plain": [
       "['WISCONSIN DIVISION OF PUBLIC HEALTH Department of Health Services Mob Cab - Amebiasis ( amebic dysentary ) Disease Fact Sheet Series',\n",
       " 'Mob Cab - Amebiasis zoo li cas ? Mob Cab Amebiasis yog tus kab mob cab me me hu ua Entamoeba histolytica ua mob cab rau hauv cov nhyuv . Nyob hauv lub xeev Wisconsin muaj kwv yees li 10 - 15 tus neeg raug tus kab mob cab no txhua xyoo . Leej twg thiaj raug hom cab amebiasis no ? Cov cab no yeej tsis xyeej leej twg , tab sis pom raug ntau rau cov neeg mus tsham teb chaws , los yog cov neeg tuaj ntawm cov teb chaws huab cua sov tuaj . Kuj pom muaj ntau rau cov teb chaws txom nyem nyob tsis huv . Tsis tas li , kuj pom muaj rau cov neeg ua nyob hauv cov tsev koom uas nyob tsis huv . Cov txiv neej ua deev txiv neej kuj yuav kis ua mob taus , tab sis , qee zaum mas kuj tsis pom lawv muaj tsos mob tshwm sim xwb . Cov cab Amebiasis ri tau li cas ? Thaum noj tau tej khoom noj tsis huv muaj cov qe cab mas yuav kis tau tus kab mob no . Thaum nphav raug tus neeg mob , los yog tej yam nws siv uas lo nws cov quav mas kuj yuav kis tau tus kab mob no . Cov tsos mob ntawm cov cab amebiasis no zoo li cas ? Cov neeg tau nphav raug tus kab mob cab no kuj yuav mob nhyav , mob sib khuav los yog tsis pom tsos mob dab tsis tshwm li kuj muaj . Kwv yees li , ib tug ntawm 10 leej neeg twg uas raug tus kab mob cab E . histolytica no mas yuav ua mob . Cov tsos mob kuj pom sib khuav xwb , yam li , raws plab , poob ceeb thawj , mob plab , mob plab ntswj , thiab kub cev . Tsawg zaus kawg uas tus kab mob cab E . histolytica yuav mus tom daim nplooj siab ces mob ua paug; los yog , tseem tsawg tshaj ntawd thiab uas yuav ri mus rau lwm qhov chaw hauv lub cev yam li , lub ntsws los yog lub paj hlwb . Yuav sai npaum li cas tom qab kis tag es cov tsos mob mam li tshwm ? Cov tsos mob yuav tshwm li ntawm ob peb hnub mus rau ob peb hlis tom qab kis tas , tiam sis feem ntau cov tsos mob tshwm li ntawm 2 mus rau 4 lis piam ntawd . Tus neeg raug tus cab no yuav muaj tus cab no hov ntev nrog nws ? Qee leej neeg uas raug tus cab amebiasis yuav muaj tus cab no ntev ntau lub lis piam los yog ntau xyoo , uas yeej tsis pom muaj mob li . Cov cab amebiasis muaj nyob rau qhov twg ? Cov neeg uas raug tus cab no mas yog cov muaj tus c ab no . Cov cab yuav nyob hauv tej dej , khoom noj , uas tau nphav raug tus neeg mob cab cov quav . Tsiaj yuav tsis raug hom cab no los yog muaj hom cab no . Nyob hauv tej thaj tsham nyob hauv qab ntuj khwb no mas , yog yoov nphav tau neeg cov quav , ces cov yoov no yuav ya mus tsaws rau tej zaub , los yog txiv hmab txiv ntoo neeg noj tau ces neeg yuav kis tau tus cab . - txuas ntxiv - Yuav ua cas thiaj paub hais tias yog mob cab amebiasis no ? Thaum tsom kuaj cov quav hauv lub tshuab kuaj k ab mob mas kws kho mob yuav paub hais tias yog cov cab no . Tej thaum kuj yuav tau tso quav ob peb tawb ob peb hnub sib quas coj mus kuaj vim qee hnub mas yuav muaj cab tawm ntau los nrog quav dua . Kev nrhiav kuaj tus cab amebiasis no mas tej zaum nrhiav nyuaj thiab vim tias lwm cov cab kuj muaj ntsis zoo li hom cab no thaum tsom hauv lub tsh uab kuaj kab mob . Thaum tsom hauv tshuab kuaj kab mob mas pom tias lwm yam cab xws li , tus cab hu ua Entamoeba dispar kuj zoo nkaus li tus cab , E . histolytica no thiab . Tab sis tus cab Entamoeba dispar yuav tsis ua rau neeg mob thiab tsis tas yuav siv tshuaj los kho . Yuav kho tus cab amebiasis no li cas ? Muaj ntau cov tshuaj siv los kho hom cab amebiasis no . Tus kws kho mob yuav muab tau cov tshuaj no los kho . Puav yuav cais tus neeg mob cab amebiasis kom tsis txhob mus ua hauj lwm los mus kawm ntawv ? Feem ntau , tsis tas cais tus neeg mob cab ntawm chaw ua hauj lwm los tsev kawm ntawv . Kev sib nphav sib khuas yuav tsis kis tau tus kab mob . Cov neeg ua noj ua haus , cov me nyuam nyob hauv tsev zov me nyuam , los yog , cov neeg nyob hauv cov tsev koom rau cov neeg tsis xeeb meej mas yuav tau ceev faj me ntsis . Yuav tau nug mus rau tseem fwv qhov chaw saib xyuas pej xeem kev noj qab hauv huv saib lawv pom zoo li cas . Tus neeg mob cab no yuav ceev faj li cas ? Qhov tseem ceeb tshaj plaws mas yog yuav tsum nt xuav tes kom huv si ua ntej yuav npaj pluas noj pluas haus , thaum hloov me nyuam ntaub tiag quav tas , thiab thaum mus siv tsev plob tas . Tseem ceeb kawg uas yuav tsum pov tej dej kua quav tsis huv rau tej chaw ceev yam ntawd . Cov txiv neej uas deev txiv neej yuav tsum caiv txhob sib dee txog ntua thaum twg tus mob no zoo tu qab tso . Thaum mus tsham tej teb chaws uas noj nyob tsis huv , kuv yuav tsum noj los yog haus dab tsi kom kuv TSIS TXHOB kis raug tus cab amebiasis los yog lwm cov kab mob ? Tsuas haus cov dej hauv fwj , los yog cov dej rhaub ( twb npau li ib feeb lawm ) los sis cov kaus poom thiab fwj dej qab zib , saib zoo zoo kom lub hau nyob hu si . Tsis txhob haus cov kais dej los yog haus cov dej nrog cov dej khov . Tsis txhob noj cov txiv hmab txiv ntoo los yog zaub uas tsis yog koj tev los txhem . Tsis txhob noj los haus cov mis , noj cov tshij ( cheese ) , los sis tej khoom uas siv mis los ua uas tsis tau muab cov kab mob tua . Tsis txhob noj los haus tej yam dab tsis uas muag tom tej ntug kev . DEVELOPED BY THE DIVISION OF PUBLIC HEALTH , BUREAU OF COMMUNICABLE DISEASE COMMUNICABLE DISEASE EPIDEMIOLOGY SECTION P - 42024H ( Rev . 05 / 04 )']"
      ]
     },
     "execution_count": 17,
     "metadata": {},
     "output_type": "execute_result"
    }
   ],
   "source": [
    "datasets['p42024h.txt']"
   ]
  },
  {
   "cell_type": "code",
   "execution_count": 5,
   "metadata": {},
   "outputs": [],
   "source": [
    "# folder must be ner_assets\n",
    "def tag_files(datasets):\n",
    "    disease_tag = 'DSYN'\n",
    "    anatomy_tag = 'BPOC'\n",
    "    symptom_tag = 'SOSY'\n",
    "    disease_folder = 'disease_tagged'\n",
    "    anatomy_folder = 'anatomy_tagged'\n",
    "    symptom_folder = 'symptom_tagged'\n",
    "    \n",
    "    for item in datasets.keys():\n",
    "        \n",
    "        if type(datasets[item]) == str:\n",
    "            datasets[item] = [datasets[item]]\n",
    "            \n",
    "        illness_tagged = tag_default(return_ne_tags(datasets[item], illness_names, disease_tag))\n",
    "        if type(illness_tagged) == list:\n",
    "            illness_tagged = '\\n'.join(illness_tagged)\n",
    "        if item not in os.listdir(disease_folder):\n",
    "            with open(os.path.join('.', disease_folder, item), 'w') as f:\n",
    "                f.write(illness_tagged)\n",
    "            \n",
    "        anatomy_tagged = tag_default(return_ne_tags(datasets[item], bodypart_names, anatomy_tag))\n",
    "        if type(anatomy_tagged) == list:\n",
    "            anatomy_tagged = '\\n'.join(anatomy_tagged)\n",
    "        if item not in os.listdir(anatomy_folder):\n",
    "            with open(os.path.join('.', anatomy_folder, item), 'w') as f:\n",
    "                f.write(anatomy_tagged)\n",
    "            \n",
    "        symptom_tagged = tag_default(return_ne_tags(datasets[item], symptom_names, symptom_tag))\n",
    "        if type(symptom_tagged) == list:\n",
    "            symptom_tagged = '\\n'.join(symptom_tagged)\n",
    "        if item not in os.listdir(symptom_folder):\n",
    "            with open(os.path.join('.', symptom_folder, item), 'w') as f:\n",
    "                f.write(symptom_tagged)"
   ]
  },
  {
   "cell_type": "code",
   "execution_count": 89,
   "metadata": {},
   "outputs": [],
   "source": [
    "tag_files(raw)"
   ]
  },
  {
   "cell_type": "code",
   "execution_count": 67,
   "metadata": {},
   "outputs": [],
   "source": [
    "os.chdir(os.path.expanduser(os.path.join('~', 'python_workspace', 'medical_corpus_scripting', 'ner_assets')))"
   ]
  },
  {
   "cell_type": "code",
   "execution_count": 68,
   "metadata": {},
   "outputs": [],
   "source": [
    "import sqlalchemy"
   ]
  },
  {
   "cell_type": "code",
   "execution_count": 22,
   "metadata": {},
   "outputs": [
    {
     "data": {
      "text/plain": [
       "['WISCONSIN DIVISION OF PUBLIC HEALTH Department of Health Services Mob Cab - Amebiasis ( amebic dysentary ) Disease Fact Sheet Series',\n",
       " 'Mob Cab - Amebiasis zoo li cas ? Mob Cab Amebiasis yog tus kab mob cab me me hu ua Entamoeba histolytica ua mob cab rau hauv cov nhyuv . Nyob hauv lub xeev Wisconsin muaj kwv yees li 10 - 15 tus neeg raug tus kab mob cab no txhua xyoo . Leej twg thiaj raug hom cab amebiasis no ? Cov cab no yeej tsis xyeej leej twg , tab sis pom raug ntau rau cov neeg mus tsham teb chaws , los yog cov neeg tuaj ntawm cov teb chaws huab cua sov tuaj . Kuj pom muaj ntau rau cov teb chaws txom nyem nyob tsis huv . Tsis tas li , kuj pom muaj rau cov neeg ua nyob hauv cov tsev koom uas nyob tsis huv . Cov txiv neej ua deev txiv neej kuj yuav kis ua mob taus , tab sis , qee zaum mas kuj tsis pom lawv muaj tsos mob tshwm sim xwb . Cov cab Amebiasis ri tau li cas ? Thaum noj tau tej khoom noj tsis huv muaj cov qe cab mas yuav kis tau tus kab mob no . Thaum nphav raug tus neeg mob , los yog tej yam nws siv uas lo nws cov quav mas kuj yuav kis tau tus kab mob no . Cov tsos mob ntawm cov cab amebiasis no zoo li cas ? Cov neeg tau nphav raug tus kab mob cab no kuj yuav mob nhyav , mob sib khuav los yog tsis pom tsos mob dab tsis tshwm li kuj muaj . Kwv yees li , ib tug ntawm 10 leej neeg twg uas raug tus kab mob cab E . histolytica no mas yuav ua mob . Cov tsos mob kuj pom sib khuav xwb , yam li , raws plab , poob ceeb thawj , mob plab , mob plab ntswj , thiab kub cev . Tsawg zaus kawg uas tus kab mob cab E . histolytica yuav mus tom daim nplooj siab ces mob ua paug; los yog , tseem tsawg tshaj ntawd thiab uas yuav ri mus rau lwm qhov chaw hauv lub cev yam li , lub ntsws los yog lub paj hlwb . Yuav sai npaum li cas tom qab kis tag es cov tsos mob mam li tshwm ? Cov tsos mob yuav tshwm li ntawm ob peb hnub mus rau ob peb hlis tom qab kis tas , tiam sis feem ntau cov tsos mob tshwm li ntawm 2 mus rau 4 lis piam ntawd . Tus neeg raug tus cab no yuav muaj tus cab no hov ntev nrog nws ? Qee leej neeg uas raug tus cab amebiasis yuav muaj tus cab no ntev ntau lub lis piam los yog ntau xyoo , uas yeej tsis pom muaj mob li . Cov cab amebiasis muaj nyob rau qhov twg ? Cov neeg uas raug tus cab no mas yog cov muaj tus c ab no . Cov cab yuav nyob hauv tej dej , khoom noj , uas tau nphav raug tus neeg mob cab cov quav . Tsiaj yuav tsis raug hom cab no los yog muaj hom cab no . Nyob hauv tej thaj tsham nyob hauv qab ntuj khwb no mas , yog yoov nphav tau neeg cov quav , ces cov yoov no yuav ya mus tsaws rau tej zaub , los yog txiv hmab txiv ntoo neeg noj tau ces neeg yuav kis tau tus cab . - txuas ntxiv - Yuav ua cas thiaj paub hais tias yog mob cab amebiasis no ? Thaum tsom kuaj cov quav hauv lub tshuab kuaj k ab mob mas kws kho mob yuav paub hais tias yog cov cab no . Tej thaum kuj yuav tau tso quav ob peb tawb ob peb hnub sib quas coj mus kuaj vim qee hnub mas yuav muaj cab tawm ntau los nrog quav dua . Kev nrhiav kuaj tus cab amebiasis no mas tej zaum nrhiav nyuaj thiab vim tias lwm cov cab kuj muaj ntsis zoo li hom cab no thaum tsom hauv lub tsh uab kuaj kab mob . Thaum tsom hauv tshuab kuaj kab mob mas pom tias lwm yam cab xws li , tus cab hu ua Entamoeba dispar kuj zoo nkaus li tus cab , E . histolytica no thiab . Tab sis tus cab Entamoeba dispar yuav tsis ua rau neeg mob thiab tsis tas yuav siv tshuaj los kho . Yuav kho tus cab amebiasis no li cas ? Muaj ntau cov tshuaj siv los kho hom cab amebiasis no . Tus kws kho mob yuav muab tau cov tshuaj no los kho . Puav yuav cais tus neeg mob cab amebiasis kom tsis txhob mus ua hauj lwm los mus kawm ntawv ? Feem ntau , tsis tas cais tus neeg mob cab ntawm chaw ua hauj lwm los tsev kawm ntawv . Kev sib nphav sib khuas yuav tsis kis tau tus kab mob . Cov neeg ua noj ua haus , cov me nyuam nyob hauv tsev zov me nyuam , los yog , cov neeg nyob hauv cov tsev koom rau cov neeg tsis xeeb meej mas yuav tau ceev faj me ntsis . Yuav tau nug mus rau tseem fwv qhov chaw saib xyuas pej xeem kev noj qab hauv huv saib lawv pom zoo li cas . Tus neeg mob cab no yuav ceev faj li cas ? Qhov tseem ceeb tshaj plaws mas yog yuav tsum nt xuav tes kom huv si ua ntej yuav npaj pluas noj pluas haus , thaum hloov me nyuam ntaub tiag quav tas , thiab thaum mus siv tsev plob tas . Tseem ceeb kawg uas yuav tsum pov tej dej kua quav tsis huv rau tej chaw ceev yam ntawd . Cov txiv neej uas deev txiv neej yuav tsum caiv txhob sib dee txog ntua thaum twg tus mob no zoo tu qab tso . Thaum mus tsham tej teb chaws uas noj nyob tsis huv , kuv yuav tsum noj los yog haus dab tsi kom kuv TSIS TXHOB kis raug tus cab amebiasis los yog lwm cov kab mob ? Tsuas haus cov dej hauv fwj , los yog cov dej rhaub ( twb npau li ib feeb lawm ) los sis cov kaus poom thiab fwj dej qab zib , saib zoo zoo kom lub hau nyob hu si . Tsis txhob haus cov kais dej los yog haus cov dej nrog cov dej khov . Tsis txhob noj cov txiv hmab txiv ntoo los yog zaub uas tsis yog koj tev los txhem . Tsis txhob noj los haus cov mis , noj cov tshij ( cheese ) , los sis tej khoom uas siv mis los ua uas tsis tau muab cov kab mob tua . Tsis txhob noj los haus tej yam dab tsis uas muag tom tej ntug kev . DEVELOPED BY THE DIVISION OF PUBLIC HEALTH , BUREAU OF COMMUNICABLE DISEASE COMMUNICABLE DISEASE EPIDEMIOLOGY SECTION P - 42024H ( Rev . 05 / 04 )']"
      ]
     },
     "execution_count": 22,
     "metadata": {},
     "output_type": "execute_result"
    }
   ],
   "source": []
  },
  {
   "cell_type": "code",
   "execution_count": 83,
   "metadata": {},
   "outputs": [
    {
     "name": "stdout",
     "output_type": "stream",
     "text": [
      "1.txt\n",
      "2.txt\n",
      "3.txt\n",
      "4.txt\n",
      "5.txt\n",
      "6.txt\n",
      "7.txt\n",
      "8.txt\n",
      "9.txt\n",
      "10.txt\n",
      "11.txt\n"
     ]
    }
   ],
   "source": [
    "import urllib.request\n",
    "\n",
    "prefix = \"http://github.com/nathanmwhite/hmong-medical-corpus/raw/master/medical_corpus_finalized/\"\n",
    "filenames = [str(n) + '.txt' for n in range(1, 12)]\n",
    "\n",
    "content = {}\n",
    "\n",
    "for item in filenames:\n",
    "    print(item)\n",
    "    with urllib.request.urlopen(prefix + item) as response:\n",
    "        content[item] = response.read().decode()\n",
    "        \n"
   ]
  },
  {
   "cell_type": "code",
   "execution_count": 77,
   "metadata": {},
   "outputs": [
    {
     "name": "stdout",
     "output_type": "stream",
     "text": [
      "['p42090h.txt', 'p00119h.txt', 'p00356h.txt', 'p00486h.txt', 'p00688h.txt', 'p00873h.txt', 'p42053ah.txt', 'activehmo.txt', 'p01298h.txt', 'p01581h.txt', 'p01709h.txt']\n"
     ]
    }
   ],
   "source": [
    "local_file = \"source_locs.ind\"\n",
    "with urllib.request.urlopen(prefix + local_file) as response:\n",
    "    file_ = response.read()\n",
    "data = file_.decode()\n",
    "data = [w.rstrip().split(' ') for w in data.split('\\n') if len(w) > 0]\n",
    "datanames = [os.path.basename(w[1])[:-3]+'txt' for w in data]\n",
    "print(datanames)"
   ]
  },
  {
   "cell_type": "code",
   "execution_count": 78,
   "metadata": {},
   "outputs": [
    {
     "data": {
      "text/plain": [
       "'Tus/B-CL Mob/B-NN –/O-PU Shigellosis/B-FW Disease/B-FW Fact/B-FW Sheet/B-FW Series/B-FW Tus/B-CL mob/B-NN shigellosis/B-FW zoo/B-VV li/B-PP cas/I-NN ?/O-PU Shigellosis/B-FW yog/B-VV ib/B-QU tug/I-CL mob/B-NN los/B-VV ntawm/B-LC cov/B-CL kab/B-NN mob/I-VV bacteria/B-FW los/B-VV ./O-PU Muaj/B-VV txog/B-PP li/B-PP 300/B-QU rau/B-PP 400/B-QU leej/B-CL neeg/B-NN tau/B-AD raug/B-VV tus/B-CL mob/B-NN no/B-DT txhua/B-QU xyoo/B-CL hauv/B-LC lub/B-CL xeev/B-NN Wisconsin/B-FW ./O-PU Feem/B-CL ntau/B-VV muaj/B-VV tshwm/B-VV sim/I-VV rau/B-PP lub/B-CL caij/B-NN ntuj/I-NN sov/I-VV thiab/B-CC lub/B-CL caij/B-NN nplooj/I-NN ntoo/I-NN zeeg/I-VV ./O-PU Nyob/B-VV nyob/I-VV mam/B-AD pom/B-VV tej/B-QU tus/B-CL neeg/B-NN raug/B-VV ,/O-PU los/B-CC puas/I-CC ,/O-PU ib/B-QU pab/B-CL pawg/I-CL neeg/B-NN coob/B-QU raug/B-VV ua/B-VV ib/B-QU vuag/B-CV ua/B-AD ke/I-AD kuj/B-AD muaj/B-VV ./O-PU Leej/B-CL twg/B-RL thiaj/B-AD li/I-AD yuav/B-AD kis/B-VV tau/B-VV tus/B-CL mob/B-NN shigellosis/B-FW ?/O-PU Leej/B-CL twg/B-RL los/B-CS yeej/B-AD yuav/B-AD raug/B-VV tau/B-VV tus/B-CL mob/B-NN shigellosis/B-FW no/B-DT ,/O-PU tab/B-CC sis/I-CC ,/O-PU feem/B-CL ntau/B-VV mas/B-CS yog/B-VV cov/B-CL me/B-NN nyuam/I-NN yaus/I-VV uas/B-CS keev/B-VV raug/B-VV tus/B-CL mob/B-NN no/B-DT ./O-PU Cov/B-CL neeg/B-NN uas/B-CS ntxim/B-VV yuav/B-AD raug/B-VV tus/B-CL mob/B-NN no/B-DT mas/B-CS yog/B-VV cov/B-CL me/B-NN nyuam/I-NN mus/B-VV nyob/B-VV hauv/B-LC cov/B-CL tsev/B-CL zov/B-VV me/B-NN nyuam/I-NN ,/O-PU cov/B-CL neeg/B-NN mus/B-VV tsham/B-VV tej/B-QU cov/B-CL teb/B-NN chaws/I-NN ,/O-PU cov/B-CL neeg/B-NN nyob/B-VV hauv/B-LC cov/B-CL tsev/B-CL koom/B-VV ua/B-AD ke/B-AD ,/O-PU cov/B-CL neeg/B-NN sib/B-AD deev/I-VV (/O-PU poj/B-NN niam/I-NN thiab/B-CC poj/B-NN niam/I-NN ,/O-PU los/B-CC txiv/B-NN neej/I-NN thiab/B-CC txiv/B-NN neej/I-NN )/O-PU ./O-PU Tej/B-CL tsiaj/B-NN txhu/I-NN mas/B-CS yuav/B-AD tsis/B-AD kis/B-VV tau/B-VV tus/B-CL kab/B-NN mob/I-VV no/B-DT los/B-CC yog/I-CC muaj/B-VV tus/B-CL kab/B-NN mob/I-VV Shigella/B-FW no/B-DT ./O-PU Tus/B-CL mob/B-NN no/B-DT ri/B-VV li/B-PP cas/I-NN ?/O-PU Tus/B-CL kab/B-NN mob/I-VV Shigella/B-FW muaj/B-VV nyob/B-PP hauv/B-LC tib/B-NN neeg/I-NN cov/B-CL hnyuv/B-NN quav/B-NN uas/B-CS kis/B-VV thaum/B-LC noj/B-VV tej/B-CL khoom/B-NN noj/B-VV los/B-CC haus/B-VV tej/B-CL dej/B-NN muaj/B-VV tus/B-CL kab/B-NN mob/I-VV ./O-PU Tus/B-CL kab/B-NN mob/I-VV kis/B-VV thaum/B-LC noj/B-VV tau/B-VV los/B-CC sis/I-CC haus/B-VV tau/B-VV tej/B-CL dej/B-NN uas/B-CS muaj/B-VV tus/B-CL kab/B-NN mob/I-VV nyob/B-VV rau/B-PP hauv/B-LC ,/O-PU los/B-CC yog/I-CC ,/O-PU kis/B-VV tau/B-VV ntawm/B-LC tus/B-CL neeg/B-NN mob/B-VV yam/B-CL li/B-PP kis/B-VV tau/B-VV ntawm/B-LC nws/B-PN cov/B-CL quav/B-NN los/B-VV ./O-PU Cov/B-CL tsos/B-NN mob/I-VV zoo/B-VV li/B-PP cas/I-NN ?/O-PU Cov/B-CL neeg/B-NN raug/B-VV tus/B-CL mob/B-NN Shigella/B-FW mas/B-CS yuav/B-AD mob/B-VV plab/B-NN ntswj/B-VV ,/O-PU kub/B-VV cev/B-NN thiab/B-CC raws/B-VV plab/B-NN hauj/B-AD sim/I-AD los/B-CC yog/I-CC tuab/B-AD nto/I-AD ./O-PU Yog/B-CS kub/B-VV cev/B-NN thiab/B-CC mas/B-CS kuj/B-AD yuav/B-AD pom/B-VV muaj/B-VV ntshav/B-NN thiab/B-CC ntswg/B-NN lej/I-NN hauv/B-LC cov/B-CL quav/B-NN ./O-PU Qee/O-PU leej/I-CL uas/B-CS raug/B-VV tus/B-CL mob/B-NN no/B-DT ,/O-PU kuj/B-AD tsis/B-AD pom/B-VV muaj/B-VV mob/B-NN dab/B-NN tsi/I-NN tshwm/B-VV sim/I-VV ./O-PU Thaum/B-LC twg/B-RL mam/B-AD pom/B-VV cov/B-CL tsos/B-NN mob/I-VV tshwm/B-VV sim/I-VV ?/O-PU Cov/B-CL tsos/B-NN mob/I-VV yuav/B-AD tshwm/B-VV sim/I-VV li/B-PP 1/O-PU rau/B-PP 7/B-QU hnub/B-CL tom/B-LC qab/B-NN tau/B-AD nphav/B-VV raug/B-VV tus/B-CL kab/B-NN mob/I-VV tas/B-VV ,/O-PU tab/B-CC sis/I-CC ,/O-PU feem/B-CL ntau/B-VV kuj/B-AD yog/B-VV li/B-PP 2/B-QU rau/B-PP 3/B-QU hnub/B-CL tom/B-LC qab/B-NN xwb/B-AD mas/B-CS yuav/B-AD chiv/B-VV mob/B-VV ./O-PU Thaum/B-LC twg/B-RL thiab/B-CC hov/B-AD ntev/B-VV li/B-PP uas/B-CS tus/B-CL neeg/B-NN mob/B-VV yuav/B-AD ri/B-VV tau/B-VV tus/B-CL mob/B-NN shigellosis/B-FW no/B-DT ?/O-PU Tus/B-CL neeg/B-NN mob/B-VV yuav/B-AD kis/B-VV tau/B-VV rau/B-PP lwm/B-QU tus/B-CL yog/B-CS nws/B-PN tseem/B-AD muaj/B-VV tus/B-CL kab/B-NN mob/I-VV hauv/B-LC nws/B-PN cov/B-CL quav/B-NN ./O-PU Feem/B-CL ntau/B-VV mas/B-CS cov/B-CL neeg/B-NN tau/B-AD raug/B-VV tus/B-CL kab/B-NN mob/I-VV no/B-DT yuav/B-AD tso/B-VV tus/B-CL kab/B-NN mob/I-VV no/B-DT los/B-VV nrog/B-VV quav/B-NN ntev/B-VV li/B-PP 1/B-QU mus/B-VV txog/B-VV 2/B-QU lis/B-CL piam/I-CL tej/B-CL ntawd/B-LC ./O-PU Qee/B-QU cov/I-CL tshuaj/B-NN tua/B-VV kab/B-NN mob/I-VV siv/B-VV mas/B-CS kuj/B-AD yuav/B-AD cheem/B-VV kom/B-CS cov/B-CL kab/B-NN mob/I-VV no/B-DT tsis/B-AD txhob/B-AD muaj/B-VV sia/I-NN nyob/B-VV ntev/B-VV ./O-PU Puas/B-AD tsim/B-VV nyog/I-VV muab/B-PP cov/B-CL neeg/B-NN tau/B-AD raug/B-VV tus/B-CL kab/B-NN mob/I-VV no/B-DT cais/B-VV tsis/B-AD pub/B-VV mus/B-VV kawm/B-VV ntawv/B-NN los/B-CC mus/B-VV ua/B-VV hauj/B-NN lwm/B-NN ?/O-PU Vim/B-CS tus/B-CL kab/B-NN mob/I-VV no/B-DT tso/B-VV los/B-VV nrog/B-VV quav/B-NN ,/O-PU mas/B-CS cov/B-CL neeg/B-NN tseem/B-AD tab/B-AD tom/I-AD raws/B-VV plab/B-NN khawv/B-AD khuav/I-AD mus/B-VV plob/B-VV tsis/B-AD so/B-VV mas/B-CS yuav/B-AD tsum/B-AD tau/B-VV caiv/B-VV ./O-PU Thaum/B-LC twg/B-RL plab/B-NN tswm/B-VV lawm/B-AD mam/B-AD rov/B-VV mus/B-VV ua/B-VV hauj/B-NN lwm/B-NN los/B-CC yog/I-CC mus/B-VV kawm/B-VV ntawv/B-NN ./O-PU Lawv/B-PN yuav/B-AD tsum/B-AD tau/B-AD ntxuav/B-VV tes/B-NN kom/B-CS huv/B-AD si/I-AD thaum/B-LC mus/B-VV plob/B-VV tas/B-VV ./O-PU Cov/B-CL neeg/B-NN npaj/B-VV pluas/B-NN zaub/I-NN pluas/I-NN mov/I-NN ,/O-PU cov/B-CL me/B-NN nyuam/I-NN yaus/I-VV ,/O-PU cov/B-CL neeg/B-NN zos/B-VV me/B-NN nyuam/I-NN thiab/B-CC cov/B-CL neeg/B-NN tu/B-VV mob/B-NN yuav/B-AD tsum/B-AD tau/B-AD kuaj/B-VV quav/B-NN ,/O-PU thiab/B-CC thaum/B-LC twg/B-RL kuaj/B-VV ob/B-QU tawb/B-CL quav/B-NN tsis/B-AD muaj/B-VV tus/B-CL kab/B-NN mob/I-VV nyob/B-VV hauv/B-LC lawm/B-AD ,/O-PU los/B-CC yog/I-CC ,/O-PU tau/B-VV kev/B-NN tso/B-VV cai/B-NN ntawm/B-LC tseem/B-NN fwv/I-NN feem/B-NN xyuam/B-NN saib/B-VV xyuas/I-VV pej/B-NN xeem/I-NN kev/B-NN noj/B-VV qab/I-NN haus/I-VV huv/I-VV hais/B-CS tias/I-CS rov/B-VV mus/B-VV ua/B-VV lawv/B-PN txoj/B-CL hauj/B-NN lwm/I-NN li/B-PP qub/B-VV dua/B-VV mas/B-CS mam/B-AD mus/B-VV tau/B-VV ./O-PU Cov/B-CL neeg/B-NN uas/B-CS nrog/B-VV tus/B-CL neeg/B-NN mob/B-VV nyob/B-VV uas/B-CS lawv/B-PN txoj/B-CL hauj/B-NN lwm/I-NN yog/B-VV ua/B-VV zaub/I-NN ua/I-VV mov/I-NN noj/B-VV ,/O-PU lawv/B-PN tu/B-VV neeg/B-NN mob/B-VV ,/O-PU los/B-CC yog/I-CC ,/O-PU lawv/B-PN zov/B-VV me/B-NN nyuam/I-NN mas/B-CS yuav/B-AD tau/B-AD kuaj/B-VV quav/B-NN tib/B-AD si/I-AD thiab/B-AD ./O-PU Yuav/B-AD kho/B-VV tus/B-CL mob/B-NN shigellosis/B-FW no/B-DT li/B-PP cas/I-NN ?/O-PU Feem/B-CL ntau/B-VV cov/B-CL neeg/B-NN uas/B-CS raug/B-VV tus/B-CL mob/B-NN shigellosis/B-FW no/B-DT mas/B-CS lawv/B-PN kuj/B-AD txawj/B-VV rov/B-VV zoo/B-VV lawv/B-PN xwb/B-AD ./O-PU Tej/B-QU co/I-CL neeg/B-NN yuav/B-AD tau/B-AD haus/B-VV dej/B-NN kom/B-CS ntau/B-VV lawv/B-PN lub/B-CL cev/B-NN thiaj/B-AD li/I-AD tsis/B-AD qhuav/B-VV dej/B-NN ./O-PU Tej/B-CL thaum/B-LC kuj/B-AD siv/B-VV cov/B-CL tshuaj/B-NN tua/B-NN kab/B-NN mob/I-VV los/B-PP cheem/B-VV kom/B-CS tsis/B-AD txhob/B-AD mob/B-VV ntev/B-VV ,/O-PU uas/B-CS kuj/B-AD yog/B-VV ib/B-QU qho/I-CL tseem/B-VV ceeb/I-VV rau/B-PP cov/B-CL neeg/B-NN ua/B-VV hauj/B-NN lwm/I-NN ua/B-VV noj/I-VV ua/I-VV haus/I-VV ,/O-PU cov/B-CL me/B-NN nyuam/I-NN nyob/B-PP rau/B-PP tom/B-LC tsev/B-NN zov/B-VV me/B-NN nyuam/I-NN ,/O-PU los/B-CC yog/I-CC ,/O-PU cov/B-CL neeg/B-NN uas/B-CS nyob/B-VV hauv/B-LC tej/B-CL tsev/B-NN koom/B-VV ua/B-AD ke/B-AD ./O-PU Yuav/B-AD ua/B-VV li/B-PP cas/I-NN thiaj/B-AD li/I-AD tiv/B-VV thaiv/I-VV kom/B-CS tus/B-CL mob/B-NN shigellosis/B-FW no/B-DT txhob/B-AD ri/B-VV tau/B-VV ?/O-PU Muab/B-PP xab/B-NN npum/I-NN los/B-VV ntxuav/B-VV tes/B-NN kom/B-CS zoo/B-VV huv/B-AD si/B-AD ntawm/B-LC tus/B-CL dej/B-NN ntws/B-VV nto/I-AD mas/B-CS thiaj/B-AD yuav/B-AD tiv/B-VV thaiv/I-VV tau/B-VV tus/B-CL kab/B-NN mob/I-VV no/B-DT kom/B-CS tsis/B-AD txhob/B-AD ri/B-VV tau/B-VV ,/O-PU tseem/B-VV ceeb/I-VV heev/B-VV yog/B-VV rau/B-PP lub/B-CL caij/B-NN uas/B-CS muaj/B-VV neeg/B-NN sib/B-AD kis/I-VV coob/B-VV coob/I-VV ua/B-AD ke/B-AD ./O-PU Vim/B-CS me/B-NN nyuam/I-NN yaus/I-VV yog/B-VV cov/B-CL yuav/B-AD kis/B-VV tau/B-VV tus/B-CL kab/B-NN mob/I-VV no/B-DT thiab/B-CC yog/B-VV cov/B-CL yuav/B-AD ri/B-VV tau/B-VV tus/B-CL kab/B-NN mob/I-VV no/B-DT rau/B-PP lwm/B-QU tus/B-CL ,/O-PU ua/B-VV li/B-PP mas/B-CS ,/O-PU tseem/B-VV ceev/I-VV heev/B-VV uas/B-CS yuav/B-AD tsum/B-AD muaj/B-VV tej/B-QU txoj/B-CL cai/B-NN nruj/B-VV los/B-VV mus/B-VV saib/B-VV xyuas/B-VV kom/B-CS me/B-NN nyuam/I-NN yaus/I-VV yuav/B-AD tsum/B-AD ntxuav/B-VV tes/B-NN tom/B-LC qab/B-NN lawv/B-PN mus/B-VV plob/B-VV tas/B-VV thiab/B-CC ua/B-VV ntej/B-NN lawv/B-PN yuav/B-AD noj/B-VV mov/B-NN ./O-PU\\n'"
      ]
     },
     "execution_count": 78,
     "metadata": {},
     "output_type": "execute_result"
    }
   ],
   "source": [
    "content['1.txt']"
   ]
  },
  {
   "cell_type": "code",
   "execution_count": 86,
   "metadata": {},
   "outputs": [],
   "source": [
    "raw = {}\n",
    "for item in content.keys():\n",
    "    raw_data = content[item].replace('\\n', '')\n",
    "    raw_data = raw_data.replace('\\r\\n', '')\n",
    "    raw_data = raw_data.replace('\\\\/', '***')\n",
    "    raw_data = raw_data.replace('//', '***/')\n",
    "    raw_data = ' '.join([w.split('/')[0] for w in raw_data.split(' ')])\n",
    "    raw_data = raw_data.replace('***', '/')\n",
    "    raw[datanames[int(item.split('.')[0]) - 1]] = [raw_data]"
   ]
  },
  {
   "cell_type": "code",
   "execution_count": 87,
   "metadata": {},
   "outputs": [
    {
     "data": {
      "text/plain": [
       "['TUS KAB MOB ZIKA : COV LUS POM ZOO SIV RAU COV NEEG UAS TEJ ZAUM TAU RAUG TUS KAB MOB ZIKA 1 . Nyob twj ywm hauv tsev kom txhob raug yoov tshaj cum tom los yog siv cov tshuaj pleev yoov kom txhob tom ntev li peb lim piam ( weeks ) . * Yog koj nyuam qhuav kis tau tus kab mob Zika tsis ntev los no , tej zaum yuav muaj tus kab mob no nyob hauv koj cov ntshav thiab yuav kis tau mus rau ib tus tshaj cum uas tom koj . Ces tus tshaj cum uas muaj tus mob yuav kis tau tus kab mob rau lwm tus . Qhov tiv thaiv koj kom tshaj cum txhob tom uas yog nyob twj ywm sab hauv tsev los yog siv cov tshuaj pleev yoov kom txhob tom mus ntev tsawg kawg peb lub lim piam tom qab kis tau tus kab mob tab txawm koj yuav tsis hnov tias koj mob . * Yog xav paub ntxiv seb yuav tiv thaiv koj tus kheej li cas kom tshaj cum txhob tom , thov mus saib http:/ . 2 . Zam txhob sib deev los yog siv hnab looj thaum sib deev . * Yog koj nyuam qhuav kis tau tus kab mob Zika tsis ntev los no , koj yuav kis tau tus kab mob mus rau koj tus khub los ntawm kev sib deev tab txawm koj yuav tsis hnov tias koj mob . * Cov poj niam uas kuaj tau tias muaj tus kab mob Zika , LOS YOG tau mus ntoj ncig rau ib cheeb tsam uas muaj tus kab mob Zika , LOS YOG tau sib deev yam tsis siv kev tiv thaiv nrog ib tus neeg uas tau mus ntoj ncig rau ib cheeb tsam muaj tus kab mob yuav tau zam txhob sib deev los yog siv kev tiv thaiv txhua zaus lawv sib deev yam tsawg kawg yim lub lim piam . * Cov txiv neej uas kuaj tau tias muaj tus kab mob Zika , LOS YOG tau mus ntoj ncig rau ib cheeb tsam uas muaj tus kab mob Zika , LOS YOG tau sib deev yam tsis siv kev tiv thaiv nrog ib tus neeg uas tau mus ntoj ncig rau ib cheeb tsam muaj tus kab mob yuav tau zam txhob sib deev los yog siv ib lub hnab looj txhua zaus lawv sib deev yam tsawg kawg peb lub hlis . 3 . Cov khub niam txiv uas xav kom tus niam cev xeeb muaj me nyuam yuav tau zam qhov kom muaj me nyuam mus tsawg kawg yim lub lim piam yog tias tsuas yog tus poj niam tau mus ntoj ncig , los yog tsawg kawg peb lub hlis yog tias tus txiv neej tau mus ntoj ncig . Tus kab mob Zika yuav kis tau ntawm tus poj niam uas cev xeeb tub mus rau nws tus me nyuam uas tseem tsis tau yug los thiab yuav ua rau muaj teeb meem loj rau tus me nyuam thaum yug tau los . Cov khub niam txiv uas xav kom tus niam muaj me nyuam yuav tau ncua lub sij hawm muaj me nyuam mus ntev tsawg kawg yim lub lim piam ( yog hais tias tus poj niam tau mus ntoj ncig nkaus xwb ) los yog tsawg kawg peb lub hlis ( yog tus txiv neej tau mus ntoj ncig ) tom qab cov tsos mob pib tshwm sim los yog tom qab uas kis tau tus kab mob Zika . 4 . Cov txiv neej uas tau mus ntoj ncig rau cov cheeb tsam uas tus kab mob Zika tab tom tshwm sim thiab muaj nws tus khub cev xeeb tub yuav tau zam txhob sib deev los yog siv hnab looj kom thoob plaws lub caij cev xeeb tub . Division of Public Health P-01581H ( 8 / 2018 )']"
      ]
     },
     "execution_count": 87,
     "metadata": {},
     "output_type": "execute_result"
    }
   ],
   "source": [
    "raw['p01581h.txt']"
   ]
  },
  {
   "cell_type": "code",
   "execution_count": 58,
   "metadata": {},
   "outputs": [],
   "source": [
    "os.chdir(os.path.expanduser(os.path.join('~', 'python_workspace', 'medical_corpus_scripting', 'ner_assets')))"
   ]
  },
  {
   "cell_type": "code",
   "execution_count": 9,
   "metadata": {},
   "outputs": [
    {
     "name": "stdout",
     "output_type": "stream",
     "text": [
      "['ENTEROPATHOGENIC E . COLI ( EPEC ) Escherichia coli ( E . coli ) yog cov kab mob uas pom muaj nyob ib ncig yus , hauv tej khoom noj , thiab hauv tej tsiaj thiab tib neeg cov hnyuv . Feem ntau ntawm cov kab mob E . coli kuj tsis ua rau yus mob thiab tseem yog ib feem tseem ceeb ntawm txoj kev zom zaub mov , tab sis muaj ib cov kuj ua rau koj mob tau . Enteropathogenic E . coli ( EPEC ) yog ib hom ntawm cov kab mob E . coli uas ua tau rau koj mob raws plab . Dab tsi ua rau tau tus mob no ? EPEC yuav kis rau hauv tej khoom noj los yog dej uas muaj quav nyob hauv . Quav yuav nkag tau rau hauv cov khoom noj los yog dej thaum neeg tsis ntxuav lawv ob txhais tes kom zoo tom qab siv chav dej , ces cia los mus npaj khoom noj los yog dej haus . Nws kuj tseem tshwm sim tau rau tej qoob loo yog hais tias muab cov dej uas muaj quav nyob hauv los ywg rau . EPEC tseem kis tau los ntawm qhov mus kov tau ib tus tsiaj los yog ib tus neeg uas muaj cov kab mob EPEC , los yog kov tau ib yam khoom uas muaj cov kab mob EPEC nyob ntawd ( piv txwv li , lub pob qhov rooj , tus kav dej , cov khoom me nyuam ua si ) . Dab tsi yog cov cim qhia tias yog tus mob thiab cov tsos mob ? Cov tsos mob ntawm tus mob no yuav tshwm sim rau yus pom sai li plaub xuaj moos tom qab kis tau tus mob EPEC , los yog yuav ntev txog 12 xuaj moos los yog ntev dua mam pom cov tsos mob tshwm . Muaj tej thaum neeg kuj muaj tus mob EPEC lawm tab sis tsis pom muaj cov tsos mob li . Yav dhau los , nws tsis muaj txoj kev kuaj tau tus mob EPEC no li , tab sis niaj hnub no cov chaw kuaj mob kuj siv quav los kuaj tau tus mob lawm thiab . * Raws plab ua kua dej nplaum ( tsis muaj ntshav ) * Cev qhuav dej ( dej tawm hauv lub cev mus ntau heev ) * Ua npaws kub ib ce * Ntuav Cov kev kho tus mob yog li cas ? Yuav tau muab dej rau cov neeg uas tau tus mob EPEC haus xwv kom lawv thiaj muaj dej txaus nyob hauv lub cev . Cov neeg feem ntau yuav rov zoo tuaj yog muaj kev siab xyuas tu tus mob kom zoo thiab tsis tas mus nrhiav lwm txoj kev kho . Yuav tiv thaiv li cas thiaj tsis kis tau tus mob ? Ntxuav koj ob txhais tes nrog xab npum thiab dej tom qab siv chav dej , tom qab hloov ntaub qhwv pob tw ( diapers ) , thiab ua ntej yuav noj ub noj no los yog npaj ua zaub mov noj txhawm rau kom tiv thaiv txhob muaj quav nkag tau mus rau hauv cov khoom noj thiaj dej haus . Cov neeg muaj tus mob EPEC uas ua hauj lwm hauv ib qhov chaw npaj zaub mov , tu neeg mob los yog zov me nyuam , los yog mus rau hauv ib qho chaw zov me nyuam yuav tau nyob twj ywm hauv tsev thaum lawv tseem muaj cov tsos mob thiab kom txog rau thaum lawv tsis mob raws plab ntev txog 24 xuaj moos . BUREAU OF COMMUNICABLE DISEASES https : //www . dhs . wisconsin . gov / dph / bcd . htm | DHSDPHBCD@dhs . wi . gov P-02094H ( 02 / 2018 )  Wisconsin Department of Health Services | Division of Public Health ']\n"
     ]
    }
   ],
   "source": [
    "f = open(os.path.expanduser(os.path.join('~', 'hmong_medical', 'raw_processing', 'p02094h.txt')), 'r')\n",
    "data = f.read()\n",
    "raw_data = [data.replace('\\n', ' ')]\n",
    "f.close()\n",
    "print(raw_data)"
   ]
  },
  {
   "cell_type": "code",
   "execution_count": 11,
   "metadata": {},
   "outputs": [],
   "source": [
    "tag_files({'p02094h.txt': raw_data})"
   ]
  },
  {
   "cell_type": "code",
   "execution_count": null,
   "metadata": {},
   "outputs": [],
   "source": []
  }
 ],
 "metadata": {
  "kernelspec": {
   "display_name": "Python 3",
   "language": "python",
   "name": "python3"
  },
  "language_info": {
   "codemirror_mode": {
    "name": "ipython",
    "version": 3
   },
   "file_extension": ".py",
   "mimetype": "text/x-python",
   "name": "python",
   "nbconvert_exporter": "python",
   "pygments_lexer": "ipython3",
   "version": "3.7.7"
  }
 },
 "nbformat": 4,
 "nbformat_minor": 2
}
