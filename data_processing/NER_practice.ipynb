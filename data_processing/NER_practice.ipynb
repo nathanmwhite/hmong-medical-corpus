{
 "cells": [
  {
   "cell_type": "code",
   "execution_count": 1,
   "metadata": {},
   "outputs": [],
   "source": [
    "import nltk\n",
    "from nltk.tag import StanfordNERTagger"
   ]
  },
  {
   "cell_type": "code",
   "execution_count": 2,
   "metadata": {},
   "outputs": [
    {
     "name": "stdout",
     "output_type": "stream",
     "text": [
      "NLTK Version: 3.4\n"
     ]
    }
   ],
   "source": [
    "print('NLTK Version: %s' % nltk.__version__)"
   ]
  },
  {
   "cell_type": "code",
   "execution_count": 28,
   "metadata": {},
   "outputs": [],
   "source": [
    "os.environ['CLASSPATH'] = '/home/nathan/python_workspace/stanford-ner-2018-10-16'\n",
    "os.environ['STANFORD_MODELS'] = '/home/nathan/python_workspace/stanford-ner-2018-10-16/classifiers'"
   ]
  },
  {
   "cell_type": "code",
   "execution_count": 29,
   "metadata": {},
   "outputs": [],
   "source": [
    "stanford_ner_tagger = StanfordNERTagger(\n",
    "    'english.muc.7class.distsim.crf.ser.gz'\n",
    ")"
   ]
  },
  {
   "cell_type": "code",
   "execution_count": 30,
   "metadata": {},
   "outputs": [],
   "source": [
    "article = '''\n",
    "Asian shares skidded on Tuesday afternoon after a rout in tech stocks put Wall Street to the sword, while a \n",
    "sharp drop in oil prices and political risks in Europe pushed the dollar to 16-month highs as investors dumped \n",
    "riskier assets. MSCI's broadest index of Asia-Pacific shares outside Japan dropped 1.7 percent to a 1-1/2 \n",
    "week trough, with Australian shares sinking 1.6 percent. Japan's Nikkei dived 3.1 percent led by losses in \n",
    "electronic machinery makers and suppliers of Apple's iphone parts. Sterling fell to $1.286 after three straight \n",
    "sessions of losses took it to the lowest since Nov.1 as there were still considerable unresolved issues with the \n",
    "European Union over Brexit, British Prime Minister Theresa May said on Monday.'''"
   ]
  },
  {
   "cell_type": "code",
   "execution_count": 31,
   "metadata": {},
   "outputs": [],
   "source": [
    "results = stanford_ner_tagger.tag(article.split())"
   ]
  },
  {
   "cell_type": "code",
   "execution_count": 32,
   "metadata": {},
   "outputs": [
    {
     "name": "stdout",
     "output_type": "stream",
     "text": [
      "Original Sentence: \n",
      "Asian shares skidded on Tuesday afternoon after a rout in tech stocks put Wall Street to the sword, while a \n",
      "sharp drop in oil prices and political risks in Europe pushed the dollar to 16-month highs as investors dumped \n",
      "riskier assets. MSCI's broadest index of Asia-Pacific shares outside Japan dropped 1.7 percent to a 1-1/2 \n",
      "week trough, with Australian shares sinking 1.6 percent. Japan's Nikkei dived 3.1 percent led by losses in \n",
      "electronic machinery makers and suppliers of Apple's iphone parts. Sterling fell to $1.286 after three straight \n",
      "sessions of losses took it to the lowest since Nov.1 as there were still considerable unresolved issues with the \n",
      "European Union over Brexit, British Prime Minister Theresa May said on Monday.\n"
     ]
    }
   ],
   "source": [
    "print('Original Sentence: %s' % (article))"
   ]
  },
  {
   "cell_type": "code",
   "execution_count": 33,
   "metadata": {},
   "outputs": [
    {
     "name": "stdout",
     "output_type": "stream",
     "text": [
      "Type: DATE, Value: Tuesday\n",
      "Type: TIME, Value: afternoon\n",
      "Type: LOCATION, Value: Europe\n",
      "Type: ORGANIZATION, Value: Asia-Pacific\n",
      "Type: LOCATION, Value: Japan\n",
      "Type: PERCENT, Value: 1.7\n",
      "Type: PERCENT, Value: percent\n",
      "Type: ORGANIZATION, Value: Nikkei\n",
      "Type: PERCENT, Value: 3.1\n",
      "Type: PERCENT, Value: percent\n",
      "Type: LOCATION, Value: European\n",
      "Type: LOCATION, Value: Union\n",
      "Type: PERSON, Value: Theresa\n",
      "Type: PERSON, Value: May\n"
     ]
    }
   ],
   "source": [
    "for result in results:\n",
    "    tag_value = result[0]\n",
    "    tag_type = result[1]\n",
    "    if tag_type != 'O':\n",
    "        print('Type: %s, Value: %s' % (tag_type, tag_value))"
   ]
  },
  {
   "cell_type": "code",
   "execution_count": 35,
   "metadata": {},
   "outputs": [],
   "source": [
    "java_path = '/usr/lib/jvm/java-11-oracle'"
   ]
  },
  {
   "cell_type": "code",
   "execution_count": 36,
   "metadata": {},
   "outputs": [],
   "source": [
    "sentence = u\"En 2017, une intelligence artificielle est en mesure de développer par elle-même Super Mario Bros. \" \\\n",
    "    \"Sans avoir eu accès au code du jeu, elle a récrée ce hit des consoles Nintendo. Des chercheurs de l'Institut \" \\\n",
    "    \"de Technologie de Géorgie, aux Etats-Unis, viennent de la mettre à l'épreuve.\""
   ]
  },
  {
   "cell_type": "code",
   "execution_count": 40,
   "metadata": {},
   "outputs": [],
   "source": [
    "jar = '../stanford-ner-2018-10-16/stanford-ner.jar'\n",
    "model = '../stanford-ner-2018-10-16/dummy-ner-model-french.ser.gz'"
   ]
  },
  {
   "cell_type": "code",
   "execution_count": 41,
   "metadata": {},
   "outputs": [],
   "source": [
    "ner_tagger = StanfordNERTagger(model, jar, encoding='utf-8')"
   ]
  },
  {
   "cell_type": "code",
   "execution_count": 42,
   "metadata": {},
   "outputs": [],
   "source": [
    "words = nltk.word_tokenize(sentence)"
   ]
  },
  {
   "cell_type": "code",
   "execution_count": 43,
   "metadata": {},
   "outputs": [
    {
     "name": "stdout",
     "output_type": "stream",
     "text": [
      "[('En', 'O'), ('2017', 'DATE'), (',', 'O'), ('une', 'O'), ('intelligence', 'O'), ('artificielle', 'O'), ('est', 'O'), ('en', 'O'), ('mesure', 'O'), ('de', 'O'), ('développer', 'O'), ('par', 'O'), ('elle-même', 'O'), ('Super', 'PERSON'), ('Mario', 'PERSON'), ('Bros.', 'O'), ('Sans', 'O'), ('avoir', 'O'), ('eu', 'O'), ('accès', 'O'), ('au', 'O'), ('code', 'O'), ('du', 'O'), ('jeu', 'O'), (',', 'O'), ('elle', 'O'), ('a', 'O'), ('récrée', 'O'), ('ce', 'O'), ('hit', 'O'), ('des', 'O'), ('consoles', 'O'), ('Nintendo', 'ORGANIZATION'), ('.', 'O'), ('Des', 'O'), ('chercheurs', 'O'), ('de', 'O'), (\"l'Institut\", 'ORGANIZATION'), ('de', 'ORGANIZATION'), ('Technologie', 'ORGANIZATION'), ('de', 'O'), ('Géorgie', 'LOCATION'), (',', 'O'), ('aux', 'O'), ('Etats-Unis', 'LOCATION'), (',', 'O'), ('viennent', 'O'), ('de', 'O'), ('la', 'O'), ('mettre', 'O'), ('à', 'O'), (\"l'épreuve\", 'O'), ('.', 'O')]\n"
     ]
    }
   ],
   "source": [
    "print(ner_tagger.tag(words))"
   ]
  },
  {
   "cell_type": "code",
   "execution_count": null,
   "metadata": {},
   "outputs": [],
   "source": []
  }
 ],
 "metadata": {
  "kernelspec": {
   "display_name": "Python 3",
   "language": "python",
   "name": "python3"
  },
  "language_info": {
   "codemirror_mode": {
    "name": "ipython",
    "version": 3
   },
   "file_extension": ".py",
   "mimetype": "text/x-python",
   "name": "python",
   "nbconvert_exporter": "python",
   "pygments_lexer": "ipython3",
   "version": "3.7.1"
  }
 },
 "nbformat": 4,
 "nbformat_minor": 2
}
