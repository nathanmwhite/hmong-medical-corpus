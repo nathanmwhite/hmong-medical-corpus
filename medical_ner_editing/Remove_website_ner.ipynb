{
 "cells": [
  {
   "cell_type": "code",
   "execution_count": 1,
   "metadata": {},
   "outputs": [],
   "source": [
    "import os\n",
    "import re"
   ]
  },
  {
   "cell_type": "code",
   "execution_count": 2,
   "metadata": {},
   "outputs": [],
   "source": [
    "os.chdir('../medical_ner_editing')"
   ]
  },
  {
   "cell_type": "code",
   "execution_count": 17,
   "metadata": {},
   "outputs": [],
   "source": [
    "anatomy = './anatomy_tagged'\n",
    "disease = './disease_tagged'\n",
    "symptom = './symptom_tagged'"
   ]
  },
  {
   "cell_type": "code",
   "execution_count": 18,
   "metadata": {},
   "outputs": [],
   "source": [
    "filenames = os.listdir(anatomy)"
   ]
  },
  {
   "cell_type": "code",
   "execution_count": 117,
   "metadata": {},
   "outputs": [],
   "source": [
    "#seq1 = 'BUREAU▹O OF▹O COMMUNICABLE▹O DISEASES▹O '\n",
    "#seq2 = 'Wisconsin▹O Department▹O of▹O Health▹O Services▹O \\|▹O Division▹O of▹O Public▹O Health▹O ?'\n",
    "#seq3 = 'Page▹O [0-9]▹O of▹O [0-9]▹O ?'\n",
    "#seq4 = 'https▹O :▹O //www▹O .▹O dhs▹O .▹O wisconsin▹O .▹O gov▹O /▹O dph▹O /▹O bcd▹O .▹O htm▹O |▹O DHSDPHBCD@dhs▹O .▹O wi▹O .▹O gov▹O ?'\n",
    "#seq5 = 'P▹O -▹O [0-9]{5}H▹O (▹O [0-9]{2}▹O /▹O [0-9]{4}▹O )▹O ?'"
   ]
  },
  {
   "cell_type": "code",
   "execution_count": 285,
   "metadata": {},
   "outputs": [],
   "source": [
    "#seq1 = 'http▹O :▹O //www▹O \\.▹O cdc▹O \\.▹O gov▹O /▹O zika▹O /▹O pdfs▹O /▹O mosqprevinus▹O \\.▹O pdf▹O'\n",
    "#resp1 = 'http://www.cdc.gov/zika/pdfs/mosqprevinus.pdf▹O'\n",
    "#seq2 = 'Publica▹O on▹O P▹O -▹O 00619▹O \\)▹O \\.▹O Madison▹O ,▹O WI▹O https▹O :▹O //www▹O \\.▹O dhs▹O \\.▹O wisconsin▹O \\.▹O gov▹O /▹O tb▹(O|B-DSYN) /▹O index▹O \\.▹O htm▹O'\n",
    "#resp2 = 'Publication▹O P▹O -▹O 00619▹O )▹O .▹O Madison▹O ,▹O WI▹O https://www.dhs.wisconsin.gov/tb/index.htm▹O'\n",
    "#seq3 = 'https▹O :▹O //www▹O \\.▹O cdc▹O \\.▹O gov▹O /▹O vaccines▹O /▹O hcp▹O /▹O vis▹O /▹O vis▹O -▹O statements▹O /▹O varicella▹O \\.▹O pdf▹O'\n",
    "#resp3 = 'https://www.cdc.gov/vaccines/hcp/vis/vis-statements/varicella.pdf▹O'\n",
    "#seq4 = 'http▹O :▹O //www▹O \\.▹O immunize▹O \\.▹O org▹O /▹O vis▹O /▹O vis_hepatitis_b▹O \\.▹O asp▹O'\n",
    "#resp4 = 'http://www.immunize.org/vis/vis_hepatitis_b.asp▹O'\n",
    "#seq5 = 'www▹O \\.▹O cdc▹O \\.▹O gov▹O'\n",
    "#resp5 = 'www.cdc.gov▹O'\n",
    "#seq6 = 'http▹O :▹O //www▹O \\.▹O immunize▹O \\.▹O org▹O /▹O vis▹O /▹O meningococcal_b▹O \\.▹O pdf▹O'\n",
    "#resp6 = 'http://www.immunize.org/vis/meningococcal_b.pdf▹O'\n",
    "#seq7 = 'http▹O :▹O //www▹O \\.▹O immunize▹O \\.▹O org▹O /▹O vis▹O /▹O meningococcal_mcv_mpsv▹O \\.▹O p\n",
    "#df▹O'\n",
    "#resp7 = 'http://www.immunize.org/vis/meningococcal_mcv_mpsv.pdf▹O'\n",
    "#seq8 = 'https▹O :▹O //www\\.cdc\\.gov▹O /▹O vaccines▹O /▹O hcp▹O /▹O vis▹O /▹O vis▹O statements▹O /▹O mmr▹O \\.▹O pdf▹O'\n",
    "#resp8 = 'https://www.cdc.gov/vaccines/hcp/vis/vis-statements/mmr.pdf▹O'\n",
    "#seq9 = 'http▹O :▹O //www\\.cdc\\.gov▹O /▹O ncidod▹O /▹O dvrd▹O /▹O spb▹O /▹O mnpages▹O /▹O dispages▹O /▹O lcmv▹O \\.▹O htm▹O'\n",
    "#resp9 = 'http://www.cdc.gov/ncidod/dvrd/spb/mnpages/dispages/lcmv.htm▹O'\n",
    "\n",
    "#sequences = [seq8, seq9, seq1, seq2, seq3, seq4, seq5, seq6, seq7]\n",
    "#resps = [resp8, resp9, resp1, resp2, resp3, resp4, resp5, resp6, resp7]\n",
    "#sequences = [re.escape(seq) for seq in sequences]\n",
    "#corresps = list(zip(sequences, resps))"
   ]
  },
  {
   "cell_type": "code",
   "execution_count": 6,
   "metadata": {},
   "outputs": [],
   "source": [
    "#sequences = []\n",
    "\n",
    "#seq1 = 'WISCONSIN▹O DIVISION▹O OF▹O PUBLIC▹O HEALTH▹O Department▹O of▹O Health▹O Services▹O'\n",
    "#sequences.append(seq1)\n",
    "#seq2 = 'WISCONSIN▹O DEPARTMENT▹O OF▹O HEALTH▹O SERVICES▹O Division▹O of▹O Public▹O Health▹O' # re.ignorecase\n",
    "#sequences.append(seq2)\n",
    "\n",
    "#seq3 = 'Disease▹O Fact▹O Sheet▹O Series▹O'\n",
    "#seq4 = 'Disease▹O Fact▹O Sheet▹O'\n",
    "#sequences.append(seq3)\n",
    "#sequences.append(seq4)\n",
    "\n",
    "#seq5 = 'Developed▹O by▹O the▹O Wisconsin▹O Bureau▹O of▹O Communicable▹O Diseases▹O Communicable▹O Diseases▹O Epidemiology▹O Section▹O'\n",
    "#seq6 = 'Developed▹O by▹O the▹O Wisconsin▹O Bureau▹O of▹O Communicable▹O Communicable▹O Diseases▹O Epidemiology▹O Section▹O'\n",
    "#seq7 = 'DEVELOPED▹O BY▹O THE▹O DIVISION▹O OF▹O PUBLIC▹O HEALTH▹O ,▹O BUREAU▹O OF▹O COMMUNICABLE▹O DISEASES?▹O COMMUNICABLE▹O DISEASES?▹O EPIDEMIOL?OGY▹O SECTION▹O(?: .▹O)?'\n",
    "#seq8 = 'Developed▹O by▹O the▹O Wisconsin▹O Bureau▹O of▹O Communicable▹O Diseases▹O and▹O Emergency▹O Response▹O Communicable▹O Diseases?▹O Epidemiology▹O Section▹O'\n",
    "#seq8a = 'DEVELOPED▹O BY▹O THE▹O DIVISION▹O OF▹O PUBLIC▹O HEALTH▹O ,▹O BUREAU▹O OF▹O COMMUNICABLE▹O DISEASE▹O SEXUALLY▹O TRANSMITTED▹O DISEASE▹O CONTROL▹O SECTION▹O'\n",
    "#sequences.append(seq5)\n",
    "#sequences.append(seq6)\n",
    "#sequences.append(seq7)\n",
    "#sequences.append(seq8)\n",
    "#sequences.append(seq8a)\n",
    "\n",
    "#seq9 = 'Wisconsin▹O Department▹O of▹O Health▹O Services▹O |▹O Division▹O of▹O Public▹O Health▹O'\n",
    "#seq10 = '|Wisconsin▹O Departmentof▹O Health▹O Services▹O |▹O Division▹O of▹O Public▹O Health▹O'\n",
    "#seq11 = 'BUREAU▹O OF▹O COMMUNICABLE▹O DISEASES▹O'\n",
    "#sequences.append(seq9)\n",
    "#sequences.append(seq10)\n",
    "#sequences.append(seq11)\n",
    "\n",
    "#seq12z = 'L▹O P▹O -▹O [0-9]{5}H?▹O'\n",
    "#seq12 = '\\|?P▹O -▹O [0-9]{5}H▹O'\n",
    "#seq13 = '\\(▹O Rev▹O [0-9]{2}▹O /▹O [0-9]{2,4}▹O \\)▹O'\n",
    "#seq13a= '\\(▹O Rev▹O .▹O [0-9]{2}▹O /▹O [0-9]{2,4}▹O \\)▹O'\n",
    "#seq14 = 'Page▹O [0-9]▹O of▹O [0-9]▹O'\n",
    "#sequences.append(seq12)\n",
    "#sequences.append(seq13)\n",
    "#sequences.append(seq14)\n",
    "\n",
    "#issue:\n",
    "# Cov▹O lus▹O qhia▹O no▹O tau▹O tsim▹O los▹O ntawm▹O Wisconsin▹O Department▹O of▹O Health▹O Services▹O ,▹O Division▹O of▹O Public▹O Health▹O"
   ]
  },
  {
   "cell_type": "code",
   "execution_count": 22,
   "metadata": {},
   "outputs": [],
   "source": [
    "sequences = []\n",
    "\n",
    "seq1 = 'WISCONSIN▹O DIVISION▹O OF▹O PUBLIC▹O HEALTH▹O Department▹O of▹O Health▹O and▹O Family▹O Services▹O'\n",
    "seq2 = 'Division▹O of▹O Public▹O Health▹O'\n",
    "\n",
    "seq3 = 'PPH▹O [0-9]{5}H▹O'\n",
    "seq4 = 'P▹O -▹O [0-9]{5}▹O'\n",
    "seq5 = '-▹O [0-9]{5}H?▹O'\n",
    "seq6 = 'P▹O [0-9]{5}H▹O'\n",
    "\n",
    "seq7 = '\\(▹O Rev▹O \\.▹O 05▹O /▹O 04▹O \\)▹O'\n",
    "seq8 = '\\(▹O [0-9]{2}▹O /▹O [0-9]{2,4}▹O \\)▹O(?: \\|)'\n",
    "\n",
    "sequences.append(seq1)\n",
    "sequences.append(seq2)\n",
    "sequences.append(seq3)\n",
    "sequences.append(seq4)\n",
    "sequences.append(seq5)\n",
    "sequences.append(seq6)\n",
    "sequences.append(seq7)\n",
    "sequences.append(seq8)\n",
    "\n",
    "#filler_end = []\n",
    "\n",
    "#filler1 = ' \\n'\n",
    "#filler3 = ' \\|\\|\\n'\n",
    "\n",
    "#filler_end.append(filler1)\n",
    "#filler_end.append(filler3)\n",
    "\n",
    "#filler_start = []\n",
    "\n",
    "#filler2 = '^ '\n",
    "\n",
    "#filler_start.append(filler2)"
   ]
  },
  {
   "cell_type": "code",
   "execution_count": 6,
   "metadata": {},
   "outputs": [],
   "source": [
    "#sequence = 'BUREAU▹O OF▹O COMMUNICABLE▹O DISEASES▹O .+? Wisconsin▹O Department▹O of▹O Health▹O Services▹O \\|▹O Division▹O of▹O Public▹O Health▹O'"
   ]
  },
  {
   "cell_type": "code",
   "execution_count": 23,
   "metadata": {},
   "outputs": [],
   "source": [
    "finds = []\n",
    "for item in filenames:\n",
    "    for type_ in [anatomy, disease, symptom]:\n",
    "        with open(os.path.join(type_, item), 'r') as f:\n",
    "            data = f.read()\n",
    "        found = data\n",
    "        #found = re.sub(seq4, '', found)\n",
    "        for seq in sequences:\n",
    "            #found_old = found\n",
    "            found = re.sub(seq, '', found)\n",
    "            found = re.sub(' +', ' ', found)\n",
    "        #for fil in filler_end:\n",
    "            #found_old = found\n",
    "        #    found = re.sub(fil, '\\n', found)\n",
    "        #for fil in filler_start:\n",
    "        #    found = re.sub(fil, '', found)\n",
    "            #print(found_old == found)\n",
    "        finds.append((item, type_, found))"
   ]
  },
  {
   "cell_type": "code",
   "execution_count": 40,
   "metadata": {},
   "outputs": [],
   "source": [
    "finds = []\n",
    "for item in filenames:\n",
    "    for type_ in [anatomy, disease, symptom]:\n",
    "        with open(os.path.join(type_, item), 'r') as f:\n",
    "            data = f.read()\n",
    "        found = data\n",
    "        found = re.sub('\\n\\n\\n', '\\r', found)\n",
    "        found = re.sub('\\n\\n', '', found)\n",
    "        found = re.sub('\\n', '', found)\n",
    "        found = re.sub('\\r', '\\n', found)\n",
    "        finds.append((item, type_, found))"
   ]
  },
  {
   "cell_type": "code",
   "execution_count": 41,
   "metadata": {},
   "outputs": [],
   "source": [
    "anat, dis, sym = [], [], []\n",
    "for i, item in enumerate(finds):\n",
    "    if i % 3 == 0:\n",
    "        anat.append(item)\n",
    "    elif i % 3 == 1:\n",
    "        dis.append(item)\n",
    "    elif i % 3 == 2:\n",
    "        sym.append(item)"
   ]
  },
  {
   "cell_type": "code",
   "execution_count": 42,
   "metadata": {},
   "outputs": [
    {
     "data": {
      "text/plain": [
       "{'./symptom_tagged'}"
      ]
     },
     "execution_count": 42,
     "metadata": {},
     "output_type": "execute_result"
    }
   ],
   "source": [
    "set([item[1] for item in sym])"
   ]
  },
  {
   "cell_type": "code",
   "execution_count": 43,
   "metadata": {},
   "outputs": [
    {
     "data": {
      "text/plain": [
       "('p42080h.txt',\n",
       " './anatomy_tagged',\n",
       " 'Tus▹OMob▹O-▹OPsittacosis▹O(▹Oornithosis▹O,▹Oparrot▹Ofever▹O)▹O\\nTus▹OMob▹OPsittacosis▹Ozoo▹Oli▹Ocas▹O?▹OTus▹OMob▹OPsittacosis▹Oyog▹Oib▹Otug▹Omob▹Olos▹Ontawm▹Oib▹Otug▹Okab▹Omob▹Ohu▹Oua▹OChlamydia▹Opsittaci▹O.▹OFeem▹Ontau▹Otib▹Oneeg▹Okis▹Otus▹Okab▹Omob▹Ono▹Ontawm▹Ocov▹Onoog▹O,▹Otshwj▹Oxeeb▹Oob▹Ohom▹Onoog▹Ohu▹Oua▹Oparakeets▹Othiab▹Ocov▹Ohu▹Oua▹Oparrots▹O,▹Ontawm▹Ocov▹Onquab▹O,▹Oqaib▹Ocov▹Otxwv▹Othiab▹Ocov▹Oos▹O.▹OLeej▹Otwg▹Othiaj▹Oraug▹Otus▹Omob▹Opsittacosis▹Ono▹O?▹OVim▹Onoog▹Oyog▹Ocov▹Ori▹Otus▹Okab▹Omob▹Ono▹O,▹Oua▹Oli▹Omas▹Onyob▹Onyob▹Okuj▹Opom▹Ocov▹Otib▹Oneeg▹Ouas▹Oua▹Ohauj▹Olwm▹Ontawm▹Ochaw▹Omuag▹Otsiaj▹Olos▹Oyog▹O,▹Ocov▹Otib▹Oneeg▹Ouas▹Oho▹Onyuam▹Oqhuav▹Oyuav▹Otau▹Otej▹Otus▹Onoog▹Ouas▹Omob▹Olawm▹Olos▹Orau▹Ohauv▹Otsev▹Oraug▹Otus▹Omob▹Ono▹O.▹OTsis▹Otas▹Oli▹O,▹Otej▹Ocov▹Otswv▹Oteb▹Othiab▹Ocov▹Oneeg▹Oua▹Ohauj▹Olwm▹Ohauv▹Otej▹Otsev▹Otua▹Oqaib▹Ocov▹Otxwv▹Olos▹Oyog▹Oos▹Okuj▹Oraug▹Otus▹Omob▹Ono▹Othiab▹O.▹OTus▹OMob▹OPsittacosis▹Ono▹Ori▹Otau▹Oli▹Ocas▹O?▹OFeem▹Ontau▹Otib▹Oneeg▹Okis▹Otau▹Otus▹Omob▹Opsittacosis▹Othaum▹Onqus▹Otau▹Otej▹Oplua▹Oplav▹Oquav▹Onoog▹Olos▹Oyog▹Onphav▹Otau▹Otus▹Okab▹Omob▹Ohauv▹Ochaw▹Otua▹Oqaib▹O.▹OTej▹Ocov▹Oqaib▹Ouas▹Omuaj▹Otus▹Okab▹Omob▹Omas▹Okuj▹Otsis▹Opom▹Omuaj▹Omob▹O,▹Otab▹Osis▹Olawv▹Oyuav▹Ori▹Otau▹Otus▹Okab▹Omob▹Orau▹Olwm▹Ocov▹Oqaib▹Olos▹Oyog▹Otib▹Oneeg▹O.▹OTus▹Omob▹Ono▹Oyuav▹Otsis▹Okis▹Ontawm▹Otib▹Oneeg▹Omus▹Orau▹Otib▹Oneeg▹O.▹OTus▹OMob▹OPsittacosis▹Ocov▹Otsos▹Omob▹Ozoo▹Oli▹Ocas▹O?▹OThaum▹Oua▹Omob▹OPsittacosis▹Omas▹Oyuav▹Okub▹Ocev▹O,▹Omob▹Otaub▹B-BPOChau▹E-BPOC,▹Oua▹Odaus▹Ono▹O,▹Omob▹Oib▹Oce▹O,▹Othiab▹Otej▹Ozaum▹Okuj▹Oua▹Omob▹Ontsws▹B-BPOCtab▹Osis▹Ohnoos▹Oqhuav▹Oxwb▹O.▹OYuav▹Oyog▹Ohov▹Ontev▹Othaum▹Okis▹Otus▹Okab▹Omob▹Otas▹Omam▹Opom▹Ocov▹Otsos▹Omob▹Otshwm▹O?▹OLub▹Osij▹Ohawm▹Othaum▹Okis▹Otus▹Okab▹Omob▹Otas▹Omus▹Orau▹Othaum▹Ocov▹Otsos▹Omob▹Otshwm▹Omas▹Oyuav▹Oyog▹Oli▹O7▹O-▹O28▹Ohnub▹O,▹Otab▹Osis▹O,▹Ofeem▹Ontau▹Omas▹Oyog▹Oli▹O10▹Ohnub▹O.▹OYog▹Oraug▹Otus▹Omob▹Ono▹Oib▹Ozaug▹Olawm▹Opuas▹Oyuav▹Otiv▹Othaiv▹Okom▹Otsis▹Otxhob▹Oraug▹Odua▹O?▹OThaum▹Oraug▹Otus▹Omob▹Ono▹Oib▹Ozaug▹Otas▹Olawm▹Omas▹Okuj▹Otsis▹Opaub▹Otias▹Oyuav▹Otiv▹Othaiv▹Otau▹Ontev▹Onpaum▹Oli▹Ocas▹O.▹OYuav▹Okho▹Otus▹Omob▹Opsittacosis▹Ono▹Oli▹Ocas▹O?▹OYuav▹Omuab▹Ocov▹Otshuaj▹Otua▹Okab▹Omob▹Otetracycline▹Olos▹Oyog▹Odoxycycline▹Olos▹Okho▹O.▹OCov▹Otshuaj▹Oerythromycin▹Omas▹Otej▹Ozaum▹Okuj▹Osiv▹Okho▹Ocov▹Ome▹Onyuam▹Oyaus▹O.▹OYog▹Otsis▹Okho▹Otus▹Omob▹Opsittacosis▹Ono▹One▹Oyuav▹Omuaj▹Odab▹Otsi▹Otshwm▹Osim▹O?▹OTus▹Omob▹Ono▹Okuj▹Oua▹Omob▹Osib▹Orau▹Otib▹Oneeg▹O,▹Otab▹Osis▹Okuj▹Oyuav▹Oua▹Omob▹Ohnyav▹Otau▹Othiab▹O,▹Oyog▹Ohais▹Otias▹Otsis▹Okho▹Omas▹Oyuav▹Oua▹Orau▹Otuag▹Otaus▹Oyog▹Oraug▹Orau▹Ocov▹Oneeg▹Olaus▹Odua▹O.▹OYuav▹Oua▹Oli▹Ocas▹Otiv▹Othaiv▹Okom▹Otsis▹Otxhob▹Okis▹Otau▹Otus▹Omob▹Opsittacosis▹O?▹OXyuas▹Oseb▹Olub▹Ohauv▹Opaus▹Ouas▹Oneeg▹Okis▹Otau▹Oyog▹Olos▹Oqhov▹Otwg▹Olos▹O.▹OYog▹Okuaj▹Otau▹Oib▹Otug▹Onoog▹O/▹Oqaib▹Otwg▹Omuaj▹Otus▹Omob▹Olawm▹O,▹Omas▹Oyuav▹Otau▹Osoj▹Ontsuam▹Ocov▹Oneeg▹Othiab▹Olwm▹Ocov▹Onoog▹O/▹Oqaib▹Ouas▹Otau▹Onyob▹Oze▹Ocov▹Oqaib▹Ouas▹Omuaj▹Otus▹Okab▹Omob▹Ontawd▹O.▹OCov▹Otswv▹Onoog▹O/▹Oqaib▹Ouas▹Olawv▹Ocov▹Onoog▹O/▹Oqaib▹Otau▹Onphav▹Oraug▹Otus▹Okab▹Omob▹Opsittacosis▹Olawm▹Omas▹Oyuav▹Otsum▹Otau▹Onrog▹Olawv▹Otus▹Okws▹Okho▹Otsiaj▹Otham▹O,▹Ovim▹Ocov▹Onoog▹Ontawd▹Okuj▹Oyuav▹Otsum▹Otau▹Onoj▹Ocov▹Otshuaj▹Otetracycline▹Olos▹Okho▹O.▹OYuav▹Otsis▹Otxhob▹Omuab▹Ocov▹Otshuaj▹Otetracycline▹Otov▹Onrog▹Odej▹O.▹OYog▹Ocov▹Onoog▹Ontawd▹Oyog▹Ocov▹Otsiaj▹Ohauv▹Otsev▹O,▹Omas▹Oyuav▹Otau▹Omuab▹Olub▹Otawb▹Onoog▹Ontxhuav▹Otsis▹Oso▹Okom▹Otsis▹Otxhob▹Omuaj▹Oquav▹Onoog▹Oqhuav▹Oua▹Oplua▹Oplav▹Oya▹Omus▹Orau▹Oqhov▹Otxhia▹Ochaw▹Ohauv▹Otsev▹O.▹OTxoj▹Ocai▹Olij▹Ochoj▹Otam▹Osis▹Ono▹Otau▹Oteev▹Ocia▹Otias▹Ocov▹Onoog▹Oparrots▹Ocoj▹Olwm▹Oteb▹Ochaws▹Otuaj▹Oyuav▹Otsum▹Otau▹Omuab▹Oceev▹O-▹Osib▹Ontxiv▹O-▹Ocia▹Orau▹Oib▹Oqho▹Ochaw▹Osoj▹Ontsuam▹Oli▹O30▹Ohnub▹Ontawd▹Omas▹Oyuav▹Omuab▹Ocov▹Otshuaj▹Otetracycline▹Orau▹Onoj▹Otua▹Otus▹Okab▹Omob▹Oua▹Ontej▹Oyuav▹Omuab▹Ocov▹Onoog▹Ocoj▹Omus▹Omuag▹Otom▹Okhw▹O.▹OCov▹Onoog▹Ouas▹Oraug▹Onyiag▹Otuaj▹Omuag▹Orau▹Oteb▹Ochaws▹Ono▹Otsis▹Oraws▹Okev▹Oraws▹Ocai▹Omas▹Ontxim▹Oyuav▹Omuaj▹Otus▹Omob▹Opsittacosis▹O.▹OVim▹Oli▹Ono▹O,▹Omas▹Oyuav▹Otsum▹Otau▹Oyuav▹Onoog▹Ontawm▹Otej▹Oqhov▹Ochaw▹Ouas▹Ontseeg▹Osiab▹Otau▹Ozoo▹Onkaus▹Oxwb▹O.▹O')"
      ]
     },
     "execution_count": 43,
     "metadata": {},
     "output_type": "execute_result"
    }
   ],
   "source": [
    "anat[0]"
   ]
  },
  {
   "cell_type": "code",
   "execution_count": 26,
   "metadata": {},
   "outputs": [],
   "source": [
    "anat_ = [(item[0], item[2]) for item in anat]\n",
    "dis_ = [(item[0], item[2]) for item in dis]\n",
    "sym_ = [(item[0], item[2]) for item in sym]"
   ]
  },
  {
   "cell_type": "code",
   "execution_count": 27,
   "metadata": {},
   "outputs": [],
   "source": [
    "anat_lens = [len(item[1].split(' ')) for item in anat_]\n",
    "dis_lens = [len(item[1].split(' ')) for item in dis_]\n",
    "sym_lens = [len(item[1].split(' ')) for item in sym_]"
   ]
  },
  {
   "cell_type": "code",
   "execution_count": 28,
   "metadata": {},
   "outputs": [
    {
     "data": {
      "text/plain": [
       "True"
      ]
     },
     "execution_count": 28,
     "metadata": {},
     "output_type": "execute_result"
    }
   ],
   "source": [
    "anat_lens == dis_lens == sym_lens"
   ]
  },
  {
   "cell_type": "code",
   "execution_count": 29,
   "metadata": {},
   "outputs": [],
   "source": [
    "for item in anat:\n",
    "    f = open(os.path.join(item[1], item[0]), 'w')\n",
    "    f.write(item[2])\n",
    "    f.close()\n",
    "for item in dis:\n",
    "    f = open(os.path.join(item[1], item[0]), 'w')\n",
    "    f.write(item[2])\n",
    "    f.close()\n",
    "for item in sym:\n",
    "    f = open(os.path.join(item[1], item[0]), 'w')\n",
    "    f.write(item[2])\n",
    "    f.close()"
   ]
  },
  {
   "cell_type": "code",
   "execution_count": null,
   "metadata": {},
   "outputs": [],
   "source": [
    "# issues:\n",
    "# 'Rabies' at end\n",
    "# Vim▹O li▹O no▹O mas▹O ,▹O tseem▹O ceeb▹O heev▹O uas▹O tus▹O neeg▹O raug▹O tsiaj▹O tom▹O yuav▹O tau▹O hais▹O mus▹O rau▹O hauv▹O feem▹O saib▹O xyuas▹O pej▹O xeem▹O Rabies▹O"
   ]
  }
 ],
 "metadata": {
  "kernelspec": {
   "display_name": "Python 3",
   "language": "python",
   "name": "python3"
  },
  "language_info": {
   "codemirror_mode": {
    "name": "ipython",
    "version": 3
   },
   "file_extension": ".py",
   "mimetype": "text/x-python",
   "name": "python",
   "nbconvert_exporter": "python",
   "pygments_lexer": "ipython3",
   "version": "3.7.7"
  }
 },
 "nbformat": 4,
 "nbformat_minor": 2
}
